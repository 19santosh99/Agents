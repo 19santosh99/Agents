{
 "cells": [
  {
   "cell_type": "markdown",
   "id": "e426cd04-c053-43e8-b505-63cee7956a53",
   "metadata": {},
   "source": [
    "### This Jupyter Notebook is all about deploying the he LLM model in production. and creating the inference API using Modal \n",
    "\n",
    "URL: [Modal](https://modal.com/)\n",
    "\n",
    "#### we will use the fine-tuned model of the pricer from the hugging face\n",
    "URL: [Hugging Face Model](https://huggingface.co/ed-donner/pricer-2024-09-13_13.04.39)"
   ]
  },
  {
   "cell_type": "code",
   "execution_count": 1,
   "id": "bc0e1c1c-be6a-4395-bbbd-eeafc9330d7e",
   "metadata": {},
   "outputs": [],
   "source": [
    "# Just one import to start with!!\n",
    "\n",
    "import modal"
   ]
  },
  {
   "cell_type": "markdown",
   "id": "ab5c8533-9f66-448f-b9b2-133d1ff50639",
   "metadata": {},
   "source": [
    "# Setting up the modal tokens\n",
    "\n",
    "Run `modal token new` to generate a token for you"
   ]
  },
  {
   "cell_type": "code",
   "execution_count": 19,
   "id": "0d240622-8422-4c99-8464-c04d063e4cb6",
   "metadata": {},
   "outputs": [
    {
     "name": "stdout",
     "output_type": "stream",
     "text": [
      "\u001b[2KThe web browser should have opened for you to authenticate and get an API token.\n",
      "If it didn't, please copy this URL into your web browser manually:\n",
      "\n",
      "\u001b[2K\u001b]8;id=916879;https://modal.com/token-flow/tf-m85yfmyKZEyyD0FNNdcFFG\u001b\\\u001b[4;94mhttps://modal.com/token-flow/tf-m85yfmyKZEyyD0FNNdcFFG\u001b[0m\u001b]8;;\u001b\\\n",
      "\n",
      "\u001b[2K\u001b[32m⠙\u001b[0m Waiting for authentication in the web browser\n",
      "\u001b[2K\u001b[32m⠧\u001b[0m Waiting for token flow to complete...omplete...\n",
      "\u001b[1A\u001b[2K\u001b[32mWeb authentication finished successfully!\u001b[0m\n",
      "\u001b[32mToken is connected to the \u001b[0m\u001b[35msantoshmaturi99\u001b[0m\u001b[32m workspace.\u001b[0m\n",
      "Verifying token against \u001b[4;34mhttps://api.modal.com\u001b[0m\n",
      "\u001b[32mToken verified successfully!\u001b[0m\n",
      "\u001b[?25l\u001b[32m⠋\u001b[0m Storing token\n",
      "\u001b[1A\u001b[2K\u001b[32mToken written to \u001b[0m\u001b[35m/Users/santhum/\u001b[0m\u001b[35m.modal.toml\u001b[0m\u001b[32m in profile \u001b[0m\u001b[35msantoshmaturi99\u001b[0m\u001b[32m.\u001b[0m\n"
     ]
    }
   ],
   "source": [
    "# Remove the '# ' from the next line and run the cell\n",
    "# !python3 -m modal setup"
   ]
  },
  {
   "cell_type": "code",
   "execution_count": 2,
   "id": "3b133701-f550-44a1-a67f-eb7ccc4769a9",
   "metadata": {},
   "outputs": [],
   "source": [
    "from hello import app, hello"
   ]
  },
  {
   "cell_type": "code",
   "execution_count": 3,
   "id": "0f3f73ae-1295-49f3-9099-b8b41fc3429b",
   "metadata": {},
   "outputs": [
    {
     "data": {
      "text/plain": [
       "'Hello from Secaucus, New Jersey, US!!'"
      ]
     },
     "execution_count": 3,
     "metadata": {},
     "output_type": "execute_result"
    }
   ],
   "source": [
    "with app.run():\n",
    "    reply=hello.local()\n",
    "reply"
   ]
  },
  {
   "cell_type": "code",
   "execution_count": 4,
   "id": "c1d8c6f9-edc7-4e52-9b3a-c07d7cff1ac7",
   "metadata": {},
   "outputs": [
    {
     "data": {
      "text/plain": [
       "'Hello from Ashburn, Virginia, US!!'"
      ]
     },
     "execution_count": 4,
     "metadata": {},
     "output_type": "execute_result"
    }
   ],
   "source": [
    "with app.run():\n",
    "    reply=hello.remote()\n",
    "reply"
   ]
  },
  {
   "cell_type": "markdown",
   "id": "22e8d804-c027-45fb-8fef-06e7bba6295a",
   "metadata": {},
   "source": [
    "### Next, \n",
    "\n",
    "#### We need to set your HuggingFace Token as a secret in Modal and setup llama model behind the scenes"
   ]
  },
  {
   "cell_type": "code",
   "execution_count": 5,
   "id": "cb8b6c41-8259-4329-b1c4-a1f67d26d1be",
   "metadata": {},
   "outputs": [],
   "source": [
    "from llama import app, generate"
   ]
  },
  {
   "cell_type": "code",
   "execution_count": 6,
   "id": "db4a718a-d95d-4f61-9688-c9df21d88fe6",
   "metadata": {},
   "outputs": [
    {
     "data": {
      "application/vnd.jupyter.widget-view+json": {
       "model_id": "0de0f998e4584e588708fc9d8d83da6b",
       "version_major": 2,
       "version_minor": 0
      },
      "text/plain": [
       "Output()"
      ]
     },
     "metadata": {},
     "output_type": "display_data"
    },
    {
     "data": {
      "text/html": [
       "<pre style=\"white-space:pre;overflow-x:auto;line-height:normal;font-family:Menlo,'DejaVu Sans Mono',consolas,'Courier New',monospace\"><span style=\"color: #008000; text-decoration-color: #008000\">✓</span> Initialized. <span style=\"color: #b2b2b2; text-decoration-color: #b2b2b2\">View run at </span><span style=\"color: #b2b2b2; text-decoration-color: #b2b2b2; text-decoration: underline\">https://modal.com/apps/santoshmaturi99/main/ap-l12rnC5kMnaGd3RERwJMQd</span>\n",
       "</pre>\n"
      ],
      "text/plain": [
       "\u001b[32m✓\u001b[0m Initialized. \u001b[38;5;249mView run at \u001b[0m\u001b[4;38;5;249mhttps://modal.com/apps/santoshmaturi99/main/ap-l12rnC5kMnaGd3RERwJMQd\u001b[0m\n"
      ]
     },
     "metadata": {},
     "output_type": "display_data"
    },
    {
     "data": {
      "text/html": [
       "<pre style=\"white-space:pre;overflow-x:auto;line-height:normal;font-family:Menlo,'DejaVu Sans Mono',consolas,'Courier New',monospace\"></pre>\n"
      ],
      "text/plain": []
     },
     "metadata": {},
     "output_type": "display_data"
    },
    {
     "data": {
      "application/vnd.jupyter.widget-view+json": {
       "model_id": "ca814c9e308545d6a5623ba4b54caa66",
       "version_major": 2,
       "version_minor": 0
      },
      "text/plain": [
       "Output()"
      ]
     },
     "metadata": {},
     "output_type": "display_data"
    },
    {
     "data": {
      "text/html": [
       "<pre style=\"white-space:pre;overflow-x:auto;line-height:normal;font-family:Menlo,'DejaVu Sans Mono',consolas,'Courier New',monospace\"><span style=\"color: #808000; text-decoration-color: #808000\">Building image im-xIOMtBzY4vMhLzblOCBVk1\n",
       "</span></pre>\n"
      ],
      "text/plain": [
       "\u001b[33mBuilding image im-xIOMtBzY4vMhLzblOCBVk1\n",
       "\u001b[0m"
      ]
     },
     "metadata": {},
     "output_type": "display_data"
    },
    {
     "data": {
      "text/html": [
       "<pre style=\"white-space:pre;overflow-x:auto;line-height:normal;font-family:Menlo,'DejaVu Sans Mono',consolas,'Courier New',monospace\"><span style=\"color: #808000; text-decoration-color: #808000\">\n",
       "=&gt; Step 0: FROM base\n",
       "</span></pre>\n"
      ],
      "text/plain": [
       "\u001b[33m\n",
       "=> Step 0: FROM base\n",
       "\u001b[0m"
      ]
     },
     "metadata": {},
     "output_type": "display_data"
    },
    {
     "data": {
      "text/html": [
       "<pre style=\"white-space:pre;overflow-x:auto;line-height:normal;font-family:Menlo,'DejaVu Sans Mono',consolas,'Courier New',monospace\"><span style=\"color: #808000; text-decoration-color: #808000\">\n",
       "=&gt; Step 1: RUN python -m pip install accelerate bitsandbytes torch transformers\n",
       "</span></pre>\n"
      ],
      "text/plain": [
       "\u001b[33m\n",
       "=> Step 1: RUN python -m pip install accelerate bitsandbytes torch transformers\n",
       "\u001b[0m"
      ]
     },
     "metadata": {},
     "output_type": "display_data"
    },
    {
     "data": {
      "text/html": [
       "<pre style=\"white-space:pre;overflow-x:auto;line-height:normal;font-family:Menlo,'DejaVu Sans Mono',consolas,'Courier New',monospace\"><span style=\"color: #808000; text-decoration-color: #808000\">Looking in indexes: http://pypi-mirror.modal.local:5555/simple\n",
       "</span></pre>\n"
      ],
      "text/plain": [
       "\u001b[33mLooking in indexes: http://pypi-mirror.modal.local:5555/simple\n",
       "\u001b[0m"
      ]
     },
     "metadata": {},
     "output_type": "display_data"
    },
    {
     "data": {
      "text/html": [
       "<pre style=\"white-space:pre;overflow-x:auto;line-height:normal;font-family:Menlo,'DejaVu Sans Mono',consolas,'Courier New',monospace\"><span style=\"color: #808000; text-decoration-color: #808000\">Collecting accelerate\n",
       "</span></pre>\n"
      ],
      "text/plain": [
       "\u001b[33mCollecting accelerate\n",
       "\u001b[0m"
      ]
     },
     "metadata": {},
     "output_type": "display_data"
    },
    {
     "data": {
      "text/html": [
       "<pre style=\"white-space:pre;overflow-x:auto;line-height:normal;font-family:Menlo,'DejaVu Sans Mono',consolas,'Courier New',monospace\"><span style=\"color: #808000; text-decoration-color: #808000\">  Downloading http://pypi-mirror.modal.local:5555/simple/accelerate/accelerate-1.3.0-py3-none-any.whl.metadata (19 kB)\n",
       "</span></pre>\n"
      ],
      "text/plain": [
       "\u001b[33m  Downloading http://pypi-mirror.modal.local:5555/simple/accelerate/accelerate-1.3.0-py3-none-any.whl.metadata (19 kB)\n",
       "\u001b[0m"
      ]
     },
     "metadata": {},
     "output_type": "display_data"
    },
    {
     "data": {
      "text/html": [
       "<pre style=\"white-space:pre;overflow-x:auto;line-height:normal;font-family:Menlo,'DejaVu Sans Mono',consolas,'Courier New',monospace\"><span style=\"color: #808000; text-decoration-color: #808000\">Collecting bitsandbytes\n",
       "</span></pre>\n"
      ],
      "text/plain": [
       "\u001b[33mCollecting bitsandbytes\n",
       "\u001b[0m"
      ]
     },
     "metadata": {},
     "output_type": "display_data"
    },
    {
     "data": {
      "text/html": [
       "<pre style=\"white-space:pre;overflow-x:auto;line-height:normal;font-family:Menlo,'DejaVu Sans Mono',consolas,'Courier New',monospace\"><span style=\"color: #808000; text-decoration-color: #808000\">  Downloading http://pypi-mirror.modal.local:5555/simple/bitsandbytes/bitsandbytes-0.45.1-py3-none-manylinux_2_24_x86_64.whl.metadata (5.8 kB)\n",
       "</span></pre>\n"
      ],
      "text/plain": [
       "\u001b[33m  Downloading http://pypi-mirror.modal.local:5555/simple/bitsandbytes/bitsandbytes-0.45.1-py3-none-manylinux_2_24_x86_64.whl.metadata (5.8 kB)\n",
       "\u001b[0m"
      ]
     },
     "metadata": {},
     "output_type": "display_data"
    },
    {
     "data": {
      "text/html": [
       "<pre style=\"white-space:pre;overflow-x:auto;line-height:normal;font-family:Menlo,'DejaVu Sans Mono',consolas,'Courier New',monospace\"><span style=\"color: #808000; text-decoration-color: #808000\">Collecting torch\n",
       "</span></pre>\n"
      ],
      "text/plain": [
       "\u001b[33mCollecting torch\n",
       "\u001b[0m"
      ]
     },
     "metadata": {},
     "output_type": "display_data"
    },
    {
     "data": {
      "text/html": [
       "<pre style=\"white-space:pre;overflow-x:auto;line-height:normal;font-family:Menlo,'DejaVu Sans Mono',consolas,'Courier New',monospace\"><span style=\"color: #808000; text-decoration-color: #808000\">  Downloading http://pypi-mirror.modal.local:5555/simple/torch/torch-2.5.1-cp311-cp311-manylinux1_x86_64.whl.metadata (28 kB)\n",
       "</span></pre>\n"
      ],
      "text/plain": [
       "\u001b[33m  Downloading http://pypi-mirror.modal.local:5555/simple/torch/torch-2.5.1-cp311-cp311-manylinux1_x86_64.whl.metadata (28 kB)\n",
       "\u001b[0m"
      ]
     },
     "metadata": {},
     "output_type": "display_data"
    },
    {
     "data": {
      "text/html": [
       "<pre style=\"white-space:pre;overflow-x:auto;line-height:normal;font-family:Menlo,'DejaVu Sans Mono',consolas,'Courier New',monospace\"><span style=\"color: #808000; text-decoration-color: #808000\">Collecting transformers\n",
       "</span></pre>\n"
      ],
      "text/plain": [
       "\u001b[33mCollecting transformers\n",
       "\u001b[0m"
      ]
     },
     "metadata": {},
     "output_type": "display_data"
    },
    {
     "data": {
      "text/html": [
       "<pre style=\"white-space:pre;overflow-x:auto;line-height:normal;font-family:Menlo,'DejaVu Sans Mono',consolas,'Courier New',monospace\"><span style=\"color: #808000; text-decoration-color: #808000\">  Downloading http://pypi-mirror.modal.local:5555/simple/transformers/transformers-4.48.1-py3-none-any.whl.metadata (44 kB)\n",
       "</span></pre>\n"
      ],
      "text/plain": [
       "\u001b[33m  Downloading http://pypi-mirror.modal.local:5555/simple/transformers/transformers-4.48.1-py3-none-any.whl.metadata (44 kB)\n",
       "\u001b[0m"
      ]
     },
     "metadata": {},
     "output_type": "display_data"
    },
    {
     "data": {
      "text/html": [
       "<pre style=\"white-space:pre;overflow-x:auto;line-height:normal;font-family:Menlo,'DejaVu Sans Mono',consolas,'Courier New',monospace\"><span style=\"color: #808000; text-decoration-color: #808000\">Collecting numpy&lt;3.0.0,&gt;=1.17 (from accelerate)\n",
       "</span></pre>\n"
      ],
      "text/plain": [
       "\u001b[33mCollecting numpy<3.0.0,>=1.17 (from accelerate)\n",
       "\u001b[0m"
      ]
     },
     "metadata": {},
     "output_type": "display_data"
    },
    {
     "data": {
      "text/html": [
       "<pre style=\"white-space:pre;overflow-x:auto;line-height:normal;font-family:Menlo,'DejaVu Sans Mono',consolas,'Courier New',monospace\"><span style=\"color: #808000; text-decoration-color: #808000\">  Downloading http://pypi-mirror.modal.local:5555/simple/numpy/numpy-2.2.2-cp311-cp311-manylinux_2_17_x86_64.manylinux2014_x86_64.whl.metadata (62 kB)\n",
       "</span></pre>\n"
      ],
      "text/plain": [
       "\u001b[33m  Downloading http://pypi-mirror.modal.local:5555/simple/numpy/numpy-2.2.2-cp311-cp311-manylinux_2_17_x86_64.manylinux2014_x86_64.whl.metadata (62 kB)\n",
       "\u001b[0m"
      ]
     },
     "metadata": {},
     "output_type": "display_data"
    },
    {
     "data": {
      "text/html": [
       "<pre style=\"white-space:pre;overflow-x:auto;line-height:normal;font-family:Menlo,'DejaVu Sans Mono',consolas,'Courier New',monospace\"><span style=\"color: #808000; text-decoration-color: #808000\">Collecting packaging&gt;=20.0 (from accelerate)\n",
       "</span></pre>\n"
      ],
      "text/plain": [
       "\u001b[33mCollecting packaging>=20.0 (from accelerate)\n",
       "\u001b[0m"
      ]
     },
     "metadata": {},
     "output_type": "display_data"
    },
    {
     "data": {
      "text/html": [
       "<pre style=\"white-space:pre;overflow-x:auto;line-height:normal;font-family:Menlo,'DejaVu Sans Mono',consolas,'Courier New',monospace\"><span style=\"color: #808000; text-decoration-color: #808000\">  Downloading http://pypi-mirror.modal.local:5555/simple/packaging/packaging-24.2-py3-none-any.whl.metadata (3.2 kB)\n",
       "</span></pre>\n"
      ],
      "text/plain": [
       "\u001b[33m  Downloading http://pypi-mirror.modal.local:5555/simple/packaging/packaging-24.2-py3-none-any.whl.metadata (3.2 kB)\n",
       "\u001b[0m"
      ]
     },
     "metadata": {},
     "output_type": "display_data"
    },
    {
     "data": {
      "text/html": [
       "<pre style=\"white-space:pre;overflow-x:auto;line-height:normal;font-family:Menlo,'DejaVu Sans Mono',consolas,'Courier New',monospace\"><span style=\"color: #808000; text-decoration-color: #808000\">Collecting psutil (from accelerate)\n",
       "</span></pre>\n"
      ],
      "text/plain": [
       "\u001b[33mCollecting psutil (from accelerate)\n",
       "\u001b[0m"
      ]
     },
     "metadata": {},
     "output_type": "display_data"
    },
    {
     "data": {
      "text/html": [
       "<pre style=\"white-space:pre;overflow-x:auto;line-height:normal;font-family:Menlo,'DejaVu Sans Mono',consolas,'Courier New',monospace\"><span style=\"color: #808000; text-decoration-color: #808000\">  Downloading http://pypi-mirror.modal.local:5555/simple/psutil/psutil-6.1.1-cp36-abi3-manylinux_2_12_x86_64.manylinux2010_x86_64.manylinux_2_17_x86_64.manylinux2014_x86_64.whl.metadata (22 kB)\n",
       "</span></pre>\n"
      ],
      "text/plain": [
       "\u001b[33m  Downloading http://pypi-mirror.modal.local:5555/simple/psutil/psutil-6.1.1-cp36-abi3-manylinux_2_12_x86_64.manylinux2010_x86_64.manylinux_2_17_x86_64.manylinux2014_x86_64.whl.metadata (22 kB)\n",
       "\u001b[0m"
      ]
     },
     "metadata": {},
     "output_type": "display_data"
    },
    {
     "data": {
      "text/html": [
       "<pre style=\"white-space:pre;overflow-x:auto;line-height:normal;font-family:Menlo,'DejaVu Sans Mono',consolas,'Courier New',monospace\"><span style=\"color: #808000; text-decoration-color: #808000\">Collecting pyyaml (from accelerate)\n",
       "</span></pre>\n"
      ],
      "text/plain": [
       "\u001b[33mCollecting pyyaml (from accelerate)\n",
       "\u001b[0m"
      ]
     },
     "metadata": {},
     "output_type": "display_data"
    },
    {
     "data": {
      "text/html": [
       "<pre style=\"white-space:pre;overflow-x:auto;line-height:normal;font-family:Menlo,'DejaVu Sans Mono',consolas,'Courier New',monospace\"><span style=\"color: #808000; text-decoration-color: #808000\">  Downloading http://pypi-mirror.modal.local:5555/simple/pyyaml/PyYAML-6.0.2-cp311-cp311-manylinux_2_17_x86_64.manylinux2014_x86_64.whl.metadata (2.1 kB)\n",
       "</span></pre>\n"
      ],
      "text/plain": [
       "\u001b[33m  Downloading http://pypi-mirror.modal.local:5555/simple/pyyaml/PyYAML-6.0.2-cp311-cp311-manylinux_2_17_x86_64.manylinux2014_x86_64.whl.metadata (2.1 kB)\n",
       "\u001b[0m"
      ]
     },
     "metadata": {},
     "output_type": "display_data"
    },
    {
     "data": {
      "text/html": [
       "<pre style=\"white-space:pre;overflow-x:auto;line-height:normal;font-family:Menlo,'DejaVu Sans Mono',consolas,'Courier New',monospace\"><span style=\"color: #808000; text-decoration-color: #808000\">Collecting huggingface-hub&gt;=0.21.0 (from accelerate)\n",
       "</span></pre>\n"
      ],
      "text/plain": [
       "\u001b[33mCollecting huggingface-hub>=0.21.0 (from accelerate)\n",
       "\u001b[0m"
      ]
     },
     "metadata": {},
     "output_type": "display_data"
    },
    {
     "data": {
      "text/html": [
       "<pre style=\"white-space:pre;overflow-x:auto;line-height:normal;font-family:Menlo,'DejaVu Sans Mono',consolas,'Courier New',monospace\"><span style=\"color: #808000; text-decoration-color: #808000\">  Downloading http://pypi-mirror.modal.local:5555/simple/huggingface-hub/huggingface_hub-0.27.1-py3-none-any.whl.metadata (13 kB)\n",
       "</span></pre>\n"
      ],
      "text/plain": [
       "\u001b[33m  Downloading http://pypi-mirror.modal.local:5555/simple/huggingface-hub/huggingface_hub-0.27.1-py3-none-any.whl.metadata (13 kB)\n",
       "\u001b[0m"
      ]
     },
     "metadata": {},
     "output_type": "display_data"
    },
    {
     "data": {
      "text/html": [
       "<pre style=\"white-space:pre;overflow-x:auto;line-height:normal;font-family:Menlo,'DejaVu Sans Mono',consolas,'Courier New',monospace\"><span style=\"color: #808000; text-decoration-color: #808000\">Collecting safetensors&gt;=0.4.3 (from accelerate)\n",
       "</span></pre>\n"
      ],
      "text/plain": [
       "\u001b[33mCollecting safetensors>=0.4.3 (from accelerate)\n",
       "\u001b[0m"
      ]
     },
     "metadata": {},
     "output_type": "display_data"
    },
    {
     "data": {
      "text/html": [
       "<pre style=\"white-space:pre;overflow-x:auto;line-height:normal;font-family:Menlo,'DejaVu Sans Mono',consolas,'Courier New',monospace\"><span style=\"color: #808000; text-decoration-color: #808000\">  Downloading http://pypi-mirror.modal.local:5555/simple/safetensors/safetensors-0.5.2-cp38-abi3-manylinux_2_17_x86_64.manylinux2014_x86_64.whl.metadata (3.8 kB)\n",
       "</span></pre>\n"
      ],
      "text/plain": [
       "\u001b[33m  Downloading http://pypi-mirror.modal.local:5555/simple/safetensors/safetensors-0.5.2-cp38-abi3-manylinux_2_17_x86_64.manylinux2014_x86_64.whl.metadata (3.8 kB)\n",
       "\u001b[0m"
      ]
     },
     "metadata": {},
     "output_type": "display_data"
    },
    {
     "data": {
      "text/html": [
       "<pre style=\"white-space:pre;overflow-x:auto;line-height:normal;font-family:Menlo,'DejaVu Sans Mono',consolas,'Courier New',monospace\"><span style=\"color: #808000; text-decoration-color: #808000\">Collecting filelock (from torch)\n",
       "</span></pre>\n"
      ],
      "text/plain": [
       "\u001b[33mCollecting filelock (from torch)\n",
       "\u001b[0m"
      ]
     },
     "metadata": {},
     "output_type": "display_data"
    },
    {
     "data": {
      "text/html": [
       "<pre style=\"white-space:pre;overflow-x:auto;line-height:normal;font-family:Menlo,'DejaVu Sans Mono',consolas,'Courier New',monospace\"><span style=\"color: #808000; text-decoration-color: #808000\">  Downloading http://pypi-mirror.modal.local:5555/simple/filelock/filelock-3.17.0-py3-none-any.whl.metadata (2.9 kB)\n",
       "</span></pre>\n"
      ],
      "text/plain": [
       "\u001b[33m  Downloading http://pypi-mirror.modal.local:5555/simple/filelock/filelock-3.17.0-py3-none-any.whl.metadata (2.9 kB)\n",
       "\u001b[0m"
      ]
     },
     "metadata": {},
     "output_type": "display_data"
    },
    {
     "data": {
      "text/html": [
       "<pre style=\"white-space:pre;overflow-x:auto;line-height:normal;font-family:Menlo,'DejaVu Sans Mono',consolas,'Courier New',monospace\"><span style=\"color: #808000; text-decoration-color: #808000\">Requirement already satisfied: typing-extensions&gt;=4.8.0 in /usr/local/lib/python3.11/site-packages (from torch) (4.12.2)\n",
       "</span></pre>\n"
      ],
      "text/plain": [
       "\u001b[33mRequirement already satisfied: typing-extensions>=4.8.0 in /usr/local/lib/python3.11/site-packages (from torch) (4.12.2)\n",
       "\u001b[0m"
      ]
     },
     "metadata": {},
     "output_type": "display_data"
    },
    {
     "data": {
      "text/html": [
       "<pre style=\"white-space:pre;overflow-x:auto;line-height:normal;font-family:Menlo,'DejaVu Sans Mono',consolas,'Courier New',monospace\"><span style=\"color: #808000; text-decoration-color: #808000\">Collecting networkx (from torch)\n",
       "</span></pre>\n"
      ],
      "text/plain": [
       "\u001b[33mCollecting networkx (from torch)\n",
       "\u001b[0m"
      ]
     },
     "metadata": {},
     "output_type": "display_data"
    },
    {
     "data": {
      "text/html": [
       "<pre style=\"white-space:pre;overflow-x:auto;line-height:normal;font-family:Menlo,'DejaVu Sans Mono',consolas,'Courier New',monospace\"><span style=\"color: #808000; text-decoration-color: #808000\">  Downloading http://pypi-mirror.modal.local:5555/simple/networkx/networkx-3.4.2-py3-none-any.whl.metadata (6.3 kB)\n",
       "</span></pre>\n"
      ],
      "text/plain": [
       "\u001b[33m  Downloading http://pypi-mirror.modal.local:5555/simple/networkx/networkx-3.4.2-py3-none-any.whl.metadata (6.3 kB)\n",
       "\u001b[0m"
      ]
     },
     "metadata": {},
     "output_type": "display_data"
    },
    {
     "data": {
      "text/html": [
       "<pre style=\"white-space:pre;overflow-x:auto;line-height:normal;font-family:Menlo,'DejaVu Sans Mono',consolas,'Courier New',monospace\"><span style=\"color: #808000; text-decoration-color: #808000\">Collecting jinja2 (from torch)\n",
       "</span></pre>\n"
      ],
      "text/plain": [
       "\u001b[33mCollecting jinja2 (from torch)\n",
       "\u001b[0m"
      ]
     },
     "metadata": {},
     "output_type": "display_data"
    },
    {
     "data": {
      "text/html": [
       "<pre style=\"white-space:pre;overflow-x:auto;line-height:normal;font-family:Menlo,'DejaVu Sans Mono',consolas,'Courier New',monospace\"><span style=\"color: #808000; text-decoration-color: #808000\">  Downloading http://pypi-mirror.modal.local:5555/simple/jinja2/jinja2-3.1.5-py3-none-any.whl.metadata (2.6 kB)\n",
       "</span></pre>\n"
      ],
      "text/plain": [
       "\u001b[33m  Downloading http://pypi-mirror.modal.local:5555/simple/jinja2/jinja2-3.1.5-py3-none-any.whl.metadata (2.6 kB)\n",
       "\u001b[0m"
      ]
     },
     "metadata": {},
     "output_type": "display_data"
    },
    {
     "data": {
      "text/html": [
       "<pre style=\"white-space:pre;overflow-x:auto;line-height:normal;font-family:Menlo,'DejaVu Sans Mono',consolas,'Courier New',monospace\"><span style=\"color: #808000; text-decoration-color: #808000\">Collecting fsspec (from torch)\n",
       "</span></pre>\n"
      ],
      "text/plain": [
       "\u001b[33mCollecting fsspec (from torch)\n",
       "\u001b[0m"
      ]
     },
     "metadata": {},
     "output_type": "display_data"
    },
    {
     "data": {
      "text/html": [
       "<pre style=\"white-space:pre;overflow-x:auto;line-height:normal;font-family:Menlo,'DejaVu Sans Mono',consolas,'Courier New',monospace\"><span style=\"color: #808000; text-decoration-color: #808000\">  Downloading http://pypi-mirror.modal.local:5555/simple/fsspec/fsspec-2024.12.0-py3-none-any.whl.metadata (11 kB)\n",
       "</span></pre>\n"
      ],
      "text/plain": [
       "\u001b[33m  Downloading http://pypi-mirror.modal.local:5555/simple/fsspec/fsspec-2024.12.0-py3-none-any.whl.metadata (11 kB)\n",
       "\u001b[0m"
      ]
     },
     "metadata": {},
     "output_type": "display_data"
    },
    {
     "data": {
      "text/html": [
       "<pre style=\"white-space:pre;overflow-x:auto;line-height:normal;font-family:Menlo,'DejaVu Sans Mono',consolas,'Courier New',monospace\"><span style=\"color: #808000; text-decoration-color: #808000\">Collecting nvidia-cuda-nvrtc-cu12==12.4.127 (from torch)\n",
       "</span></pre>\n"
      ],
      "text/plain": [
       "\u001b[33mCollecting nvidia-cuda-nvrtc-cu12==12.4.127 (from torch)\n",
       "\u001b[0m"
      ]
     },
     "metadata": {},
     "output_type": "display_data"
    },
    {
     "data": {
      "text/html": [
       "<pre style=\"white-space:pre;overflow-x:auto;line-height:normal;font-family:Menlo,'DejaVu Sans Mono',consolas,'Courier New',monospace\"><span style=\"color: #808000; text-decoration-color: #808000\">  Downloading http://pypi-mirror.modal.local:5555/simple/nvidia-cuda-nvrtc-cu12/nvidia_cuda_nvrtc_cu12-12.4.127-py3-none-manylinux2014_x86_64.whl.metadata (1.5 kB)\n",
       "</span></pre>\n"
      ],
      "text/plain": [
       "\u001b[33m  Downloading http://pypi-mirror.modal.local:5555/simple/nvidia-cuda-nvrtc-cu12/nvidia_cuda_nvrtc_cu12-12.4.127-py3-none-manylinux2014_x86_64.whl.metadata (1.5 kB)\n",
       "\u001b[0m"
      ]
     },
     "metadata": {},
     "output_type": "display_data"
    },
    {
     "data": {
      "text/html": [
       "<pre style=\"white-space:pre;overflow-x:auto;line-height:normal;font-family:Menlo,'DejaVu Sans Mono',consolas,'Courier New',monospace\"><span style=\"color: #808000; text-decoration-color: #808000\">Collecting nvidia-cuda-runtime-cu12==12.4.127 (from torch)\n",
       "</span></pre>\n"
      ],
      "text/plain": [
       "\u001b[33mCollecting nvidia-cuda-runtime-cu12==12.4.127 (from torch)\n",
       "\u001b[0m"
      ]
     },
     "metadata": {},
     "output_type": "display_data"
    },
    {
     "data": {
      "text/html": [
       "<pre style=\"white-space:pre;overflow-x:auto;line-height:normal;font-family:Menlo,'DejaVu Sans Mono',consolas,'Courier New',monospace\"><span style=\"color: #808000; text-decoration-color: #808000\">  Downloading http://pypi-mirror.modal.local:5555/simple/nvidia-cuda-runtime-cu12/nvidia_cuda_runtime_cu12-12.4.127-py3-none-manylinux2014_x86_64.whl.metadata (1.5 kB)\n",
       "</span></pre>\n"
      ],
      "text/plain": [
       "\u001b[33m  Downloading http://pypi-mirror.modal.local:5555/simple/nvidia-cuda-runtime-cu12/nvidia_cuda_runtime_cu12-12.4.127-py3-none-manylinux2014_x86_64.whl.metadata (1.5 kB)\n",
       "\u001b[0m"
      ]
     },
     "metadata": {},
     "output_type": "display_data"
    },
    {
     "data": {
      "text/html": [
       "<pre style=\"white-space:pre;overflow-x:auto;line-height:normal;font-family:Menlo,'DejaVu Sans Mono',consolas,'Courier New',monospace\"><span style=\"color: #808000; text-decoration-color: #808000\">Collecting nvidia-cuda-cupti-cu12==12.4.127 (from torch)\n",
       "</span></pre>\n"
      ],
      "text/plain": [
       "\u001b[33mCollecting nvidia-cuda-cupti-cu12==12.4.127 (from torch)\n",
       "\u001b[0m"
      ]
     },
     "metadata": {},
     "output_type": "display_data"
    },
    {
     "data": {
      "text/html": [
       "<pre style=\"white-space:pre;overflow-x:auto;line-height:normal;font-family:Menlo,'DejaVu Sans Mono',consolas,'Courier New',monospace\"><span style=\"color: #808000; text-decoration-color: #808000\">  Downloading http://pypi-mirror.modal.local:5555/simple/nvidia-cuda-cupti-cu12/nvidia_cuda_cupti_cu12-12.4.127-py3-none-manylinux2014_x86_64.whl.metadata (1.6 kB)\n",
       "</span></pre>\n"
      ],
      "text/plain": [
       "\u001b[33m  Downloading http://pypi-mirror.modal.local:5555/simple/nvidia-cuda-cupti-cu12/nvidia_cuda_cupti_cu12-12.4.127-py3-none-manylinux2014_x86_64.whl.metadata (1.6 kB)\n",
       "\u001b[0m"
      ]
     },
     "metadata": {},
     "output_type": "display_data"
    },
    {
     "data": {
      "text/html": [
       "<pre style=\"white-space:pre;overflow-x:auto;line-height:normal;font-family:Menlo,'DejaVu Sans Mono',consolas,'Courier New',monospace\"><span style=\"color: #808000; text-decoration-color: #808000\">Collecting nvidia-cudnn-cu12==9.1.0.70 (from torch)\n",
       "</span></pre>\n"
      ],
      "text/plain": [
       "\u001b[33mCollecting nvidia-cudnn-cu12==9.1.0.70 (from torch)\n",
       "\u001b[0m"
      ]
     },
     "metadata": {},
     "output_type": "display_data"
    },
    {
     "data": {
      "text/html": [
       "<pre style=\"white-space:pre;overflow-x:auto;line-height:normal;font-family:Menlo,'DejaVu Sans Mono',consolas,'Courier New',monospace\"><span style=\"color: #808000; text-decoration-color: #808000\">  Downloading http://pypi-mirror.modal.local:5555/simple/nvidia-cudnn-cu12/nvidia_cudnn_cu12-9.1.0.70-py3-none-manylinux2014_x86_64.whl.metadata (1.6 kB)\n",
       "</span></pre>\n"
      ],
      "text/plain": [
       "\u001b[33m  Downloading http://pypi-mirror.modal.local:5555/simple/nvidia-cudnn-cu12/nvidia_cudnn_cu12-9.1.0.70-py3-none-manylinux2014_x86_64.whl.metadata (1.6 kB)\n",
       "\u001b[0m"
      ]
     },
     "metadata": {},
     "output_type": "display_data"
    },
    {
     "data": {
      "text/html": [
       "<pre style=\"white-space:pre;overflow-x:auto;line-height:normal;font-family:Menlo,'DejaVu Sans Mono',consolas,'Courier New',monospace\"><span style=\"color: #808000; text-decoration-color: #808000\">Collecting nvidia-cublas-cu12==12.4.5.8 (from torch)\n",
       "</span></pre>\n"
      ],
      "text/plain": [
       "\u001b[33mCollecting nvidia-cublas-cu12==12.4.5.8 (from torch)\n",
       "\u001b[0m"
      ]
     },
     "metadata": {},
     "output_type": "display_data"
    },
    {
     "data": {
      "text/html": [
       "<pre style=\"white-space:pre;overflow-x:auto;line-height:normal;font-family:Menlo,'DejaVu Sans Mono',consolas,'Courier New',monospace\"><span style=\"color: #808000; text-decoration-color: #808000\">  Downloading http://pypi-mirror.modal.local:5555/simple/nvidia-cublas-cu12/nvidia_cublas_cu12-12.4.5.8-py3-none-manylinux2014_x86_64.whl.metadata (1.5 kB)\n",
       "</span></pre>\n"
      ],
      "text/plain": [
       "\u001b[33m  Downloading http://pypi-mirror.modal.local:5555/simple/nvidia-cublas-cu12/nvidia_cublas_cu12-12.4.5.8-py3-none-manylinux2014_x86_64.whl.metadata (1.5 kB)\n",
       "\u001b[0m"
      ]
     },
     "metadata": {},
     "output_type": "display_data"
    },
    {
     "data": {
      "text/html": [
       "<pre style=\"white-space:pre;overflow-x:auto;line-height:normal;font-family:Menlo,'DejaVu Sans Mono',consolas,'Courier New',monospace\"><span style=\"color: #808000; text-decoration-color: #808000\">Collecting nvidia-cufft-cu12==11.2.1.3 (from torch)\n",
       "</span></pre>\n"
      ],
      "text/plain": [
       "\u001b[33mCollecting nvidia-cufft-cu12==11.2.1.3 (from torch)\n",
       "\u001b[0m"
      ]
     },
     "metadata": {},
     "output_type": "display_data"
    },
    {
     "data": {
      "text/html": [
       "<pre style=\"white-space:pre;overflow-x:auto;line-height:normal;font-family:Menlo,'DejaVu Sans Mono',consolas,'Courier New',monospace\"><span style=\"color: #808000; text-decoration-color: #808000\">  Downloading http://pypi-mirror.modal.local:5555/simple/nvidia-cufft-cu12/nvidia_cufft_cu12-11.2.1.3-py3-none-manylinux2014_x86_64.whl.metadata (1.5 kB)\n",
       "</span></pre>\n"
      ],
      "text/plain": [
       "\u001b[33m  Downloading http://pypi-mirror.modal.local:5555/simple/nvidia-cufft-cu12/nvidia_cufft_cu12-11.2.1.3-py3-none-manylinux2014_x86_64.whl.metadata (1.5 kB)\n",
       "\u001b[0m"
      ]
     },
     "metadata": {},
     "output_type": "display_data"
    },
    {
     "data": {
      "text/html": [
       "<pre style=\"white-space:pre;overflow-x:auto;line-height:normal;font-family:Menlo,'DejaVu Sans Mono',consolas,'Courier New',monospace\"><span style=\"color: #808000; text-decoration-color: #808000\">Collecting nvidia-curand-cu12==10.3.5.147 (from torch)\n",
       "</span></pre>\n"
      ],
      "text/plain": [
       "\u001b[33mCollecting nvidia-curand-cu12==10.3.5.147 (from torch)\n",
       "\u001b[0m"
      ]
     },
     "metadata": {},
     "output_type": "display_data"
    },
    {
     "data": {
      "text/html": [
       "<pre style=\"white-space:pre;overflow-x:auto;line-height:normal;font-family:Menlo,'DejaVu Sans Mono',consolas,'Courier New',monospace\"><span style=\"color: #808000; text-decoration-color: #808000\">  Downloading http://pypi-mirror.modal.local:5555/simple/nvidia-curand-cu12/nvidia_curand_cu12-10.3.5.147-py3-none-manylinux2014_x86_64.whl.metadata (1.5 kB)\n",
       "</span></pre>\n"
      ],
      "text/plain": [
       "\u001b[33m  Downloading http://pypi-mirror.modal.local:5555/simple/nvidia-curand-cu12/nvidia_curand_cu12-10.3.5.147-py3-none-manylinux2014_x86_64.whl.metadata (1.5 kB)\n",
       "\u001b[0m"
      ]
     },
     "metadata": {},
     "output_type": "display_data"
    },
    {
     "data": {
      "text/html": [
       "<pre style=\"white-space:pre;overflow-x:auto;line-height:normal;font-family:Menlo,'DejaVu Sans Mono',consolas,'Courier New',monospace\"><span style=\"color: #808000; text-decoration-color: #808000\">Collecting nvidia-cusolver-cu12==11.6.1.9 (from torch)\n",
       "</span></pre>\n"
      ],
      "text/plain": [
       "\u001b[33mCollecting nvidia-cusolver-cu12==11.6.1.9 (from torch)\n",
       "\u001b[0m"
      ]
     },
     "metadata": {},
     "output_type": "display_data"
    },
    {
     "data": {
      "text/html": [
       "<pre style=\"white-space:pre;overflow-x:auto;line-height:normal;font-family:Menlo,'DejaVu Sans Mono',consolas,'Courier New',monospace\"><span style=\"color: #808000; text-decoration-color: #808000\">  Downloading http://pypi-mirror.modal.local:5555/simple/nvidia-cusolver-cu12/nvidia_cusolver_cu12-11.6.1.9-py3-none-manylinux2014_x86_64.whl.metadata (1.6 kB)\n",
       "</span></pre>\n"
      ],
      "text/plain": [
       "\u001b[33m  Downloading http://pypi-mirror.modal.local:5555/simple/nvidia-cusolver-cu12/nvidia_cusolver_cu12-11.6.1.9-py3-none-manylinux2014_x86_64.whl.metadata (1.6 kB)\n",
       "\u001b[0m"
      ]
     },
     "metadata": {},
     "output_type": "display_data"
    },
    {
     "data": {
      "text/html": [
       "<pre style=\"white-space:pre;overflow-x:auto;line-height:normal;font-family:Menlo,'DejaVu Sans Mono',consolas,'Courier New',monospace\"><span style=\"color: #808000; text-decoration-color: #808000\">Collecting nvidia-cusparse-cu12==12.3.1.170 (from torch)\n",
       "</span></pre>\n"
      ],
      "text/plain": [
       "\u001b[33mCollecting nvidia-cusparse-cu12==12.3.1.170 (from torch)\n",
       "\u001b[0m"
      ]
     },
     "metadata": {},
     "output_type": "display_data"
    },
    {
     "data": {
      "text/html": [
       "<pre style=\"white-space:pre;overflow-x:auto;line-height:normal;font-family:Menlo,'DejaVu Sans Mono',consolas,'Courier New',monospace\"><span style=\"color: #808000; text-decoration-color: #808000\">  Downloading http://pypi-mirror.modal.local:5555/simple/nvidia-cusparse-cu12/nvidia_cusparse_cu12-12.3.1.170-py3-none-manylinux2014_x86_64.whl.metadata (1.6 kB)\n",
       "</span></pre>\n"
      ],
      "text/plain": [
       "\u001b[33m  Downloading http://pypi-mirror.modal.local:5555/simple/nvidia-cusparse-cu12/nvidia_cusparse_cu12-12.3.1.170-py3-none-manylinux2014_x86_64.whl.metadata (1.6 kB)\n",
       "\u001b[0m"
      ]
     },
     "metadata": {},
     "output_type": "display_data"
    },
    {
     "data": {
      "text/html": [
       "<pre style=\"white-space:pre;overflow-x:auto;line-height:normal;font-family:Menlo,'DejaVu Sans Mono',consolas,'Courier New',monospace\"><span style=\"color: #808000; text-decoration-color: #808000\">Collecting nvidia-nccl-cu12==2.21.5 (from torch)\n",
       "</span></pre>\n"
      ],
      "text/plain": [
       "\u001b[33mCollecting nvidia-nccl-cu12==2.21.5 (from torch)\n",
       "\u001b[0m"
      ]
     },
     "metadata": {},
     "output_type": "display_data"
    },
    {
     "data": {
      "text/html": [
       "<pre style=\"white-space:pre;overflow-x:auto;line-height:normal;font-family:Menlo,'DejaVu Sans Mono',consolas,'Courier New',monospace\"><span style=\"color: #808000; text-decoration-color: #808000\">  Downloading http://pypi-mirror.modal.local:5555/simple/nvidia-nccl-cu12/nvidia_nccl_cu12-2.21.5-py3-none-manylinux2014_x86_64.whl.metadata (1.8 kB)\n",
       "</span></pre>\n"
      ],
      "text/plain": [
       "\u001b[33m  Downloading http://pypi-mirror.modal.local:5555/simple/nvidia-nccl-cu12/nvidia_nccl_cu12-2.21.5-py3-none-manylinux2014_x86_64.whl.metadata (1.8 kB)\n",
       "\u001b[0m"
      ]
     },
     "metadata": {},
     "output_type": "display_data"
    },
    {
     "data": {
      "text/html": [
       "<pre style=\"white-space:pre;overflow-x:auto;line-height:normal;font-family:Menlo,'DejaVu Sans Mono',consolas,'Courier New',monospace\"><span style=\"color: #808000; text-decoration-color: #808000\">Collecting nvidia-nvtx-cu12==12.4.127 (from torch)\n",
       "</span></pre>\n"
      ],
      "text/plain": [
       "\u001b[33mCollecting nvidia-nvtx-cu12==12.4.127 (from torch)\n",
       "\u001b[0m"
      ]
     },
     "metadata": {},
     "output_type": "display_data"
    },
    {
     "data": {
      "text/html": [
       "<pre style=\"white-space:pre;overflow-x:auto;line-height:normal;font-family:Menlo,'DejaVu Sans Mono',consolas,'Courier New',monospace\"><span style=\"color: #808000; text-decoration-color: #808000\">  Downloading http://pypi-mirror.modal.local:5555/simple/nvidia-nvtx-cu12/nvidia_nvtx_cu12-12.4.127-py3-none-manylinux2014_x86_64.whl.metadata (1.7 kB)\n",
       "</span></pre>\n"
      ],
      "text/plain": [
       "\u001b[33m  Downloading http://pypi-mirror.modal.local:5555/simple/nvidia-nvtx-cu12/nvidia_nvtx_cu12-12.4.127-py3-none-manylinux2014_x86_64.whl.metadata (1.7 kB)\n",
       "\u001b[0m"
      ]
     },
     "metadata": {},
     "output_type": "display_data"
    },
    {
     "data": {
      "text/html": [
       "<pre style=\"white-space:pre;overflow-x:auto;line-height:normal;font-family:Menlo,'DejaVu Sans Mono',consolas,'Courier New',monospace\"><span style=\"color: #808000; text-decoration-color: #808000\">Collecting nvidia-nvjitlink-cu12==12.4.127 (from torch)\n",
       "</span></pre>\n"
      ],
      "text/plain": [
       "\u001b[33mCollecting nvidia-nvjitlink-cu12==12.4.127 (from torch)\n",
       "\u001b[0m"
      ]
     },
     "metadata": {},
     "output_type": "display_data"
    },
    {
     "data": {
      "text/html": [
       "<pre style=\"white-space:pre;overflow-x:auto;line-height:normal;font-family:Menlo,'DejaVu Sans Mono',consolas,'Courier New',monospace\"><span style=\"color: #808000; text-decoration-color: #808000\">  Downloading http://pypi-mirror.modal.local:5555/simple/nvidia-nvjitlink-cu12/nvidia_nvjitlink_cu12-12.4.127-py3-none-manylinux2014_x86_64.whl.metadata (1.5 kB)\n",
       "</span></pre>\n"
      ],
      "text/plain": [
       "\u001b[33m  Downloading http://pypi-mirror.modal.local:5555/simple/nvidia-nvjitlink-cu12/nvidia_nvjitlink_cu12-12.4.127-py3-none-manylinux2014_x86_64.whl.metadata (1.5 kB)\n",
       "\u001b[0m"
      ]
     },
     "metadata": {},
     "output_type": "display_data"
    },
    {
     "data": {
      "text/html": [
       "<pre style=\"white-space:pre;overflow-x:auto;line-height:normal;font-family:Menlo,'DejaVu Sans Mono',consolas,'Courier New',monospace\"><span style=\"color: #808000; text-decoration-color: #808000\">Collecting triton==3.1.0 (from torch)\n",
       "</span></pre>\n"
      ],
      "text/plain": [
       "\u001b[33mCollecting triton==3.1.0 (from torch)\n",
       "\u001b[0m"
      ]
     },
     "metadata": {},
     "output_type": "display_data"
    },
    {
     "data": {
      "text/html": [
       "<pre style=\"white-space:pre;overflow-x:auto;line-height:normal;font-family:Menlo,'DejaVu Sans Mono',consolas,'Courier New',monospace\"><span style=\"color: #808000; text-decoration-color: #808000\">  Downloading http://pypi-mirror.modal.local:5555/simple/triton/triton-3.1.0-cp311-cp311-manylinux_2_17_x86_64.manylinux2014_x86_64.whl.metadata (1.3 kB)\n",
       "</span></pre>\n"
      ],
      "text/plain": [
       "\u001b[33m  Downloading http://pypi-mirror.modal.local:5555/simple/triton/triton-3.1.0-cp311-cp311-manylinux_2_17_x86_64.manylinux2014_x86_64.whl.metadata (1.3 kB)\n",
       "\u001b[0m"
      ]
     },
     "metadata": {},
     "output_type": "display_data"
    },
    {
     "data": {
      "text/html": [
       "<pre style=\"white-space:pre;overflow-x:auto;line-height:normal;font-family:Menlo,'DejaVu Sans Mono',consolas,'Courier New',monospace\"><span style=\"color: #808000; text-decoration-color: #808000\">Collecting sympy==1.13.1 (from torch)\n",
       "</span></pre>\n"
      ],
      "text/plain": [
       "\u001b[33mCollecting sympy==1.13.1 (from torch)\n",
       "\u001b[0m"
      ]
     },
     "metadata": {},
     "output_type": "display_data"
    },
    {
     "data": {
      "text/html": [
       "<pre style=\"white-space:pre;overflow-x:auto;line-height:normal;font-family:Menlo,'DejaVu Sans Mono',consolas,'Courier New',monospace\"><span style=\"color: #808000; text-decoration-color: #808000\">  Downloading http://pypi-mirror.modal.local:5555/simple/sympy/sympy-1.13.1-py3-none-any.whl.metadata (12 kB)\n",
       "</span></pre>\n"
      ],
      "text/plain": [
       "\u001b[33m  Downloading http://pypi-mirror.modal.local:5555/simple/sympy/sympy-1.13.1-py3-none-any.whl.metadata (12 kB)\n",
       "\u001b[0m"
      ]
     },
     "metadata": {},
     "output_type": "display_data"
    },
    {
     "data": {
      "text/html": [
       "<pre style=\"white-space:pre;overflow-x:auto;line-height:normal;font-family:Menlo,'DejaVu Sans Mono',consolas,'Courier New',monospace\"><span style=\"color: #808000; text-decoration-color: #808000\">Collecting mpmath&lt;1.4,&gt;=1.1.0 (from sympy==1.13.1-&gt;torch)\n",
       "</span></pre>\n"
      ],
      "text/plain": [
       "\u001b[33mCollecting mpmath<1.4,>=1.1.0 (from sympy==1.13.1->torch)\n",
       "\u001b[0m"
      ]
     },
     "metadata": {},
     "output_type": "display_data"
    },
    {
     "data": {
      "text/html": [
       "<pre style=\"white-space:pre;overflow-x:auto;line-height:normal;font-family:Menlo,'DejaVu Sans Mono',consolas,'Courier New',monospace\"><span style=\"color: #808000; text-decoration-color: #808000\">  Downloading http://pypi-mirror.modal.local:5555/simple/mpmath/mpmath-1.3.0-py3-none-any.whl.metadata (8.6 kB)\n",
       "</span></pre>\n"
      ],
      "text/plain": [
       "\u001b[33m  Downloading http://pypi-mirror.modal.local:5555/simple/mpmath/mpmath-1.3.0-py3-none-any.whl.metadata (8.6 kB)\n",
       "\u001b[0m"
      ]
     },
     "metadata": {},
     "output_type": "display_data"
    },
    {
     "data": {
      "text/html": [
       "<pre style=\"white-space:pre;overflow-x:auto;line-height:normal;font-family:Menlo,'DejaVu Sans Mono',consolas,'Courier New',monospace\"><span style=\"color: #808000; text-decoration-color: #808000\">Collecting regex!=2019.12.17 (from transformers)\n",
       "</span></pre>\n"
      ],
      "text/plain": [
       "\u001b[33mCollecting regex!=2019.12.17 (from transformers)\n",
       "\u001b[0m"
      ]
     },
     "metadata": {},
     "output_type": "display_data"
    },
    {
     "data": {
      "text/html": [
       "<pre style=\"white-space:pre;overflow-x:auto;line-height:normal;font-family:Menlo,'DejaVu Sans Mono',consolas,'Courier New',monospace\"><span style=\"color: #808000; text-decoration-color: #808000\">  Downloading http://pypi-mirror.modal.local:5555/simple/regex/regex-2024.11.6-cp311-cp311-manylinux_2_17_x86_64.manylinux2014_x86_64.whl.metadata (40 kB)\n",
       "</span></pre>\n"
      ],
      "text/plain": [
       "\u001b[33m  Downloading http://pypi-mirror.modal.local:5555/simple/regex/regex-2024.11.6-cp311-cp311-manylinux_2_17_x86_64.manylinux2014_x86_64.whl.metadata (40 kB)\n",
       "\u001b[0m"
      ]
     },
     "metadata": {},
     "output_type": "display_data"
    },
    {
     "data": {
      "text/html": [
       "<pre style=\"white-space:pre;overflow-x:auto;line-height:normal;font-family:Menlo,'DejaVu Sans Mono',consolas,'Courier New',monospace\"><span style=\"color: #808000; text-decoration-color: #808000\">Collecting requests (from transformers)\n",
       "</span></pre>\n"
      ],
      "text/plain": [
       "\u001b[33mCollecting requests (from transformers)\n",
       "\u001b[0m"
      ]
     },
     "metadata": {},
     "output_type": "display_data"
    },
    {
     "data": {
      "text/html": [
       "<pre style=\"white-space:pre;overflow-x:auto;line-height:normal;font-family:Menlo,'DejaVu Sans Mono',consolas,'Courier New',monospace\"><span style=\"color: #808000; text-decoration-color: #808000\">  Downloading http://pypi-mirror.modal.local:5555/simple/requests/requests-2.32.3-py3-none-any.whl.metadata (4.6 kB)\n",
       "</span></pre>\n"
      ],
      "text/plain": [
       "\u001b[33m  Downloading http://pypi-mirror.modal.local:5555/simple/requests/requests-2.32.3-py3-none-any.whl.metadata (4.6 kB)\n",
       "\u001b[0m"
      ]
     },
     "metadata": {},
     "output_type": "display_data"
    },
    {
     "data": {
      "text/html": [
       "<pre style=\"white-space:pre;overflow-x:auto;line-height:normal;font-family:Menlo,'DejaVu Sans Mono',consolas,'Courier New',monospace\"><span style=\"color: #808000; text-decoration-color: #808000\">Collecting tokenizers&lt;0.22,&gt;=0.21 (from transformers)\n",
       "</span></pre>\n"
      ],
      "text/plain": [
       "\u001b[33mCollecting tokenizers<0.22,>=0.21 (from transformers)\n",
       "\u001b[0m"
      ]
     },
     "metadata": {},
     "output_type": "display_data"
    },
    {
     "data": {
      "text/html": [
       "<pre style=\"white-space:pre;overflow-x:auto;line-height:normal;font-family:Menlo,'DejaVu Sans Mono',consolas,'Courier New',monospace\"><span style=\"color: #808000; text-decoration-color: #808000\">  Downloading http://pypi-mirror.modal.local:5555/simple/tokenizers/tokenizers-0.21.0-cp39-abi3-manylinux_2_17_x86_64.manylinux2014_x86_64.whl.metadata (6.7 kB)\n",
       "</span></pre>\n"
      ],
      "text/plain": [
       "\u001b[33m  Downloading http://pypi-mirror.modal.local:5555/simple/tokenizers/tokenizers-0.21.0-cp39-abi3-manylinux_2_17_x86_64.manylinux2014_x86_64.whl.metadata (6.7 kB)\n",
       "\u001b[0m"
      ]
     },
     "metadata": {},
     "output_type": "display_data"
    },
    {
     "data": {
      "text/html": [
       "<pre style=\"white-space:pre;overflow-x:auto;line-height:normal;font-family:Menlo,'DejaVu Sans Mono',consolas,'Courier New',monospace\"><span style=\"color: #808000; text-decoration-color: #808000\">Collecting tqdm&gt;=4.27 (from transformers)\n",
       "</span></pre>\n"
      ],
      "text/plain": [
       "\u001b[33mCollecting tqdm>=4.27 (from transformers)\n",
       "\u001b[0m"
      ]
     },
     "metadata": {},
     "output_type": "display_data"
    },
    {
     "data": {
      "text/html": [
       "<pre style=\"white-space:pre;overflow-x:auto;line-height:normal;font-family:Menlo,'DejaVu Sans Mono',consolas,'Courier New',monospace\"><span style=\"color: #808000; text-decoration-color: #808000\">  Downloading http://pypi-mirror.modal.local:5555/simple/tqdm/tqdm-4.67.1-py3-none-any.whl.metadata (57 kB)\n",
       "</span></pre>\n"
      ],
      "text/plain": [
       "\u001b[33m  Downloading http://pypi-mirror.modal.local:5555/simple/tqdm/tqdm-4.67.1-py3-none-any.whl.metadata (57 kB)\n",
       "\u001b[0m"
      ]
     },
     "metadata": {},
     "output_type": "display_data"
    },
    {
     "data": {
      "text/html": [
       "<pre style=\"white-space:pre;overflow-x:auto;line-height:normal;font-family:Menlo,'DejaVu Sans Mono',consolas,'Courier New',monospace\"><span style=\"color: #808000; text-decoration-color: #808000\">Collecting MarkupSafe&gt;=2.0 (from jinja2-&gt;torch)\n",
       "</span></pre>\n"
      ],
      "text/plain": [
       "\u001b[33mCollecting MarkupSafe>=2.0 (from jinja2->torch)\n",
       "\u001b[0m"
      ]
     },
     "metadata": {},
     "output_type": "display_data"
    },
    {
     "data": {
      "text/html": [
       "<pre style=\"white-space:pre;overflow-x:auto;line-height:normal;font-family:Menlo,'DejaVu Sans Mono',consolas,'Courier New',monospace\"><span style=\"color: #808000; text-decoration-color: #808000\">  Downloading http://pypi-mirror.modal.local:5555/simple/markupsafe/MarkupSafe-3.0.2-cp311-cp311-manylinux_2_17_x86_64.manylinux2014_x86_64.whl.metadata (4.0 kB)\n",
       "</span></pre>\n"
      ],
      "text/plain": [
       "\u001b[33m  Downloading http://pypi-mirror.modal.local:5555/simple/markupsafe/MarkupSafe-3.0.2-cp311-cp311-manylinux_2_17_x86_64.manylinux2014_x86_64.whl.metadata (4.0 kB)\n",
       "\u001b[0m"
      ]
     },
     "metadata": {},
     "output_type": "display_data"
    },
    {
     "data": {
      "text/html": [
       "<pre style=\"white-space:pre;overflow-x:auto;line-height:normal;font-family:Menlo,'DejaVu Sans Mono',consolas,'Courier New',monospace\"><span style=\"color: #808000; text-decoration-color: #808000\">Collecting charset-normalizer&lt;4,&gt;=2 (from requests-&gt;transformers)\n",
       "</span></pre>\n"
      ],
      "text/plain": [
       "\u001b[33mCollecting charset-normalizer<4,>=2 (from requests->transformers)\n",
       "\u001b[0m"
      ]
     },
     "metadata": {},
     "output_type": "display_data"
    },
    {
     "data": {
      "text/html": [
       "<pre style=\"white-space:pre;overflow-x:auto;line-height:normal;font-family:Menlo,'DejaVu Sans Mono',consolas,'Courier New',monospace\"><span style=\"color: #808000; text-decoration-color: #808000\">  Downloading http://pypi-mirror.modal.local:5555/simple/charset-normalizer/charset_normalizer-3.4.1-cp311-cp311-manylinux_2_17_x86_64.manylinux2014_x86_64.whl.metadata (35 kB)\n",
       "</span></pre>\n"
      ],
      "text/plain": [
       "\u001b[33m  Downloading http://pypi-mirror.modal.local:5555/simple/charset-normalizer/charset_normalizer-3.4.1-cp311-cp311-manylinux_2_17_x86_64.manylinux2014_x86_64.whl.metadata (35 kB)\n",
       "\u001b[0m"
      ]
     },
     "metadata": {},
     "output_type": "display_data"
    },
    {
     "data": {
      "text/html": [
       "<pre style=\"white-space:pre;overflow-x:auto;line-height:normal;font-family:Menlo,'DejaVu Sans Mono',consolas,'Courier New',monospace\"><span style=\"color: #808000; text-decoration-color: #808000\">Requirement already satisfied: idna&lt;4,&gt;=2.5 in /usr/local/lib/python3.11/site-packages (from requests-&gt;transformers) (3.10)\n",
       "</span></pre>\n"
      ],
      "text/plain": [
       "\u001b[33mRequirement already satisfied: idna<4,>=2.5 in /usr/local/lib/python3.11/site-packages (from requests->transformers) (3.10)\n",
       "\u001b[0m"
      ]
     },
     "metadata": {},
     "output_type": "display_data"
    },
    {
     "data": {
      "text/html": [
       "<pre style=\"white-space:pre;overflow-x:auto;line-height:normal;font-family:Menlo,'DejaVu Sans Mono',consolas,'Courier New',monospace\"><span style=\"color: #808000; text-decoration-color: #808000\">Collecting urllib3&lt;3,&gt;=1.21.1 (from requests-&gt;transformers)\n",
       "</span></pre>\n"
      ],
      "text/plain": [
       "\u001b[33mCollecting urllib3<3,>=1.21.1 (from requests->transformers)\n",
       "\u001b[0m"
      ]
     },
     "metadata": {},
     "output_type": "display_data"
    },
    {
     "data": {
      "text/html": [
       "<pre style=\"white-space:pre;overflow-x:auto;line-height:normal;font-family:Menlo,'DejaVu Sans Mono',consolas,'Courier New',monospace\"><span style=\"color: #808000; text-decoration-color: #808000\">  Downloading http://pypi-mirror.modal.local:5555/simple/urllib3/urllib3-2.3.0-py3-none-any.whl.metadata (6.5 kB)\n",
       "Requirement already satisfied: certifi&gt;=2017.4.17 in /usr/local/lib/python3.11/site-packages (from requests-&gt;transformers) (2024.8.30)\n",
       "</span></pre>\n"
      ],
      "text/plain": [
       "\u001b[33m  Downloading http://pypi-mirror.modal.local:5555/simple/urllib3/urllib3-2.3.0-py3-none-any.whl.metadata (6.5 kB)\n",
       "Requirement already satisfied: certifi>=2017.4.17 in /usr/local/lib/python3.11/site-packages (from requests->transformers) (2024.8.30)\n",
       "\u001b[0m"
      ]
     },
     "metadata": {},
     "output_type": "display_data"
    },
    {
     "data": {
      "text/html": [
       "<pre style=\"white-space:pre;overflow-x:auto;line-height:normal;font-family:Menlo,'DejaVu Sans Mono',consolas,'Courier New',monospace\"><span style=\"color: #808000; text-decoration-color: #808000\">Downloading http://pypi-mirror.modal.local:5555/simple/accelerate/accelerate-1.3.0-py3-none-any.whl (336 kB)\n",
       "</span></pre>\n"
      ],
      "text/plain": [
       "\u001b[33mDownloading http://pypi-mirror.modal.local:5555/simple/accelerate/accelerate-1.3.0-py3-none-any.whl (336 kB)\n",
       "\u001b[0m"
      ]
     },
     "metadata": {},
     "output_type": "display_data"
    },
    {
     "data": {
      "text/html": [
       "<pre style=\"white-space:pre;overflow-x:auto;line-height:normal;font-family:Menlo,'DejaVu Sans Mono',consolas,'Courier New',monospace\"><span style=\"color: #808000; text-decoration-color: #808000\">Downloading http://pypi-mirror.modal.local:5555/simple/bitsandbytes/bitsandbytes-0.45.1-py3-none-manylinux_2_24_x86_64.whl (69.7 MB)\n",
       "</span></pre>\n"
      ],
      "text/plain": [
       "\u001b[33mDownloading http://pypi-mirror.modal.local:5555/simple/bitsandbytes/bitsandbytes-0.45.1-py3-none-manylinux_2_24_x86_64.whl (69.7 MB)\n",
       "\u001b[0m"
      ]
     },
     "metadata": {},
     "output_type": "display_data"
    },
    {
     "data": {
      "text/html": [
       "<pre style=\"white-space:pre;overflow-x:auto;line-height:normal;font-family:Menlo,'DejaVu Sans Mono',consolas,'Courier New',monospace\"><span style=\"color: #808000; text-decoration-color: #808000\"></span></pre>\n"
      ],
      "text/plain": []
     },
     "metadata": {},
     "output_type": "display_data"
    },
    {
     "data": {
      "text/html": [
       "<pre style=\"white-space:pre;overflow-x:auto;line-height:normal;font-family:Menlo,'DejaVu Sans Mono',consolas,'Courier New',monospace\"><span style=\"color: #808000; text-decoration-color: #808000\">   ━━━━━━━━━━━━━━━━━━━━━━━━━━━━━━━━━━━━━━━━ 69.7/69.7 MB 187.2 MB/s eta 0:00:00\n",
       "</span></pre>\n"
      ],
      "text/plain": [
       "\u001b[33m   ━━━━━━━━━━━━━━━━━━━━━━━━━━━━━━━━━━━━━━━━ 69.7/69.7 MB 187.2 MB/s eta 0:00:00\n",
       "\u001b[0m"
      ]
     },
     "metadata": {},
     "output_type": "display_data"
    },
    {
     "data": {
      "text/html": [
       "<pre style=\"white-space:pre;overflow-x:auto;line-height:normal;font-family:Menlo,'DejaVu Sans Mono',consolas,'Courier New',monospace\"><span style=\"color: #808000; text-decoration-color: #808000\">Downloading http://pypi-mirror.modal.local:5555/simple/torch/torch-2.5.1-cp311-cp311-manylinux1_x86_64.whl (906.5 MB)\n",
       "</span></pre>\n"
      ],
      "text/plain": [
       "\u001b[33mDownloading http://pypi-mirror.modal.local:5555/simple/torch/torch-2.5.1-cp311-cp311-manylinux1_x86_64.whl (906.5 MB)\n",
       "\u001b[0m"
      ]
     },
     "metadata": {},
     "output_type": "display_data"
    },
    {
     "data": {
      "text/html": [
       "<pre style=\"white-space:pre;overflow-x:auto;line-height:normal;font-family:Menlo,'DejaVu Sans Mono',consolas,'Courier New',monospace\"><span style=\"color: #808000; text-decoration-color: #808000\"></span></pre>\n"
      ],
      "text/plain": []
     },
     "metadata": {},
     "output_type": "display_data"
    },
    {
     "data": {
      "text/html": [
       "<pre style=\"white-space:pre;overflow-x:auto;line-height:normal;font-family:Menlo,'DejaVu Sans Mono',consolas,'Courier New',monospace\"><span style=\"color: #808000; text-decoration-color: #808000\">   ━━━━━━━━━━━━━━━━━━━━━━━━━━━━━━━━━━━━━━━ 906.5/906.5 MB 168.8 MB/s eta 0:00:00\n",
       "</span></pre>\n"
      ],
      "text/plain": [
       "\u001b[33m   ━━━━━━━━━━━━━━━━━━━━━━━━━━━━━━━━━━━━━━━ 906.5/906.5 MB 168.8 MB/s eta 0:00:00\n",
       "\u001b[0m"
      ]
     },
     "metadata": {},
     "output_type": "display_data"
    },
    {
     "data": {
      "text/html": [
       "<pre style=\"white-space:pre;overflow-x:auto;line-height:normal;font-family:Menlo,'DejaVu Sans Mono',consolas,'Courier New',monospace\"><span style=\"color: #808000; text-decoration-color: #808000\">Downloading http://pypi-mirror.modal.local:5555/simple/nvidia-cublas-cu12/nvidia_cublas_cu12-12.4.5.8-py3-none-manylinux2014_x86_64.whl (363.4 MB)\n",
       "</span></pre>\n"
      ],
      "text/plain": [
       "\u001b[33mDownloading http://pypi-mirror.modal.local:5555/simple/nvidia-cublas-cu12/nvidia_cublas_cu12-12.4.5.8-py3-none-manylinux2014_x86_64.whl (363.4 MB)\n",
       "\u001b[0m"
      ]
     },
     "metadata": {},
     "output_type": "display_data"
    },
    {
     "data": {
      "text/html": [
       "<pre style=\"white-space:pre;overflow-x:auto;line-height:normal;font-family:Menlo,'DejaVu Sans Mono',consolas,'Courier New',monospace\"><span style=\"color: #808000; text-decoration-color: #808000\"></span></pre>\n"
      ],
      "text/plain": []
     },
     "metadata": {},
     "output_type": "display_data"
    },
    {
     "data": {
      "text/html": [
       "<pre style=\"white-space:pre;overflow-x:auto;line-height:normal;font-family:Menlo,'DejaVu Sans Mono',consolas,'Courier New',monospace\"><span style=\"color: #808000; text-decoration-color: #808000\">   ━━━━━━━━━━━━━━━━━━━━━━━━━━━━━━━━━━━━━━━ 363.4/363.4 MB 202.8 MB/s eta 0:00:00\n",
       "</span></pre>\n"
      ],
      "text/plain": [
       "\u001b[33m   ━━━━━━━━━━━━━━━━━━━━━━━━━━━━━━━━━━━━━━━ 363.4/363.4 MB 202.8 MB/s eta 0:00:00\n",
       "\u001b[0m"
      ]
     },
     "metadata": {},
     "output_type": "display_data"
    },
    {
     "data": {
      "text/html": [
       "<pre style=\"white-space:pre;overflow-x:auto;line-height:normal;font-family:Menlo,'DejaVu Sans Mono',consolas,'Courier New',monospace\"><span style=\"color: #808000; text-decoration-color: #808000\">Downloading http://pypi-mirror.modal.local:5555/simple/nvidia-cuda-cupti-cu12/nvidia_cuda_cupti_cu12-12.4.127-py3-none-manylinux2014_x86_64.whl (13.8 MB)\n",
       "</span></pre>\n"
      ],
      "text/plain": [
       "\u001b[33mDownloading http://pypi-mirror.modal.local:5555/simple/nvidia-cuda-cupti-cu12/nvidia_cuda_cupti_cu12-12.4.127-py3-none-manylinux2014_x86_64.whl (13.8 MB)\n",
       "\u001b[0m"
      ]
     },
     "metadata": {},
     "output_type": "display_data"
    },
    {
     "data": {
      "text/html": [
       "<pre style=\"white-space:pre;overflow-x:auto;line-height:normal;font-family:Menlo,'DejaVu Sans Mono',consolas,'Courier New',monospace\"><span style=\"color: #808000; text-decoration-color: #808000\"></span></pre>\n"
      ],
      "text/plain": []
     },
     "metadata": {},
     "output_type": "display_data"
    },
    {
     "data": {
      "text/html": [
       "<pre style=\"white-space:pre;overflow-x:auto;line-height:normal;font-family:Menlo,'DejaVu Sans Mono',consolas,'Courier New',monospace\"><span style=\"color: #808000; text-decoration-color: #808000\">   ━━━━━━━━━━━━━━━━━━━━━━━━━━━━━━━━━━━━━━━━ 13.8/13.8 MB 211.4 MB/s eta 0:00:00\n",
       "</span></pre>\n"
      ],
      "text/plain": [
       "\u001b[33m   ━━━━━━━━━━━━━━━━━━━━━━━━━━━━━━━━━━━━━━━━ 13.8/13.8 MB 211.4 MB/s eta 0:00:00\n",
       "\u001b[0m"
      ]
     },
     "metadata": {},
     "output_type": "display_data"
    },
    {
     "data": {
      "text/html": [
       "<pre style=\"white-space:pre;overflow-x:auto;line-height:normal;font-family:Menlo,'DejaVu Sans Mono',consolas,'Courier New',monospace\"><span style=\"color: #808000; text-decoration-color: #808000\">Downloading http://pypi-mirror.modal.local:5555/simple/nvidia-cuda-nvrtc-cu12/nvidia_cuda_nvrtc_cu12-12.4.127-py3-none-manylinux2014_x86_64.whl (24.6 MB)\n",
       "</span></pre>\n"
      ],
      "text/plain": [
       "\u001b[33mDownloading http://pypi-mirror.modal.local:5555/simple/nvidia-cuda-nvrtc-cu12/nvidia_cuda_nvrtc_cu12-12.4.127-py3-none-manylinux2014_x86_64.whl (24.6 MB)\n",
       "\u001b[0m"
      ]
     },
     "metadata": {},
     "output_type": "display_data"
    },
    {
     "data": {
      "text/html": [
       "<pre style=\"white-space:pre;overflow-x:auto;line-height:normal;font-family:Menlo,'DejaVu Sans Mono',consolas,'Courier New',monospace\"><span style=\"color: #808000; text-decoration-color: #808000\"></span></pre>\n"
      ],
      "text/plain": []
     },
     "metadata": {},
     "output_type": "display_data"
    },
    {
     "data": {
      "text/html": [
       "<pre style=\"white-space:pre;overflow-x:auto;line-height:normal;font-family:Menlo,'DejaVu Sans Mono',consolas,'Courier New',monospace\"><span style=\"color: #808000; text-decoration-color: #808000\">   ━━━━━━━━━━━━━━━━━━━━━━━━━━━━━━━━━━━━━━━━ 24.6/24.6 MB 193.6 MB/s eta 0:00:00\n",
       "</span></pre>\n"
      ],
      "text/plain": [
       "\u001b[33m   ━━━━━━━━━━━━━━━━━━━━━━━━━━━━━━━━━━━━━━━━ 24.6/24.6 MB 193.6 MB/s eta 0:00:00\n",
       "\u001b[0m"
      ]
     },
     "metadata": {},
     "output_type": "display_data"
    },
    {
     "data": {
      "text/html": [
       "<pre style=\"white-space:pre;overflow-x:auto;line-height:normal;font-family:Menlo,'DejaVu Sans Mono',consolas,'Courier New',monospace\"><span style=\"color: #808000; text-decoration-color: #808000\">Downloading http://pypi-mirror.modal.local:5555/simple/nvidia-cuda-runtime-cu12/nvidia_cuda_runtime_cu12-12.4.127-py3-none-manylinux2014_x86_64.whl (883 kB)\n",
       "</span></pre>\n"
      ],
      "text/plain": [
       "\u001b[33mDownloading http://pypi-mirror.modal.local:5555/simple/nvidia-cuda-runtime-cu12/nvidia_cuda_runtime_cu12-12.4.127-py3-none-manylinux2014_x86_64.whl (883 kB)\n",
       "\u001b[0m"
      ]
     },
     "metadata": {},
     "output_type": "display_data"
    },
    {
     "data": {
      "text/html": [
       "<pre style=\"white-space:pre;overflow-x:auto;line-height:normal;font-family:Menlo,'DejaVu Sans Mono',consolas,'Courier New',monospace\"><span style=\"color: #808000; text-decoration-color: #808000\"></span></pre>\n"
      ],
      "text/plain": []
     },
     "metadata": {},
     "output_type": "display_data"
    },
    {
     "data": {
      "text/html": [
       "<pre style=\"white-space:pre;overflow-x:auto;line-height:normal;font-family:Menlo,'DejaVu Sans Mono',consolas,'Courier New',monospace\"><span style=\"color: #808000; text-decoration-color: #808000\">   ━━━━━━━━━━━━━━━━━━━━━━━━━━━━━━━━━━━━━━━ 883.7/883.7 kB 180.6 MB/s eta 0:00:00\n",
       "</span></pre>\n"
      ],
      "text/plain": [
       "\u001b[33m   ━━━━━━━━━━━━━━━━━━━━━━━━━━━━━━━━━━━━━━━ 883.7/883.7 kB 180.6 MB/s eta 0:00:00\n",
       "\u001b[0m"
      ]
     },
     "metadata": {},
     "output_type": "display_data"
    },
    {
     "data": {
      "text/html": [
       "<pre style=\"white-space:pre;overflow-x:auto;line-height:normal;font-family:Menlo,'DejaVu Sans Mono',consolas,'Courier New',monospace\"><span style=\"color: #808000; text-decoration-color: #808000\">Downloading http://pypi-mirror.modal.local:5555/simple/nvidia-cudnn-cu12/nvidia_cudnn_cu12-9.1.0.70-py3-none-manylinux2014_x86_64.whl (664.8 MB)\n",
       "</span></pre>\n"
      ],
      "text/plain": [
       "\u001b[33mDownloading http://pypi-mirror.modal.local:5555/simple/nvidia-cudnn-cu12/nvidia_cudnn_cu12-9.1.0.70-py3-none-manylinux2014_x86_64.whl (664.8 MB)\n",
       "\u001b[0m"
      ]
     },
     "metadata": {},
     "output_type": "display_data"
    },
    {
     "data": {
      "text/html": [
       "<pre style=\"white-space:pre;overflow-x:auto;line-height:normal;font-family:Menlo,'DejaVu Sans Mono',consolas,'Courier New',monospace\"><span style=\"color: #808000; text-decoration-color: #808000\"></span></pre>\n"
      ],
      "text/plain": []
     },
     "metadata": {},
     "output_type": "display_data"
    },
    {
     "data": {
      "text/html": [
       "<pre style=\"white-space:pre;overflow-x:auto;line-height:normal;font-family:Menlo,'DejaVu Sans Mono',consolas,'Courier New',monospace\"><span style=\"color: #808000; text-decoration-color: #808000\">   ━━━━━━━━━━━━━━━━━━━━━━━━━━━━━━━━━━━━━━━ 664.8/664.8 MB 328.9 MB/s eta 0:00:00\n",
       "</span></pre>\n"
      ],
      "text/plain": [
       "\u001b[33m   ━━━━━━━━━━━━━━━━━━━━━━━━━━━━━━━━━━━━━━━ 664.8/664.8 MB 328.9 MB/s eta 0:00:00\n",
       "\u001b[0m"
      ]
     },
     "metadata": {},
     "output_type": "display_data"
    },
    {
     "data": {
      "text/html": [
       "<pre style=\"white-space:pre;overflow-x:auto;line-height:normal;font-family:Menlo,'DejaVu Sans Mono',consolas,'Courier New',monospace\"><span style=\"color: #808000; text-decoration-color: #808000\">Downloading http://pypi-mirror.modal.local:5555/simple/nvidia-cufft-cu12/nvidia_cufft_cu12-11.2.1.3-py3-none-manylinux2014_x86_64.whl (211.5 MB)\n",
       "</span></pre>\n"
      ],
      "text/plain": [
       "\u001b[33mDownloading http://pypi-mirror.modal.local:5555/simple/nvidia-cufft-cu12/nvidia_cufft_cu12-11.2.1.3-py3-none-manylinux2014_x86_64.whl (211.5 MB)\n",
       "\u001b[0m"
      ]
     },
     "metadata": {},
     "output_type": "display_data"
    },
    {
     "data": {
      "text/html": [
       "<pre style=\"white-space:pre;overflow-x:auto;line-height:normal;font-family:Menlo,'DejaVu Sans Mono',consolas,'Courier New',monospace\"><span style=\"color: #808000; text-decoration-color: #808000\"></span></pre>\n"
      ],
      "text/plain": []
     },
     "metadata": {},
     "output_type": "display_data"
    },
    {
     "data": {
      "text/html": [
       "<pre style=\"white-space:pre;overflow-x:auto;line-height:normal;font-family:Menlo,'DejaVu Sans Mono',consolas,'Courier New',monospace\"><span style=\"color: #808000; text-decoration-color: #808000\">   ━━━━━━━━━━━━━━━━━━━━━━━━━━━━━━━━━━━━━━━ 211.5/211.5 MB 163.5 MB/s eta 0:00:00\n",
       "</span></pre>\n"
      ],
      "text/plain": [
       "\u001b[33m   ━━━━━━━━━━━━━━━━━━━━━━━━━━━━━━━━━━━━━━━ 211.5/211.5 MB 163.5 MB/s eta 0:00:00\n",
       "\u001b[0m"
      ]
     },
     "metadata": {},
     "output_type": "display_data"
    },
    {
     "data": {
      "text/html": [
       "<pre style=\"white-space:pre;overflow-x:auto;line-height:normal;font-family:Menlo,'DejaVu Sans Mono',consolas,'Courier New',monospace\"><span style=\"color: #808000; text-decoration-color: #808000\">Downloading http://pypi-mirror.modal.local:5555/simple/nvidia-curand-cu12/nvidia_curand_cu12-10.3.5.147-py3-none-manylinux2014_x86_64.whl (56.3 MB)\n",
       "</span></pre>\n"
      ],
      "text/plain": [
       "\u001b[33mDownloading http://pypi-mirror.modal.local:5555/simple/nvidia-curand-cu12/nvidia_curand_cu12-10.3.5.147-py3-none-manylinux2014_x86_64.whl (56.3 MB)\n",
       "\u001b[0m"
      ]
     },
     "metadata": {},
     "output_type": "display_data"
    },
    {
     "data": {
      "text/html": [
       "<pre style=\"white-space:pre;overflow-x:auto;line-height:normal;font-family:Menlo,'DejaVu Sans Mono',consolas,'Courier New',monospace\"><span style=\"color: #808000; text-decoration-color: #808000\"></span></pre>\n"
      ],
      "text/plain": []
     },
     "metadata": {},
     "output_type": "display_data"
    },
    {
     "data": {
      "text/html": [
       "<pre style=\"white-space:pre;overflow-x:auto;line-height:normal;font-family:Menlo,'DejaVu Sans Mono',consolas,'Courier New',monospace\"><span style=\"color: #808000; text-decoration-color: #808000\">   ━━━━━━━━━━━━━━━━━━━━━━━━━━━━━━━━━━━━━━━━ 56.3/56.3 MB 171.0 MB/s eta 0:00:00\n",
       "</span></pre>\n"
      ],
      "text/plain": [
       "\u001b[33m   ━━━━━━━━━━━━━━━━━━━━━━━━━━━━━━━━━━━━━━━━ 56.3/56.3 MB 171.0 MB/s eta 0:00:00\n",
       "\u001b[0m"
      ]
     },
     "metadata": {},
     "output_type": "display_data"
    },
    {
     "data": {
      "text/html": [
       "<pre style=\"white-space:pre;overflow-x:auto;line-height:normal;font-family:Menlo,'DejaVu Sans Mono',consolas,'Courier New',monospace\"><span style=\"color: #808000; text-decoration-color: #808000\">Downloading http://pypi-mirror.modal.local:5555/simple/nvidia-cusolver-cu12/nvidia_cusolver_cu12-11.6.1.9-py3-none-manylinux2014_x86_64.whl (127.9 MB)\n",
       "</span></pre>\n"
      ],
      "text/plain": [
       "\u001b[33mDownloading http://pypi-mirror.modal.local:5555/simple/nvidia-cusolver-cu12/nvidia_cusolver_cu12-11.6.1.9-py3-none-manylinux2014_x86_64.whl (127.9 MB)\n",
       "\u001b[0m"
      ]
     },
     "metadata": {},
     "output_type": "display_data"
    },
    {
     "data": {
      "text/html": [
       "<pre style=\"white-space:pre;overflow-x:auto;line-height:normal;font-family:Menlo,'DejaVu Sans Mono',consolas,'Courier New',monospace\"><span style=\"color: #808000; text-decoration-color: #808000\"></span></pre>\n"
      ],
      "text/plain": []
     },
     "metadata": {},
     "output_type": "display_data"
    },
    {
     "data": {
      "text/html": [
       "<pre style=\"white-space:pre;overflow-x:auto;line-height:normal;font-family:Menlo,'DejaVu Sans Mono',consolas,'Courier New',monospace\"><span style=\"color: #808000; text-decoration-color: #808000\">   ━━━━━━━━━━━━━━━━━━━━━━━━━━━━━━━━━━━━━━━ 127.9/127.9 MB 280.2 MB/s eta 0:00:00\n",
       "</span></pre>\n"
      ],
      "text/plain": [
       "\u001b[33m   ━━━━━━━━━━━━━━━━━━━━━━━━━━━━━━━━━━━━━━━ 127.9/127.9 MB 280.2 MB/s eta 0:00:00\n",
       "\u001b[0m"
      ]
     },
     "metadata": {},
     "output_type": "display_data"
    },
    {
     "data": {
      "text/html": [
       "<pre style=\"white-space:pre;overflow-x:auto;line-height:normal;font-family:Menlo,'DejaVu Sans Mono',consolas,'Courier New',monospace\"><span style=\"color: #808000; text-decoration-color: #808000\">Downloading http://pypi-mirror.modal.local:5555/simple/nvidia-cusparse-cu12/nvidia_cusparse_cu12-12.3.1.170-py3-none-manylinux2014_x86_64.whl (207.5 MB)\n",
       "</span></pre>\n"
      ],
      "text/plain": [
       "\u001b[33mDownloading http://pypi-mirror.modal.local:5555/simple/nvidia-cusparse-cu12/nvidia_cusparse_cu12-12.3.1.170-py3-none-manylinux2014_x86_64.whl (207.5 MB)\n",
       "\u001b[0m"
      ]
     },
     "metadata": {},
     "output_type": "display_data"
    },
    {
     "data": {
      "text/html": [
       "<pre style=\"white-space:pre;overflow-x:auto;line-height:normal;font-family:Menlo,'DejaVu Sans Mono',consolas,'Courier New',monospace\"><span style=\"color: #808000; text-decoration-color: #808000\"></span></pre>\n"
      ],
      "text/plain": []
     },
     "metadata": {},
     "output_type": "display_data"
    },
    {
     "data": {
      "text/html": [
       "<pre style=\"white-space:pre;overflow-x:auto;line-height:normal;font-family:Menlo,'DejaVu Sans Mono',consolas,'Courier New',monospace\"><span style=\"color: #808000; text-decoration-color: #808000\">   ━━━━━━━━━━━━━━━━━━━━━━━━━━━━━━━━━━━━━━━ 207.5/207.5 MB 176.4 MB/s eta 0:00:00\n",
       "</span></pre>\n"
      ],
      "text/plain": [
       "\u001b[33m   ━━━━━━━━━━━━━━━━━━━━━━━━━━━━━━━━━━━━━━━ 207.5/207.5 MB 176.4 MB/s eta 0:00:00\n",
       "\u001b[0m"
      ]
     },
     "metadata": {},
     "output_type": "display_data"
    },
    {
     "data": {
      "text/html": [
       "<pre style=\"white-space:pre;overflow-x:auto;line-height:normal;font-family:Menlo,'DejaVu Sans Mono',consolas,'Courier New',monospace\"><span style=\"color: #808000; text-decoration-color: #808000\">Downloading http://pypi-mirror.modal.local:5555/simple/nvidia-nccl-cu12/nvidia_nccl_cu12-2.21.5-py3-none-manylinux2014_x86_64.whl (188.7 MB)\n",
       "</span></pre>\n"
      ],
      "text/plain": [
       "\u001b[33mDownloading http://pypi-mirror.modal.local:5555/simple/nvidia-nccl-cu12/nvidia_nccl_cu12-2.21.5-py3-none-manylinux2014_x86_64.whl (188.7 MB)\n",
       "\u001b[0m"
      ]
     },
     "metadata": {},
     "output_type": "display_data"
    },
    {
     "data": {
      "text/html": [
       "<pre style=\"white-space:pre;overflow-x:auto;line-height:normal;font-family:Menlo,'DejaVu Sans Mono',consolas,'Courier New',monospace\"><span style=\"color: #808000; text-decoration-color: #808000\"></span></pre>\n"
      ],
      "text/plain": []
     },
     "metadata": {},
     "output_type": "display_data"
    },
    {
     "data": {
      "text/html": [
       "<pre style=\"white-space:pre;overflow-x:auto;line-height:normal;font-family:Menlo,'DejaVu Sans Mono',consolas,'Courier New',monospace\"><span style=\"color: #808000; text-decoration-color: #808000\">   ━━━━━━━━━━━━━━━━━━━━━━━━━━━━━━━━━━━━━━━ 188.7/188.7 MB 189.7 MB/s eta 0:00:00\n",
       "</span></pre>\n"
      ],
      "text/plain": [
       "\u001b[33m   ━━━━━━━━━━━━━━━━━━━━━━━━━━━━━━━━━━━━━━━ 188.7/188.7 MB 189.7 MB/s eta 0:00:00\n",
       "\u001b[0m"
      ]
     },
     "metadata": {},
     "output_type": "display_data"
    },
    {
     "data": {
      "text/html": [
       "<pre style=\"white-space:pre;overflow-x:auto;line-height:normal;font-family:Menlo,'DejaVu Sans Mono',consolas,'Courier New',monospace\"><span style=\"color: #808000; text-decoration-color: #808000\">Downloading http://pypi-mirror.modal.local:5555/simple/nvidia-nvjitlink-cu12/nvidia_nvjitlink_cu12-12.4.127-py3-none-manylinux2014_x86_64.whl (21.1 MB)\n",
       "</span></pre>\n"
      ],
      "text/plain": [
       "\u001b[33mDownloading http://pypi-mirror.modal.local:5555/simple/nvidia-nvjitlink-cu12/nvidia_nvjitlink_cu12-12.4.127-py3-none-manylinux2014_x86_64.whl (21.1 MB)\n",
       "\u001b[0m"
      ]
     },
     "metadata": {},
     "output_type": "display_data"
    },
    {
     "data": {
      "text/html": [
       "<pre style=\"white-space:pre;overflow-x:auto;line-height:normal;font-family:Menlo,'DejaVu Sans Mono',consolas,'Courier New',monospace\"><span style=\"color: #808000; text-decoration-color: #808000\"></span></pre>\n"
      ],
      "text/plain": []
     },
     "metadata": {},
     "output_type": "display_data"
    },
    {
     "data": {
      "text/html": [
       "<pre style=\"white-space:pre;overflow-x:auto;line-height:normal;font-family:Menlo,'DejaVu Sans Mono',consolas,'Courier New',monospace\"><span style=\"color: #808000; text-decoration-color: #808000\">   ━━━━━━━━━━━━━━━━━━━━━━━━━━━━━━━━━━━━━━━━ 21.1/21.1 MB 132.2 MB/s eta 0:00:00\n",
       "</span></pre>\n"
      ],
      "text/plain": [
       "\u001b[33m   ━━━━━━━━━━━━━━━━━━━━━━━━━━━━━━━━━━━━━━━━ 21.1/21.1 MB 132.2 MB/s eta 0:00:00\n",
       "\u001b[0m"
      ]
     },
     "metadata": {},
     "output_type": "display_data"
    },
    {
     "data": {
      "text/html": [
       "<pre style=\"white-space:pre;overflow-x:auto;line-height:normal;font-family:Menlo,'DejaVu Sans Mono',consolas,'Courier New',monospace\"><span style=\"color: #808000; text-decoration-color: #808000\">Downloading http://pypi-mirror.modal.local:5555/simple/nvidia-nvtx-cu12/nvidia_nvtx_cu12-12.4.127-py3-none-manylinux2014_x86_64.whl (99 kB)\n",
       "</span></pre>\n"
      ],
      "text/plain": [
       "\u001b[33mDownloading http://pypi-mirror.modal.local:5555/simple/nvidia-nvtx-cu12/nvidia_nvtx_cu12-12.4.127-py3-none-manylinux2014_x86_64.whl (99 kB)\n",
       "\u001b[0m"
      ]
     },
     "metadata": {},
     "output_type": "display_data"
    },
    {
     "data": {
      "text/html": [
       "<pre style=\"white-space:pre;overflow-x:auto;line-height:normal;font-family:Menlo,'DejaVu Sans Mono',consolas,'Courier New',monospace\"><span style=\"color: #808000; text-decoration-color: #808000\">Downloading http://pypi-mirror.modal.local:5555/simple/sympy/sympy-1.13.1-py3-none-any.whl (6.2 MB)\n",
       "</span></pre>\n"
      ],
      "text/plain": [
       "\u001b[33mDownloading http://pypi-mirror.modal.local:5555/simple/sympy/sympy-1.13.1-py3-none-any.whl (6.2 MB)\n",
       "\u001b[0m"
      ]
     },
     "metadata": {},
     "output_type": "display_data"
    },
    {
     "data": {
      "text/html": [
       "<pre style=\"white-space:pre;overflow-x:auto;line-height:normal;font-family:Menlo,'DejaVu Sans Mono',consolas,'Courier New',monospace\"><span style=\"color: #808000; text-decoration-color: #808000\"></span></pre>\n"
      ],
      "text/plain": []
     },
     "metadata": {},
     "output_type": "display_data"
    },
    {
     "data": {
      "text/html": [
       "<pre style=\"white-space:pre;overflow-x:auto;line-height:normal;font-family:Menlo,'DejaVu Sans Mono',consolas,'Courier New',monospace\"><span style=\"color: #808000; text-decoration-color: #808000\">   ━━━━━━━━━━━━━━━━━━━━━━━━━━━━━━━━━━━━━━━━ 6.2/6.2 MB 319.4 MB/s eta 0:00:00\n",
       "</span></pre>\n"
      ],
      "text/plain": [
       "\u001b[33m   ━━━━━━━━━━━━━━━━━━━━━━━━━━━━━━━━━━━━━━━━ 6.2/6.2 MB 319.4 MB/s eta 0:00:00\n",
       "\u001b[0m"
      ]
     },
     "metadata": {},
     "output_type": "display_data"
    },
    {
     "data": {
      "text/html": [
       "<pre style=\"white-space:pre;overflow-x:auto;line-height:normal;font-family:Menlo,'DejaVu Sans Mono',consolas,'Courier New',monospace\"><span style=\"color: #808000; text-decoration-color: #808000\">Downloading http://pypi-mirror.modal.local:5555/simple/triton/triton-3.1.0-cp311-cp311-manylinux_2_17_x86_64.manylinux2014_x86_64.whl (209.5 MB)\n",
       "</span></pre>\n"
      ],
      "text/plain": [
       "\u001b[33mDownloading http://pypi-mirror.modal.local:5555/simple/triton/triton-3.1.0-cp311-cp311-manylinux_2_17_x86_64.manylinux2014_x86_64.whl (209.5 MB)\n",
       "\u001b[0m"
      ]
     },
     "metadata": {},
     "output_type": "display_data"
    },
    {
     "data": {
      "text/html": [
       "<pre style=\"white-space:pre;overflow-x:auto;line-height:normal;font-family:Menlo,'DejaVu Sans Mono',consolas,'Courier New',monospace\"><span style=\"color: #808000; text-decoration-color: #808000\"></span></pre>\n"
      ],
      "text/plain": []
     },
     "metadata": {},
     "output_type": "display_data"
    },
    {
     "data": {
      "text/html": [
       "<pre style=\"white-space:pre;overflow-x:auto;line-height:normal;font-family:Menlo,'DejaVu Sans Mono',consolas,'Courier New',monospace\"><span style=\"color: #808000; text-decoration-color: #808000\">   ━━━━━━━━━━━━━━━━━━━━━━━━━━━━━━━━━━━━━━━ 209.5/209.5 MB 179.0 MB/s eta 0:00:00\n",
       "</span></pre>\n"
      ],
      "text/plain": [
       "\u001b[33m   ━━━━━━━━━━━━━━━━━━━━━━━━━━━━━━━━━━━━━━━ 209.5/209.5 MB 179.0 MB/s eta 0:00:00\n",
       "\u001b[0m"
      ]
     },
     "metadata": {},
     "output_type": "display_data"
    },
    {
     "data": {
      "text/html": [
       "<pre style=\"white-space:pre;overflow-x:auto;line-height:normal;font-family:Menlo,'DejaVu Sans Mono',consolas,'Courier New',monospace\"><span style=\"color: #808000; text-decoration-color: #808000\">Downloading http://pypi-mirror.modal.local:5555/simple/transformers/transformers-4.48.1-py3-none-any.whl (9.7 MB)\n",
       "</span></pre>\n"
      ],
      "text/plain": [
       "\u001b[33mDownloading http://pypi-mirror.modal.local:5555/simple/transformers/transformers-4.48.1-py3-none-any.whl (9.7 MB)\n",
       "\u001b[0m"
      ]
     },
     "metadata": {},
     "output_type": "display_data"
    },
    {
     "data": {
      "text/html": [
       "<pre style=\"white-space:pre;overflow-x:auto;line-height:normal;font-family:Menlo,'DejaVu Sans Mono',consolas,'Courier New',monospace\"><span style=\"color: #808000; text-decoration-color: #808000\"></span></pre>\n"
      ],
      "text/plain": []
     },
     "metadata": {},
     "output_type": "display_data"
    },
    {
     "data": {
      "text/html": [
       "<pre style=\"white-space:pre;overflow-x:auto;line-height:normal;font-family:Menlo,'DejaVu Sans Mono',consolas,'Courier New',monospace\"><span style=\"color: #808000; text-decoration-color: #808000\">   ━━━━━━━━━━━━━━━━━━━━━━━━━━━━━━━━━━━━━━━━ 9.7/9.7 MB 328.9 MB/s eta 0:00:00\n",
       "</span></pre>\n"
      ],
      "text/plain": [
       "\u001b[33m   ━━━━━━━━━━━━━━━━━━━━━━━━━━━━━━━━━━━━━━━━ 9.7/9.7 MB 328.9 MB/s eta 0:00:00\n",
       "\u001b[0m"
      ]
     },
     "metadata": {},
     "output_type": "display_data"
    },
    {
     "data": {
      "text/html": [
       "<pre style=\"white-space:pre;overflow-x:auto;line-height:normal;font-family:Menlo,'DejaVu Sans Mono',consolas,'Courier New',monospace\"><span style=\"color: #808000; text-decoration-color: #808000\">Downloading http://pypi-mirror.modal.local:5555/simple/huggingface-hub/huggingface_hub-0.27.1-py3-none-any.whl (450 kB)\n",
       "Downloading http://pypi-mirror.modal.local:5555/simple/fsspec/fsspec-2024.12.0-py3-none-any.whl (183 kB)\n",
       "</span></pre>\n"
      ],
      "text/plain": [
       "\u001b[33mDownloading http://pypi-mirror.modal.local:5555/simple/huggingface-hub/huggingface_hub-0.27.1-py3-none-any.whl (450 kB)\n",
       "Downloading http://pypi-mirror.modal.local:5555/simple/fsspec/fsspec-2024.12.0-py3-none-any.whl (183 kB)\n",
       "\u001b[0m"
      ]
     },
     "metadata": {},
     "output_type": "display_data"
    },
    {
     "data": {
      "text/html": [
       "<pre style=\"white-space:pre;overflow-x:auto;line-height:normal;font-family:Menlo,'DejaVu Sans Mono',consolas,'Courier New',monospace\"><span style=\"color: #808000; text-decoration-color: #808000\">Downloading http://pypi-mirror.modal.local:5555/simple/numpy/numpy-2.2.2-cp311-cp311-manylinux_2_17_x86_64.manylinux2014_x86_64.whl (16.4 MB)\n",
       "</span></pre>\n"
      ],
      "text/plain": [
       "\u001b[33mDownloading http://pypi-mirror.modal.local:5555/simple/numpy/numpy-2.2.2-cp311-cp311-manylinux_2_17_x86_64.manylinux2014_x86_64.whl (16.4 MB)\n",
       "\u001b[0m"
      ]
     },
     "metadata": {},
     "output_type": "display_data"
    },
    {
     "data": {
      "text/html": [
       "<pre style=\"white-space:pre;overflow-x:auto;line-height:normal;font-family:Menlo,'DejaVu Sans Mono',consolas,'Courier New',monospace\"><span style=\"color: #808000; text-decoration-color: #808000\"></span></pre>\n"
      ],
      "text/plain": []
     },
     "metadata": {},
     "output_type": "display_data"
    },
    {
     "data": {
      "text/html": [
       "<pre style=\"white-space:pre;overflow-x:auto;line-height:normal;font-family:Menlo,'DejaVu Sans Mono',consolas,'Courier New',monospace\"><span style=\"color: #808000; text-decoration-color: #808000\">   ━━━━━━━━━━━━━━━━━━━━━━━━━━━━━━━━━━━━━━━━ 16.4/16.4 MB 425.3 MB/s eta 0:00:00\n",
       "</span></pre>\n"
      ],
      "text/plain": [
       "\u001b[33m   ━━━━━━━━━━━━━━━━━━━━━━━━━━━━━━━━━━━━━━━━ 16.4/16.4 MB 425.3 MB/s eta 0:00:00\n",
       "\u001b[0m"
      ]
     },
     "metadata": {},
     "output_type": "display_data"
    },
    {
     "data": {
      "text/html": [
       "<pre style=\"white-space:pre;overflow-x:auto;line-height:normal;font-family:Menlo,'DejaVu Sans Mono',consolas,'Courier New',monospace\"><span style=\"color: #808000; text-decoration-color: #808000\">Downloading http://pypi-mirror.modal.local:5555/simple/packaging/packaging-24.2-py3-none-any.whl (65 kB)\n",
       "Downloading http://pypi-mirror.modal.local:5555/simple/pyyaml/PyYAML-6.0.2-cp311-cp311-manylinux_2_17_x86_64.manylinux2014_x86_64.whl (762 kB)\n",
       "</span></pre>\n"
      ],
      "text/plain": [
       "\u001b[33mDownloading http://pypi-mirror.modal.local:5555/simple/packaging/packaging-24.2-py3-none-any.whl (65 kB)\n",
       "Downloading http://pypi-mirror.modal.local:5555/simple/pyyaml/PyYAML-6.0.2-cp311-cp311-manylinux_2_17_x86_64.manylinux2014_x86_64.whl (762 kB)\n",
       "\u001b[0m"
      ]
     },
     "metadata": {},
     "output_type": "display_data"
    },
    {
     "data": {
      "text/html": [
       "<pre style=\"white-space:pre;overflow-x:auto;line-height:normal;font-family:Menlo,'DejaVu Sans Mono',consolas,'Courier New',monospace\"><span style=\"color: #808000; text-decoration-color: #808000\"></span></pre>\n"
      ],
      "text/plain": []
     },
     "metadata": {},
     "output_type": "display_data"
    },
    {
     "data": {
      "text/html": [
       "<pre style=\"white-space:pre;overflow-x:auto;line-height:normal;font-family:Menlo,'DejaVu Sans Mono',consolas,'Courier New',monospace\"><span style=\"color: #808000; text-decoration-color: #808000\">   ━━━━━━━━━━━━━━━━━━━━━━━━━━━━━━━━━━━━━━━ 763.0/763.0 kB 499.4 MB/s eta 0:00:00\n",
       "</span></pre>\n"
      ],
      "text/plain": [
       "\u001b[33m   ━━━━━━━━━━━━━━━━━━━━━━━━━━━━━━━━━━━━━━━ 763.0/763.0 kB 499.4 MB/s eta 0:00:00\n",
       "\u001b[0m"
      ]
     },
     "metadata": {},
     "output_type": "display_data"
    },
    {
     "data": {
      "text/html": [
       "<pre style=\"white-space:pre;overflow-x:auto;line-height:normal;font-family:Menlo,'DejaVu Sans Mono',consolas,'Courier New',monospace\"><span style=\"color: #808000; text-decoration-color: #808000\">Downloading http://pypi-mirror.modal.local:5555/simple/regex/regex-2024.11.6-cp311-cp311-manylinux_2_17_x86_64.manylinux2014_x86_64.whl (792 kB)\n",
       "</span></pre>\n"
      ],
      "text/plain": [
       "\u001b[33mDownloading http://pypi-mirror.modal.local:5555/simple/regex/regex-2024.11.6-cp311-cp311-manylinux_2_17_x86_64.manylinux2014_x86_64.whl (792 kB)\n",
       "\u001b[0m"
      ]
     },
     "metadata": {},
     "output_type": "display_data"
    },
    {
     "data": {
      "text/html": [
       "<pre style=\"white-space:pre;overflow-x:auto;line-height:normal;font-family:Menlo,'DejaVu Sans Mono',consolas,'Courier New',monospace\"><span style=\"color: #808000; text-decoration-color: #808000\"></span></pre>\n"
      ],
      "text/plain": []
     },
     "metadata": {},
     "output_type": "display_data"
    },
    {
     "data": {
      "text/html": [
       "<pre style=\"white-space:pre;overflow-x:auto;line-height:normal;font-family:Menlo,'DejaVu Sans Mono',consolas,'Courier New',monospace\"><span style=\"color: #808000; text-decoration-color: #808000\">   ━━━━━━━━━━━━━━━━━━━━━━━━━━━━━━━━━━━━━━━━ 792.7/792.7 kB 93.0 MB/s eta 0:00:00\n",
       "</span></pre>\n"
      ],
      "text/plain": [
       "\u001b[33m   ━━━━━━━━━━━━━━━━━━━━━━━━━━━━━━━━━━━━━━━━ 792.7/792.7 kB 93.0 MB/s eta 0:00:00\n",
       "\u001b[0m"
      ]
     },
     "metadata": {},
     "output_type": "display_data"
    },
    {
     "data": {
      "text/html": [
       "<pre style=\"white-space:pre;overflow-x:auto;line-height:normal;font-family:Menlo,'DejaVu Sans Mono',consolas,'Courier New',monospace\"><span style=\"color: #808000; text-decoration-color: #808000\">Downloading http://pypi-mirror.modal.local:5555/simple/safetensors/safetensors-0.5.2-cp38-abi3-manylinux_2_17_x86_64.manylinux2014_x86_64.whl (461 kB)\n",
       "</span></pre>\n"
      ],
      "text/plain": [
       "\u001b[33mDownloading http://pypi-mirror.modal.local:5555/simple/safetensors/safetensors-0.5.2-cp38-abi3-manylinux_2_17_x86_64.manylinux2014_x86_64.whl (461 kB)\n",
       "\u001b[0m"
      ]
     },
     "metadata": {},
     "output_type": "display_data"
    },
    {
     "data": {
      "text/html": [
       "<pre style=\"white-space:pre;overflow-x:auto;line-height:normal;font-family:Menlo,'DejaVu Sans Mono',consolas,'Courier New',monospace\"><span style=\"color: #808000; text-decoration-color: #808000\">Downloading http://pypi-mirror.modal.local:5555/simple/tokenizers/tokenizers-0.21.0-cp39-abi3-manylinux_2_17_x86_64.manylinux2014_x86_64.whl (3.0 MB)\n",
       "</span></pre>\n"
      ],
      "text/plain": [
       "\u001b[33mDownloading http://pypi-mirror.modal.local:5555/simple/tokenizers/tokenizers-0.21.0-cp39-abi3-manylinux_2_17_x86_64.manylinux2014_x86_64.whl (3.0 MB)\n",
       "\u001b[0m"
      ]
     },
     "metadata": {},
     "output_type": "display_data"
    },
    {
     "data": {
      "text/html": [
       "<pre style=\"white-space:pre;overflow-x:auto;line-height:normal;font-family:Menlo,'DejaVu Sans Mono',consolas,'Courier New',monospace\"><span style=\"color: #808000; text-decoration-color: #808000\"></span></pre>\n"
      ],
      "text/plain": []
     },
     "metadata": {},
     "output_type": "display_data"
    },
    {
     "data": {
      "text/html": [
       "<pre style=\"white-space:pre;overflow-x:auto;line-height:normal;font-family:Menlo,'DejaVu Sans Mono',consolas,'Courier New',monospace\"><span style=\"color: #808000; text-decoration-color: #808000\">   ━━━━━━━━━━━━━━━━━━━━━━━━━━━━━━━━━━━━━━━━ 3.0/3.0 MB 413.2 MB/s eta 0:00:00\n",
       "</span></pre>\n"
      ],
      "text/plain": [
       "\u001b[33m   ━━━━━━━━━━━━━━━━━━━━━━━━━━━━━━━━━━━━━━━━ 3.0/3.0 MB 413.2 MB/s eta 0:00:00\n",
       "\u001b[0m"
      ]
     },
     "metadata": {},
     "output_type": "display_data"
    },
    {
     "data": {
      "text/html": [
       "<pre style=\"white-space:pre;overflow-x:auto;line-height:normal;font-family:Menlo,'DejaVu Sans Mono',consolas,'Courier New',monospace\"><span style=\"color: #808000; text-decoration-color: #808000\">Downloading http://pypi-mirror.modal.local:5555/simple/tqdm/tqdm-4.67.1-py3-none-any.whl (78 kB)\n",
       "Downloading http://pypi-mirror.modal.local:5555/simple/filelock/filelock-3.17.0-py3-none-any.whl (16 kB)\n",
       "</span></pre>\n"
      ],
      "text/plain": [
       "\u001b[33mDownloading http://pypi-mirror.modal.local:5555/simple/tqdm/tqdm-4.67.1-py3-none-any.whl (78 kB)\n",
       "Downloading http://pypi-mirror.modal.local:5555/simple/filelock/filelock-3.17.0-py3-none-any.whl (16 kB)\n",
       "\u001b[0m"
      ]
     },
     "metadata": {},
     "output_type": "display_data"
    },
    {
     "data": {
      "text/html": [
       "<pre style=\"white-space:pre;overflow-x:auto;line-height:normal;font-family:Menlo,'DejaVu Sans Mono',consolas,'Courier New',monospace\"><span style=\"color: #808000; text-decoration-color: #808000\">Downloading http://pypi-mirror.modal.local:5555/simple/jinja2/jinja2-3.1.5-py3-none-any.whl (134 kB)\n",
       "</span></pre>\n"
      ],
      "text/plain": [
       "\u001b[33mDownloading http://pypi-mirror.modal.local:5555/simple/jinja2/jinja2-3.1.5-py3-none-any.whl (134 kB)\n",
       "\u001b[0m"
      ]
     },
     "metadata": {},
     "output_type": "display_data"
    },
    {
     "data": {
      "text/html": [
       "<pre style=\"white-space:pre;overflow-x:auto;line-height:normal;font-family:Menlo,'DejaVu Sans Mono',consolas,'Courier New',monospace\"><span style=\"color: #808000; text-decoration-color: #808000\">Downloading http://pypi-mirror.modal.local:5555/simple/networkx/networkx-3.4.2-py3-none-any.whl (1.7 MB)\n",
       "</span></pre>\n"
      ],
      "text/plain": [
       "\u001b[33mDownloading http://pypi-mirror.modal.local:5555/simple/networkx/networkx-3.4.2-py3-none-any.whl (1.7 MB)\n",
       "\u001b[0m"
      ]
     },
     "metadata": {},
     "output_type": "display_data"
    },
    {
     "data": {
      "text/html": [
       "<pre style=\"white-space:pre;overflow-x:auto;line-height:normal;font-family:Menlo,'DejaVu Sans Mono',consolas,'Courier New',monospace\"><span style=\"color: #808000; text-decoration-color: #808000\">   ━━━━━━━━━━━━━━━━━━━━━━━━━━━━━━━━━━━━━━━━ 1.7/1.7 MB 388.9 MB/s eta 0:00:00\n",
       "Downloading http://pypi-mirror.modal.local:5555/simple/psutil/psutil-6.1.1-cp36-abi3-manylinux_2_12_x86_64.manylinux2010_x86_64.manylinux_2_17_x86_64.manylinux2014_x86_64.whl (287 kB)\n",
       "</span></pre>\n"
      ],
      "text/plain": [
       "\u001b[33m   ━━━━━━━━━━━━━━━━━━━━━━━━━━━━━━━━━━━━━━━━ 1.7/1.7 MB 388.9 MB/s eta 0:00:00\n",
       "Downloading http://pypi-mirror.modal.local:5555/simple/psutil/psutil-6.1.1-cp36-abi3-manylinux_2_12_x86_64.manylinux2010_x86_64.manylinux_2_17_x86_64.manylinux2014_x86_64.whl (287 kB)\n",
       "\u001b[0m"
      ]
     },
     "metadata": {},
     "output_type": "display_data"
    },
    {
     "data": {
      "text/html": [
       "<pre style=\"white-space:pre;overflow-x:auto;line-height:normal;font-family:Menlo,'DejaVu Sans Mono',consolas,'Courier New',monospace\"><span style=\"color: #808000; text-decoration-color: #808000\">Downloading http://pypi-mirror.modal.local:5555/simple/requests/requests-2.32.3-py3-none-any.whl (64 kB)\n",
       "</span></pre>\n"
      ],
      "text/plain": [
       "\u001b[33mDownloading http://pypi-mirror.modal.local:5555/simple/requests/requests-2.32.3-py3-none-any.whl (64 kB)\n",
       "\u001b[0m"
      ]
     },
     "metadata": {},
     "output_type": "display_data"
    },
    {
     "data": {
      "text/html": [
       "<pre style=\"white-space:pre;overflow-x:auto;line-height:normal;font-family:Menlo,'DejaVu Sans Mono',consolas,'Courier New',monospace\"><span style=\"color: #808000; text-decoration-color: #808000\">Downloading http://pypi-mirror.modal.local:5555/simple/charset-normalizer/charset_normalizer-3.4.1-cp311-cp311-manylinux_2_17_x86_64.manylinux2014_x86_64.whl (143 kB)\n",
       "Downloading http://pypi-mirror.modal.local:5555/simple/markupsafe/MarkupSafe-3.0.2-cp311-cp311-manylinux_2_17_x86_64.manylinux2014_x86_64.whl (23 kB)\n",
       "Downloading http://pypi-mirror.modal.local:5555/simple/mpmath/mpmath-1.3.0-py3-none-any.whl (536 kB)\n",
       "</span></pre>\n"
      ],
      "text/plain": [
       "\u001b[33mDownloading http://pypi-mirror.modal.local:5555/simple/charset-normalizer/charset_normalizer-3.4.1-cp311-cp311-manylinux_2_17_x86_64.manylinux2014_x86_64.whl (143 kB)\n",
       "Downloading http://pypi-mirror.modal.local:5555/simple/markupsafe/MarkupSafe-3.0.2-cp311-cp311-manylinux_2_17_x86_64.manylinux2014_x86_64.whl (23 kB)\n",
       "Downloading http://pypi-mirror.modal.local:5555/simple/mpmath/mpmath-1.3.0-py3-none-any.whl (536 kB)\n",
       "\u001b[0m"
      ]
     },
     "metadata": {},
     "output_type": "display_data"
    },
    {
     "data": {
      "text/html": [
       "<pre style=\"white-space:pre;overflow-x:auto;line-height:normal;font-family:Menlo,'DejaVu Sans Mono',consolas,'Courier New',monospace\"><span style=\"color: #808000; text-decoration-color: #808000\"></span></pre>\n"
      ],
      "text/plain": []
     },
     "metadata": {},
     "output_type": "display_data"
    },
    {
     "data": {
      "text/html": [
       "<pre style=\"white-space:pre;overflow-x:auto;line-height:normal;font-family:Menlo,'DejaVu Sans Mono',consolas,'Courier New',monospace\"><span style=\"color: #808000; text-decoration-color: #808000\">   ━━━━━━━━━━━━━━━━━━━━━━━━━━━━━━━━━━━━━━━ 536.2/536.2 kB 412.9 MB/s eta 0:00:00\n",
       "</span></pre>\n"
      ],
      "text/plain": [
       "\u001b[33m   ━━━━━━━━━━━━━━━━━━━━━━━━━━━━━━━━━━━━━━━ 536.2/536.2 kB 412.9 MB/s eta 0:00:00\n",
       "\u001b[0m"
      ]
     },
     "metadata": {},
     "output_type": "display_data"
    },
    {
     "data": {
      "text/html": [
       "<pre style=\"white-space:pre;overflow-x:auto;line-height:normal;font-family:Menlo,'DejaVu Sans Mono',consolas,'Courier New',monospace\"><span style=\"color: #808000; text-decoration-color: #808000\">Downloading http://pypi-mirror.modal.local:5555/simple/urllib3/urllib3-2.3.0-py3-none-any.whl (128 kB)\n",
       "</span></pre>\n"
      ],
      "text/plain": [
       "\u001b[33mDownloading http://pypi-mirror.modal.local:5555/simple/urllib3/urllib3-2.3.0-py3-none-any.whl (128 kB)\n",
       "\u001b[0m"
      ]
     },
     "metadata": {},
     "output_type": "display_data"
    },
    {
     "data": {
      "text/html": [
       "<pre style=\"white-space:pre;overflow-x:auto;line-height:normal;font-family:Menlo,'DejaVu Sans Mono',consolas,'Courier New',monospace\"><span style=\"color: #808000; text-decoration-color: #808000\">Installing collected packages: mpmath, urllib3, tqdm, sympy, safetensors, regex, pyyaml, psutil, packaging, nvidia-nvtx-cu12, nvidia-nvjitlink-cu12, nvidia-nccl-cu12, nvidia-curand-cu12, nvidia-cufft-cu12, nvidia-cuda-runtime-cu12, nvidia-cuda-nvrtc-cu12, nvidia-cuda-cupti-cu12, nvidia-cublas-cu12, numpy, networkx, MarkupSafe, fsspec, filelock, charset-normalizer, triton, requests, nvidia-cusparse-cu12, nvidia-cudnn-cu12, jinja2, nvidia-cusolver-cu12, huggingface-hub, torch, tokenizers, transformers, bitsandbytes, accelerate\n",
       "</span></pre>\n"
      ],
      "text/plain": [
       "\u001b[33mInstalling collected packages: mpmath, urllib3, tqdm, sympy, safetensors, regex, pyyaml, psutil, packaging, nvidia-nvtx-cu12, nvidia-nvjitlink-cu12, nvidia-nccl-cu12, nvidia-curand-cu12, nvidia-cufft-cu12, nvidia-cuda-runtime-cu12, nvidia-cuda-nvrtc-cu12, nvidia-cuda-cupti-cu12, nvidia-cublas-cu12, numpy, networkx, MarkupSafe, fsspec, filelock, charset-normalizer, triton, requests, nvidia-cusparse-cu12, nvidia-cudnn-cu12, jinja2, nvidia-cusolver-cu12, huggingface-hub, torch, tokenizers, transformers, bitsandbytes, accelerate\n",
       "\u001b[0m"
      ]
     },
     "metadata": {},
     "output_type": "display_data"
    },
    {
     "data": {
      "text/html": [
       "<pre style=\"white-space:pre;overflow-x:auto;line-height:normal;font-family:Menlo,'DejaVu Sans Mono',consolas,'Courier New',monospace\"><span style=\"color: #808000; text-decoration-color: #808000\">Successfully installed MarkupSafe-3.0.2 accelerate-1.3.0 bitsandbytes-0.45.1 charset-normalizer-3.4.1 filelock-3.17.0 fsspec-2024.12.0 huggingface-hub-0.27.1 jinja2-3.1.5 mpmath-1.3.0 networkx-3.4.2 numpy-2.2.2 nvidia-cublas-cu12-12.4.5.8 nvidia-cuda-cupti-cu12-12.4.127 nvidia-cuda-nvrtc-cu12-12.4.127 nvidia-cuda-runtime-cu12-12.4.127 nvidia-cudnn-cu12-9.1.0.70 nvidia-cufft-cu12-11.2.1.3 nvidia-curand-cu12-10.3.5.147 nvidia-cusolver-cu12-11.6.1.9 nvidia-cusparse-cu12-12.3.1.170 nvidia-nccl-cu12-2.21.5 nvidia-nvjitlink-cu12-12.4.127 nvidia-nvtx-cu12-12.4.127 packaging-24.2 psutil-6.1.1 pyyaml-6.0.2 regex-2024.11.6 requests-2.32.3 safetensors-0.5.2 sympy-1.13.1 tokenizers-0.21.0 torch-2.5.1 tqdm-4.67.1 transformers-4.48.1 triton-3.1.0 urllib3-2.3.0\n",
       "</span></pre>\n"
      ],
      "text/plain": [
       "\u001b[33mSuccessfully installed MarkupSafe-3.0.2 accelerate-1.3.0 bitsandbytes-0.45.1 charset-normalizer-3.4.1 filelock-3.17.0 fsspec-2024.12.0 huggingface-hub-0.27.1 jinja2-3.1.5 mpmath-1.3.0 networkx-3.4.2 numpy-2.2.2 nvidia-cublas-cu12-12.4.5.8 nvidia-cuda-cupti-cu12-12.4.127 nvidia-cuda-nvrtc-cu12-12.4.127 nvidia-cuda-runtime-cu12-12.4.127 nvidia-cudnn-cu12-9.1.0.70 nvidia-cufft-cu12-11.2.1.3 nvidia-curand-cu12-10.3.5.147 nvidia-cusolver-cu12-11.6.1.9 nvidia-cusparse-cu12-12.3.1.170 nvidia-nccl-cu12-2.21.5 nvidia-nvjitlink-cu12-12.4.127 nvidia-nvtx-cu12-12.4.127 packaging-24.2 psutil-6.1.1 pyyaml-6.0.2 regex-2024.11.6 requests-2.32.3 safetensors-0.5.2 sympy-1.13.1 tokenizers-0.21.0 torch-2.5.1 tqdm-4.67.1 transformers-4.48.1 triton-3.1.0 urllib3-2.3.0\n",
       "\u001b[0m"
      ]
     },
     "metadata": {},
     "output_type": "display_data"
    },
    {
     "data": {
      "text/html": [
       "<pre style=\"white-space:pre;overflow-x:auto;line-height:normal;font-family:Menlo,'DejaVu Sans Mono',consolas,'Courier New',monospace\"><span style=\"color: #808000; text-decoration-color: #808000\">Saving image...\n",
       "</span></pre>\n"
      ],
      "text/plain": [
       "\u001b[33mSaving image...\n",
       "\u001b[0m"
      ]
     },
     "metadata": {},
     "output_type": "display_data"
    },
    {
     "data": {
      "text/html": [
       "<pre style=\"white-space:pre;overflow-x:auto;line-height:normal;font-family:Menlo,'DejaVu Sans Mono',consolas,'Courier New',monospace\"><span style=\"color: #808000; text-decoration-color: #808000\">Image saved, took 3.33s\n",
       "</span></pre>\n"
      ],
      "text/plain": [
       "\u001b[33mImage saved, took 3.33s\n",
       "\u001b[0m"
      ]
     },
     "metadata": {},
     "output_type": "display_data"
    },
    {
     "data": {
      "text/html": [
       "<pre style=\"white-space:pre;overflow-x:auto;line-height:normal;font-family:Menlo,'DejaVu Sans Mono',consolas,'Courier New',monospace\"><span style=\"color: #808000; text-decoration-color: #808000\">\n",
       "Built image im-xIOMtBzY4vMhLzblOCBVk1 in 78.87s\n",
       "\n",
       "\n",
       "</span></pre>\n"
      ],
      "text/plain": [
       "\u001b[33m\n",
       "Built image im-xIOMtBzY4vMhLzblOCBVk1 in 78.87s\n",
       "\n",
       "\n",
       "\u001b[0m"
      ]
     },
     "metadata": {},
     "output_type": "display_data"
    },
    {
     "data": {
      "text/html": [
       "<pre style=\"white-space:pre;overflow-x:auto;line-height:normal;font-family:Menlo,'DejaVu Sans Mono',consolas,'Courier New',monospace\"></pre>\n"
      ],
      "text/plain": []
     },
     "metadata": {},
     "output_type": "display_data"
    },
    {
     "data": {
      "text/html": [
       "<pre style=\"white-space:pre;overflow-x:auto;line-height:normal;font-family:Menlo,'DejaVu Sans Mono',consolas,'Courier New',monospace\"><span style=\"color: #008000; text-decoration-color: #008000\">✓</span> Created objects.\n",
       "<span style=\"color: #808080; text-decoration-color: #808080\">├── </span>🔨 Created mount /Users/santhum/projects/llm_engineering/week8/llama.py\n",
       "<span style=\"color: #808080; text-decoration-color: #808080\">├── </span>🔨 Created mount PythonPackage:hello\n",
       "<span style=\"color: #808080; text-decoration-color: #808080\">└── </span>🔨 Created function generate.\n",
       "</pre>\n"
      ],
      "text/plain": [
       "\u001b[32m✓\u001b[0m Created objects.\n",
       "\u001b[38;5;244m├── \u001b[0m🔨 Created mount /Users/santhum/projects/llm_engineering/week8/llama.py\n",
       "\u001b[38;5;244m├── \u001b[0m🔨 Created mount PythonPackage:hello\n",
       "\u001b[38;5;244m└── \u001b[0m🔨 Created function generate.\n"
      ]
     },
     "metadata": {},
     "output_type": "display_data"
    },
    {
     "data": {
      "application/vnd.jupyter.widget-view+json": {
       "model_id": "2654f5637c7d4f45bf47eb7934cb757e",
       "version_major": 2,
       "version_minor": 0
      },
      "text/plain": [
       "Output()"
      ]
     },
     "metadata": {},
     "output_type": "display_data"
    },
    {
     "data": {
      "text/html": [
       "<pre style=\"white-space:pre;overflow-x:auto;line-height:normal;font-family:Menlo,'DejaVu Sans Mono',consolas,'Courier New',monospace\"><span style=\"color: #800000; text-decoration-color: #800000\">\n",
       "</span></pre>\n"
      ],
      "text/plain": [
       "\u001b[31m\n",
       "\u001b[0m"
      ]
     },
     "metadata": {},
     "output_type": "display_data"
    },
    {
     "data": {
      "text/html": [
       "<pre style=\"white-space:pre;overflow-x:auto;line-height:normal;font-family:Menlo,'DejaVu Sans Mono',consolas,'Courier New',monospace\"><span style=\"color: #800000; text-decoration-color: #800000\">\u001b[1ADownloading shards:   0%|          | 0/4 [00:00&lt;?, ?it/s]</span></pre>\n"
      ],
      "text/plain": [
       "\u001b[31m\u001b[1ADownloading shards:   0%|          | 0/4 [00:00<?, ?it/s]\u001b[0m"
      ]
     },
     "metadata": {},
     "output_type": "display_data"
    },
    {
     "data": {
      "text/html": [
       "<pre style=\"white-space:pre;overflow-x:auto;line-height:normal;font-family:Menlo,'DejaVu Sans Mono',consolas,'Courier New',monospace\"><span style=\"color: #800000; text-decoration-color: #800000\">\n",
       "</span></pre>\n"
      ],
      "text/plain": [
       "\u001b[31m\n",
       "\u001b[0m"
      ]
     },
     "metadata": {},
     "output_type": "display_data"
    },
    {
     "data": {
      "text/html": [
       "<pre style=\"white-space:pre;overflow-x:auto;line-height:normal;font-family:Menlo,'DejaVu Sans Mono',consolas,'Courier New',monospace\"><span style=\"color: #800000; text-decoration-color: #800000\">\u001b[1ADownloading shards:  25%|██▌       | 1/4 [01:58&lt;05:55, 118.61s/it]</span></pre>\n"
      ],
      "text/plain": [
       "\u001b[31m\u001b[1ADownloading shards:  25%|██▌       | 1/4 [01:58<05:55, 118.61s/it]\u001b[0m"
      ]
     },
     "metadata": {},
     "output_type": "display_data"
    },
    {
     "data": {
      "text/html": [
       "<pre style=\"white-space:pre;overflow-x:auto;line-height:normal;font-family:Menlo,'DejaVu Sans Mono',consolas,'Courier New',monospace\"><span style=\"color: #800000; text-decoration-color: #800000\">\n",
       "</span></pre>\n"
      ],
      "text/plain": [
       "\u001b[31m\n",
       "\u001b[0m"
      ]
     },
     "metadata": {},
     "output_type": "display_data"
    },
    {
     "data": {
      "text/html": [
       "<pre style=\"white-space:pre;overflow-x:auto;line-height:normal;font-family:Menlo,'DejaVu Sans Mono',consolas,'Courier New',monospace\"><span style=\"color: #800000; text-decoration-color: #800000\">\u001b[1ADownloading shards:  50%|█████     | 2/4 [03:57&lt;03:57, 118.95s/it]</span></pre>\n"
      ],
      "text/plain": [
       "\u001b[31m\u001b[1ADownloading shards:  50%|█████     | 2/4 [03:57<03:57, 118.95s/it]\u001b[0m"
      ]
     },
     "metadata": {},
     "output_type": "display_data"
    },
    {
     "data": {
      "text/html": [
       "<pre style=\"white-space:pre;overflow-x:auto;line-height:normal;font-family:Menlo,'DejaVu Sans Mono',consolas,'Courier New',monospace\"><span style=\"color: #800000; text-decoration-color: #800000\">\n",
       "</span></pre>\n"
      ],
      "text/plain": [
       "\u001b[31m\n",
       "\u001b[0m"
      ]
     },
     "metadata": {},
     "output_type": "display_data"
    },
    {
     "data": {
      "text/html": [
       "<pre style=\"white-space:pre;overflow-x:auto;line-height:normal;font-family:Menlo,'DejaVu Sans Mono',consolas,'Courier New',monospace\"><span style=\"color: #800000; text-decoration-color: #800000\">\u001b[1ADownloading shards:  75%|███████▌  | 3/4 [05:54&lt;01:58, 118.14s/it]\n",
       "</span></pre>\n"
      ],
      "text/plain": [
       "\u001b[31m\u001b[1ADownloading shards:  75%|███████▌  | 3/4 [05:54<01:58, 118.14s/it]\n",
       "\u001b[0m"
      ]
     },
     "metadata": {},
     "output_type": "display_data"
    },
    {
     "data": {
      "text/html": [
       "<pre style=\"white-space:pre;overflow-x:auto;line-height:normal;font-family:Menlo,'DejaVu Sans Mono',consolas,'Courier New',monospace\"><span style=\"color: #800000; text-decoration-color: #800000\">\u001b[1ADownloading shards: 100%|██████████| 4/4 [06:23&lt;00:00, 82.60s/it] Downloading shards: 100%|██████████| 4/4 [06:23&lt;00:00, 95.78s/it]\n",
       "</span></pre>\n"
      ],
      "text/plain": [
       "\u001b[31m\u001b[1ADownloading shards: 100%|██████████| 4/4 [06:23<00:00, 82.60s/it] Downloading shards: 100%|██████████| 4/4 [06:23<00:00, 95.78s/it]\n",
       "\u001b[0m"
      ]
     },
     "metadata": {},
     "output_type": "display_data"
    },
    {
     "data": {
      "text/html": [
       "<pre style=\"white-space:pre;overflow-x:auto;line-height:normal;font-family:Menlo,'DejaVu Sans Mono',consolas,'Courier New',monospace\"><span style=\"color: #800000; text-decoration-color: #800000\">\n",
       "</span></pre>\n"
      ],
      "text/plain": [
       "\u001b[31m\n",
       "\u001b[0m"
      ]
     },
     "metadata": {},
     "output_type": "display_data"
    },
    {
     "data": {
      "text/html": [
       "<pre style=\"white-space:pre;overflow-x:auto;line-height:normal;font-family:Menlo,'DejaVu Sans Mono',consolas,'Courier New',monospace\"><span style=\"color: #800000; text-decoration-color: #800000\">\u001b[1ALoading checkpoint shards:   0%|          | 0/4 [00:00&lt;?, ?it/s]\n",
       "</span></pre>\n"
      ],
      "text/plain": [
       "\u001b[31m\u001b[1ALoading checkpoint shards:   0%|          | 0/4 [00:00<?, ?it/s]\n",
       "\u001b[0m"
      ]
     },
     "metadata": {},
     "output_type": "display_data"
    },
    {
     "data": {
      "text/html": [
       "<pre style=\"white-space:pre;overflow-x:auto;line-height:normal;font-family:Menlo,'DejaVu Sans Mono',consolas,'Courier New',monospace\"><span style=\"color: #800000; text-decoration-color: #800000\">\u001b[1ALoading checkpoint shards:  25%|██▌       | 1/4 [00:06&lt;00:20,  6.84s/it]\n",
       "</span></pre>\n"
      ],
      "text/plain": [
       "\u001b[31m\u001b[1ALoading checkpoint shards:  25%|██▌       | 1/4 [00:06<00:20,  6.84s/it]\n",
       "\u001b[0m"
      ]
     },
     "metadata": {},
     "output_type": "display_data"
    },
    {
     "data": {
      "text/html": [
       "<pre style=\"white-space:pre;overflow-x:auto;line-height:normal;font-family:Menlo,'DejaVu Sans Mono',consolas,'Courier New',monospace\"><span style=\"color: #800000; text-decoration-color: #800000\">\u001b[1ALoading checkpoint shards:  50%|█████     | 2/4 [00:12&lt;00:12,  6.38s/it]</span></pre>\n"
      ],
      "text/plain": [
       "\u001b[31m\u001b[1ALoading checkpoint shards:  50%|█████     | 2/4 [00:12<00:12,  6.38s/it]\u001b[0m"
      ]
     },
     "metadata": {},
     "output_type": "display_data"
    },
    {
     "data": {
      "text/html": [
       "<pre style=\"white-space:pre;overflow-x:auto;line-height:normal;font-family:Menlo,'DejaVu Sans Mono',consolas,'Courier New',monospace\"><span style=\"color: #800000; text-decoration-color: #800000\">\n",
       "</span></pre>\n"
      ],
      "text/plain": [
       "\u001b[31m\n",
       "\u001b[0m"
      ]
     },
     "metadata": {},
     "output_type": "display_data"
    },
    {
     "data": {
      "text/html": [
       "<pre style=\"white-space:pre;overflow-x:auto;line-height:normal;font-family:Menlo,'DejaVu Sans Mono',consolas,'Courier New',monospace\"><span style=\"color: #800000; text-decoration-color: #800000\">\u001b[1ALoading checkpoint shards:  75%|███████▌  | 3/4 [00:18&lt;00:06,  6.05s/it]\n",
       "</span></pre>\n"
      ],
      "text/plain": [
       "\u001b[31m\u001b[1ALoading checkpoint shards:  75%|███████▌  | 3/4 [00:18<00:06,  6.05s/it]\n",
       "\u001b[0m"
      ]
     },
     "metadata": {},
     "output_type": "display_data"
    },
    {
     "data": {
      "text/html": [
       "<pre style=\"white-space:pre;overflow-x:auto;line-height:normal;font-family:Menlo,'DejaVu Sans Mono',consolas,'Courier New',monospace\"><span style=\"color: #800000; text-decoration-color: #800000\">\u001b[1ALoading checkpoint shards: 100%|██████████| 4/4 [00:19&lt;00:00,  4.22s/it]Loading checkpoint shards: 100%|██████████| 4/4 [00:19&lt;00:00,  4.99s/it]\n",
       "</span></pre>\n"
      ],
      "text/plain": [
       "\u001b[31m\u001b[1ALoading checkpoint shards: 100%|██████████| 4/4 [00:19<00:00,  4.22s/it]Loading checkpoint shards: 100%|██████████| 4/4 [00:19<00:00,  4.99s/it]\n",
       "\u001b[0m"
      ]
     },
     "metadata": {},
     "output_type": "display_data"
    },
    {
     "data": {
      "text/html": [
       "<pre style=\"white-space:pre;overflow-x:auto;line-height:normal;font-family:Menlo,'DejaVu Sans Mono',consolas,'Courier New',monospace\"><span style=\"color: #800000; text-decoration-color: #800000\">Setting `pad_token_id` to `eos_token_id`:128001 for open-end generation.\n",
       "</span></pre>\n"
      ],
      "text/plain": [
       "\u001b[31mSetting `pad_token_id` to `eos_token_id`:128001 for open-end generation.\n",
       "\u001b[0m"
      ]
     },
     "metadata": {},
     "output_type": "display_data"
    },
    {
     "data": {
      "text/html": [
       "<pre style=\"white-space:pre;overflow-x:auto;line-height:normal;font-family:Menlo,'DejaVu Sans Mono',consolas,'Courier New',monospace\"></pre>\n"
      ],
      "text/plain": []
     },
     "metadata": {},
     "output_type": "display_data"
    },
    {
     "data": {
      "text/html": [
       "<pre style=\"white-space:pre;overflow-x:auto;line-height:normal;font-family:Menlo,'DejaVu Sans Mono',consolas,'Courier New',monospace\"><span style=\"color: #808000; text-decoration-color: #808000\">Stopping app - local entrypoint completed.\n",
       "</span></pre>\n"
      ],
      "text/plain": [
       "\u001b[33mStopping app - local entrypoint completed.\n",
       "\u001b[0m"
      ]
     },
     "metadata": {},
     "output_type": "display_data"
    },
    {
     "data": {
      "text/html": [
       "<pre style=\"white-space:pre;overflow-x:auto;line-height:normal;font-family:Menlo,'DejaVu Sans Mono',consolas,'Courier New',monospace\"><span style=\"color: #008000; text-decoration-color: #008000\">✓</span> App completed. <span style=\"color: #b2b2b2; text-decoration-color: #b2b2b2\">View run at </span><span style=\"color: #b2b2b2; text-decoration-color: #b2b2b2; text-decoration: underline\">https://modal.com/apps/santoshmaturi99/main/ap-l12rnC5kMnaGd3RERwJMQd</span>\n",
       "</pre>\n"
      ],
      "text/plain": [
       "\u001b[32m✓\u001b[0m App completed. \u001b[38;5;249mView run at \u001b[0m\u001b[4;38;5;249mhttps://modal.com/apps/santoshmaturi99/main/ap-l12rnC5kMnaGd3RERwJMQd\u001b[0m\n"
      ]
     },
     "metadata": {},
     "output_type": "display_data"
    },
    {
     "data": {
      "text/plain": [
       "'<|begin_of_text|>Life is a mystery, everyone must stand alone, I hear you call my name,'"
      ]
     },
     "execution_count": 6,
     "metadata": {},
     "output_type": "execute_result"
    }
   ],
   "source": [
    "with modal.enable_output():\n",
    "    with app.run():\n",
    "        result=generate.remote(\"Life is a mystery, everyone must stand alone, I hear\")\n",
    "result"
   ]
  },
  {
   "cell_type": "code",
   "execution_count": 7,
   "id": "9a9a6844-29ec-4264-8e72-362d976b3968",
   "metadata": {},
   "outputs": [],
   "source": [
    "import modal\n",
    "from pricer_ephemeral import app, price"
   ]
  },
  {
   "cell_type": "code",
   "execution_count": 8,
   "id": "50e6cf99-8959-4ae3-ba02-e325cb7fff94",
   "metadata": {},
   "outputs": [
    {
     "data": {
      "application/vnd.jupyter.widget-view+json": {
       "model_id": "aa53f4820bc1493899496e0fbb2e1643",
       "version_major": 2,
       "version_minor": 0
      },
      "text/plain": [
       "Output()"
      ]
     },
     "metadata": {},
     "output_type": "display_data"
    },
    {
     "data": {
      "text/html": [
       "<pre style=\"white-space:pre;overflow-x:auto;line-height:normal;font-family:Menlo,'DejaVu Sans Mono',consolas,'Courier New',monospace\"><span style=\"color: #008000; text-decoration-color: #008000\">✓</span> Initialized. <span style=\"color: #b2b2b2; text-decoration-color: #b2b2b2\">View run at </span><span style=\"color: #b2b2b2; text-decoration-color: #b2b2b2; text-decoration: underline\">https://modal.com/apps/santoshmaturi99/main/ap-a0WzZpVc4H934TnW2ag70H</span>\n",
       "</pre>\n"
      ],
      "text/plain": [
       "\u001b[32m✓\u001b[0m Initialized. \u001b[38;5;249mView run at \u001b[0m\u001b[4;38;5;249mhttps://modal.com/apps/santoshmaturi99/main/ap-a0WzZpVc4H934TnW2ag70H\u001b[0m\n"
      ]
     },
     "metadata": {},
     "output_type": "display_data"
    },
    {
     "data": {
      "text/html": [
       "<pre style=\"white-space:pre;overflow-x:auto;line-height:normal;font-family:Menlo,'DejaVu Sans Mono',consolas,'Courier New',monospace\"></pre>\n"
      ],
      "text/plain": []
     },
     "metadata": {},
     "output_type": "display_data"
    },
    {
     "data": {
      "application/vnd.jupyter.widget-view+json": {
       "model_id": "6c115bf99fbe4a968acda11acb92fcf9",
       "version_major": 2,
       "version_minor": 0
      },
      "text/plain": [
       "Output()"
      ]
     },
     "metadata": {},
     "output_type": "display_data"
    },
    {
     "data": {
      "text/html": [
       "<pre style=\"white-space:pre;overflow-x:auto;line-height:normal;font-family:Menlo,'DejaVu Sans Mono',consolas,'Courier New',monospace\"><span style=\"color: #808000; text-decoration-color: #808000\">Building image im-XyIG6j8ywtkcvjBFF3LbqS\n",
       "</span></pre>\n"
      ],
      "text/plain": [
       "\u001b[33mBuilding image im-XyIG6j8ywtkcvjBFF3LbqS\n",
       "\u001b[0m"
      ]
     },
     "metadata": {},
     "output_type": "display_data"
    },
    {
     "data": {
      "text/html": [
       "<pre style=\"white-space:pre;overflow-x:auto;line-height:normal;font-family:Menlo,'DejaVu Sans Mono',consolas,'Courier New',monospace\"><span style=\"color: #808000; text-decoration-color: #808000\">\n",
       "=&gt; Step 0: FROM base\n",
       "</span></pre>\n"
      ],
      "text/plain": [
       "\u001b[33m\n",
       "=> Step 0: FROM base\n",
       "\u001b[0m"
      ]
     },
     "metadata": {},
     "output_type": "display_data"
    },
    {
     "data": {
      "text/html": [
       "<pre style=\"white-space:pre;overflow-x:auto;line-height:normal;font-family:Menlo,'DejaVu Sans Mono',consolas,'Courier New',monospace\"><span style=\"color: #808000; text-decoration-color: #808000\">\n",
       "=&gt; Step 1: RUN python -m pip install accelerate bitsandbytes peft torch transformers\n",
       "</span></pre>\n"
      ],
      "text/plain": [
       "\u001b[33m\n",
       "=> Step 1: RUN python -m pip install accelerate bitsandbytes peft torch transformers\n",
       "\u001b[0m"
      ]
     },
     "metadata": {},
     "output_type": "display_data"
    },
    {
     "data": {
      "text/html": [
       "<pre style=\"white-space:pre;overflow-x:auto;line-height:normal;font-family:Menlo,'DejaVu Sans Mono',consolas,'Courier New',monospace\"><span style=\"color: #808000; text-decoration-color: #808000\">Looking in indexes: http://pypi-mirror.modal.local:5555/simple\n",
       "</span></pre>\n"
      ],
      "text/plain": [
       "\u001b[33mLooking in indexes: http://pypi-mirror.modal.local:5555/simple\n",
       "\u001b[0m"
      ]
     },
     "metadata": {},
     "output_type": "display_data"
    },
    {
     "data": {
      "text/html": [
       "<pre style=\"white-space:pre;overflow-x:auto;line-height:normal;font-family:Menlo,'DejaVu Sans Mono',consolas,'Courier New',monospace\"><span style=\"color: #808000; text-decoration-color: #808000\">Collecting accelerate\n",
       "</span></pre>\n"
      ],
      "text/plain": [
       "\u001b[33mCollecting accelerate\n",
       "\u001b[0m"
      ]
     },
     "metadata": {},
     "output_type": "display_data"
    },
    {
     "data": {
      "text/html": [
       "<pre style=\"white-space:pre;overflow-x:auto;line-height:normal;font-family:Menlo,'DejaVu Sans Mono',consolas,'Courier New',monospace\"><span style=\"color: #808000; text-decoration-color: #808000\">  Downloading http://pypi-mirror.modal.local:5555/simple/accelerate/accelerate-1.3.0-py3-none-any.whl.metadata (19 kB)\n",
       "</span></pre>\n"
      ],
      "text/plain": [
       "\u001b[33m  Downloading http://pypi-mirror.modal.local:5555/simple/accelerate/accelerate-1.3.0-py3-none-any.whl.metadata (19 kB)\n",
       "\u001b[0m"
      ]
     },
     "metadata": {},
     "output_type": "display_data"
    },
    {
     "data": {
      "text/html": [
       "<pre style=\"white-space:pre;overflow-x:auto;line-height:normal;font-family:Menlo,'DejaVu Sans Mono',consolas,'Courier New',monospace\"><span style=\"color: #808000; text-decoration-color: #808000\">Collecting bitsandbytes\n",
       "</span></pre>\n"
      ],
      "text/plain": [
       "\u001b[33mCollecting bitsandbytes\n",
       "\u001b[0m"
      ]
     },
     "metadata": {},
     "output_type": "display_data"
    },
    {
     "data": {
      "text/html": [
       "<pre style=\"white-space:pre;overflow-x:auto;line-height:normal;font-family:Menlo,'DejaVu Sans Mono',consolas,'Courier New',monospace\"><span style=\"color: #808000; text-decoration-color: #808000\">  Downloading http://pypi-mirror.modal.local:5555/simple/bitsandbytes/bitsandbytes-0.45.1-py3-none-manylinux_2_24_x86_64.whl.metadata (5.8 kB)\n",
       "</span></pre>\n"
      ],
      "text/plain": [
       "\u001b[33m  Downloading http://pypi-mirror.modal.local:5555/simple/bitsandbytes/bitsandbytes-0.45.1-py3-none-manylinux_2_24_x86_64.whl.metadata (5.8 kB)\n",
       "\u001b[0m"
      ]
     },
     "metadata": {},
     "output_type": "display_data"
    },
    {
     "data": {
      "text/html": [
       "<pre style=\"white-space:pre;overflow-x:auto;line-height:normal;font-family:Menlo,'DejaVu Sans Mono',consolas,'Courier New',monospace\"><span style=\"color: #808000; text-decoration-color: #808000\">Collecting peft\n",
       "</span></pre>\n"
      ],
      "text/plain": [
       "\u001b[33mCollecting peft\n",
       "\u001b[0m"
      ]
     },
     "metadata": {},
     "output_type": "display_data"
    },
    {
     "data": {
      "text/html": [
       "<pre style=\"white-space:pre;overflow-x:auto;line-height:normal;font-family:Menlo,'DejaVu Sans Mono',consolas,'Courier New',monospace\"><span style=\"color: #808000; text-decoration-color: #808000\">  Downloading http://pypi-mirror.modal.local:5555/simple/peft/peft-0.14.0-py3-none-any.whl.metadata (13 kB)\n",
       "</span></pre>\n"
      ],
      "text/plain": [
       "\u001b[33m  Downloading http://pypi-mirror.modal.local:5555/simple/peft/peft-0.14.0-py3-none-any.whl.metadata (13 kB)\n",
       "\u001b[0m"
      ]
     },
     "metadata": {},
     "output_type": "display_data"
    },
    {
     "data": {
      "text/html": [
       "<pre style=\"white-space:pre;overflow-x:auto;line-height:normal;font-family:Menlo,'DejaVu Sans Mono',consolas,'Courier New',monospace\"><span style=\"color: #808000; text-decoration-color: #808000\">Collecting torch\n",
       "</span></pre>\n"
      ],
      "text/plain": [
       "\u001b[33mCollecting torch\n",
       "\u001b[0m"
      ]
     },
     "metadata": {},
     "output_type": "display_data"
    },
    {
     "data": {
      "text/html": [
       "<pre style=\"white-space:pre;overflow-x:auto;line-height:normal;font-family:Menlo,'DejaVu Sans Mono',consolas,'Courier New',monospace\"><span style=\"color: #808000; text-decoration-color: #808000\">  Downloading http://pypi-mirror.modal.local:5555/simple/torch/torch-2.5.1-cp311-cp311-manylinux1_x86_64.whl.metadata (28 kB)\n",
       "</span></pre>\n"
      ],
      "text/plain": [
       "\u001b[33m  Downloading http://pypi-mirror.modal.local:5555/simple/torch/torch-2.5.1-cp311-cp311-manylinux1_x86_64.whl.metadata (28 kB)\n",
       "\u001b[0m"
      ]
     },
     "metadata": {},
     "output_type": "display_data"
    },
    {
     "data": {
      "text/html": [
       "<pre style=\"white-space:pre;overflow-x:auto;line-height:normal;font-family:Menlo,'DejaVu Sans Mono',consolas,'Courier New',monospace\"><span style=\"color: #808000; text-decoration-color: #808000\">Collecting transformers\n",
       "</span></pre>\n"
      ],
      "text/plain": [
       "\u001b[33mCollecting transformers\n",
       "\u001b[0m"
      ]
     },
     "metadata": {},
     "output_type": "display_data"
    },
    {
     "data": {
      "text/html": [
       "<pre style=\"white-space:pre;overflow-x:auto;line-height:normal;font-family:Menlo,'DejaVu Sans Mono',consolas,'Courier New',monospace\"><span style=\"color: #808000; text-decoration-color: #808000\">  Downloading http://pypi-mirror.modal.local:5555/simple/transformers/transformers-4.48.1-py3-none-any.whl.metadata (44 kB)\n",
       "</span></pre>\n"
      ],
      "text/plain": [
       "\u001b[33m  Downloading http://pypi-mirror.modal.local:5555/simple/transformers/transformers-4.48.1-py3-none-any.whl.metadata (44 kB)\n",
       "\u001b[0m"
      ]
     },
     "metadata": {},
     "output_type": "display_data"
    },
    {
     "data": {
      "text/html": [
       "<pre style=\"white-space:pre;overflow-x:auto;line-height:normal;font-family:Menlo,'DejaVu Sans Mono',consolas,'Courier New',monospace\"><span style=\"color: #808000; text-decoration-color: #808000\">Collecting numpy&lt;3.0.0,&gt;=1.17 (from accelerate)\n",
       "</span></pre>\n"
      ],
      "text/plain": [
       "\u001b[33mCollecting numpy<3.0.0,>=1.17 (from accelerate)\n",
       "\u001b[0m"
      ]
     },
     "metadata": {},
     "output_type": "display_data"
    },
    {
     "data": {
      "text/html": [
       "<pre style=\"white-space:pre;overflow-x:auto;line-height:normal;font-family:Menlo,'DejaVu Sans Mono',consolas,'Courier New',monospace\"><span style=\"color: #808000; text-decoration-color: #808000\">  Downloading http://pypi-mirror.modal.local:5555/simple/numpy/numpy-2.2.2-cp311-cp311-manylinux_2_17_x86_64.manylinux2014_x86_64.whl.metadata (62 kB)\n",
       "</span></pre>\n"
      ],
      "text/plain": [
       "\u001b[33m  Downloading http://pypi-mirror.modal.local:5555/simple/numpy/numpy-2.2.2-cp311-cp311-manylinux_2_17_x86_64.manylinux2014_x86_64.whl.metadata (62 kB)\n",
       "\u001b[0m"
      ]
     },
     "metadata": {},
     "output_type": "display_data"
    },
    {
     "data": {
      "text/html": [
       "<pre style=\"white-space:pre;overflow-x:auto;line-height:normal;font-family:Menlo,'DejaVu Sans Mono',consolas,'Courier New',monospace\"><span style=\"color: #808000; text-decoration-color: #808000\">Collecting packaging&gt;=20.0 (from accelerate)\n",
       "</span></pre>\n"
      ],
      "text/plain": [
       "\u001b[33mCollecting packaging>=20.0 (from accelerate)\n",
       "\u001b[0m"
      ]
     },
     "metadata": {},
     "output_type": "display_data"
    },
    {
     "data": {
      "text/html": [
       "<pre style=\"white-space:pre;overflow-x:auto;line-height:normal;font-family:Menlo,'DejaVu Sans Mono',consolas,'Courier New',monospace\"><span style=\"color: #808000; text-decoration-color: #808000\">  Downloading http://pypi-mirror.modal.local:5555/simple/packaging/packaging-24.2-py3-none-any.whl.metadata (3.2 kB)\n",
       "</span></pre>\n"
      ],
      "text/plain": [
       "\u001b[33m  Downloading http://pypi-mirror.modal.local:5555/simple/packaging/packaging-24.2-py3-none-any.whl.metadata (3.2 kB)\n",
       "\u001b[0m"
      ]
     },
     "metadata": {},
     "output_type": "display_data"
    },
    {
     "data": {
      "text/html": [
       "<pre style=\"white-space:pre;overflow-x:auto;line-height:normal;font-family:Menlo,'DejaVu Sans Mono',consolas,'Courier New',monospace\"><span style=\"color: #808000; text-decoration-color: #808000\">Collecting psutil (from accelerate)\n",
       "</span></pre>\n"
      ],
      "text/plain": [
       "\u001b[33mCollecting psutil (from accelerate)\n",
       "\u001b[0m"
      ]
     },
     "metadata": {},
     "output_type": "display_data"
    },
    {
     "data": {
      "text/html": [
       "<pre style=\"white-space:pre;overflow-x:auto;line-height:normal;font-family:Menlo,'DejaVu Sans Mono',consolas,'Courier New',monospace\"><span style=\"color: #808000; text-decoration-color: #808000\">  Downloading http://pypi-mirror.modal.local:5555/simple/psutil/psutil-6.1.1-cp36-abi3-manylinux_2_12_x86_64.manylinux2010_x86_64.manylinux_2_17_x86_64.manylinux2014_x86_64.whl.metadata (22 kB)\n",
       "</span></pre>\n"
      ],
      "text/plain": [
       "\u001b[33m  Downloading http://pypi-mirror.modal.local:5555/simple/psutil/psutil-6.1.1-cp36-abi3-manylinux_2_12_x86_64.manylinux2010_x86_64.manylinux_2_17_x86_64.manylinux2014_x86_64.whl.metadata (22 kB)\n",
       "\u001b[0m"
      ]
     },
     "metadata": {},
     "output_type": "display_data"
    },
    {
     "data": {
      "text/html": [
       "<pre style=\"white-space:pre;overflow-x:auto;line-height:normal;font-family:Menlo,'DejaVu Sans Mono',consolas,'Courier New',monospace\"><span style=\"color: #808000; text-decoration-color: #808000\">Collecting pyyaml (from accelerate)\n",
       "</span></pre>\n"
      ],
      "text/plain": [
       "\u001b[33mCollecting pyyaml (from accelerate)\n",
       "\u001b[0m"
      ]
     },
     "metadata": {},
     "output_type": "display_data"
    },
    {
     "data": {
      "text/html": [
       "<pre style=\"white-space:pre;overflow-x:auto;line-height:normal;font-family:Menlo,'DejaVu Sans Mono',consolas,'Courier New',monospace\"><span style=\"color: #808000; text-decoration-color: #808000\">  Downloading http://pypi-mirror.modal.local:5555/simple/pyyaml/PyYAML-6.0.2-cp311-cp311-manylinux_2_17_x86_64.manylinux2014_x86_64.whl.metadata (2.1 kB)\n",
       "</span></pre>\n"
      ],
      "text/plain": [
       "\u001b[33m  Downloading http://pypi-mirror.modal.local:5555/simple/pyyaml/PyYAML-6.0.2-cp311-cp311-manylinux_2_17_x86_64.manylinux2014_x86_64.whl.metadata (2.1 kB)\n",
       "\u001b[0m"
      ]
     },
     "metadata": {},
     "output_type": "display_data"
    },
    {
     "data": {
      "text/html": [
       "<pre style=\"white-space:pre;overflow-x:auto;line-height:normal;font-family:Menlo,'DejaVu Sans Mono',consolas,'Courier New',monospace\"><span style=\"color: #808000; text-decoration-color: #808000\">Collecting huggingface-hub&gt;=0.21.0 (from accelerate)\n",
       "</span></pre>\n"
      ],
      "text/plain": [
       "\u001b[33mCollecting huggingface-hub>=0.21.0 (from accelerate)\n",
       "\u001b[0m"
      ]
     },
     "metadata": {},
     "output_type": "display_data"
    },
    {
     "data": {
      "text/html": [
       "<pre style=\"white-space:pre;overflow-x:auto;line-height:normal;font-family:Menlo,'DejaVu Sans Mono',consolas,'Courier New',monospace\"><span style=\"color: #808000; text-decoration-color: #808000\">  Downloading http://pypi-mirror.modal.local:5555/simple/huggingface-hub/huggingface_hub-0.27.1-py3-none-any.whl.metadata (13 kB)\n",
       "</span></pre>\n"
      ],
      "text/plain": [
       "\u001b[33m  Downloading http://pypi-mirror.modal.local:5555/simple/huggingface-hub/huggingface_hub-0.27.1-py3-none-any.whl.metadata (13 kB)\n",
       "\u001b[0m"
      ]
     },
     "metadata": {},
     "output_type": "display_data"
    },
    {
     "data": {
      "text/html": [
       "<pre style=\"white-space:pre;overflow-x:auto;line-height:normal;font-family:Menlo,'DejaVu Sans Mono',consolas,'Courier New',monospace\"><span style=\"color: #808000; text-decoration-color: #808000\">Collecting safetensors&gt;=0.4.3 (from accelerate)\n",
       "</span></pre>\n"
      ],
      "text/plain": [
       "\u001b[33mCollecting safetensors>=0.4.3 (from accelerate)\n",
       "\u001b[0m"
      ]
     },
     "metadata": {},
     "output_type": "display_data"
    },
    {
     "data": {
      "text/html": [
       "<pre style=\"white-space:pre;overflow-x:auto;line-height:normal;font-family:Menlo,'DejaVu Sans Mono',consolas,'Courier New',monospace\"><span style=\"color: #808000; text-decoration-color: #808000\">  Downloading http://pypi-mirror.modal.local:5555/simple/safetensors/safetensors-0.5.2-cp38-abi3-manylinux_2_17_x86_64.manylinux2014_x86_64.whl.metadata (3.8 kB)\n",
       "</span></pre>\n"
      ],
      "text/plain": [
       "\u001b[33m  Downloading http://pypi-mirror.modal.local:5555/simple/safetensors/safetensors-0.5.2-cp38-abi3-manylinux_2_17_x86_64.manylinux2014_x86_64.whl.metadata (3.8 kB)\n",
       "\u001b[0m"
      ]
     },
     "metadata": {},
     "output_type": "display_data"
    },
    {
     "data": {
      "text/html": [
       "<pre style=\"white-space:pre;overflow-x:auto;line-height:normal;font-family:Menlo,'DejaVu Sans Mono',consolas,'Courier New',monospace\"><span style=\"color: #808000; text-decoration-color: #808000\">Collecting tqdm (from peft)\n",
       "</span></pre>\n"
      ],
      "text/plain": [
       "\u001b[33mCollecting tqdm (from peft)\n",
       "\u001b[0m"
      ]
     },
     "metadata": {},
     "output_type": "display_data"
    },
    {
     "data": {
      "text/html": [
       "<pre style=\"white-space:pre;overflow-x:auto;line-height:normal;font-family:Menlo,'DejaVu Sans Mono',consolas,'Courier New',monospace\"><span style=\"color: #808000; text-decoration-color: #808000\">  Downloading http://pypi-mirror.modal.local:5555/simple/tqdm/tqdm-4.67.1-py3-none-any.whl.metadata (57 kB)\n",
       "</span></pre>\n"
      ],
      "text/plain": [
       "\u001b[33m  Downloading http://pypi-mirror.modal.local:5555/simple/tqdm/tqdm-4.67.1-py3-none-any.whl.metadata (57 kB)\n",
       "\u001b[0m"
      ]
     },
     "metadata": {},
     "output_type": "display_data"
    },
    {
     "data": {
      "text/html": [
       "<pre style=\"white-space:pre;overflow-x:auto;line-height:normal;font-family:Menlo,'DejaVu Sans Mono',consolas,'Courier New',monospace\"><span style=\"color: #808000; text-decoration-color: #808000\">Collecting filelock (from torch)\n",
       "</span></pre>\n"
      ],
      "text/plain": [
       "\u001b[33mCollecting filelock (from torch)\n",
       "\u001b[0m"
      ]
     },
     "metadata": {},
     "output_type": "display_data"
    },
    {
     "data": {
      "text/html": [
       "<pre style=\"white-space:pre;overflow-x:auto;line-height:normal;font-family:Menlo,'DejaVu Sans Mono',consolas,'Courier New',monospace\"><span style=\"color: #808000; text-decoration-color: #808000\">  Downloading http://pypi-mirror.modal.local:5555/simple/filelock/filelock-3.17.0-py3-none-any.whl.metadata (2.9 kB)\n",
       "Requirement already satisfied: typing-extensions&gt;=4.8.0 in /usr/local/lib/python3.11/site-packages (from torch) (4.12.2)\n",
       "</span></pre>\n"
      ],
      "text/plain": [
       "\u001b[33m  Downloading http://pypi-mirror.modal.local:5555/simple/filelock/filelock-3.17.0-py3-none-any.whl.metadata (2.9 kB)\n",
       "Requirement already satisfied: typing-extensions>=4.8.0 in /usr/local/lib/python3.11/site-packages (from torch) (4.12.2)\n",
       "\u001b[0m"
      ]
     },
     "metadata": {},
     "output_type": "display_data"
    },
    {
     "data": {
      "text/html": [
       "<pre style=\"white-space:pre;overflow-x:auto;line-height:normal;font-family:Menlo,'DejaVu Sans Mono',consolas,'Courier New',monospace\"><span style=\"color: #808000; text-decoration-color: #808000\">Collecting networkx (from torch)\n",
       "</span></pre>\n"
      ],
      "text/plain": [
       "\u001b[33mCollecting networkx (from torch)\n",
       "\u001b[0m"
      ]
     },
     "metadata": {},
     "output_type": "display_data"
    },
    {
     "data": {
      "text/html": [
       "<pre style=\"white-space:pre;overflow-x:auto;line-height:normal;font-family:Menlo,'DejaVu Sans Mono',consolas,'Courier New',monospace\"><span style=\"color: #808000; text-decoration-color: #808000\">  Downloading http://pypi-mirror.modal.local:5555/simple/networkx/networkx-3.4.2-py3-none-any.whl.metadata (6.3 kB)\n",
       "</span></pre>\n"
      ],
      "text/plain": [
       "\u001b[33m  Downloading http://pypi-mirror.modal.local:5555/simple/networkx/networkx-3.4.2-py3-none-any.whl.metadata (6.3 kB)\n",
       "\u001b[0m"
      ]
     },
     "metadata": {},
     "output_type": "display_data"
    },
    {
     "data": {
      "text/html": [
       "<pre style=\"white-space:pre;overflow-x:auto;line-height:normal;font-family:Menlo,'DejaVu Sans Mono',consolas,'Courier New',monospace\"><span style=\"color: #808000; text-decoration-color: #808000\">Collecting jinja2 (from torch)\n",
       "</span></pre>\n"
      ],
      "text/plain": [
       "\u001b[33mCollecting jinja2 (from torch)\n",
       "\u001b[0m"
      ]
     },
     "metadata": {},
     "output_type": "display_data"
    },
    {
     "data": {
      "text/html": [
       "<pre style=\"white-space:pre;overflow-x:auto;line-height:normal;font-family:Menlo,'DejaVu Sans Mono',consolas,'Courier New',monospace\"><span style=\"color: #808000; text-decoration-color: #808000\">  Downloading http://pypi-mirror.modal.local:5555/simple/jinja2/jinja2-3.1.5-py3-none-any.whl.metadata (2.6 kB)\n",
       "</span></pre>\n"
      ],
      "text/plain": [
       "\u001b[33m  Downloading http://pypi-mirror.modal.local:5555/simple/jinja2/jinja2-3.1.5-py3-none-any.whl.metadata (2.6 kB)\n",
       "\u001b[0m"
      ]
     },
     "metadata": {},
     "output_type": "display_data"
    },
    {
     "data": {
      "text/html": [
       "<pre style=\"white-space:pre;overflow-x:auto;line-height:normal;font-family:Menlo,'DejaVu Sans Mono',consolas,'Courier New',monospace\"><span style=\"color: #808000; text-decoration-color: #808000\">Collecting fsspec (from torch)\n",
       "</span></pre>\n"
      ],
      "text/plain": [
       "\u001b[33mCollecting fsspec (from torch)\n",
       "\u001b[0m"
      ]
     },
     "metadata": {},
     "output_type": "display_data"
    },
    {
     "data": {
      "text/html": [
       "<pre style=\"white-space:pre;overflow-x:auto;line-height:normal;font-family:Menlo,'DejaVu Sans Mono',consolas,'Courier New',monospace\"><span style=\"color: #808000; text-decoration-color: #808000\">  Downloading http://pypi-mirror.modal.local:5555/simple/fsspec/fsspec-2024.12.0-py3-none-any.whl.metadata (11 kB)\n",
       "</span></pre>\n"
      ],
      "text/plain": [
       "\u001b[33m  Downloading http://pypi-mirror.modal.local:5555/simple/fsspec/fsspec-2024.12.0-py3-none-any.whl.metadata (11 kB)\n",
       "\u001b[0m"
      ]
     },
     "metadata": {},
     "output_type": "display_data"
    },
    {
     "data": {
      "text/html": [
       "<pre style=\"white-space:pre;overflow-x:auto;line-height:normal;font-family:Menlo,'DejaVu Sans Mono',consolas,'Courier New',monospace\"><span style=\"color: #808000; text-decoration-color: #808000\">Collecting nvidia-cuda-nvrtc-cu12==12.4.127 (from torch)\n",
       "</span></pre>\n"
      ],
      "text/plain": [
       "\u001b[33mCollecting nvidia-cuda-nvrtc-cu12==12.4.127 (from torch)\n",
       "\u001b[0m"
      ]
     },
     "metadata": {},
     "output_type": "display_data"
    },
    {
     "data": {
      "text/html": [
       "<pre style=\"white-space:pre;overflow-x:auto;line-height:normal;font-family:Menlo,'DejaVu Sans Mono',consolas,'Courier New',monospace\"><span style=\"color: #808000; text-decoration-color: #808000\">  Downloading http://pypi-mirror.modal.local:5555/simple/nvidia-cuda-nvrtc-cu12/nvidia_cuda_nvrtc_cu12-12.4.127-py3-none-manylinux2014_x86_64.whl.metadata (1.5 kB)\n",
       "</span></pre>\n"
      ],
      "text/plain": [
       "\u001b[33m  Downloading http://pypi-mirror.modal.local:5555/simple/nvidia-cuda-nvrtc-cu12/nvidia_cuda_nvrtc_cu12-12.4.127-py3-none-manylinux2014_x86_64.whl.metadata (1.5 kB)\n",
       "\u001b[0m"
      ]
     },
     "metadata": {},
     "output_type": "display_data"
    },
    {
     "data": {
      "text/html": [
       "<pre style=\"white-space:pre;overflow-x:auto;line-height:normal;font-family:Menlo,'DejaVu Sans Mono',consolas,'Courier New',monospace\"><span style=\"color: #808000; text-decoration-color: #808000\">Collecting nvidia-cuda-runtime-cu12==12.4.127 (from torch)\n",
       "</span></pre>\n"
      ],
      "text/plain": [
       "\u001b[33mCollecting nvidia-cuda-runtime-cu12==12.4.127 (from torch)\n",
       "\u001b[0m"
      ]
     },
     "metadata": {},
     "output_type": "display_data"
    },
    {
     "data": {
      "text/html": [
       "<pre style=\"white-space:pre;overflow-x:auto;line-height:normal;font-family:Menlo,'DejaVu Sans Mono',consolas,'Courier New',monospace\"><span style=\"color: #808000; text-decoration-color: #808000\">  Downloading http://pypi-mirror.modal.local:5555/simple/nvidia-cuda-runtime-cu12/nvidia_cuda_runtime_cu12-12.4.127-py3-none-manylinux2014_x86_64.whl.metadata (1.5 kB)\n",
       "</span></pre>\n"
      ],
      "text/plain": [
       "\u001b[33m  Downloading http://pypi-mirror.modal.local:5555/simple/nvidia-cuda-runtime-cu12/nvidia_cuda_runtime_cu12-12.4.127-py3-none-manylinux2014_x86_64.whl.metadata (1.5 kB)\n",
       "\u001b[0m"
      ]
     },
     "metadata": {},
     "output_type": "display_data"
    },
    {
     "data": {
      "text/html": [
       "<pre style=\"white-space:pre;overflow-x:auto;line-height:normal;font-family:Menlo,'DejaVu Sans Mono',consolas,'Courier New',monospace\"><span style=\"color: #808000; text-decoration-color: #808000\">Collecting nvidia-cuda-cupti-cu12==12.4.127 (from torch)\n",
       "</span></pre>\n"
      ],
      "text/plain": [
       "\u001b[33mCollecting nvidia-cuda-cupti-cu12==12.4.127 (from torch)\n",
       "\u001b[0m"
      ]
     },
     "metadata": {},
     "output_type": "display_data"
    },
    {
     "data": {
      "text/html": [
       "<pre style=\"white-space:pre;overflow-x:auto;line-height:normal;font-family:Menlo,'DejaVu Sans Mono',consolas,'Courier New',monospace\"><span style=\"color: #808000; text-decoration-color: #808000\">  Downloading http://pypi-mirror.modal.local:5555/simple/nvidia-cuda-cupti-cu12/nvidia_cuda_cupti_cu12-12.4.127-py3-none-manylinux2014_x86_64.whl.metadata (1.6 kB)\n",
       "</span></pre>\n"
      ],
      "text/plain": [
       "\u001b[33m  Downloading http://pypi-mirror.modal.local:5555/simple/nvidia-cuda-cupti-cu12/nvidia_cuda_cupti_cu12-12.4.127-py3-none-manylinux2014_x86_64.whl.metadata (1.6 kB)\n",
       "\u001b[0m"
      ]
     },
     "metadata": {},
     "output_type": "display_data"
    },
    {
     "data": {
      "text/html": [
       "<pre style=\"white-space:pre;overflow-x:auto;line-height:normal;font-family:Menlo,'DejaVu Sans Mono',consolas,'Courier New',monospace\"><span style=\"color: #808000; text-decoration-color: #808000\">Collecting nvidia-cudnn-cu12==9.1.0.70 (from torch)\n",
       "</span></pre>\n"
      ],
      "text/plain": [
       "\u001b[33mCollecting nvidia-cudnn-cu12==9.1.0.70 (from torch)\n",
       "\u001b[0m"
      ]
     },
     "metadata": {},
     "output_type": "display_data"
    },
    {
     "data": {
      "text/html": [
       "<pre style=\"white-space:pre;overflow-x:auto;line-height:normal;font-family:Menlo,'DejaVu Sans Mono',consolas,'Courier New',monospace\"><span style=\"color: #808000; text-decoration-color: #808000\">  Downloading http://pypi-mirror.modal.local:5555/simple/nvidia-cudnn-cu12/nvidia_cudnn_cu12-9.1.0.70-py3-none-manylinux2014_x86_64.whl.metadata (1.6 kB)\n",
       "</span></pre>\n"
      ],
      "text/plain": [
       "\u001b[33m  Downloading http://pypi-mirror.modal.local:5555/simple/nvidia-cudnn-cu12/nvidia_cudnn_cu12-9.1.0.70-py3-none-manylinux2014_x86_64.whl.metadata (1.6 kB)\n",
       "\u001b[0m"
      ]
     },
     "metadata": {},
     "output_type": "display_data"
    },
    {
     "data": {
      "text/html": [
       "<pre style=\"white-space:pre;overflow-x:auto;line-height:normal;font-family:Menlo,'DejaVu Sans Mono',consolas,'Courier New',monospace\"><span style=\"color: #808000; text-decoration-color: #808000\">Collecting nvidia-cublas-cu12==12.4.5.8 (from torch)\n",
       "</span></pre>\n"
      ],
      "text/plain": [
       "\u001b[33mCollecting nvidia-cublas-cu12==12.4.5.8 (from torch)\n",
       "\u001b[0m"
      ]
     },
     "metadata": {},
     "output_type": "display_data"
    },
    {
     "data": {
      "text/html": [
       "<pre style=\"white-space:pre;overflow-x:auto;line-height:normal;font-family:Menlo,'DejaVu Sans Mono',consolas,'Courier New',monospace\"><span style=\"color: #808000; text-decoration-color: #808000\">  Downloading http://pypi-mirror.modal.local:5555/simple/nvidia-cublas-cu12/nvidia_cublas_cu12-12.4.5.8-py3-none-manylinux2014_x86_64.whl.metadata (1.5 kB)\n",
       "</span></pre>\n"
      ],
      "text/plain": [
       "\u001b[33m  Downloading http://pypi-mirror.modal.local:5555/simple/nvidia-cublas-cu12/nvidia_cublas_cu12-12.4.5.8-py3-none-manylinux2014_x86_64.whl.metadata (1.5 kB)\n",
       "\u001b[0m"
      ]
     },
     "metadata": {},
     "output_type": "display_data"
    },
    {
     "data": {
      "text/html": [
       "<pre style=\"white-space:pre;overflow-x:auto;line-height:normal;font-family:Menlo,'DejaVu Sans Mono',consolas,'Courier New',monospace\"><span style=\"color: #808000; text-decoration-color: #808000\">Collecting nvidia-cufft-cu12==11.2.1.3 (from torch)\n",
       "</span></pre>\n"
      ],
      "text/plain": [
       "\u001b[33mCollecting nvidia-cufft-cu12==11.2.1.3 (from torch)\n",
       "\u001b[0m"
      ]
     },
     "metadata": {},
     "output_type": "display_data"
    },
    {
     "data": {
      "text/html": [
       "<pre style=\"white-space:pre;overflow-x:auto;line-height:normal;font-family:Menlo,'DejaVu Sans Mono',consolas,'Courier New',monospace\"><span style=\"color: #808000; text-decoration-color: #808000\">  Downloading http://pypi-mirror.modal.local:5555/simple/nvidia-cufft-cu12/nvidia_cufft_cu12-11.2.1.3-py3-none-manylinux2014_x86_64.whl.metadata (1.5 kB)\n",
       "</span></pre>\n"
      ],
      "text/plain": [
       "\u001b[33m  Downloading http://pypi-mirror.modal.local:5555/simple/nvidia-cufft-cu12/nvidia_cufft_cu12-11.2.1.3-py3-none-manylinux2014_x86_64.whl.metadata (1.5 kB)\n",
       "\u001b[0m"
      ]
     },
     "metadata": {},
     "output_type": "display_data"
    },
    {
     "data": {
      "text/html": [
       "<pre style=\"white-space:pre;overflow-x:auto;line-height:normal;font-family:Menlo,'DejaVu Sans Mono',consolas,'Courier New',monospace\"><span style=\"color: #808000; text-decoration-color: #808000\">Collecting nvidia-curand-cu12==10.3.5.147 (from torch)\n",
       "</span></pre>\n"
      ],
      "text/plain": [
       "\u001b[33mCollecting nvidia-curand-cu12==10.3.5.147 (from torch)\n",
       "\u001b[0m"
      ]
     },
     "metadata": {},
     "output_type": "display_data"
    },
    {
     "data": {
      "text/html": [
       "<pre style=\"white-space:pre;overflow-x:auto;line-height:normal;font-family:Menlo,'DejaVu Sans Mono',consolas,'Courier New',monospace\"><span style=\"color: #808000; text-decoration-color: #808000\">  Downloading http://pypi-mirror.modal.local:5555/simple/nvidia-curand-cu12/nvidia_curand_cu12-10.3.5.147-py3-none-manylinux2014_x86_64.whl.metadata (1.5 kB)\n",
       "</span></pre>\n"
      ],
      "text/plain": [
       "\u001b[33m  Downloading http://pypi-mirror.modal.local:5555/simple/nvidia-curand-cu12/nvidia_curand_cu12-10.3.5.147-py3-none-manylinux2014_x86_64.whl.metadata (1.5 kB)\n",
       "\u001b[0m"
      ]
     },
     "metadata": {},
     "output_type": "display_data"
    },
    {
     "data": {
      "text/html": [
       "<pre style=\"white-space:pre;overflow-x:auto;line-height:normal;font-family:Menlo,'DejaVu Sans Mono',consolas,'Courier New',monospace\"><span style=\"color: #808000; text-decoration-color: #808000\">Collecting nvidia-cusolver-cu12==11.6.1.9 (from torch)\n",
       "</span></pre>\n"
      ],
      "text/plain": [
       "\u001b[33mCollecting nvidia-cusolver-cu12==11.6.1.9 (from torch)\n",
       "\u001b[0m"
      ]
     },
     "metadata": {},
     "output_type": "display_data"
    },
    {
     "data": {
      "text/html": [
       "<pre style=\"white-space:pre;overflow-x:auto;line-height:normal;font-family:Menlo,'DejaVu Sans Mono',consolas,'Courier New',monospace\"><span style=\"color: #808000; text-decoration-color: #808000\">  Downloading http://pypi-mirror.modal.local:5555/simple/nvidia-cusolver-cu12/nvidia_cusolver_cu12-11.6.1.9-py3-none-manylinux2014_x86_64.whl.metadata (1.6 kB)\n",
       "</span></pre>\n"
      ],
      "text/plain": [
       "\u001b[33m  Downloading http://pypi-mirror.modal.local:5555/simple/nvidia-cusolver-cu12/nvidia_cusolver_cu12-11.6.1.9-py3-none-manylinux2014_x86_64.whl.metadata (1.6 kB)\n",
       "\u001b[0m"
      ]
     },
     "metadata": {},
     "output_type": "display_data"
    },
    {
     "data": {
      "text/html": [
       "<pre style=\"white-space:pre;overflow-x:auto;line-height:normal;font-family:Menlo,'DejaVu Sans Mono',consolas,'Courier New',monospace\"><span style=\"color: #808000; text-decoration-color: #808000\">Collecting nvidia-cusparse-cu12==12.3.1.170 (from torch)\n",
       "</span></pre>\n"
      ],
      "text/plain": [
       "\u001b[33mCollecting nvidia-cusparse-cu12==12.3.1.170 (from torch)\n",
       "\u001b[0m"
      ]
     },
     "metadata": {},
     "output_type": "display_data"
    },
    {
     "data": {
      "text/html": [
       "<pre style=\"white-space:pre;overflow-x:auto;line-height:normal;font-family:Menlo,'DejaVu Sans Mono',consolas,'Courier New',monospace\"><span style=\"color: #808000; text-decoration-color: #808000\">  Downloading http://pypi-mirror.modal.local:5555/simple/nvidia-cusparse-cu12/nvidia_cusparse_cu12-12.3.1.170-py3-none-manylinux2014_x86_64.whl.metadata (1.6 kB)\n",
       "</span></pre>\n"
      ],
      "text/plain": [
       "\u001b[33m  Downloading http://pypi-mirror.modal.local:5555/simple/nvidia-cusparse-cu12/nvidia_cusparse_cu12-12.3.1.170-py3-none-manylinux2014_x86_64.whl.metadata (1.6 kB)\n",
       "\u001b[0m"
      ]
     },
     "metadata": {},
     "output_type": "display_data"
    },
    {
     "data": {
      "text/html": [
       "<pre style=\"white-space:pre;overflow-x:auto;line-height:normal;font-family:Menlo,'DejaVu Sans Mono',consolas,'Courier New',monospace\"><span style=\"color: #808000; text-decoration-color: #808000\">Collecting nvidia-nccl-cu12==2.21.5 (from torch)\n",
       "</span></pre>\n"
      ],
      "text/plain": [
       "\u001b[33mCollecting nvidia-nccl-cu12==2.21.5 (from torch)\n",
       "\u001b[0m"
      ]
     },
     "metadata": {},
     "output_type": "display_data"
    },
    {
     "data": {
      "text/html": [
       "<pre style=\"white-space:pre;overflow-x:auto;line-height:normal;font-family:Menlo,'DejaVu Sans Mono',consolas,'Courier New',monospace\"><span style=\"color: #808000; text-decoration-color: #808000\">  Downloading http://pypi-mirror.modal.local:5555/simple/nvidia-nccl-cu12/nvidia_nccl_cu12-2.21.5-py3-none-manylinux2014_x86_64.whl.metadata (1.8 kB)\n",
       "</span></pre>\n"
      ],
      "text/plain": [
       "\u001b[33m  Downloading http://pypi-mirror.modal.local:5555/simple/nvidia-nccl-cu12/nvidia_nccl_cu12-2.21.5-py3-none-manylinux2014_x86_64.whl.metadata (1.8 kB)\n",
       "\u001b[0m"
      ]
     },
     "metadata": {},
     "output_type": "display_data"
    },
    {
     "data": {
      "text/html": [
       "<pre style=\"white-space:pre;overflow-x:auto;line-height:normal;font-family:Menlo,'DejaVu Sans Mono',consolas,'Courier New',monospace\"><span style=\"color: #808000; text-decoration-color: #808000\">Collecting nvidia-nvtx-cu12==12.4.127 (from torch)\n",
       "</span></pre>\n"
      ],
      "text/plain": [
       "\u001b[33mCollecting nvidia-nvtx-cu12==12.4.127 (from torch)\n",
       "\u001b[0m"
      ]
     },
     "metadata": {},
     "output_type": "display_data"
    },
    {
     "data": {
      "text/html": [
       "<pre style=\"white-space:pre;overflow-x:auto;line-height:normal;font-family:Menlo,'DejaVu Sans Mono',consolas,'Courier New',monospace\"><span style=\"color: #808000; text-decoration-color: #808000\">  Downloading http://pypi-mirror.modal.local:5555/simple/nvidia-nvtx-cu12/nvidia_nvtx_cu12-12.4.127-py3-none-manylinux2014_x86_64.whl.metadata (1.7 kB)\n",
       "</span></pre>\n"
      ],
      "text/plain": [
       "\u001b[33m  Downloading http://pypi-mirror.modal.local:5555/simple/nvidia-nvtx-cu12/nvidia_nvtx_cu12-12.4.127-py3-none-manylinux2014_x86_64.whl.metadata (1.7 kB)\n",
       "\u001b[0m"
      ]
     },
     "metadata": {},
     "output_type": "display_data"
    },
    {
     "data": {
      "text/html": [
       "<pre style=\"white-space:pre;overflow-x:auto;line-height:normal;font-family:Menlo,'DejaVu Sans Mono',consolas,'Courier New',monospace\"><span style=\"color: #808000; text-decoration-color: #808000\">Collecting nvidia-nvjitlink-cu12==12.4.127 (from torch)\n",
       "</span></pre>\n"
      ],
      "text/plain": [
       "\u001b[33mCollecting nvidia-nvjitlink-cu12==12.4.127 (from torch)\n",
       "\u001b[0m"
      ]
     },
     "metadata": {},
     "output_type": "display_data"
    },
    {
     "data": {
      "text/html": [
       "<pre style=\"white-space:pre;overflow-x:auto;line-height:normal;font-family:Menlo,'DejaVu Sans Mono',consolas,'Courier New',monospace\"><span style=\"color: #808000; text-decoration-color: #808000\">  Downloading http://pypi-mirror.modal.local:5555/simple/nvidia-nvjitlink-cu12/nvidia_nvjitlink_cu12-12.4.127-py3-none-manylinux2014_x86_64.whl.metadata (1.5 kB)\n",
       "</span></pre>\n"
      ],
      "text/plain": [
       "\u001b[33m  Downloading http://pypi-mirror.modal.local:5555/simple/nvidia-nvjitlink-cu12/nvidia_nvjitlink_cu12-12.4.127-py3-none-manylinux2014_x86_64.whl.metadata (1.5 kB)\n",
       "\u001b[0m"
      ]
     },
     "metadata": {},
     "output_type": "display_data"
    },
    {
     "data": {
      "text/html": [
       "<pre style=\"white-space:pre;overflow-x:auto;line-height:normal;font-family:Menlo,'DejaVu Sans Mono',consolas,'Courier New',monospace\"><span style=\"color: #808000; text-decoration-color: #808000\">Collecting triton==3.1.0 (from torch)\n",
       "</span></pre>\n"
      ],
      "text/plain": [
       "\u001b[33mCollecting triton==3.1.0 (from torch)\n",
       "\u001b[0m"
      ]
     },
     "metadata": {},
     "output_type": "display_data"
    },
    {
     "data": {
      "text/html": [
       "<pre style=\"white-space:pre;overflow-x:auto;line-height:normal;font-family:Menlo,'DejaVu Sans Mono',consolas,'Courier New',monospace\"><span style=\"color: #808000; text-decoration-color: #808000\">  Downloading http://pypi-mirror.modal.local:5555/simple/triton/triton-3.1.0-cp311-cp311-manylinux_2_17_x86_64.manylinux2014_x86_64.whl.metadata (1.3 kB)\n",
       "</span></pre>\n"
      ],
      "text/plain": [
       "\u001b[33m  Downloading http://pypi-mirror.modal.local:5555/simple/triton/triton-3.1.0-cp311-cp311-manylinux_2_17_x86_64.manylinux2014_x86_64.whl.metadata (1.3 kB)\n",
       "\u001b[0m"
      ]
     },
     "metadata": {},
     "output_type": "display_data"
    },
    {
     "data": {
      "text/html": [
       "<pre style=\"white-space:pre;overflow-x:auto;line-height:normal;font-family:Menlo,'DejaVu Sans Mono',consolas,'Courier New',monospace\"><span style=\"color: #808000; text-decoration-color: #808000\">Collecting sympy==1.13.1 (from torch)\n",
       "</span></pre>\n"
      ],
      "text/plain": [
       "\u001b[33mCollecting sympy==1.13.1 (from torch)\n",
       "\u001b[0m"
      ]
     },
     "metadata": {},
     "output_type": "display_data"
    },
    {
     "data": {
      "text/html": [
       "<pre style=\"white-space:pre;overflow-x:auto;line-height:normal;font-family:Menlo,'DejaVu Sans Mono',consolas,'Courier New',monospace\"><span style=\"color: #808000; text-decoration-color: #808000\">  Downloading http://pypi-mirror.modal.local:5555/simple/sympy/sympy-1.13.1-py3-none-any.whl.metadata (12 kB)\n",
       "</span></pre>\n"
      ],
      "text/plain": [
       "\u001b[33m  Downloading http://pypi-mirror.modal.local:5555/simple/sympy/sympy-1.13.1-py3-none-any.whl.metadata (12 kB)\n",
       "\u001b[0m"
      ]
     },
     "metadata": {},
     "output_type": "display_data"
    },
    {
     "data": {
      "text/html": [
       "<pre style=\"white-space:pre;overflow-x:auto;line-height:normal;font-family:Menlo,'DejaVu Sans Mono',consolas,'Courier New',monospace\"><span style=\"color: #808000; text-decoration-color: #808000\">Collecting mpmath&lt;1.4,&gt;=1.1.0 (from sympy==1.13.1-&gt;torch)\n",
       "</span></pre>\n"
      ],
      "text/plain": [
       "\u001b[33mCollecting mpmath<1.4,>=1.1.0 (from sympy==1.13.1->torch)\n",
       "\u001b[0m"
      ]
     },
     "metadata": {},
     "output_type": "display_data"
    },
    {
     "data": {
      "text/html": [
       "<pre style=\"white-space:pre;overflow-x:auto;line-height:normal;font-family:Menlo,'DejaVu Sans Mono',consolas,'Courier New',monospace\"><span style=\"color: #808000; text-decoration-color: #808000\">  Downloading http://pypi-mirror.modal.local:5555/simple/mpmath/mpmath-1.3.0-py3-none-any.whl.metadata (8.6 kB)\n",
       "</span></pre>\n"
      ],
      "text/plain": [
       "\u001b[33m  Downloading http://pypi-mirror.modal.local:5555/simple/mpmath/mpmath-1.3.0-py3-none-any.whl.metadata (8.6 kB)\n",
       "\u001b[0m"
      ]
     },
     "metadata": {},
     "output_type": "display_data"
    },
    {
     "data": {
      "text/html": [
       "<pre style=\"white-space:pre;overflow-x:auto;line-height:normal;font-family:Menlo,'DejaVu Sans Mono',consolas,'Courier New',monospace\"><span style=\"color: #808000; text-decoration-color: #808000\">Collecting regex!=2019.12.17 (from transformers)\n",
       "</span></pre>\n"
      ],
      "text/plain": [
       "\u001b[33mCollecting regex!=2019.12.17 (from transformers)\n",
       "\u001b[0m"
      ]
     },
     "metadata": {},
     "output_type": "display_data"
    },
    {
     "data": {
      "text/html": [
       "<pre style=\"white-space:pre;overflow-x:auto;line-height:normal;font-family:Menlo,'DejaVu Sans Mono',consolas,'Courier New',monospace\"><span style=\"color: #808000; text-decoration-color: #808000\">  Downloading http://pypi-mirror.modal.local:5555/simple/regex/regex-2024.11.6-cp311-cp311-manylinux_2_17_x86_64.manylinux2014_x86_64.whl.metadata (40 kB)\n",
       "</span></pre>\n"
      ],
      "text/plain": [
       "\u001b[33m  Downloading http://pypi-mirror.modal.local:5555/simple/regex/regex-2024.11.6-cp311-cp311-manylinux_2_17_x86_64.manylinux2014_x86_64.whl.metadata (40 kB)\n",
       "\u001b[0m"
      ]
     },
     "metadata": {},
     "output_type": "display_data"
    },
    {
     "data": {
      "text/html": [
       "<pre style=\"white-space:pre;overflow-x:auto;line-height:normal;font-family:Menlo,'DejaVu Sans Mono',consolas,'Courier New',monospace\"><span style=\"color: #808000; text-decoration-color: #808000\">Collecting requests (from transformers)\n",
       "</span></pre>\n"
      ],
      "text/plain": [
       "\u001b[33mCollecting requests (from transformers)\n",
       "\u001b[0m"
      ]
     },
     "metadata": {},
     "output_type": "display_data"
    },
    {
     "data": {
      "text/html": [
       "<pre style=\"white-space:pre;overflow-x:auto;line-height:normal;font-family:Menlo,'DejaVu Sans Mono',consolas,'Courier New',monospace\"><span style=\"color: #808000; text-decoration-color: #808000\">  Downloading http://pypi-mirror.modal.local:5555/simple/requests/requests-2.32.3-py3-none-any.whl.metadata (4.6 kB)\n",
       "</span></pre>\n"
      ],
      "text/plain": [
       "\u001b[33m  Downloading http://pypi-mirror.modal.local:5555/simple/requests/requests-2.32.3-py3-none-any.whl.metadata (4.6 kB)\n",
       "\u001b[0m"
      ]
     },
     "metadata": {},
     "output_type": "display_data"
    },
    {
     "data": {
      "text/html": [
       "<pre style=\"white-space:pre;overflow-x:auto;line-height:normal;font-family:Menlo,'DejaVu Sans Mono',consolas,'Courier New',monospace\"><span style=\"color: #808000; text-decoration-color: #808000\">Collecting tokenizers&lt;0.22,&gt;=0.21 (from transformers)\n",
       "</span></pre>\n"
      ],
      "text/plain": [
       "\u001b[33mCollecting tokenizers<0.22,>=0.21 (from transformers)\n",
       "\u001b[0m"
      ]
     },
     "metadata": {},
     "output_type": "display_data"
    },
    {
     "data": {
      "text/html": [
       "<pre style=\"white-space:pre;overflow-x:auto;line-height:normal;font-family:Menlo,'DejaVu Sans Mono',consolas,'Courier New',monospace\"><span style=\"color: #808000; text-decoration-color: #808000\">  Downloading http://pypi-mirror.modal.local:5555/simple/tokenizers/tokenizers-0.21.0-cp39-abi3-manylinux_2_17_x86_64.manylinux2014_x86_64.whl.metadata (6.7 kB)\n",
       "</span></pre>\n"
      ],
      "text/plain": [
       "\u001b[33m  Downloading http://pypi-mirror.modal.local:5555/simple/tokenizers/tokenizers-0.21.0-cp39-abi3-manylinux_2_17_x86_64.manylinux2014_x86_64.whl.metadata (6.7 kB)\n",
       "\u001b[0m"
      ]
     },
     "metadata": {},
     "output_type": "display_data"
    },
    {
     "data": {
      "text/html": [
       "<pre style=\"white-space:pre;overflow-x:auto;line-height:normal;font-family:Menlo,'DejaVu Sans Mono',consolas,'Courier New',monospace\"><span style=\"color: #808000; text-decoration-color: #808000\">Collecting MarkupSafe&gt;=2.0 (from jinja2-&gt;torch)\n",
       "</span></pre>\n"
      ],
      "text/plain": [
       "\u001b[33mCollecting MarkupSafe>=2.0 (from jinja2->torch)\n",
       "\u001b[0m"
      ]
     },
     "metadata": {},
     "output_type": "display_data"
    },
    {
     "data": {
      "text/html": [
       "<pre style=\"white-space:pre;overflow-x:auto;line-height:normal;font-family:Menlo,'DejaVu Sans Mono',consolas,'Courier New',monospace\"><span style=\"color: #808000; text-decoration-color: #808000\">  Downloading http://pypi-mirror.modal.local:5555/simple/markupsafe/MarkupSafe-3.0.2-cp311-cp311-manylinux_2_17_x86_64.manylinux2014_x86_64.whl.metadata (4.0 kB)\n",
       "</span></pre>\n"
      ],
      "text/plain": [
       "\u001b[33m  Downloading http://pypi-mirror.modal.local:5555/simple/markupsafe/MarkupSafe-3.0.2-cp311-cp311-manylinux_2_17_x86_64.manylinux2014_x86_64.whl.metadata (4.0 kB)\n",
       "\u001b[0m"
      ]
     },
     "metadata": {},
     "output_type": "display_data"
    },
    {
     "data": {
      "text/html": [
       "<pre style=\"white-space:pre;overflow-x:auto;line-height:normal;font-family:Menlo,'DejaVu Sans Mono',consolas,'Courier New',monospace\"><span style=\"color: #808000; text-decoration-color: #808000\">Collecting charset-normalizer&lt;4,&gt;=2 (from requests-&gt;transformers)\n",
       "</span></pre>\n"
      ],
      "text/plain": [
       "\u001b[33mCollecting charset-normalizer<4,>=2 (from requests->transformers)\n",
       "\u001b[0m"
      ]
     },
     "metadata": {},
     "output_type": "display_data"
    },
    {
     "data": {
      "text/html": [
       "<pre style=\"white-space:pre;overflow-x:auto;line-height:normal;font-family:Menlo,'DejaVu Sans Mono',consolas,'Courier New',monospace\"><span style=\"color: #808000; text-decoration-color: #808000\">  Downloading http://pypi-mirror.modal.local:5555/simple/charset-normalizer/charset_normalizer-3.4.1-cp311-cp311-manylinux_2_17_x86_64.manylinux2014_x86_64.whl.metadata (35 kB)\n",
       "</span></pre>\n"
      ],
      "text/plain": [
       "\u001b[33m  Downloading http://pypi-mirror.modal.local:5555/simple/charset-normalizer/charset_normalizer-3.4.1-cp311-cp311-manylinux_2_17_x86_64.manylinux2014_x86_64.whl.metadata (35 kB)\n",
       "\u001b[0m"
      ]
     },
     "metadata": {},
     "output_type": "display_data"
    },
    {
     "data": {
      "text/html": [
       "<pre style=\"white-space:pre;overflow-x:auto;line-height:normal;font-family:Menlo,'DejaVu Sans Mono',consolas,'Courier New',monospace\"><span style=\"color: #808000; text-decoration-color: #808000\">Requirement already satisfied: idna&lt;4,&gt;=2.5 in /usr/local/lib/python3.11/site-packages (from requests-&gt;transformers) (3.10)\n",
       "</span></pre>\n"
      ],
      "text/plain": [
       "\u001b[33mRequirement already satisfied: idna<4,>=2.5 in /usr/local/lib/python3.11/site-packages (from requests->transformers) (3.10)\n",
       "\u001b[0m"
      ]
     },
     "metadata": {},
     "output_type": "display_data"
    },
    {
     "data": {
      "text/html": [
       "<pre style=\"white-space:pre;overflow-x:auto;line-height:normal;font-family:Menlo,'DejaVu Sans Mono',consolas,'Courier New',monospace\"><span style=\"color: #808000; text-decoration-color: #808000\">Collecting urllib3&lt;3,&gt;=1.21.1 (from requests-&gt;transformers)\n",
       "</span></pre>\n"
      ],
      "text/plain": [
       "\u001b[33mCollecting urllib3<3,>=1.21.1 (from requests->transformers)\n",
       "\u001b[0m"
      ]
     },
     "metadata": {},
     "output_type": "display_data"
    },
    {
     "data": {
      "text/html": [
       "<pre style=\"white-space:pre;overflow-x:auto;line-height:normal;font-family:Menlo,'DejaVu Sans Mono',consolas,'Courier New',monospace\"><span style=\"color: #808000; text-decoration-color: #808000\">  Downloading http://pypi-mirror.modal.local:5555/simple/urllib3/urllib3-2.3.0-py3-none-any.whl.metadata (6.5 kB)\n",
       "Requirement already satisfied: certifi&gt;=2017.4.17 in /usr/local/lib/python3.11/site-packages (from requests-&gt;transformers) (2024.8.30)\n",
       "</span></pre>\n"
      ],
      "text/plain": [
       "\u001b[33m  Downloading http://pypi-mirror.modal.local:5555/simple/urllib3/urllib3-2.3.0-py3-none-any.whl.metadata (6.5 kB)\n",
       "Requirement already satisfied: certifi>=2017.4.17 in /usr/local/lib/python3.11/site-packages (from requests->transformers) (2024.8.30)\n",
       "\u001b[0m"
      ]
     },
     "metadata": {},
     "output_type": "display_data"
    },
    {
     "data": {
      "text/html": [
       "<pre style=\"white-space:pre;overflow-x:auto;line-height:normal;font-family:Menlo,'DejaVu Sans Mono',consolas,'Courier New',monospace\"><span style=\"color: #808000; text-decoration-color: #808000\">Downloading http://pypi-mirror.modal.local:5555/simple/accelerate/accelerate-1.3.0-py3-none-any.whl (336 kB)\n",
       "</span></pre>\n"
      ],
      "text/plain": [
       "\u001b[33mDownloading http://pypi-mirror.modal.local:5555/simple/accelerate/accelerate-1.3.0-py3-none-any.whl (336 kB)\n",
       "\u001b[0m"
      ]
     },
     "metadata": {},
     "output_type": "display_data"
    },
    {
     "data": {
      "text/html": [
       "<pre style=\"white-space:pre;overflow-x:auto;line-height:normal;font-family:Menlo,'DejaVu Sans Mono',consolas,'Courier New',monospace\"><span style=\"color: #808000; text-decoration-color: #808000\">Downloading http://pypi-mirror.modal.local:5555/simple/bitsandbytes/bitsandbytes-0.45.1-py3-none-manylinux_2_24_x86_64.whl (69.7 MB)\n",
       "</span></pre>\n"
      ],
      "text/plain": [
       "\u001b[33mDownloading http://pypi-mirror.modal.local:5555/simple/bitsandbytes/bitsandbytes-0.45.1-py3-none-manylinux_2_24_x86_64.whl (69.7 MB)\n",
       "\u001b[0m"
      ]
     },
     "metadata": {},
     "output_type": "display_data"
    },
    {
     "data": {
      "text/html": [
       "<pre style=\"white-space:pre;overflow-x:auto;line-height:normal;font-family:Menlo,'DejaVu Sans Mono',consolas,'Courier New',monospace\"><span style=\"color: #808000; text-decoration-color: #808000\"></span></pre>\n"
      ],
      "text/plain": []
     },
     "metadata": {},
     "output_type": "display_data"
    },
    {
     "data": {
      "text/html": [
       "<pre style=\"white-space:pre;overflow-x:auto;line-height:normal;font-family:Menlo,'DejaVu Sans Mono',consolas,'Courier New',monospace\"><span style=\"color: #808000; text-decoration-color: #808000\">   ━━━━━━━━━━━━━━━━━━━━━━━━━━━━━━━━━━━━━━━━ 69.7/69.7 MB 116.2 MB/s eta 0:00:00\n",
       "</span></pre>\n"
      ],
      "text/plain": [
       "\u001b[33m   ━━━━━━━━━━━━━━━━━━━━━━━━━━━━━━━━━━━━━━━━ 69.7/69.7 MB 116.2 MB/s eta 0:00:00\n",
       "\u001b[0m"
      ]
     },
     "metadata": {},
     "output_type": "display_data"
    },
    {
     "data": {
      "text/html": [
       "<pre style=\"white-space:pre;overflow-x:auto;line-height:normal;font-family:Menlo,'DejaVu Sans Mono',consolas,'Courier New',monospace\"><span style=\"color: #808000; text-decoration-color: #808000\">Downloading http://pypi-mirror.modal.local:5555/simple/peft/peft-0.14.0-py3-none-any.whl (374 kB)\n",
       "</span></pre>\n"
      ],
      "text/plain": [
       "\u001b[33mDownloading http://pypi-mirror.modal.local:5555/simple/peft/peft-0.14.0-py3-none-any.whl (374 kB)\n",
       "\u001b[0m"
      ]
     },
     "metadata": {},
     "output_type": "display_data"
    },
    {
     "data": {
      "text/html": [
       "<pre style=\"white-space:pre;overflow-x:auto;line-height:normal;font-family:Menlo,'DejaVu Sans Mono',consolas,'Courier New',monospace\"><span style=\"color: #808000; text-decoration-color: #808000\">Downloading http://pypi-mirror.modal.local:5555/simple/torch/torch-2.5.1-cp311-cp311-manylinux1_x86_64.whl (906.5 MB)\n",
       "</span></pre>\n"
      ],
      "text/plain": [
       "\u001b[33mDownloading http://pypi-mirror.modal.local:5555/simple/torch/torch-2.5.1-cp311-cp311-manylinux1_x86_64.whl (906.5 MB)\n",
       "\u001b[0m"
      ]
     },
     "metadata": {},
     "output_type": "display_data"
    },
    {
     "data": {
      "text/html": [
       "<pre style=\"white-space:pre;overflow-x:auto;line-height:normal;font-family:Menlo,'DejaVu Sans Mono',consolas,'Courier New',monospace\"><span style=\"color: #808000; text-decoration-color: #808000\"></span></pre>\n"
      ],
      "text/plain": []
     },
     "metadata": {},
     "output_type": "display_data"
    },
    {
     "data": {
      "text/html": [
       "<pre style=\"white-space:pre;overflow-x:auto;line-height:normal;font-family:Menlo,'DejaVu Sans Mono',consolas,'Courier New',monospace\"><span style=\"color: #808000; text-decoration-color: #808000\">   ━━━━━━━━━━━━━━━━━━━━━━━━━━━━━━━━━━━━━━━ 906.5/906.5 MB 147.9 MB/s eta 0:00:00\n",
       "</span></pre>\n"
      ],
      "text/plain": [
       "\u001b[33m   ━━━━━━━━━━━━━━━━━━━━━━━━━━━━━━━━━━━━━━━ 906.5/906.5 MB 147.9 MB/s eta 0:00:00\n",
       "\u001b[0m"
      ]
     },
     "metadata": {},
     "output_type": "display_data"
    },
    {
     "data": {
      "text/html": [
       "<pre style=\"white-space:pre;overflow-x:auto;line-height:normal;font-family:Menlo,'DejaVu Sans Mono',consolas,'Courier New',monospace\"><span style=\"color: #808000; text-decoration-color: #808000\">Downloading http://pypi-mirror.modal.local:5555/simple/nvidia-cublas-cu12/nvidia_cublas_cu12-12.4.5.8-py3-none-manylinux2014_x86_64.whl (363.4 MB)\n",
       "</span></pre>\n"
      ],
      "text/plain": [
       "\u001b[33mDownloading http://pypi-mirror.modal.local:5555/simple/nvidia-cublas-cu12/nvidia_cublas_cu12-12.4.5.8-py3-none-manylinux2014_x86_64.whl (363.4 MB)\n",
       "\u001b[0m"
      ]
     },
     "metadata": {},
     "output_type": "display_data"
    },
    {
     "data": {
      "text/html": [
       "<pre style=\"white-space:pre;overflow-x:auto;line-height:normal;font-family:Menlo,'DejaVu Sans Mono',consolas,'Courier New',monospace\"><span style=\"color: #808000; text-decoration-color: #808000\"></span></pre>\n"
      ],
      "text/plain": []
     },
     "metadata": {},
     "output_type": "display_data"
    },
    {
     "data": {
      "text/html": [
       "<pre style=\"white-space:pre;overflow-x:auto;line-height:normal;font-family:Menlo,'DejaVu Sans Mono',consolas,'Courier New',monospace\"><span style=\"color: #808000; text-decoration-color: #808000\">   ━━━━━━━━━━━━━━━━━━━━━━━━━━━━━━━━━━━━━━━ 363.4/363.4 MB 522.3 MB/s eta 0:00:00\n",
       "</span></pre>\n"
      ],
      "text/plain": [
       "\u001b[33m   ━━━━━━━━━━━━━━━━━━━━━━━━━━━━━━━━━━━━━━━ 363.4/363.4 MB 522.3 MB/s eta 0:00:00\n",
       "\u001b[0m"
      ]
     },
     "metadata": {},
     "output_type": "display_data"
    },
    {
     "data": {
      "text/html": [
       "<pre style=\"white-space:pre;overflow-x:auto;line-height:normal;font-family:Menlo,'DejaVu Sans Mono',consolas,'Courier New',monospace\"><span style=\"color: #808000; text-decoration-color: #808000\">Downloading http://pypi-mirror.modal.local:5555/simple/nvidia-cuda-cupti-cu12/nvidia_cuda_cupti_cu12-12.4.127-py3-none-manylinux2014_x86_64.whl (13.8 MB)\n",
       "</span></pre>\n"
      ],
      "text/plain": [
       "\u001b[33mDownloading http://pypi-mirror.modal.local:5555/simple/nvidia-cuda-cupti-cu12/nvidia_cuda_cupti_cu12-12.4.127-py3-none-manylinux2014_x86_64.whl (13.8 MB)\n",
       "\u001b[0m"
      ]
     },
     "metadata": {},
     "output_type": "display_data"
    },
    {
     "data": {
      "text/html": [
       "<pre style=\"white-space:pre;overflow-x:auto;line-height:normal;font-family:Menlo,'DejaVu Sans Mono',consolas,'Courier New',monospace\"><span style=\"color: #808000; text-decoration-color: #808000\"></span></pre>\n"
      ],
      "text/plain": []
     },
     "metadata": {},
     "output_type": "display_data"
    },
    {
     "data": {
      "text/html": [
       "<pre style=\"white-space:pre;overflow-x:auto;line-height:normal;font-family:Menlo,'DejaVu Sans Mono',consolas,'Courier New',monospace\"><span style=\"color: #808000; text-decoration-color: #808000\">   ━━━━━━━━━━━━━━━━━━━━━━━━━━━━━━━━━━━━━━━━ 13.8/13.8 MB 554.1 MB/s eta 0:00:00\n",
       "</span></pre>\n"
      ],
      "text/plain": [
       "\u001b[33m   ━━━━━━━━━━━━━━━━━━━━━━━━━━━━━━━━━━━━━━━━ 13.8/13.8 MB 554.1 MB/s eta 0:00:00\n",
       "\u001b[0m"
      ]
     },
     "metadata": {},
     "output_type": "display_data"
    },
    {
     "data": {
      "text/html": [
       "<pre style=\"white-space:pre;overflow-x:auto;line-height:normal;font-family:Menlo,'DejaVu Sans Mono',consolas,'Courier New',monospace\"><span style=\"color: #808000; text-decoration-color: #808000\">Downloading http://pypi-mirror.modal.local:5555/simple/nvidia-cuda-nvrtc-cu12/nvidia_cuda_nvrtc_cu12-12.4.127-py3-none-manylinux2014_x86_64.whl (24.6 MB)\n",
       "</span></pre>\n"
      ],
      "text/plain": [
       "\u001b[33mDownloading http://pypi-mirror.modal.local:5555/simple/nvidia-cuda-nvrtc-cu12/nvidia_cuda_nvrtc_cu12-12.4.127-py3-none-manylinux2014_x86_64.whl (24.6 MB)\n",
       "\u001b[0m"
      ]
     },
     "metadata": {},
     "output_type": "display_data"
    },
    {
     "data": {
      "text/html": [
       "<pre style=\"white-space:pre;overflow-x:auto;line-height:normal;font-family:Menlo,'DejaVu Sans Mono',consolas,'Courier New',monospace\"><span style=\"color: #808000; text-decoration-color: #808000\"></span></pre>\n"
      ],
      "text/plain": []
     },
     "metadata": {},
     "output_type": "display_data"
    },
    {
     "data": {
      "text/html": [
       "<pre style=\"white-space:pre;overflow-x:auto;line-height:normal;font-family:Menlo,'DejaVu Sans Mono',consolas,'Courier New',monospace\"><span style=\"color: #808000; text-decoration-color: #808000\">   ━━━━━━━━━━━━━━━━━━━━━━━━━━━━━━━━━━━━━━━━ 24.6/24.6 MB 528.1 MB/s eta 0:00:00\n",
       "</span></pre>\n"
      ],
      "text/plain": [
       "\u001b[33m   ━━━━━━━━━━━━━━━━━━━━━━━━━━━━━━━━━━━━━━━━ 24.6/24.6 MB 528.1 MB/s eta 0:00:00\n",
       "\u001b[0m"
      ]
     },
     "metadata": {},
     "output_type": "display_data"
    },
    {
     "data": {
      "text/html": [
       "<pre style=\"white-space:pre;overflow-x:auto;line-height:normal;font-family:Menlo,'DejaVu Sans Mono',consolas,'Courier New',monospace\"><span style=\"color: #808000; text-decoration-color: #808000\">Downloading http://pypi-mirror.modal.local:5555/simple/nvidia-cuda-runtime-cu12/nvidia_cuda_runtime_cu12-12.4.127-py3-none-manylinux2014_x86_64.whl (883 kB)\n",
       "</span></pre>\n"
      ],
      "text/plain": [
       "\u001b[33mDownloading http://pypi-mirror.modal.local:5555/simple/nvidia-cuda-runtime-cu12/nvidia_cuda_runtime_cu12-12.4.127-py3-none-manylinux2014_x86_64.whl (883 kB)\n",
       "\u001b[0m"
      ]
     },
     "metadata": {},
     "output_type": "display_data"
    },
    {
     "data": {
      "text/html": [
       "<pre style=\"white-space:pre;overflow-x:auto;line-height:normal;font-family:Menlo,'DejaVu Sans Mono',consolas,'Courier New',monospace\"><span style=\"color: #808000; text-decoration-color: #808000\"></span></pre>\n"
      ],
      "text/plain": []
     },
     "metadata": {},
     "output_type": "display_data"
    },
    {
     "data": {
      "text/html": [
       "<pre style=\"white-space:pre;overflow-x:auto;line-height:normal;font-family:Menlo,'DejaVu Sans Mono',consolas,'Courier New',monospace\"><span style=\"color: #808000; text-decoration-color: #808000\">   ━━━━━━━━━━━━━━━━━━━━━━━━━━━━━━━━━━━━━━━ 883.7/883.7 kB 525.8 MB/s eta 0:00:00\n",
       "</span></pre>\n"
      ],
      "text/plain": [
       "\u001b[33m   ━━━━━━━━━━━━━━━━━━━━━━━━━━━━━━━━━━━━━━━ 883.7/883.7 kB 525.8 MB/s eta 0:00:00\n",
       "\u001b[0m"
      ]
     },
     "metadata": {},
     "output_type": "display_data"
    },
    {
     "data": {
      "text/html": [
       "<pre style=\"white-space:pre;overflow-x:auto;line-height:normal;font-family:Menlo,'DejaVu Sans Mono',consolas,'Courier New',monospace\"><span style=\"color: #808000; text-decoration-color: #808000\">Downloading http://pypi-mirror.modal.local:5555/simple/nvidia-cudnn-cu12/nvidia_cudnn_cu12-9.1.0.70-py3-none-manylinux2014_x86_64.whl (664.8 MB)\n",
       "</span></pre>\n"
      ],
      "text/plain": [
       "\u001b[33mDownloading http://pypi-mirror.modal.local:5555/simple/nvidia-cudnn-cu12/nvidia_cudnn_cu12-9.1.0.70-py3-none-manylinux2014_x86_64.whl (664.8 MB)\n",
       "\u001b[0m"
      ]
     },
     "metadata": {},
     "output_type": "display_data"
    },
    {
     "data": {
      "text/html": [
       "<pre style=\"white-space:pre;overflow-x:auto;line-height:normal;font-family:Menlo,'DejaVu Sans Mono',consolas,'Courier New',monospace\"><span style=\"color: #808000; text-decoration-color: #808000\"></span></pre>\n"
      ],
      "text/plain": []
     },
     "metadata": {},
     "output_type": "display_data"
    },
    {
     "data": {
      "text/html": [
       "<pre style=\"white-space:pre;overflow-x:auto;line-height:normal;font-family:Menlo,'DejaVu Sans Mono',consolas,'Courier New',monospace\"><span style=\"color: #808000; text-decoration-color: #808000\">   ━━━━━━━━━━━━━━━━━━━━━━━━━━━━━━━━━━━━━━━ 664.8/664.8 MB 472.4 MB/s eta 0:00:00\n",
       "</span></pre>\n"
      ],
      "text/plain": [
       "\u001b[33m   ━━━━━━━━━━━━━━━━━━━━━━━━━━━━━━━━━━━━━━━ 664.8/664.8 MB 472.4 MB/s eta 0:00:00\n",
       "\u001b[0m"
      ]
     },
     "metadata": {},
     "output_type": "display_data"
    },
    {
     "data": {
      "text/html": [
       "<pre style=\"white-space:pre;overflow-x:auto;line-height:normal;font-family:Menlo,'DejaVu Sans Mono',consolas,'Courier New',monospace\"><span style=\"color: #808000; text-decoration-color: #808000\">Downloading http://pypi-mirror.modal.local:5555/simple/nvidia-cufft-cu12/nvidia_cufft_cu12-11.2.1.3-py3-none-manylinux2014_x86_64.whl (211.5 MB)\n",
       "</span></pre>\n"
      ],
      "text/plain": [
       "\u001b[33mDownloading http://pypi-mirror.modal.local:5555/simple/nvidia-cufft-cu12/nvidia_cufft_cu12-11.2.1.3-py3-none-manylinux2014_x86_64.whl (211.5 MB)\n",
       "\u001b[0m"
      ]
     },
     "metadata": {},
     "output_type": "display_data"
    },
    {
     "data": {
      "text/html": [
       "<pre style=\"white-space:pre;overflow-x:auto;line-height:normal;font-family:Menlo,'DejaVu Sans Mono',consolas,'Courier New',monospace\"><span style=\"color: #808000; text-decoration-color: #808000\"></span></pre>\n"
      ],
      "text/plain": []
     },
     "metadata": {},
     "output_type": "display_data"
    },
    {
     "data": {
      "text/html": [
       "<pre style=\"white-space:pre;overflow-x:auto;line-height:normal;font-family:Menlo,'DejaVu Sans Mono',consolas,'Courier New',monospace\"><span style=\"color: #808000; text-decoration-color: #808000\">   ━━━━━━━━━━━━━━━━━━━━━━━━━━━━━━━━━━━━━━━ 211.5/211.5 MB 482.1 MB/s eta 0:00:00\n",
       "</span></pre>\n"
      ],
      "text/plain": [
       "\u001b[33m   ━━━━━━━━━━━━━━━━━━━━━━━━━━━━━━━━━━━━━━━ 211.5/211.5 MB 482.1 MB/s eta 0:00:00\n",
       "\u001b[0m"
      ]
     },
     "metadata": {},
     "output_type": "display_data"
    },
    {
     "data": {
      "text/html": [
       "<pre style=\"white-space:pre;overflow-x:auto;line-height:normal;font-family:Menlo,'DejaVu Sans Mono',consolas,'Courier New',monospace\"><span style=\"color: #808000; text-decoration-color: #808000\">Downloading http://pypi-mirror.modal.local:5555/simple/nvidia-curand-cu12/nvidia_curand_cu12-10.3.5.147-py3-none-manylinux2014_x86_64.whl (56.3 MB)\n",
       "</span></pre>\n"
      ],
      "text/plain": [
       "\u001b[33mDownloading http://pypi-mirror.modal.local:5555/simple/nvidia-curand-cu12/nvidia_curand_cu12-10.3.5.147-py3-none-manylinux2014_x86_64.whl (56.3 MB)\n",
       "\u001b[0m"
      ]
     },
     "metadata": {},
     "output_type": "display_data"
    },
    {
     "data": {
      "text/html": [
       "<pre style=\"white-space:pre;overflow-x:auto;line-height:normal;font-family:Menlo,'DejaVu Sans Mono',consolas,'Courier New',monospace\"><span style=\"color: #808000; text-decoration-color: #808000\"></span></pre>\n"
      ],
      "text/plain": []
     },
     "metadata": {},
     "output_type": "display_data"
    },
    {
     "data": {
      "text/html": [
       "<pre style=\"white-space:pre;overflow-x:auto;line-height:normal;font-family:Menlo,'DejaVu Sans Mono',consolas,'Courier New',monospace\"><span style=\"color: #808000; text-decoration-color: #808000\">   ━━━━━━━━━━━━━━━━━━━━━━━━━━━━━━━━━━━━━━━━ 56.3/56.3 MB 518.1 MB/s eta 0:00:00\n",
       "</span></pre>\n"
      ],
      "text/plain": [
       "\u001b[33m   ━━━━━━━━━━━━━━━━━━━━━━━━━━━━━━━━━━━━━━━━ 56.3/56.3 MB 518.1 MB/s eta 0:00:00\n",
       "\u001b[0m"
      ]
     },
     "metadata": {},
     "output_type": "display_data"
    },
    {
     "data": {
      "text/html": [
       "<pre style=\"white-space:pre;overflow-x:auto;line-height:normal;font-family:Menlo,'DejaVu Sans Mono',consolas,'Courier New',monospace\"><span style=\"color: #808000; text-decoration-color: #808000\">Downloading http://pypi-mirror.modal.local:5555/simple/nvidia-cusolver-cu12/nvidia_cusolver_cu12-11.6.1.9-py3-none-manylinux2014_x86_64.whl (127.9 MB)\n",
       "</span></pre>\n"
      ],
      "text/plain": [
       "\u001b[33mDownloading http://pypi-mirror.modal.local:5555/simple/nvidia-cusolver-cu12/nvidia_cusolver_cu12-11.6.1.9-py3-none-manylinux2014_x86_64.whl (127.9 MB)\n",
       "\u001b[0m"
      ]
     },
     "metadata": {},
     "output_type": "display_data"
    },
    {
     "data": {
      "text/html": [
       "<pre style=\"white-space:pre;overflow-x:auto;line-height:normal;font-family:Menlo,'DejaVu Sans Mono',consolas,'Courier New',monospace\"><span style=\"color: #808000; text-decoration-color: #808000\"></span></pre>\n"
      ],
      "text/plain": []
     },
     "metadata": {},
     "output_type": "display_data"
    },
    {
     "data": {
      "text/html": [
       "<pre style=\"white-space:pre;overflow-x:auto;line-height:normal;font-family:Menlo,'DejaVu Sans Mono',consolas,'Courier New',monospace\"><span style=\"color: #808000; text-decoration-color: #808000\">   ━━━━━━━━━━━━━━━━━━━━━━━━━━━━━━━━━━━━━━━ 127.9/127.9 MB 531.8 MB/s eta 0:00:00\n",
       "</span></pre>\n"
      ],
      "text/plain": [
       "\u001b[33m   ━━━━━━━━━━━━━━━━━━━━━━━━━━━━━━━━━━━━━━━ 127.9/127.9 MB 531.8 MB/s eta 0:00:00\n",
       "\u001b[0m"
      ]
     },
     "metadata": {},
     "output_type": "display_data"
    },
    {
     "data": {
      "text/html": [
       "<pre style=\"white-space:pre;overflow-x:auto;line-height:normal;font-family:Menlo,'DejaVu Sans Mono',consolas,'Courier New',monospace\"><span style=\"color: #808000; text-decoration-color: #808000\">Downloading http://pypi-mirror.modal.local:5555/simple/nvidia-cusparse-cu12/nvidia_cusparse_cu12-12.3.1.170-py3-none-manylinux2014_x86_64.whl (207.5 MB)\n",
       "</span></pre>\n"
      ],
      "text/plain": [
       "\u001b[33mDownloading http://pypi-mirror.modal.local:5555/simple/nvidia-cusparse-cu12/nvidia_cusparse_cu12-12.3.1.170-py3-none-manylinux2014_x86_64.whl (207.5 MB)\n",
       "\u001b[0m"
      ]
     },
     "metadata": {},
     "output_type": "display_data"
    },
    {
     "data": {
      "text/html": [
       "<pre style=\"white-space:pre;overflow-x:auto;line-height:normal;font-family:Menlo,'DejaVu Sans Mono',consolas,'Courier New',monospace\"><span style=\"color: #808000; text-decoration-color: #808000\"></span></pre>\n"
      ],
      "text/plain": []
     },
     "metadata": {},
     "output_type": "display_data"
    },
    {
     "data": {
      "text/html": [
       "<pre style=\"white-space:pre;overflow-x:auto;line-height:normal;font-family:Menlo,'DejaVu Sans Mono',consolas,'Courier New',monospace\"><span style=\"color: #808000; text-decoration-color: #808000\">   ━━━━━━━━━━━━━━━━━━━━━━━━━━━━━━━━━━━━━━━ 207.5/207.5 MB 543.2 MB/s eta 0:00:00\n",
       "</span></pre>\n"
      ],
      "text/plain": [
       "\u001b[33m   ━━━━━━━━━━━━━━━━━━━━━━━━━━━━━━━━━━━━━━━ 207.5/207.5 MB 543.2 MB/s eta 0:00:00\n",
       "\u001b[0m"
      ]
     },
     "metadata": {},
     "output_type": "display_data"
    },
    {
     "data": {
      "text/html": [
       "<pre style=\"white-space:pre;overflow-x:auto;line-height:normal;font-family:Menlo,'DejaVu Sans Mono',consolas,'Courier New',monospace\"><span style=\"color: #808000; text-decoration-color: #808000\">Downloading http://pypi-mirror.modal.local:5555/simple/nvidia-nccl-cu12/nvidia_nccl_cu12-2.21.5-py3-none-manylinux2014_x86_64.whl (188.7 MB)\n",
       "</span></pre>\n"
      ],
      "text/plain": [
       "\u001b[33mDownloading http://pypi-mirror.modal.local:5555/simple/nvidia-nccl-cu12/nvidia_nccl_cu12-2.21.5-py3-none-manylinux2014_x86_64.whl (188.7 MB)\n",
       "\u001b[0m"
      ]
     },
     "metadata": {},
     "output_type": "display_data"
    },
    {
     "data": {
      "text/html": [
       "<pre style=\"white-space:pre;overflow-x:auto;line-height:normal;font-family:Menlo,'DejaVu Sans Mono',consolas,'Courier New',monospace\"><span style=\"color: #808000; text-decoration-color: #808000\"></span></pre>\n"
      ],
      "text/plain": []
     },
     "metadata": {},
     "output_type": "display_data"
    },
    {
     "data": {
      "text/html": [
       "<pre style=\"white-space:pre;overflow-x:auto;line-height:normal;font-family:Menlo,'DejaVu Sans Mono',consolas,'Courier New',monospace\"><span style=\"color: #808000; text-decoration-color: #808000\">   ━━━━━━━━━━━━━━━━━━━━━━━━━━━━━━━━━━━━━━━ 188.7/188.7 MB 514.9 MB/s eta 0:00:00\n",
       "</span></pre>\n"
      ],
      "text/plain": [
       "\u001b[33m   ━━━━━━━━━━━━━━━━━━━━━━━━━━━━━━━━━━━━━━━ 188.7/188.7 MB 514.9 MB/s eta 0:00:00\n",
       "\u001b[0m"
      ]
     },
     "metadata": {},
     "output_type": "display_data"
    },
    {
     "data": {
      "text/html": [
       "<pre style=\"white-space:pre;overflow-x:auto;line-height:normal;font-family:Menlo,'DejaVu Sans Mono',consolas,'Courier New',monospace\"><span style=\"color: #808000; text-decoration-color: #808000\">Downloading http://pypi-mirror.modal.local:5555/simple/nvidia-nvjitlink-cu12/nvidia_nvjitlink_cu12-12.4.127-py3-none-manylinux2014_x86_64.whl (21.1 MB)\n",
       "</span></pre>\n"
      ],
      "text/plain": [
       "\u001b[33mDownloading http://pypi-mirror.modal.local:5555/simple/nvidia-nvjitlink-cu12/nvidia_nvjitlink_cu12-12.4.127-py3-none-manylinux2014_x86_64.whl (21.1 MB)\n",
       "\u001b[0m"
      ]
     },
     "metadata": {},
     "output_type": "display_data"
    },
    {
     "data": {
      "text/html": [
       "<pre style=\"white-space:pre;overflow-x:auto;line-height:normal;font-family:Menlo,'DejaVu Sans Mono',consolas,'Courier New',monospace\"><span style=\"color: #808000; text-decoration-color: #808000\"></span></pre>\n"
      ],
      "text/plain": []
     },
     "metadata": {},
     "output_type": "display_data"
    },
    {
     "data": {
      "text/html": [
       "<pre style=\"white-space:pre;overflow-x:auto;line-height:normal;font-family:Menlo,'DejaVu Sans Mono',consolas,'Courier New',monospace\"><span style=\"color: #808000; text-decoration-color: #808000\">   ━━━━━━━━━━━━━━━━━━━━━━━━━━━━━━━━━━━━━━━━ 21.1/21.1 MB 566.8 MB/s eta 0:00:00\n",
       "</span></pre>\n"
      ],
      "text/plain": [
       "\u001b[33m   ━━━━━━━━━━━━━━━━━━━━━━━━━━━━━━━━━━━━━━━━ 21.1/21.1 MB 566.8 MB/s eta 0:00:00\n",
       "\u001b[0m"
      ]
     },
     "metadata": {},
     "output_type": "display_data"
    },
    {
     "data": {
      "text/html": [
       "<pre style=\"white-space:pre;overflow-x:auto;line-height:normal;font-family:Menlo,'DejaVu Sans Mono',consolas,'Courier New',monospace\"><span style=\"color: #808000; text-decoration-color: #808000\">Downloading http://pypi-mirror.modal.local:5555/simple/nvidia-nvtx-cu12/nvidia_nvtx_cu12-12.4.127-py3-none-manylinux2014_x86_64.whl (99 kB)\n",
       "</span></pre>\n"
      ],
      "text/plain": [
       "\u001b[33mDownloading http://pypi-mirror.modal.local:5555/simple/nvidia-nvtx-cu12/nvidia_nvtx_cu12-12.4.127-py3-none-manylinux2014_x86_64.whl (99 kB)\n",
       "\u001b[0m"
      ]
     },
     "metadata": {},
     "output_type": "display_data"
    },
    {
     "data": {
      "text/html": [
       "<pre style=\"white-space:pre;overflow-x:auto;line-height:normal;font-family:Menlo,'DejaVu Sans Mono',consolas,'Courier New',monospace\"><span style=\"color: #808000; text-decoration-color: #808000\">Downloading http://pypi-mirror.modal.local:5555/simple/sympy/sympy-1.13.1-py3-none-any.whl (6.2 MB)\n",
       "</span></pre>\n"
      ],
      "text/plain": [
       "\u001b[33mDownloading http://pypi-mirror.modal.local:5555/simple/sympy/sympy-1.13.1-py3-none-any.whl (6.2 MB)\n",
       "\u001b[0m"
      ]
     },
     "metadata": {},
     "output_type": "display_data"
    },
    {
     "data": {
      "text/html": [
       "<pre style=\"white-space:pre;overflow-x:auto;line-height:normal;font-family:Menlo,'DejaVu Sans Mono',consolas,'Courier New',monospace\"><span style=\"color: #808000; text-decoration-color: #808000\"></span></pre>\n"
      ],
      "text/plain": []
     },
     "metadata": {},
     "output_type": "display_data"
    },
    {
     "data": {
      "text/html": [
       "<pre style=\"white-space:pre;overflow-x:auto;line-height:normal;font-family:Menlo,'DejaVu Sans Mono',consolas,'Courier New',monospace\"><span style=\"color: #808000; text-decoration-color: #808000\">   ━━━━━━━━━━━━━━━━━━━━━━━━━━━━━━━━━━━━━━━━ 6.2/6.2 MB 539.7 MB/s eta 0:00:00\n",
       "</span></pre>\n"
      ],
      "text/plain": [
       "\u001b[33m   ━━━━━━━━━━━━━━━━━━━━━━━━━━━━━━━━━━━━━━━━ 6.2/6.2 MB 539.7 MB/s eta 0:00:00\n",
       "\u001b[0m"
      ]
     },
     "metadata": {},
     "output_type": "display_data"
    },
    {
     "data": {
      "text/html": [
       "<pre style=\"white-space:pre;overflow-x:auto;line-height:normal;font-family:Menlo,'DejaVu Sans Mono',consolas,'Courier New',monospace\"><span style=\"color: #808000; text-decoration-color: #808000\">Downloading http://pypi-mirror.modal.local:5555/simple/triton/triton-3.1.0-cp311-cp311-manylinux_2_17_x86_64.manylinux2014_x86_64.whl (209.5 MB)\n",
       "</span></pre>\n"
      ],
      "text/plain": [
       "\u001b[33mDownloading http://pypi-mirror.modal.local:5555/simple/triton/triton-3.1.0-cp311-cp311-manylinux_2_17_x86_64.manylinux2014_x86_64.whl (209.5 MB)\n",
       "\u001b[0m"
      ]
     },
     "metadata": {},
     "output_type": "display_data"
    },
    {
     "data": {
      "text/html": [
       "<pre style=\"white-space:pre;overflow-x:auto;line-height:normal;font-family:Menlo,'DejaVu Sans Mono',consolas,'Courier New',monospace\"><span style=\"color: #808000; text-decoration-color: #808000\"></span></pre>\n"
      ],
      "text/plain": []
     },
     "metadata": {},
     "output_type": "display_data"
    },
    {
     "data": {
      "text/html": [
       "<pre style=\"white-space:pre;overflow-x:auto;line-height:normal;font-family:Menlo,'DejaVu Sans Mono',consolas,'Courier New',monospace\"><span style=\"color: #808000; text-decoration-color: #808000\">   ━━━━━━━━━━━━━━━━━━━━━━━━━━━━━━━━━━━━━━━ 209.5/209.5 MB 127.7 MB/s eta 0:00:00\n",
       "</span></pre>\n"
      ],
      "text/plain": [
       "\u001b[33m   ━━━━━━━━━━━━━━━━━━━━━━━━━━━━━━━━━━━━━━━ 209.5/209.5 MB 127.7 MB/s eta 0:00:00\n",
       "\u001b[0m"
      ]
     },
     "metadata": {},
     "output_type": "display_data"
    },
    {
     "data": {
      "text/html": [
       "<pre style=\"white-space:pre;overflow-x:auto;line-height:normal;font-family:Menlo,'DejaVu Sans Mono',consolas,'Courier New',monospace\"><span style=\"color: #808000; text-decoration-color: #808000\">Downloading http://pypi-mirror.modal.local:5555/simple/transformers/transformers-4.48.1-py3-none-any.whl (9.7 MB)\n",
       "</span></pre>\n"
      ],
      "text/plain": [
       "\u001b[33mDownloading http://pypi-mirror.modal.local:5555/simple/transformers/transformers-4.48.1-py3-none-any.whl (9.7 MB)\n",
       "\u001b[0m"
      ]
     },
     "metadata": {},
     "output_type": "display_data"
    },
    {
     "data": {
      "text/html": [
       "<pre style=\"white-space:pre;overflow-x:auto;line-height:normal;font-family:Menlo,'DejaVu Sans Mono',consolas,'Courier New',monospace\"><span style=\"color: #808000; text-decoration-color: #808000\"></span></pre>\n"
      ],
      "text/plain": []
     },
     "metadata": {},
     "output_type": "display_data"
    },
    {
     "data": {
      "text/html": [
       "<pre style=\"white-space:pre;overflow-x:auto;line-height:normal;font-family:Menlo,'DejaVu Sans Mono',consolas,'Courier New',monospace\"><span style=\"color: #808000; text-decoration-color: #808000\">   ━━━━━━━━━━━━━━━━━━━━━━━━━━━━━━━━━━━━━━━━ 9.7/9.7 MB 495.2 MB/s eta 0:00:00\n",
       "</span></pre>\n"
      ],
      "text/plain": [
       "\u001b[33m   ━━━━━━━━━━━━━━━━━━━━━━━━━━━━━━━━━━━━━━━━ 9.7/9.7 MB 495.2 MB/s eta 0:00:00\n",
       "\u001b[0m"
      ]
     },
     "metadata": {},
     "output_type": "display_data"
    },
    {
     "data": {
      "text/html": [
       "<pre style=\"white-space:pre;overflow-x:auto;line-height:normal;font-family:Menlo,'DejaVu Sans Mono',consolas,'Courier New',monospace\"><span style=\"color: #808000; text-decoration-color: #808000\">Downloading http://pypi-mirror.modal.local:5555/simple/huggingface-hub/huggingface_hub-0.27.1-py3-none-any.whl (450 kB)\n",
       "Downloading http://pypi-mirror.modal.local:5555/simple/fsspec/fsspec-2024.12.0-py3-none-any.whl (183 kB)\n",
       "</span></pre>\n"
      ],
      "text/plain": [
       "\u001b[33mDownloading http://pypi-mirror.modal.local:5555/simple/huggingface-hub/huggingface_hub-0.27.1-py3-none-any.whl (450 kB)\n",
       "Downloading http://pypi-mirror.modal.local:5555/simple/fsspec/fsspec-2024.12.0-py3-none-any.whl (183 kB)\n",
       "\u001b[0m"
      ]
     },
     "metadata": {},
     "output_type": "display_data"
    },
    {
     "data": {
      "text/html": [
       "<pre style=\"white-space:pre;overflow-x:auto;line-height:normal;font-family:Menlo,'DejaVu Sans Mono',consolas,'Courier New',monospace\"><span style=\"color: #808000; text-decoration-color: #808000\">Downloading http://pypi-mirror.modal.local:5555/simple/numpy/numpy-2.2.2-cp311-cp311-manylinux_2_17_x86_64.manylinux2014_x86_64.whl (16.4 MB)\n",
       "</span></pre>\n"
      ],
      "text/plain": [
       "\u001b[33mDownloading http://pypi-mirror.modal.local:5555/simple/numpy/numpy-2.2.2-cp311-cp311-manylinux_2_17_x86_64.manylinux2014_x86_64.whl (16.4 MB)\n",
       "\u001b[0m"
      ]
     },
     "metadata": {},
     "output_type": "display_data"
    },
    {
     "data": {
      "text/html": [
       "<pre style=\"white-space:pre;overflow-x:auto;line-height:normal;font-family:Menlo,'DejaVu Sans Mono',consolas,'Courier New',monospace\"><span style=\"color: #808000; text-decoration-color: #808000\"></span></pre>\n"
      ],
      "text/plain": []
     },
     "metadata": {},
     "output_type": "display_data"
    },
    {
     "data": {
      "text/html": [
       "<pre style=\"white-space:pre;overflow-x:auto;line-height:normal;font-family:Menlo,'DejaVu Sans Mono',consolas,'Courier New',monospace\"><span style=\"color: #808000; text-decoration-color: #808000\">   ━━━━━━━━━━━━━━━━━━━━━━━━━━━━━━━━━━━━━━━━ 16.4/16.4 MB 216.4 MB/s eta 0:00:00\n",
       "</span></pre>\n"
      ],
      "text/plain": [
       "\u001b[33m   ━━━━━━━━━━━━━━━━━━━━━━━━━━━━━━━━━━━━━━━━ 16.4/16.4 MB 216.4 MB/s eta 0:00:00\n",
       "\u001b[0m"
      ]
     },
     "metadata": {},
     "output_type": "display_data"
    },
    {
     "data": {
      "text/html": [
       "<pre style=\"white-space:pre;overflow-x:auto;line-height:normal;font-family:Menlo,'DejaVu Sans Mono',consolas,'Courier New',monospace\"><span style=\"color: #808000; text-decoration-color: #808000\">Downloading http://pypi-mirror.modal.local:5555/simple/packaging/packaging-24.2-py3-none-any.whl (65 kB)\n",
       "Downloading http://pypi-mirror.modal.local:5555/simple/pyyaml/PyYAML-6.0.2-cp311-cp311-manylinux_2_17_x86_64.manylinux2014_x86_64.whl (762 kB)\n",
       "</span></pre>\n"
      ],
      "text/plain": [
       "\u001b[33mDownloading http://pypi-mirror.modal.local:5555/simple/packaging/packaging-24.2-py3-none-any.whl (65 kB)\n",
       "Downloading http://pypi-mirror.modal.local:5555/simple/pyyaml/PyYAML-6.0.2-cp311-cp311-manylinux_2_17_x86_64.manylinux2014_x86_64.whl (762 kB)\n",
       "\u001b[0m"
      ]
     },
     "metadata": {},
     "output_type": "display_data"
    },
    {
     "data": {
      "text/html": [
       "<pre style=\"white-space:pre;overflow-x:auto;line-height:normal;font-family:Menlo,'DejaVu Sans Mono',consolas,'Courier New',monospace\"><span style=\"color: #808000; text-decoration-color: #808000\"></span></pre>\n"
      ],
      "text/plain": []
     },
     "metadata": {},
     "output_type": "display_data"
    },
    {
     "data": {
      "text/html": [
       "<pre style=\"white-space:pre;overflow-x:auto;line-height:normal;font-family:Menlo,'DejaVu Sans Mono',consolas,'Courier New',monospace\"><span style=\"color: #808000; text-decoration-color: #808000\">   ━━━━━━━━━━━━━━━━━━━━━━━━━━━━━━━━━━━━━━━ 763.0/763.0 kB 357.5 MB/s eta 0:00:00\n",
       "</span></pre>\n"
      ],
      "text/plain": [
       "\u001b[33m   ━━━━━━━━━━━━━━━━━━━━━━━━━━━━━━━━━━━━━━━ 763.0/763.0 kB 357.5 MB/s eta 0:00:00\n",
       "\u001b[0m"
      ]
     },
     "metadata": {},
     "output_type": "display_data"
    },
    {
     "data": {
      "text/html": [
       "<pre style=\"white-space:pre;overflow-x:auto;line-height:normal;font-family:Menlo,'DejaVu Sans Mono',consolas,'Courier New',monospace\"><span style=\"color: #808000; text-decoration-color: #808000\">Downloading http://pypi-mirror.modal.local:5555/simple/regex/regex-2024.11.6-cp311-cp311-manylinux_2_17_x86_64.manylinux2014_x86_64.whl (792 kB)\n",
       "</span></pre>\n"
      ],
      "text/plain": [
       "\u001b[33mDownloading http://pypi-mirror.modal.local:5555/simple/regex/regex-2024.11.6-cp311-cp311-manylinux_2_17_x86_64.manylinux2014_x86_64.whl (792 kB)\n",
       "\u001b[0m"
      ]
     },
     "metadata": {},
     "output_type": "display_data"
    },
    {
     "data": {
      "text/html": [
       "<pre style=\"white-space:pre;overflow-x:auto;line-height:normal;font-family:Menlo,'DejaVu Sans Mono',consolas,'Courier New',monospace\"><span style=\"color: #808000; text-decoration-color: #808000\"></span></pre>\n"
      ],
      "text/plain": []
     },
     "metadata": {},
     "output_type": "display_data"
    },
    {
     "data": {
      "text/html": [
       "<pre style=\"white-space:pre;overflow-x:auto;line-height:normal;font-family:Menlo,'DejaVu Sans Mono',consolas,'Courier New',monospace\"><span style=\"color: #808000; text-decoration-color: #808000\">   ━━━━━━━━━━━━━━━━━━━━━━━━━━━━━━━━━━━━━━━ 792.7/792.7 kB 104.6 MB/s eta 0:00:00\n",
       "</span></pre>\n"
      ],
      "text/plain": [
       "\u001b[33m   ━━━━━━━━━━━━━━━━━━━━━━━━━━━━━━━━━━━━━━━ 792.7/792.7 kB 104.6 MB/s eta 0:00:00\n",
       "\u001b[0m"
      ]
     },
     "metadata": {},
     "output_type": "display_data"
    },
    {
     "data": {
      "text/html": [
       "<pre style=\"white-space:pre;overflow-x:auto;line-height:normal;font-family:Menlo,'DejaVu Sans Mono',consolas,'Courier New',monospace\"><span style=\"color: #808000; text-decoration-color: #808000\">Downloading http://pypi-mirror.modal.local:5555/simple/safetensors/safetensors-0.5.2-cp38-abi3-manylinux_2_17_x86_64.manylinux2014_x86_64.whl (461 kB)\n",
       "Downloading http://pypi-mirror.modal.local:5555/simple/tokenizers/tokenizers-0.21.0-cp39-abi3-manylinux_2_17_x86_64.manylinux2014_x86_64.whl (3.0 MB)\n",
       "</span></pre>\n"
      ],
      "text/plain": [
       "\u001b[33mDownloading http://pypi-mirror.modal.local:5555/simple/safetensors/safetensors-0.5.2-cp38-abi3-manylinux_2_17_x86_64.manylinux2014_x86_64.whl (461 kB)\n",
       "Downloading http://pypi-mirror.modal.local:5555/simple/tokenizers/tokenizers-0.21.0-cp39-abi3-manylinux_2_17_x86_64.manylinux2014_x86_64.whl (3.0 MB)\n",
       "\u001b[0m"
      ]
     },
     "metadata": {},
     "output_type": "display_data"
    },
    {
     "data": {
      "text/html": [
       "<pre style=\"white-space:pre;overflow-x:auto;line-height:normal;font-family:Menlo,'DejaVu Sans Mono',consolas,'Courier New',monospace\"><span style=\"color: #808000; text-decoration-color: #808000\"></span></pre>\n"
      ],
      "text/plain": []
     },
     "metadata": {},
     "output_type": "display_data"
    },
    {
     "data": {
      "text/html": [
       "<pre style=\"white-space:pre;overflow-x:auto;line-height:normal;font-family:Menlo,'DejaVu Sans Mono',consolas,'Courier New',monospace\"><span style=\"color: #808000; text-decoration-color: #808000\">   ━━━━━━━━━━━━━━━━━━━━━━━━━━━━━━━━━━━━━━━━ 3.0/3.0 MB 444.2 MB/s eta 0:00:00\n",
       "</span></pre>\n"
      ],
      "text/plain": [
       "\u001b[33m   ━━━━━━━━━━━━━━━━━━━━━━━━━━━━━━━━━━━━━━━━ 3.0/3.0 MB 444.2 MB/s eta 0:00:00\n",
       "\u001b[0m"
      ]
     },
     "metadata": {},
     "output_type": "display_data"
    },
    {
     "data": {
      "text/html": [
       "<pre style=\"white-space:pre;overflow-x:auto;line-height:normal;font-family:Menlo,'DejaVu Sans Mono',consolas,'Courier New',monospace\"><span style=\"color: #808000; text-decoration-color: #808000\">Downloading http://pypi-mirror.modal.local:5555/simple/tqdm/tqdm-4.67.1-py3-none-any.whl (78 kB)\n",
       "Downloading http://pypi-mirror.modal.local:5555/simple/filelock/filelock-3.17.0-py3-none-any.whl (16 kB)\n",
       "Downloading http://pypi-mirror.modal.local:5555/simple/jinja2/jinja2-3.1.5-py3-none-any.whl (134 kB)\n",
       "</span></pre>\n"
      ],
      "text/plain": [
       "\u001b[33mDownloading http://pypi-mirror.modal.local:5555/simple/tqdm/tqdm-4.67.1-py3-none-any.whl (78 kB)\n",
       "Downloading http://pypi-mirror.modal.local:5555/simple/filelock/filelock-3.17.0-py3-none-any.whl (16 kB)\n",
       "Downloading http://pypi-mirror.modal.local:5555/simple/jinja2/jinja2-3.1.5-py3-none-any.whl (134 kB)\n",
       "\u001b[0m"
      ]
     },
     "metadata": {},
     "output_type": "display_data"
    },
    {
     "data": {
      "text/html": [
       "<pre style=\"white-space:pre;overflow-x:auto;line-height:normal;font-family:Menlo,'DejaVu Sans Mono',consolas,'Courier New',monospace\"><span style=\"color: #808000; text-decoration-color: #808000\">Downloading http://pypi-mirror.modal.local:5555/simple/networkx/networkx-3.4.2-py3-none-any.whl (1.7 MB)\n",
       "</span></pre>\n"
      ],
      "text/plain": [
       "\u001b[33mDownloading http://pypi-mirror.modal.local:5555/simple/networkx/networkx-3.4.2-py3-none-any.whl (1.7 MB)\n",
       "\u001b[0m"
      ]
     },
     "metadata": {},
     "output_type": "display_data"
    },
    {
     "data": {
      "text/html": [
       "<pre style=\"white-space:pre;overflow-x:auto;line-height:normal;font-family:Menlo,'DejaVu Sans Mono',consolas,'Courier New',monospace\"><span style=\"color: #808000; text-decoration-color: #808000\"></span></pre>\n"
      ],
      "text/plain": []
     },
     "metadata": {},
     "output_type": "display_data"
    },
    {
     "data": {
      "text/html": [
       "<pre style=\"white-space:pre;overflow-x:auto;line-height:normal;font-family:Menlo,'DejaVu Sans Mono',consolas,'Courier New',monospace\"><span style=\"color: #808000; text-decoration-color: #808000\">   ━━━━━━━━━━━━━━━━━━━━━━━━━━━━━━━━━━━━━━━━ 1.7/1.7 MB 431.3 MB/s eta 0:00:00\n",
       "</span></pre>\n"
      ],
      "text/plain": [
       "\u001b[33m   ━━━━━━━━━━━━━━━━━━━━━━━━━━━━━━━━━━━━━━━━ 1.7/1.7 MB 431.3 MB/s eta 0:00:00\n",
       "\u001b[0m"
      ]
     },
     "metadata": {},
     "output_type": "display_data"
    },
    {
     "data": {
      "text/html": [
       "<pre style=\"white-space:pre;overflow-x:auto;line-height:normal;font-family:Menlo,'DejaVu Sans Mono',consolas,'Courier New',monospace\"><span style=\"color: #808000; text-decoration-color: #808000\">Downloading http://pypi-mirror.modal.local:5555/simple/psutil/psutil-6.1.1-cp36-abi3-manylinux_2_12_x86_64.manylinux2010_x86_64.manylinux_2_17_x86_64.manylinux2014_x86_64.whl (287 kB)\n",
       "Downloading http://pypi-mirror.modal.local:5555/simple/requests/requests-2.32.3-py3-none-any.whl (64 kB)\n",
       "</span></pre>\n"
      ],
      "text/plain": [
       "\u001b[33mDownloading http://pypi-mirror.modal.local:5555/simple/psutil/psutil-6.1.1-cp36-abi3-manylinux_2_12_x86_64.manylinux2010_x86_64.manylinux_2_17_x86_64.manylinux2014_x86_64.whl (287 kB)\n",
       "Downloading http://pypi-mirror.modal.local:5555/simple/requests/requests-2.32.3-py3-none-any.whl (64 kB)\n",
       "\u001b[0m"
      ]
     },
     "metadata": {},
     "output_type": "display_data"
    },
    {
     "data": {
      "text/html": [
       "<pre style=\"white-space:pre;overflow-x:auto;line-height:normal;font-family:Menlo,'DejaVu Sans Mono',consolas,'Courier New',monospace\"><span style=\"color: #808000; text-decoration-color: #808000\">Downloading http://pypi-mirror.modal.local:5555/simple/charset-normalizer/charset_normalizer-3.4.1-cp311-cp311-manylinux_2_17_x86_64.manylinux2014_x86_64.whl (143 kB)\n",
       "</span></pre>\n"
      ],
      "text/plain": [
       "\u001b[33mDownloading http://pypi-mirror.modal.local:5555/simple/charset-normalizer/charset_normalizer-3.4.1-cp311-cp311-manylinux_2_17_x86_64.manylinux2014_x86_64.whl (143 kB)\n",
       "\u001b[0m"
      ]
     },
     "metadata": {},
     "output_type": "display_data"
    },
    {
     "data": {
      "text/html": [
       "<pre style=\"white-space:pre;overflow-x:auto;line-height:normal;font-family:Menlo,'DejaVu Sans Mono',consolas,'Courier New',monospace\"><span style=\"color: #808000; text-decoration-color: #808000\">Downloading http://pypi-mirror.modal.local:5555/simple/markupsafe/MarkupSafe-3.0.2-cp311-cp311-manylinux_2_17_x86_64.manylinux2014_x86_64.whl (23 kB)\n",
       "</span></pre>\n"
      ],
      "text/plain": [
       "\u001b[33mDownloading http://pypi-mirror.modal.local:5555/simple/markupsafe/MarkupSafe-3.0.2-cp311-cp311-manylinux_2_17_x86_64.manylinux2014_x86_64.whl (23 kB)\n",
       "\u001b[0m"
      ]
     },
     "metadata": {},
     "output_type": "display_data"
    },
    {
     "data": {
      "text/html": [
       "<pre style=\"white-space:pre;overflow-x:auto;line-height:normal;font-family:Menlo,'DejaVu Sans Mono',consolas,'Courier New',monospace\"><span style=\"color: #808000; text-decoration-color: #808000\">Downloading http://pypi-mirror.modal.local:5555/simple/mpmath/mpmath-1.3.0-py3-none-any.whl (536 kB)\n",
       "</span></pre>\n"
      ],
      "text/plain": [
       "\u001b[33mDownloading http://pypi-mirror.modal.local:5555/simple/mpmath/mpmath-1.3.0-py3-none-any.whl (536 kB)\n",
       "\u001b[0m"
      ]
     },
     "metadata": {},
     "output_type": "display_data"
    },
    {
     "data": {
      "text/html": [
       "<pre style=\"white-space:pre;overflow-x:auto;line-height:normal;font-family:Menlo,'DejaVu Sans Mono',consolas,'Courier New',monospace\"><span style=\"color: #808000; text-decoration-color: #808000\">   ━━━━━━━━━━━━━━━━━━━━━━━━━━━━━━━━━━━━━━━ 536.2/536.2 kB 499.1 MB/s eta 0:00:00\n",
       "Downloading http://pypi-mirror.modal.local:5555/simple/urllib3/urllib3-2.3.0-py3-none-any.whl (128 kB)\n",
       "</span></pre>\n"
      ],
      "text/plain": [
       "\u001b[33m   ━━━━━━━━━━━━━━━━━━━━━━━━━━━━━━━━━━━━━━━ 536.2/536.2 kB 499.1 MB/s eta 0:00:00\n",
       "Downloading http://pypi-mirror.modal.local:5555/simple/urllib3/urllib3-2.3.0-py3-none-any.whl (128 kB)\n",
       "\u001b[0m"
      ]
     },
     "metadata": {},
     "output_type": "display_data"
    },
    {
     "data": {
      "text/html": [
       "<pre style=\"white-space:pre;overflow-x:auto;line-height:normal;font-family:Menlo,'DejaVu Sans Mono',consolas,'Courier New',monospace\"><span style=\"color: #808000; text-decoration-color: #808000\">Installing collected packages: mpmath, urllib3, tqdm, sympy, safetensors, regex, pyyaml, psutil, packaging, nvidia-nvtx-cu12, nvidia-nvjitlink-cu12, nvidia-nccl-cu12, nvidia-curand-cu12, nvidia-cufft-cu12, nvidia-cuda-runtime-cu12, nvidia-cuda-nvrtc-cu12, nvidia-cuda-cupti-cu12, nvidia-cublas-cu12, numpy, networkx, MarkupSafe, fsspec, filelock, charset-normalizer, triton, requests, nvidia-cusparse-cu12, nvidia-cudnn-cu12, jinja2, nvidia-cusolver-cu12, huggingface-hub, torch, tokenizers, transformers, bitsandbytes, accelerate, peft\n",
       "</span></pre>\n"
      ],
      "text/plain": [
       "\u001b[33mInstalling collected packages: mpmath, urllib3, tqdm, sympy, safetensors, regex, pyyaml, psutil, packaging, nvidia-nvtx-cu12, nvidia-nvjitlink-cu12, nvidia-nccl-cu12, nvidia-curand-cu12, nvidia-cufft-cu12, nvidia-cuda-runtime-cu12, nvidia-cuda-nvrtc-cu12, nvidia-cuda-cupti-cu12, nvidia-cublas-cu12, numpy, networkx, MarkupSafe, fsspec, filelock, charset-normalizer, triton, requests, nvidia-cusparse-cu12, nvidia-cudnn-cu12, jinja2, nvidia-cusolver-cu12, huggingface-hub, torch, tokenizers, transformers, bitsandbytes, accelerate, peft\n",
       "\u001b[0m"
      ]
     },
     "metadata": {},
     "output_type": "display_data"
    },
    {
     "data": {
      "text/html": [
       "<pre style=\"white-space:pre;overflow-x:auto;line-height:normal;font-family:Menlo,'DejaVu Sans Mono',consolas,'Courier New',monospace\"><span style=\"color: #808000; text-decoration-color: #808000\">Successfully installed MarkupSafe-3.0.2 accelerate-1.3.0 bitsandbytes-0.45.1 charset-normalizer-3.4.1 filelock-3.17.0 fsspec-2024.12.0 huggingface-hub-0.27.1 jinja2-3.1.5 mpmath-1.3.0 networkx-3.4.2 numpy-2.2.2 nvidia-cublas-cu12-12.4.5.8 nvidia-cuda-cupti-cu12-12.4.127 nvidia-cuda-nvrtc-cu12-12.4.127 nvidia-cuda-runtime-cu12-12.4.127 nvidia-cudnn-cu12-9.1.0.70 nvidia-cufft-cu12-11.2.1.3 nvidia-curand-cu12-10.3.5.147 nvidia-cusolver-cu12-11.6.1.9 nvidia-cusparse-cu12-12.3.1.170 nvidia-nccl-cu12-2.21.5 nvidia-nvjitlink-cu12-12.4.127 nvidia-nvtx-cu12-12.4.127 packaging-24.2 peft-0.14.0 psutil-6.1.1 pyyaml-6.0.2 regex-2024.11.6 requests-2.32.3 safetensors-0.5.2 sympy-1.13.1 tokenizers-0.21.0 torch-2.5.1 tqdm-4.67.1 transformers-4.48.1 triton-3.1.0 urllib3-2.3.0\n",
       "</span></pre>\n"
      ],
      "text/plain": [
       "\u001b[33mSuccessfully installed MarkupSafe-3.0.2 accelerate-1.3.0 bitsandbytes-0.45.1 charset-normalizer-3.4.1 filelock-3.17.0 fsspec-2024.12.0 huggingface-hub-0.27.1 jinja2-3.1.5 mpmath-1.3.0 networkx-3.4.2 numpy-2.2.2 nvidia-cublas-cu12-12.4.5.8 nvidia-cuda-cupti-cu12-12.4.127 nvidia-cuda-nvrtc-cu12-12.4.127 nvidia-cuda-runtime-cu12-12.4.127 nvidia-cudnn-cu12-9.1.0.70 nvidia-cufft-cu12-11.2.1.3 nvidia-curand-cu12-10.3.5.147 nvidia-cusolver-cu12-11.6.1.9 nvidia-cusparse-cu12-12.3.1.170 nvidia-nccl-cu12-2.21.5 nvidia-nvjitlink-cu12-12.4.127 nvidia-nvtx-cu12-12.4.127 packaging-24.2 peft-0.14.0 psutil-6.1.1 pyyaml-6.0.2 regex-2024.11.6 requests-2.32.3 safetensors-0.5.2 sympy-1.13.1 tokenizers-0.21.0 torch-2.5.1 tqdm-4.67.1 transformers-4.48.1 triton-3.1.0 urllib3-2.3.0\n",
       "\u001b[0m"
      ]
     },
     "metadata": {},
     "output_type": "display_data"
    },
    {
     "data": {
      "text/html": [
       "<pre style=\"white-space:pre;overflow-x:auto;line-height:normal;font-family:Menlo,'DejaVu Sans Mono',consolas,'Courier New',monospace\"><span style=\"color: #808000; text-decoration-color: #808000\">Saving image...\n",
       "</span></pre>\n"
      ],
      "text/plain": [
       "\u001b[33mSaving image...\n",
       "\u001b[0m"
      ]
     },
     "metadata": {},
     "output_type": "display_data"
    },
    {
     "data": {
      "text/html": [
       "<pre style=\"white-space:pre;overflow-x:auto;line-height:normal;font-family:Menlo,'DejaVu Sans Mono',consolas,'Courier New',monospace\"><span style=\"color: #808000; text-decoration-color: #808000\">Image saved, took 3.37s\n",
       "</span></pre>\n"
      ],
      "text/plain": [
       "\u001b[33mImage saved, took 3.37s\n",
       "\u001b[0m"
      ]
     },
     "metadata": {},
     "output_type": "display_data"
    },
    {
     "data": {
      "text/html": [
       "<pre style=\"white-space:pre;overflow-x:auto;line-height:normal;font-family:Menlo,'DejaVu Sans Mono',consolas,'Courier New',monospace\"><span style=\"color: #808000; text-decoration-color: #808000\">\n",
       "Built image im-XyIG6j8ywtkcvjBFF3LbqS in 73.75s\n",
       "\n",
       "\n",
       "</span></pre>\n"
      ],
      "text/plain": [
       "\u001b[33m\n",
       "Built image im-XyIG6j8ywtkcvjBFF3LbqS in 73.75s\n",
       "\n",
       "\n",
       "\u001b[0m"
      ]
     },
     "metadata": {},
     "output_type": "display_data"
    },
    {
     "data": {
      "text/html": [
       "<pre style=\"white-space:pre;overflow-x:auto;line-height:normal;font-family:Menlo,'DejaVu Sans Mono',consolas,'Courier New',monospace\"></pre>\n"
      ],
      "text/plain": []
     },
     "metadata": {},
     "output_type": "display_data"
    },
    {
     "data": {
      "text/html": [
       "<pre style=\"white-space:pre;overflow-x:auto;line-height:normal;font-family:Menlo,'DejaVu Sans Mono',consolas,'Courier New',monospace\"><span style=\"color: #008000; text-decoration-color: #008000\">✓</span> Created objects.\n",
       "<span style=\"color: #808080; text-decoration-color: #808080\">├── </span>🔨 Created mount PythonPackage:llama\n",
       "<span style=\"color: #808080; text-decoration-color: #808080\">├── </span>🔨 Created mount /Users/santhum/projects/llm_engineering/week8/pricer_ephemeral.py\n",
       "<span style=\"color: #808080; text-decoration-color: #808080\">├── </span>🔨 Created mount PythonPackage:hello\n",
       "<span style=\"color: #808080; text-decoration-color: #808080\">└── </span>🔨 Created function price.\n",
       "</pre>\n"
      ],
      "text/plain": [
       "\u001b[32m✓\u001b[0m Created objects.\n",
       "\u001b[38;5;244m├── \u001b[0m🔨 Created mount PythonPackage:llama\n",
       "\u001b[38;5;244m├── \u001b[0m🔨 Created mount /Users/santhum/projects/llm_engineering/week8/pricer_ephemeral.py\n",
       "\u001b[38;5;244m├── \u001b[0m🔨 Created mount PythonPackage:hello\n",
       "\u001b[38;5;244m└── \u001b[0m🔨 Created function price.\n"
      ]
     },
     "metadata": {},
     "output_type": "display_data"
    },
    {
     "data": {
      "application/vnd.jupyter.widget-view+json": {
       "model_id": "8cc0baa1aa09457983dfb2182e0bd5d3",
       "version_major": 2,
       "version_minor": 0
      },
      "text/plain": [
       "Output()"
      ]
     },
     "metadata": {},
     "output_type": "display_data"
    },
    {
     "data": {
      "text/html": [
       "<pre style=\"white-space:pre;overflow-x:auto;line-height:normal;font-family:Menlo,'DejaVu Sans Mono',consolas,'Courier New',monospace\"><span style=\"color: #800000; text-decoration-color: #800000\">\n",
       "</span></pre>\n"
      ],
      "text/plain": [
       "\u001b[31m\n",
       "\u001b[0m"
      ]
     },
     "metadata": {},
     "output_type": "display_data"
    },
    {
     "data": {
      "text/html": [
       "<pre style=\"white-space:pre;overflow-x:auto;line-height:normal;font-family:Menlo,'DejaVu Sans Mono',consolas,'Courier New',monospace\"><span style=\"color: #800000; text-decoration-color: #800000\">\u001b[1ADownloading shards:   0%|          | 0/4 [00:00&lt;?, ?it/s]</span></pre>\n"
      ],
      "text/plain": [
       "\u001b[31m\u001b[1ADownloading shards:   0%|          | 0/4 [00:00<?, ?it/s]\u001b[0m"
      ]
     },
     "metadata": {},
     "output_type": "display_data"
    },
    {
     "data": {
      "text/html": [
       "<pre style=\"white-space:pre;overflow-x:auto;line-height:normal;font-family:Menlo,'DejaVu Sans Mono',consolas,'Courier New',monospace\"><span style=\"color: #800000; text-decoration-color: #800000\">\n",
       "</span></pre>\n"
      ],
      "text/plain": [
       "\u001b[31m\n",
       "\u001b[0m"
      ]
     },
     "metadata": {},
     "output_type": "display_data"
    },
    {
     "data": {
      "text/html": [
       "<pre style=\"white-space:pre;overflow-x:auto;line-height:normal;font-family:Menlo,'DejaVu Sans Mono',consolas,'Courier New',monospace\"><span style=\"color: #800000; text-decoration-color: #800000\">\u001b[1ADownloading shards:  25%|██▌       | 1/4 [01:58&lt;05:55, 118.36s/it]</span></pre>\n"
      ],
      "text/plain": [
       "\u001b[31m\u001b[1ADownloading shards:  25%|██▌       | 1/4 [01:58<05:55, 118.36s/it]\u001b[0m"
      ]
     },
     "metadata": {},
     "output_type": "display_data"
    },
    {
     "data": {
      "text/html": [
       "<pre style=\"white-space:pre;overflow-x:auto;line-height:normal;font-family:Menlo,'DejaVu Sans Mono',consolas,'Courier New',monospace\"><span style=\"color: #800000; text-decoration-color: #800000\">\n",
       "</span></pre>\n"
      ],
      "text/plain": [
       "\u001b[31m\n",
       "\u001b[0m"
      ]
     },
     "metadata": {},
     "output_type": "display_data"
    },
    {
     "data": {
      "text/html": [
       "<pre style=\"white-space:pre;overflow-x:auto;line-height:normal;font-family:Menlo,'DejaVu Sans Mono',consolas,'Courier New',monospace\"><span style=\"color: #800000; text-decoration-color: #800000\">\u001b[1ADownloading shards:  50%|█████     | 2/4 [03:56&lt;03:56, 118.49s/it]</span></pre>\n"
      ],
      "text/plain": [
       "\u001b[31m\u001b[1ADownloading shards:  50%|█████     | 2/4 [03:56<03:56, 118.49s/it]\u001b[0m"
      ]
     },
     "metadata": {},
     "output_type": "display_data"
    },
    {
     "data": {
      "text/html": [
       "<pre style=\"white-space:pre;overflow-x:auto;line-height:normal;font-family:Menlo,'DejaVu Sans Mono',consolas,'Courier New',monospace\"><span style=\"color: #800000; text-decoration-color: #800000\">\n",
       "</span></pre>\n"
      ],
      "text/plain": [
       "\u001b[31m\n",
       "\u001b[0m"
      ]
     },
     "metadata": {},
     "output_type": "display_data"
    },
    {
     "data": {
      "text/html": [
       "<pre style=\"white-space:pre;overflow-x:auto;line-height:normal;font-family:Menlo,'DejaVu Sans Mono',consolas,'Courier New',monospace\"><span style=\"color: #800000; text-decoration-color: #800000\">\u001b[1ADownloading shards:  75%|███████▌  | 3/4 [05:54&lt;01:57, 117.84s/it]</span></pre>\n"
      ],
      "text/plain": [
       "\u001b[31m\u001b[1ADownloading shards:  75%|███████▌  | 3/4 [05:54<01:57, 117.84s/it]\u001b[0m"
      ]
     },
     "metadata": {},
     "output_type": "display_data"
    },
    {
     "data": {
      "text/html": [
       "<pre style=\"white-space:pre;overflow-x:auto;line-height:normal;font-family:Menlo,'DejaVu Sans Mono',consolas,'Courier New',monospace\"><span style=\"color: #800000; text-decoration-color: #800000\">\n",
       "</span></pre>\n"
      ],
      "text/plain": [
       "\u001b[31m\n",
       "\u001b[0m"
      ]
     },
     "metadata": {},
     "output_type": "display_data"
    },
    {
     "data": {
      "text/html": [
       "<pre style=\"white-space:pre;overflow-x:auto;line-height:normal;font-family:Menlo,'DejaVu Sans Mono',consolas,'Courier New',monospace\"><span style=\"color: #800000; text-decoration-color: #800000\">\u001b[1ADownloading shards: 100%|██████████| 4/4 [06:21&lt;00:00, 82.27s/it] Downloading shards: 100%|██████████| 4/4 [06:21&lt;00:00, 95.44s/it]\n",
       "</span></pre>\n"
      ],
      "text/plain": [
       "\u001b[31m\u001b[1ADownloading shards: 100%|██████████| 4/4 [06:21<00:00, 82.27s/it] Downloading shards: 100%|██████████| 4/4 [06:21<00:00, 95.44s/it]\n",
       "\u001b[0m"
      ]
     },
     "metadata": {},
     "output_type": "display_data"
    },
    {
     "data": {
      "text/html": [
       "<pre style=\"white-space:pre;overflow-x:auto;line-height:normal;font-family:Menlo,'DejaVu Sans Mono',consolas,'Courier New',monospace\"><span style=\"color: #800000; text-decoration-color: #800000\">\n",
       "</span></pre>\n"
      ],
      "text/plain": [
       "\u001b[31m\n",
       "\u001b[0m"
      ]
     },
     "metadata": {},
     "output_type": "display_data"
    },
    {
     "data": {
      "text/html": [
       "<pre style=\"white-space:pre;overflow-x:auto;line-height:normal;font-family:Menlo,'DejaVu Sans Mono',consolas,'Courier New',monospace\"><span style=\"color: #800000; text-decoration-color: #800000\">\u001b[1ALoading checkpoint shards:   0%|          | 0/4 [00:00&lt;?, ?it/s]\n",
       "</span></pre>\n"
      ],
      "text/plain": [
       "\u001b[31m\u001b[1ALoading checkpoint shards:   0%|          | 0/4 [00:00<?, ?it/s]\n",
       "\u001b[0m"
      ]
     },
     "metadata": {},
     "output_type": "display_data"
    },
    {
     "data": {
      "text/html": [
       "<pre style=\"white-space:pre;overflow-x:auto;line-height:normal;font-family:Menlo,'DejaVu Sans Mono',consolas,'Courier New',monospace\"><span style=\"color: #800000; text-decoration-color: #800000\">\u001b[1ALoading checkpoint shards:  25%|██▌       | 1/4 [00:07&lt;00:21,  7.11s/it]\n",
       "</span></pre>\n"
      ],
      "text/plain": [
       "\u001b[31m\u001b[1ALoading checkpoint shards:  25%|██▌       | 1/4 [00:07<00:21,  7.11s/it]\n",
       "\u001b[0m"
      ]
     },
     "metadata": {},
     "output_type": "display_data"
    },
    {
     "data": {
      "text/html": [
       "<pre style=\"white-space:pre;overflow-x:auto;line-height:normal;font-family:Menlo,'DejaVu Sans Mono',consolas,'Courier New',monospace\"><span style=\"color: #800000; text-decoration-color: #800000\">\u001b[1ALoading checkpoint shards:  50%|█████     | 2/4 [00:14&lt;00:14,  7.07s/it]\n",
       "</span></pre>\n"
      ],
      "text/plain": [
       "\u001b[31m\u001b[1ALoading checkpoint shards:  50%|█████     | 2/4 [00:14<00:14,  7.07s/it]\n",
       "\u001b[0m"
      ]
     },
     "metadata": {},
     "output_type": "display_data"
    },
    {
     "data": {
      "text/html": [
       "<pre style=\"white-space:pre;overflow-x:auto;line-height:normal;font-family:Menlo,'DejaVu Sans Mono',consolas,'Courier New',monospace\"><span style=\"color: #800000; text-decoration-color: #800000\">\u001b[1ALoading checkpoint shards:  75%|███████▌  | 3/4 [00:20&lt;00:06,  6.70s/it]\n",
       "</span></pre>\n"
      ],
      "text/plain": [
       "\u001b[31m\u001b[1ALoading checkpoint shards:  75%|███████▌  | 3/4 [00:20<00:06,  6.70s/it]\n",
       "\u001b[0m"
      ]
     },
     "metadata": {},
     "output_type": "display_data"
    },
    {
     "data": {
      "text/html": [
       "<pre style=\"white-space:pre;overflow-x:auto;line-height:normal;font-family:Menlo,'DejaVu Sans Mono',consolas,'Courier New',monospace\"><span style=\"color: #800000; text-decoration-color: #800000\">\u001b[1ALoading checkpoint shards: 100%|██████████| 4/4 [00:21&lt;00:00,  4.64s/it]Loading checkpoint shards: 100%|██████████| 4/4 [00:21&lt;00:00,  5.47s/it]\n",
       "</span></pre>\n"
      ],
      "text/plain": [
       "\u001b[31m\u001b[1ALoading checkpoint shards: 100%|██████████| 4/4 [00:21<00:00,  4.64s/it]Loading checkpoint shards: 100%|██████████| 4/4 [00:21<00:00,  5.47s/it]\n",
       "\u001b[0m"
      ]
     },
     "metadata": {},
     "output_type": "display_data"
    },
    {
     "data": {
      "text/html": [
       "<pre style=\"white-space:pre;overflow-x:auto;line-height:normal;font-family:Menlo,'DejaVu Sans Mono',consolas,'Courier New',monospace\"><span style=\"color: #800000; text-decoration-color: #800000\">Setting `pad_token_id` to `eos_token_id`:128001 for open-end generation.\n",
       "</span></pre>\n"
      ],
      "text/plain": [
       "\u001b[31mSetting `pad_token_id` to `eos_token_id`:128001 for open-end generation.\n",
       "\u001b[0m"
      ]
     },
     "metadata": {},
     "output_type": "display_data"
    },
    {
     "data": {
      "text/html": [
       "<pre style=\"white-space:pre;overflow-x:auto;line-height:normal;font-family:Menlo,'DejaVu Sans Mono',consolas,'Courier New',monospace\"></pre>\n"
      ],
      "text/plain": []
     },
     "metadata": {},
     "output_type": "display_data"
    },
    {
     "data": {
      "text/html": [
       "<pre style=\"white-space:pre;overflow-x:auto;line-height:normal;font-family:Menlo,'DejaVu Sans Mono',consolas,'Courier New',monospace\"><span style=\"color: #808000; text-decoration-color: #808000\">Stopping app - local entrypoint completed.\n",
       "</span></pre>\n"
      ],
      "text/plain": [
       "\u001b[33mStopping app - local entrypoint completed.\n",
       "\u001b[0m"
      ]
     },
     "metadata": {},
     "output_type": "display_data"
    },
    {
     "data": {
      "text/html": [
       "<pre style=\"white-space:pre;overflow-x:auto;line-height:normal;font-family:Menlo,'DejaVu Sans Mono',consolas,'Courier New',monospace\"><span style=\"color: #808000; text-decoration-color: #808000\">Runner terminated.\n",
       "</span></pre>\n"
      ],
      "text/plain": [
       "\u001b[33mRunner terminated.\n",
       "\u001b[0m"
      ]
     },
     "metadata": {},
     "output_type": "display_data"
    },
    {
     "data": {
      "text/html": [
       "<pre style=\"white-space:pre;overflow-x:auto;line-height:normal;font-family:Menlo,'DejaVu Sans Mono',consolas,'Courier New',monospace\"><span style=\"color: #008000; text-decoration-color: #008000\">✓</span> App completed. <span style=\"color: #b2b2b2; text-decoration-color: #b2b2b2\">View run at </span><span style=\"color: #b2b2b2; text-decoration-color: #b2b2b2; text-decoration: underline\">https://modal.com/apps/santoshmaturi99/main/ap-a0WzZpVc4H934TnW2ag70H</span>\n",
       "</pre>\n"
      ],
      "text/plain": [
       "\u001b[32m✓\u001b[0m App completed. \u001b[38;5;249mView run at \u001b[0m\u001b[4;38;5;249mhttps://modal.com/apps/santoshmaturi99/main/ap-a0WzZpVc4H934TnW2ag70H\u001b[0m\n"
      ]
     },
     "metadata": {},
     "output_type": "display_data"
    },
    {
     "data": {
      "text/plain": [
       "133.0"
      ]
     },
     "execution_count": 8,
     "metadata": {},
     "output_type": "execute_result"
    }
   ],
   "source": [
    "with modal.enable_output():\n",
    "    with app.run():\n",
    "        result=price.remote(\"Quadcast HyperX condenser mic, connects via usb-c to your computer for crystal clear audio\")\n",
    "result"
   ]
  },
  {
   "cell_type": "markdown",
   "id": "04d8747f-8452-4077-8af6-27e03888508a",
   "metadata": {},
   "source": [
    "## Transitioning From Ephemeral Apps to Deployed Apps\n",
    "\n",
    "From a command line, `modal deploy xxx` will deploy your code as a Deployed App\n",
    "\n",
    "This is how you could package your AI service behind an API to be used in a Production System."
   ]
  },
  {
   "cell_type": "code",
   "execution_count": 9,
   "id": "7f90d857-2f12-4521-bb90-28efd917f7d1",
   "metadata": {},
   "outputs": [
    {
     "name": "stdout",
     "output_type": "stream",
     "text": [
      "\u001b[2K\u001b[34m⠸\u001b[0m Creating objects.....\n",
      "\u001b[37m└── \u001b[0m\u001b[34m⠋\u001b[0m Creating mount \n",
      "\u001b[37m    \u001b[0m/Users/santhum/projects/llm_engineering/week8/pricer_service.py: Uploaded \n",
      "\u001b[2K\u001b[1A\u001b[2K\u001b[1A\u001b[2K\u001b[1A\u001b[2K\u001b[34m⠦\u001b[0m Creating objects...\n",
      "\u001b[37m└── \u001b[0m\u001b[34m⠸\u001b[0m Creating mount \n",
      "\u001b[37m    \u001b[0m/Users/santhum/projects/llm_engineering/week8/pricer_service.py: Finalizing \n",
      "\u001b[2K\u001b[1A\u001b[2K\u001b[1A\u001b[2K\u001b[1A\u001b[2K\u001b[34m⠇\u001b[0m Creating objects...\n",
      "\u001b[37m├── \u001b[0m🔨 Created mount \n",
      "\u001b[37m│   \u001b[0m/Users/santhum/projects/llm_engineering/week8/pricer_service.py\n",
      "\u001b[37m└── \u001b[0m🔨 Created function price.\n",
      "\u001b[1A\u001b[2K\u001b[1A\u001b[2K\u001b[1A\u001b[2K\u001b[1A\u001b[2K\u001b[32m✓\u001b[0m Created objects.\n",
      "\u001b[37m├── \u001b[0m🔨 Created mount \n",
      "\u001b[37m│   \u001b[0m/Users/santhum/projects/llm_engineering/week8/pricer_service.py\n",
      "\u001b[37m└── \u001b[0m🔨 Created function price.\n",
      "\u001b[32m✓\u001b[0m App deployed in 0.849s! 🎉\n",
      "\n",
      "View Deployment: \n",
      "\u001b[35mhttps://modal.com/apps/santoshmaturi99/main/deployed/pricer-service\u001b[0m\n"
     ]
    }
   ],
   "source": [
    "!modal deploy pricer_service"
   ]
  },
  {
   "cell_type": "code",
   "execution_count": 10,
   "id": "1dec70ff-1986-4405-8624-9bbbe0ce1f4a",
   "metadata": {},
   "outputs": [],
   "source": [
    "pricer = modal.Function.lookup(\"pricer-service\", \"price\")"
   ]
  },
  {
   "cell_type": "code",
   "execution_count": 11,
   "id": "17776139-0d9e-4ad0-bcd0-82d3a92ca61f",
   "metadata": {},
   "outputs": [
    {
     "data": {
      "text/plain": [
       "133.0"
      ]
     },
     "execution_count": 11,
     "metadata": {},
     "output_type": "execute_result"
    }
   ],
   "source": [
    "pricer.remote(\"Quadcast HyperX condenser mic, connects via usb-c to your computer for crystal clear audio\")"
   ]
  },
  {
   "cell_type": "code",
   "execution_count": null,
   "id": "f56d1e55-2a03-4ce2-bb47-2ab6b9175a02",
   "metadata": {},
   "outputs": [
    {
     "name": "stdout",
     "output_type": "stream",
     "text": [
      "\u001b[33m╭─\u001b[0m\u001b[33m Modal Deprecation Warning (2025-01-15) \u001b[0m\u001b[33m────────────────────────────────────\u001b[0m\u001b[33m─╮\u001b[0m\n",
      "\u001b[33m│\u001b[0m The `@modal.build` decorator is deprecated and will be removed in a future   \u001b[33m│\u001b[0m\n",
      "\u001b[33m│\u001b[0m release.                                                                     \u001b[33m│\u001b[0m\n",
      "\u001b[33m│\u001b[0m                                                                              \u001b[33m│\u001b[0m\n",
      "\u001b[33m│\u001b[0m We now recommend storing large assets (such as model weights) using a        \u001b[33m│\u001b[0m\n",
      "\u001b[33m│\u001b[0m `modal.Volume` instead of writing them directly into the `modal.Image`       \u001b[33m│\u001b[0m\n",
      "\u001b[33m│\u001b[0m filesystem. For other use cases we recommend using `Image.run_function`      \u001b[33m│\u001b[0m\n",
      "\u001b[33m│\u001b[0m instead.                                                                     \u001b[33m│\u001b[0m\n",
      "\u001b[33m│\u001b[0m                                                                              \u001b[33m│\u001b[0m\n",
      "\u001b[33m│\u001b[0m See https://modal.com/docs/guide/modal-1-0-migration for more information.   \u001b[33m│\u001b[0m\n",
      "\u001b[33m│\u001b[0m                                                                              \u001b[33m│\u001b[0m\n",
      "\u001b[33m│\u001b[0m Source: /Users/santhum/projects/llm_engineering/week8/pricer_service2.py:30  \u001b[33m│\u001b[0m\n",
      "\u001b[33m│\u001b[0m   @modal.build()                                                             \u001b[33m│\u001b[0m\n",
      "\u001b[33m╰──────────────────────────────────────────────────────────────────────────────╯\u001b[0m\n",
      "\u001b[2K\u001b[34m⠸\u001b[0m Creating objects.....\n",
      "\u001b[37m├── \u001b[0m🔨 Created mount \n",
      "\u001b[37m│   \u001b[0m/Users/santhum/projects/llm_engineering/week8/pricer_service2.py\n",
      "\u001b[2K\u001b[1A\u001b[2K\u001b[1A\u001b[2K\u001b[1A\u001b[2K\u001b[33mBuilding image im-hH43IFkaB8MWdMhiUqXCmI\n",
      "\u001b[0m\u001b[34m⠸\u001b[0m\u001b[33m Creating objects...\u001b[0m\u001b[33m\n",
      "\u001b[0m\u001b[37m├── \u001b[0m\u001b[33m🔨 Created mount /Users/santhum/projects/llm_engineering/week8/pricer_servic\u001b[0m\u001b[33m\n",
      "\u001b[2K\u001b[1A\u001b[2K\u001b[1A\u001b[2K\u001b[33mCreated function Pricer.download_model_to_folder.\u001b[0m\n",
      "=> Step 0: running function 'Pricer.download_model_to_folder'\n",
      "\u001b[0m\u001b[34m⠸\u001b[0m\u001b[33m Creating objects...\u001b[0m\u001b[33m\n",
      "\u001b[0m\u001b[37m├── \u001b[0m\u001b[33m🔨 Created mount /Users/santhum/projects/llm_engineering/week8/pricer_servic\u001b[0m\u001b[33m\n",
      "\u001b[2K\u001b[1A\u001b[2K\u001b[1A\u001b[2K\u001b[33m/root/pricer_service2.py:30: DeprecationError: 2025-01-15: The `@modal.build` decorator is deprecated and will be removed in a future release.\n",
      "\n",
      "We now recommend storing large assets (such as model weights) using a `modal.Volume` instead of writing them directly into the `modal.Image` filesystem. For other use cases we recommend using `Image.run_function` instead.\n",
      "\n",
      "See https://modal.com/docs/guide/modal-1-0-migration for more information.\n",
      "  @modal.build()\n",
      "\u001b[0m\u001b[34m⠸\u001b[0m\u001b[33m Creating objects...\u001b[0m\u001b[33m\n",
      "\u001b[0m\u001b[37m├── \u001b[0m\u001b[33m🔨 Created mount /Users/santhum/projects/llm_engineering/week8/pricer_servic\u001b[0m\u001b[33m\n",
      "\u001b[2K\u001b[1A\u001b[2K\u001b[1A\u001b[2K\u001b[33mCreated function Pricer.download_model_to_folder.\u001b[0m\n",
      "\u001b[0m\u001b[34m⠸\u001b[0m\u001b[33m Creating objects...\u001b[0m\u001b[33m\n",
      "\u001b[0m\u001b[37m├── \u001b[0m\u001b[33m🔨 Created mount /Users/santhum/projects/llm_engineering/week8/pricer_servic\u001b[0m\u001b[33m\n",
      "\u001b[2K\u001b[1A\u001b[2K\u001b[1A\u001b[2K\u001b[33m\u001b[1AFetching 17 files:   0%|          | 0/17 [00:00<?, ?it/s]\n",
      "\u001b[0m\u001b[34m⠸\u001b[0m\u001b[33m Creating objects...\u001b[0m\u001b[33m\n",
      "\u001b[0m\u001b[37m├── \u001b[0m\u001b[33m🔨 Created mount /Users/santhum/projects/llm_engineering/week8/pricer_servic\u001b[0m\u001b[33m\n",
      "\u001b[2K\u001b[1A\u001b[2K\u001b[1A\u001b[2K\u001b[34m⠦\u001b[0m Creating objects...ownload_model_to_folder.\u001b[0m\n",
      "\u001b[37m├── \u001b[0m🔨 Created mount \n",
      "\u001b[37m│   \u001b[0m/Users/santhum/projects/llm_engineering/week8/pricer_service2.py\n",
      "\u001b[2K\u001b[1A\u001b[2K\u001b[1A\u001b[2K\u001b[1A\u001b[2K\u001b[34m⠏\u001b[0m Creating objects...folder.\n",
      "\u001b[37m├── \u001b[0m🔨 Created mount \n",
      "\u001b[37m│   \u001b[0m/Users/santhum/projects/llm_engineering/week8/pricer_service2.py\n",
      "\u001b[2K\u001b[1A\u001b[2K\u001b[1A\u001b[2K\u001b[1A\u001b[2K\u001b[34m⠹\u001b[0m Creating objects...folder.\n",
      "\u001b[37m├── \u001b[0m🔨 Created mount \n",
      "\u001b[37m│   \u001b[0m/Users/santhum/projects/llm_engineering/week8/pricer_service2.py\n",
      "\u001b[2K\u001b[1A\u001b[2K\u001b[1A\u001b[2K\u001b[1A\u001b[2K\u001b[34m⠴\u001b[0m Creating objects...folder.\n",
      "\u001b[37m├── \u001b[0m🔨 Created mount \n",
      "\u001b[37m│   \u001b[0m/Users/santhum/projects/llm_engineering/week8/pricer_service2.py\n",
      "\u001b[2K\u001b[1A\u001b[2K\u001b[1A\u001b[2K\u001b[1A\u001b[2K\u001b[34m⠏\u001b[0m Creating objects...folder.\n",
      "\u001b[37m├── \u001b[0m🔨 Created mount \n",
      "\u001b[37m│   \u001b[0m/Users/santhum/projects/llm_engineering/week8/pricer_service2.py\n",
      "\u001b[2K\u001b[1A\u001b[2K\u001b[1A\u001b[2K\u001b[1A\u001b[2K\u001b[34m⠹\u001b[0m Creating objects...folder.\n",
      "\u001b[37m├── \u001b[0m🔨 Created mount \n",
      "\u001b[37m│   \u001b[0m/Users/santhum/projects/llm_engineering/week8/pricer_service2.py\n",
      "\u001b[2K\u001b[1A\u001b[2K\u001b[1A\u001b[2K\u001b[1A\u001b[2K\u001b[34m⠴\u001b[0m Creating objects...folder.\n",
      "\u001b[37m├── \u001b[0m🔨 Created mount \n",
      "\u001b[37m│   \u001b[0m/Users/santhum/projects/llm_engineering/week8/pricer_service2.py\n",
      "\u001b[2K\u001b[1A\u001b[2K\u001b[1A\u001b[2K\u001b[1A\u001b[2K\u001b[34m⠇\u001b[0m Creating objects...folder.\n",
      "\u001b[37m├── \u001b[0m🔨 Created mount \n",
      "\u001b[37m│   \u001b[0m/Users/santhum/projects/llm_engineering/week8/pricer_service2.py\n",
      "\u001b[2K\u001b[1A\u001b[2K\u001b[1A\u001b[2K\u001b[1A\u001b[2K\u001b[34m⠙\u001b[0m Creating objects...folder.\n",
      "\u001b[37m├── \u001b[0m🔨 Created mount \n",
      "\u001b[37m│   \u001b[0m/Users/santhum/projects/llm_engineering/week8/pricer_service2.py\n",
      "\u001b[2K\u001b[1A\u001b[2K\u001b[1A\u001b[2K\u001b[1A\u001b[2K\u001b[34m⠴\u001b[0m Creating objects...folder.\n",
      "\u001b[37m├── \u001b[0m🔨 Created mount \n",
      "\u001b[37m│   \u001b[0m/Users/santhum/projects/llm_engineering/week8/pricer_service2.py\n",
      "\u001b[2K\u001b[1A\u001b[2K\u001b[1A\u001b[2K\u001b[1A\u001b[2K\u001b[34m⠇\u001b[0m Creating objects...folder.\n",
      "\u001b[37m├── \u001b[0m🔨 Created mount \n",
      "\u001b[37m│   \u001b[0m/Users/santhum/projects/llm_engineering/week8/pricer_service2.py\n",
      "\u001b[2K\u001b[1A\u001b[2K\u001b[1A\u001b[2K\u001b[1A\u001b[2K\u001b[34m⠙\u001b[0m Creating objects...folder.\n",
      "\u001b[37m├── \u001b[0m🔨 Created mount \n",
      "\u001b[37m│   \u001b[0m/Users/santhum/projects/llm_engineering/week8/pricer_service2.py\n",
      "\u001b[2K\u001b[1A\u001b[2K\u001b[1A\u001b[2K\u001b[1A\u001b[2K\u001b[34m⠼\u001b[0m Creating objects...folder.\n",
      "\u001b[37m├── \u001b[0m🔨 Created mount \n",
      "\u001b[37m│   \u001b[0m/Users/santhum/projects/llm_engineering/week8/pricer_service2.py\n",
      "\u001b[2K\u001b[1A\u001b[2K\u001b[1A\u001b[2K\u001b[1A\u001b[2K\u001b[34m⠧\u001b[0m Creating objects...folder.\n",
      "\u001b[37m├── \u001b[0m🔨 Created mount \n",
      "\u001b[37m│   \u001b[0m/Users/santhum/projects/llm_engineering/week8/pricer_service2.py\n",
      "\u001b[2K\u001b[1A\u001b[2K\u001b[1A\u001b[2K\u001b[1A\u001b[2K\u001b[34m⠙\u001b[0m Creating objects...folder.\n",
      "\u001b[37m├── \u001b[0m🔨 Created mount \n",
      "\u001b[37m│   \u001b[0m/Users/santhum/projects/llm_engineering/week8/pricer_service2.py\n",
      "\u001b[2K\u001b[1A\u001b[2K\u001b[1A\u001b[2K\u001b[1A\u001b[2K\u001b[34m⠼\u001b[0m Creating objects...folder.\n",
      "\u001b[37m├── \u001b[0m🔨 Created mount \n",
      "\u001b[37m│   \u001b[0m/Users/santhum/projects/llm_engineering/week8/pricer_service2.py\n",
      "\u001b[2K\u001b[1A\u001b[2K\u001b[1A\u001b[2K\u001b[1A\u001b[2K\u001b[34m⠧\u001b[0m Creating objects...folder.\n",
      "\u001b[37m├── \u001b[0m🔨 Created mount \n",
      "\u001b[37m│   \u001b[0m/Users/santhum/projects/llm_engineering/week8/pricer_service2.py\n",
      "\u001b[2K\u001b[1A\u001b[2K\u001b[1A\u001b[2K\u001b[1A\u001b[2K\u001b[34m⠋\u001b[0m Creating objects...folder.\n",
      "\u001b[37m├── \u001b[0m🔨 Created mount \n",
      "\u001b[37m│   \u001b[0m/Users/santhum/projects/llm_engineering/week8/pricer_service2.py\n",
      "\u001b[2K\u001b[1A\u001b[2K\u001b[1A\u001b[2K\u001b[1A\u001b[2K\u001b[34m⠸\u001b[0m Creating objects...folder.\n",
      "\u001b[37m├── \u001b[0m🔨 Created mount \n",
      "\u001b[37m│   \u001b[0m/Users/santhum/projects/llm_engineering/week8/pricer_service2.py\n",
      "\u001b[2K\u001b[1A\u001b[2K\u001b[1A\u001b[2K\u001b[1A\u001b[2K\u001b[34m⠦\u001b[0m Creating objects...folder.\n",
      "\u001b[37m├── \u001b[0m🔨 Created mount \n",
      "\u001b[37m│   \u001b[0m/Users/santhum/projects/llm_engineering/week8/pricer_service2.py\n",
      "\u001b[2K\u001b[1A\u001b[2K\u001b[1A\u001b[2K\u001b[1A\u001b[2K\u001b[34m⠋\u001b[0m Creating objects...folder.\n",
      "\u001b[37m├── \u001b[0m🔨 Created mount \n",
      "\u001b[37m│   \u001b[0m/Users/santhum/projects/llm_engineering/week8/pricer_service2.py\n",
      "\u001b[2K\u001b[1A\u001b[2K\u001b[1A\u001b[2K\u001b[1A\u001b[2K\u001b[34m⠸\u001b[0m Creating objects...folder.\n",
      "\u001b[37m├── \u001b[0m🔨 Created mount \n",
      "\u001b[37m│   \u001b[0m/Users/santhum/projects/llm_engineering/week8/pricer_service2.py\n",
      "\u001b[2K\u001b[1A\u001b[2K\u001b[1A\u001b[2K\u001b[1A\u001b[2K\u001b[34m⠦\u001b[0m Creating objects...folder.\n",
      "\u001b[37m├── \u001b[0m🔨 Created mount \n",
      "\u001b[37m│   \u001b[0m/Users/santhum/projects/llm_engineering/week8/pricer_service2.py\n",
      "\u001b[2K\u001b[1A\u001b[2K\u001b[1A\u001b[2K\u001b[1A\u001b[2K\u001b[34m⠏\u001b[0m Creating objects...folder.\n",
      "\u001b[37m├── \u001b[0m🔨 Created mount \n",
      "\u001b[37m│   \u001b[0m/Users/santhum/projects/llm_engineering/week8/pricer_service2.py\n",
      "\u001b[2K\u001b[1A\u001b[2K\u001b[1A\u001b[2K\u001b[1A\u001b[2K\u001b[34m⠹\u001b[0m Creating objects...folder.\n",
      "\u001b[37m├── \u001b[0m🔨 Created mount \n",
      "\u001b[37m│   \u001b[0m/Users/santhum/projects/llm_engineering/week8/pricer_service2.py\n",
      "\u001b[2K\u001b[1A\u001b[2K\u001b[1A\u001b[2K\u001b[1A\u001b[2K\u001b[34m⠴\u001b[0m Creating objects...folder.\n",
      "\u001b[37m├── \u001b[0m🔨 Created mount \n",
      "\u001b[37m│   \u001b[0m/Users/santhum/projects/llm_engineering/week8/pricer_service2.py\n",
      "\u001b[2K\u001b[1A\u001b[2K\u001b[1A\u001b[2K\u001b[1A\u001b[2K\u001b[34m⠏\u001b[0m Creating objects...folder.\n",
      "\u001b[37m├── \u001b[0m🔨 Created mount \n",
      "\u001b[37m│   \u001b[0m/Users/santhum/projects/llm_engineering/week8/pricer_service2.py\n",
      "\u001b[2K\u001b[1A\u001b[2K\u001b[1A\u001b[2K\u001b[1A\u001b[2K\u001b[34m⠹\u001b[0m Creating objects...folder.\n",
      "\u001b[37m├── \u001b[0m🔨 Created mount \n",
      "\u001b[37m│   \u001b[0m/Users/santhum/projects/llm_engineering/week8/pricer_service2.py\n",
      "\u001b[2K\u001b[1A\u001b[2K\u001b[1A\u001b[2K\u001b[1A\u001b[2K\u001b[34m⠴\u001b[0m Creating objects...folder.\n",
      "\u001b[37m├── \u001b[0m🔨 Created mount \n",
      "\u001b[37m│   \u001b[0m/Users/santhum/projects/llm_engineering/week8/pricer_service2.py\n",
      "\u001b[2K\u001b[1A\u001b[2K\u001b[1A\u001b[2K\u001b[1A\u001b[2K\u001b[34m⠇\u001b[0m Creating objects...folder.\n",
      "\u001b[37m├── \u001b[0m🔨 Created mount \n",
      "\u001b[37m│   \u001b[0m/Users/santhum/projects/llm_engineering/week8/pricer_service2.py\n",
      "\u001b[2K\u001b[1A\u001b[2K\u001b[1A\u001b[2K\u001b[1A\u001b[2K\u001b[34m⠙\u001b[0m Creating objects...folder.\n",
      "\u001b[37m├── \u001b[0m🔨 Created mount \n",
      "\u001b[37m│   \u001b[0m/Users/santhum/projects/llm_engineering/week8/pricer_service2.py\n",
      "\u001b[2K\u001b[1A\u001b[2K\u001b[1A\u001b[2K\u001b[1A\u001b[2K\u001b[34m⠴\u001b[0m Creating objects...folder.\n",
      "\u001b[37m├── \u001b[0m🔨 Created mount \n",
      "\u001b[37m│   \u001b[0m/Users/santhum/projects/llm_engineering/week8/pricer_service2.py\n",
      "\u001b[2K\u001b[1A\u001b[2K\u001b[1A\u001b[2K\u001b[1A\u001b[2K\u001b[34m⠇\u001b[0m Creating objects...folder.\n",
      "\u001b[37m├── \u001b[0m🔨 Created mount \n",
      "\u001b[37m│   \u001b[0m/Users/santhum/projects/llm_engineering/week8/pricer_service2.py\n",
      "\u001b[2K\u001b[1A\u001b[2K\u001b[1A\u001b[2K\u001b[1A\u001b[2K\u001b[34m⠙\u001b[0m Creating objects...folder.\n",
      "\u001b[37m├── \u001b[0m🔨 Created mount \n",
      "\u001b[37m│   \u001b[0m/Users/santhum/projects/llm_engineering/week8/pricer_service2.py\n",
      "\u001b[2K\u001b[1A\u001b[2K\u001b[1A\u001b[2K\u001b[1A\u001b[2K\u001b[34m⠼\u001b[0m Creating objects...folder.\n",
      "\u001b[37m├── \u001b[0m🔨 Created mount \n",
      "\u001b[37m│   \u001b[0m/Users/santhum/projects/llm_engineering/week8/pricer_service2.py\n",
      "\u001b[2K\u001b[1A\u001b[2K\u001b[1A\u001b[2K\u001b[1A\u001b[2K\u001b[34m⠧\u001b[0m Creating objects...folder.\n",
      "\u001b[37m├── \u001b[0m🔨 Created mount \n",
      "\u001b[37m│   \u001b[0m/Users/santhum/projects/llm_engineering/week8/pricer_service2.py\n",
      "\u001b[2K\u001b[1A\u001b[2K\u001b[1A\u001b[2K\u001b[1A\u001b[2K\u001b[34m⠙\u001b[0m Creating objects...folder.\n",
      "\u001b[37m├── \u001b[0m🔨 Created mount \n",
      "\u001b[37m│   \u001b[0m/Users/santhum/projects/llm_engineering/week8/pricer_service2.py\n",
      "\u001b[2K\u001b[1A\u001b[2K\u001b[1A\u001b[2K\u001b[1A\u001b[2K\u001b[34m⠼\u001b[0m Creating objects...folder.\n",
      "\u001b[37m├── \u001b[0m🔨 Created mount \n",
      "\u001b[37m│   \u001b[0m/Users/santhum/projects/llm_engineering/week8/pricer_service2.py\n",
      "\u001b[2K\u001b[1A\u001b[2K\u001b[1A\u001b[2K\u001b[1A\u001b[2K\u001b[34m⠧\u001b[0m Creating objects...folder.\n",
      "\u001b[37m├── \u001b[0m🔨 Created mount \n",
      "\u001b[37m│   \u001b[0m/Users/santhum/projects/llm_engineering/week8/pricer_service2.py\n",
      "\u001b[2K\u001b[1A\u001b[2K\u001b[1A\u001b[2K\u001b[1A\u001b[2K\u001b[34m⠋\u001b[0m Creating objects...folder.\n",
      "\u001b[37m├── \u001b[0m🔨 Created mount \n",
      "\u001b[37m│   \u001b[0m/Users/santhum/projects/llm_engineering/week8/pricer_service2.py\n",
      "\u001b[2K\u001b[1A\u001b[2K\u001b[1A\u001b[2K\u001b[1A\u001b[2K\u001b[34m⠸\u001b[0m Creating objects...folder.\n",
      "\u001b[37m├── \u001b[0m🔨 Created mount \n",
      "\u001b[37m│   \u001b[0m/Users/santhum/projects/llm_engineering/week8/pricer_service2.py\n",
      "\u001b[2K\u001b[1A\u001b[2K\u001b[1A\u001b[2K\u001b[1A\u001b[2K\u001b[34m⠧\u001b[0m Creating objects...folder.\n",
      "\u001b[37m├── \u001b[0m🔨 Created mount \n",
      "\u001b[37m│   \u001b[0m/Users/santhum/projects/llm_engineering/week8/pricer_service2.py\n",
      "\u001b[2K\u001b[1A\u001b[2K\u001b[1A\u001b[2K\u001b[1A\u001b[2K\u001b[34m⠋\u001b[0m Creating objects...folder.\n",
      "\u001b[37m├── \u001b[0m🔨 Created mount \n",
      "\u001b[37m│   \u001b[0m/Users/santhum/projects/llm_engineering/week8/pricer_service2.py\n",
      "\u001b[2K\u001b[1A\u001b[2K\u001b[1A\u001b[2K\u001b[1A\u001b[2K\u001b[34m⠸\u001b[0m Creating objects...folder.\n",
      "\u001b[37m├── \u001b[0m🔨 Created mount \n",
      "\u001b[37m│   \u001b[0m/Users/santhum/projects/llm_engineering/week8/pricer_service2.py\n",
      "\u001b[2K\u001b[1A\u001b[2K\u001b[1A\u001b[2K\u001b[1A\u001b[2K\u001b[34m⠦\u001b[0m Creating objects...folder.\n",
      "\u001b[37m├── \u001b[0m🔨 Created mount \n",
      "\u001b[37m│   \u001b[0m/Users/santhum/projects/llm_engineering/week8/pricer_service2.py\n",
      "\u001b[2K\u001b[1A\u001b[2K\u001b[1A\u001b[2K\u001b[1A\u001b[2K\u001b[34m⠏\u001b[0m Creating objects...folder.\n",
      "\u001b[37m├── \u001b[0m🔨 Created mount \n",
      "\u001b[37m│   \u001b[0m/Users/santhum/projects/llm_engineering/week8/pricer_service2.py\n",
      "\u001b[2K\u001b[1A\u001b[2K\u001b[1A\u001b[2K\u001b[1A\u001b[2K\u001b[34m⠸\u001b[0m Creating objects...folder.\n",
      "\u001b[37m├── \u001b[0m🔨 Created mount \n",
      "\u001b[37m│   \u001b[0m/Users/santhum/projects/llm_engineering/week8/pricer_service2.py\n",
      "\u001b[2K\u001b[1A\u001b[2K\u001b[1A\u001b[2K\u001b[1A\u001b[2K\u001b[34m⠦\u001b[0m Creating objects...folder.\n",
      "\u001b[37m├── \u001b[0m🔨 Created mount \n",
      "\u001b[37m│   \u001b[0m/Users/santhum/projects/llm_engineering/week8/pricer_service2.py\n",
      "\u001b[2K\u001b[1A\u001b[2K\u001b[1A\u001b[2K\u001b[1A\u001b[2K\u001b[34m⠏\u001b[0m Creating objects...folder.\n",
      "\u001b[37m├── \u001b[0m🔨 Created mount \n",
      "\u001b[37m│   \u001b[0m/Users/santhum/projects/llm_engineering/week8/pricer_service2.py\n",
      "\u001b[2K\u001b[1A\u001b[2K\u001b[1A\u001b[2K\u001b[1A\u001b[2K\u001b[34m⠹\u001b[0m Creating objects...folder.\n",
      "\u001b[37m├── \u001b[0m🔨 Created mount \n",
      "\u001b[37m│   \u001b[0m/Users/santhum/projects/llm_engineering/week8/pricer_service2.py\n",
      "\u001b[2K\u001b[1A\u001b[2K\u001b[1A\u001b[2K\u001b[1A\u001b[2K\u001b[34m⠴\u001b[0m Creating objects...folder.\n",
      "\u001b[37m├── \u001b[0m🔨 Created mount \n",
      "\u001b[37m│   \u001b[0m/Users/santhum/projects/llm_engineering/week8/pricer_service2.py\n",
      "\u001b[2K\u001b[1A\u001b[2K\u001b[1A\u001b[2K\u001b[1A\u001b[2K\u001b[34m⠏\u001b[0m Creating objects...folder.\n",
      "\u001b[37m├── \u001b[0m🔨 Created mount \n",
      "\u001b[37m│   \u001b[0m/Users/santhum/projects/llm_engineering/week8/pricer_service2.py\n",
      "\u001b[2K\u001b[1A\u001b[2K\u001b[1A\u001b[2K\u001b[1A\u001b[2K\u001b[34m⠹\u001b[0m Creating objects...folder.\n",
      "\u001b[37m├── \u001b[0m🔨 Created mount \n",
      "\u001b[37m│   \u001b[0m/Users/santhum/projects/llm_engineering/week8/pricer_service2.py\n",
      "\u001b[2K\u001b[1A\u001b[2K\u001b[1A\u001b[2K\u001b[1A\u001b[2K\u001b[34m⠴\u001b[0m Creating objects...folder.\n",
      "\u001b[37m├── \u001b[0m🔨 Created mount \n",
      "\u001b[37m│   \u001b[0m/Users/santhum/projects/llm_engineering/week8/pricer_service2.py\n",
      "\u001b[2K\u001b[1A\u001b[2K\u001b[1A\u001b[2K\u001b[1A\u001b[2K\u001b[34m⠇\u001b[0m Creating objects...folder.\n",
      "\u001b[37m├── \u001b[0m🔨 Created mount \n",
      "\u001b[37m│   \u001b[0m/Users/santhum/projects/llm_engineering/week8/pricer_service2.py\n",
      "\u001b[2K\u001b[1A\u001b[2K\u001b[1A\u001b[2K\u001b[1A\u001b[2K\u001b[34m⠙\u001b[0m Creating objects...folder.\n",
      "\u001b[37m├── \u001b[0m🔨 Created mount \n",
      "\u001b[37m│   \u001b[0m/Users/santhum/projects/llm_engineering/week8/pricer_service2.py\n",
      "\u001b[2K\u001b[1A\u001b[2K\u001b[1A\u001b[2K\u001b[1A\u001b[2K\u001b[34m⠴\u001b[0m Creating objects...folder.\n",
      "\u001b[37m├── \u001b[0m🔨 Created mount \n",
      "\u001b[37m│   \u001b[0m/Users/santhum/projects/llm_engineering/week8/pricer_service2.py\n",
      "\u001b[2K\u001b[1A\u001b[2K\u001b[1A\u001b[2K\u001b[1A\u001b[2K\u001b[34m⠇\u001b[0m Creating objects...folder.\n",
      "\u001b[37m├── \u001b[0m🔨 Created mount \n",
      "\u001b[37m│   \u001b[0m/Users/santhum/projects/llm_engineering/week8/pricer_service2.py\n",
      "\u001b[2K\u001b[1A\u001b[2K\u001b[1A\u001b[2K\u001b[1A\u001b[2K\u001b[34m⠙\u001b[0m Creating objects...folder.\n",
      "\u001b[37m├── \u001b[0m🔨 Created mount \n",
      "\u001b[37m│   \u001b[0m/Users/santhum/projects/llm_engineering/week8/pricer_service2.py\n",
      "\u001b[2K\u001b[1A\u001b[2K\u001b[1A\u001b[2K\u001b[1A\u001b[2K\u001b[34m⠼\u001b[0m Creating objects...folder.\n",
      "\u001b[37m├── \u001b[0m🔨 Created mount \n",
      "\u001b[37m│   \u001b[0m/Users/santhum/projects/llm_engineering/week8/pricer_service2.py\n",
      "\u001b[2K\u001b[1A\u001b[2K\u001b[1A\u001b[2K\u001b[1A\u001b[2K\u001b[34m⠧\u001b[0m Creating objects...folder.\n",
      "\u001b[37m├── \u001b[0m🔨 Created mount \n",
      "\u001b[37m│   \u001b[0m/Users/santhum/projects/llm_engineering/week8/pricer_service2.py\n",
      "\u001b[2K\u001b[1A\u001b[2K\u001b[1A\u001b[2K\u001b[1A\u001b[2K\u001b[34m⠋\u001b[0m Creating objects...folder.\n",
      "\u001b[37m├── \u001b[0m🔨 Created mount \n",
      "\u001b[37m│   \u001b[0m/Users/santhum/projects/llm_engineering/week8/pricer_service2.py\n",
      "\u001b[2K\u001b[1A\u001b[2K\u001b[1A\u001b[2K\u001b[1A\u001b[2K\u001b[34m⠼\u001b[0m Creating objects...folder.\n",
      "\u001b[37m├── \u001b[0m🔨 Created mount \n",
      "\u001b[37m│   \u001b[0m/Users/santhum/projects/llm_engineering/week8/pricer_service2.py\n",
      "\u001b[2K\u001b[1A\u001b[2K\u001b[1A\u001b[2K\u001b[1A\u001b[2K\u001b[34m⠧\u001b[0m Creating objects...folder.\n",
      "\u001b[37m├── \u001b[0m🔨 Created mount \n",
      "\u001b[37m│   \u001b[0m/Users/santhum/projects/llm_engineering/week8/pricer_service2.py\n",
      "\u001b[2K\u001b[1A\u001b[2K\u001b[1A\u001b[2K\u001b[1A\u001b[2K\u001b[34m⠋\u001b[0m Creating objects...folder.\n",
      "\u001b[37m├── \u001b[0m🔨 Created mount \n",
      "\u001b[37m│   \u001b[0m/Users/santhum/projects/llm_engineering/week8/pricer_service2.py\n",
      "\u001b[2K\u001b[1A\u001b[2K\u001b[1A\u001b[2K\u001b[1A\u001b[2K\u001b[34m⠸\u001b[0m Creating objects...folder.\n",
      "\u001b[37m├── \u001b[0m🔨 Created mount \n",
      "\u001b[37m│   \u001b[0m/Users/santhum/projects/llm_engineering/week8/pricer_service2.py\n",
      "\u001b[2K\u001b[1A\u001b[2K\u001b[1A\u001b[2K\u001b[1A\u001b[2K\u001b[34m⠦\u001b[0m Creating objects...folder.\n",
      "\u001b[37m├── \u001b[0m🔨 Created mount \n",
      "\u001b[37m│   \u001b[0m/Users/santhum/projects/llm_engineering/week8/pricer_service2.py\n",
      "\u001b[2K\u001b[1A\u001b[2K\u001b[1A\u001b[2K\u001b[1A\u001b[2K\u001b[34m⠋\u001b[0m Creating objects...folder.\n",
      "\u001b[37m├── \u001b[0m🔨 Created mount \n",
      "\u001b[37m│   \u001b[0m/Users/santhum/projects/llm_engineering/week8/pricer_service2.py\n",
      "\u001b[2K\u001b[1A\u001b[2K\u001b[1A\u001b[2K\u001b[1A\u001b[2K\u001b[34m⠸\u001b[0m Creating objects...folder.\n",
      "\u001b[37m├── \u001b[0m🔨 Created mount \n",
      "\u001b[37m│   \u001b[0m/Users/santhum/projects/llm_engineering/week8/pricer_service2.py\n",
      "\u001b[2K\u001b[1A\u001b[2K\u001b[1A\u001b[2K\u001b[1A\u001b[2K\u001b[34m⠦\u001b[0m Creating objects...folder.\n",
      "\u001b[37m├── \u001b[0m🔨 Created mount \n",
      "\u001b[37m│   \u001b[0m/Users/santhum/projects/llm_engineering/week8/pricer_service2.py\n",
      "\u001b[2K\u001b[1A\u001b[2K\u001b[1A\u001b[2K\u001b[1A\u001b[2K\u001b[34m⠏\u001b[0m Creating objects...folder.\n",
      "\u001b[37m├── \u001b[0m🔨 Created mount \n",
      "\u001b[37m│   \u001b[0m/Users/santhum/projects/llm_engineering/week8/pricer_service2.py\n",
      "\u001b[2K\u001b[1A\u001b[2K\u001b[1A\u001b[2K\u001b[1A\u001b[2K\u001b[34m⠹\u001b[0m Creating objects...folder.\n",
      "\u001b[37m├── \u001b[0m🔨 Created mount \n",
      "\u001b[37m│   \u001b[0m/Users/santhum/projects/llm_engineering/week8/pricer_service2.py\n",
      "\u001b[2K\u001b[1A\u001b[2K\u001b[1A\u001b[2K\u001b[1A\u001b[2K\u001b[34m⠦\u001b[0m Creating objects...folder.\n",
      "\u001b[37m├── \u001b[0m🔨 Created mount \n",
      "\u001b[37m│   \u001b[0m/Users/santhum/projects/llm_engineering/week8/pricer_service2.py\n",
      "\u001b[2K\u001b[1A\u001b[2K\u001b[1A\u001b[2K\u001b[1A\u001b[2K\u001b[34m⠏\u001b[0m Creating objects...folder.\n",
      "\u001b[37m├── \u001b[0m🔨 Created mount \n",
      "\u001b[37m│   \u001b[0m/Users/santhum/projects/llm_engineering/week8/pricer_service2.py\n",
      "\u001b[2K\u001b[1A\u001b[2K\u001b[1A\u001b[2K\u001b[1A\u001b[2K\u001b[34m⠹\u001b[0m Creating objects...folder.\n",
      "\u001b[37m├── \u001b[0m🔨 Created mount \n",
      "\u001b[37m│   \u001b[0m/Users/santhum/projects/llm_engineering/week8/pricer_service2.py\n",
      "\u001b[2K\u001b[1A\u001b[2K\u001b[1A\u001b[2K\u001b[1A\u001b[2K\u001b[34m⠴\u001b[0m Creating objects...folder.\n",
      "\u001b[37m├── \u001b[0m🔨 Created mount \n",
      "\u001b[37m│   \u001b[0m/Users/santhum/projects/llm_engineering/week8/pricer_service2.py\n",
      "\u001b[2K\u001b[1A\u001b[2K\u001b[1A\u001b[2K\u001b[1A\u001b[2K\u001b[34m⠇\u001b[0m Creating objects...folder.\n",
      "\u001b[37m├── \u001b[0m🔨 Created mount \n",
      "\u001b[37m│   \u001b[0m/Users/santhum/projects/llm_engineering/week8/pricer_service2.py\n",
      "\u001b[2K\u001b[1A\u001b[2K\u001b[1A\u001b[2K\u001b[1A\u001b[2K\u001b[34m⠙\u001b[0m Creating objects...folder.\n",
      "\u001b[37m├── \u001b[0m🔨 Created mount \n",
      "\u001b[37m│   \u001b[0m/Users/santhum/projects/llm_engineering/week8/pricer_service2.py\n",
      "\u001b[2K\u001b[1A\u001b[2K\u001b[1A\u001b[2K\u001b[1A\u001b[2K\u001b[34m⠴\u001b[0m Creating objects...folder.\n",
      "\u001b[37m├── \u001b[0m🔨 Created mount \n",
      "\u001b[37m│   \u001b[0m/Users/santhum/projects/llm_engineering/week8/pricer_service2.py\n",
      "\u001b[2K\u001b[1A\u001b[2K\u001b[1A\u001b[2K\u001b[1A\u001b[2K\u001b[34m⠇\u001b[0m Creating objects...folder.\n",
      "\u001b[37m├── \u001b[0m🔨 Created mount \n",
      "\u001b[37m│   \u001b[0m/Users/santhum/projects/llm_engineering/week8/pricer_service2.py\n",
      "\u001b[2K\u001b[1A\u001b[2K\u001b[1A\u001b[2K\u001b[1A\u001b[2K\u001b[34m⠙\u001b[0m Creating objects...folder.\n",
      "\u001b[37m├── \u001b[0m🔨 Created mount \n",
      "\u001b[37m│   \u001b[0m/Users/santhum/projects/llm_engineering/week8/pricer_service2.py\n",
      "\u001b[2K\u001b[1A\u001b[2K\u001b[1A\u001b[2K\u001b[1A\u001b[2K\u001b[34m⠼\u001b[0m Creating objects...folder.\n",
      "\u001b[37m├── \u001b[0m🔨 Created mount \n",
      "\u001b[37m│   \u001b[0m/Users/santhum/projects/llm_engineering/week8/pricer_service2.py\n",
      "\u001b[2K\u001b[1A\u001b[2K\u001b[1A\u001b[2K\u001b[1A\u001b[2K\u001b[34m⠧\u001b[0m Creating objects...folder.\n",
      "\u001b[37m├── \u001b[0m🔨 Created mount \n",
      "\u001b[37m│   \u001b[0m/Users/santhum/projects/llm_engineering/week8/pricer_service2.py\n",
      "\u001b[2K\u001b[1A\u001b[2K\u001b[1A\u001b[2K\u001b[1A\u001b[2K\u001b[34m⠋\u001b[0m Creating objects...folder.\n",
      "\u001b[37m├── \u001b[0m🔨 Created mount \n",
      "\u001b[37m│   \u001b[0m/Users/santhum/projects/llm_engineering/week8/pricer_service2.py\n",
      "\u001b[2K\u001b[1A\u001b[2K\u001b[1A\u001b[2K\u001b[1A\u001b[2K\u001b[34m⠼\u001b[0m Creating objects...folder.\n",
      "\u001b[37m├── \u001b[0m🔨 Created mount \n",
      "\u001b[37m│   \u001b[0m/Users/santhum/projects/llm_engineering/week8/pricer_service2.py\n",
      "\u001b[2K\u001b[1A\u001b[2K\u001b[1A\u001b[2K\u001b[1A\u001b[2K\u001b[34m⠧\u001b[0m Creating objects...folder.\n",
      "\u001b[37m├── \u001b[0m🔨 Created mount \n",
      "\u001b[37m│   \u001b[0m/Users/santhum/projects/llm_engineering/week8/pricer_service2.py\n",
      "\u001b[2K\u001b[1A\u001b[2K\u001b[1A\u001b[2K\u001b[1A\u001b[2K\u001b[34m⠋\u001b[0m Creating objects...folder.\n",
      "\u001b[37m├── \u001b[0m🔨 Created mount \n",
      "\u001b[37m│   \u001b[0m/Users/santhum/projects/llm_engineering/week8/pricer_service2.py\n",
      "\u001b[2K\u001b[1A\u001b[2K\u001b[1A\u001b[2K\u001b[1A\u001b[2K\u001b[34m⠸\u001b[0m Creating objects...folder.\n",
      "\u001b[37m├── \u001b[0m🔨 Created mount \n",
      "\u001b[37m│   \u001b[0m/Users/santhum/projects/llm_engineering/week8/pricer_service2.py\n",
      "\u001b[2K\u001b[1A\u001b[2K\u001b[1A\u001b[2K\u001b[1A\u001b[2K\u001b[34m⠦\u001b[0m Creating objects...folder.\n",
      "\u001b[37m├── \u001b[0m🔨 Created mount \n",
      "\u001b[37m│   \u001b[0m/Users/santhum/projects/llm_engineering/week8/pricer_service2.py\n",
      "\u001b[2K\u001b[1A\u001b[2K\u001b[1A\u001b[2K\u001b[1A\u001b[2K\u001b[34m⠋\u001b[0m Creating objects...folder.\n",
      "\u001b[37m├── \u001b[0m🔨 Created mount \n",
      "\u001b[37m│   \u001b[0m/Users/santhum/projects/llm_engineering/week8/pricer_service2.py\n",
      "\u001b[2K\u001b[1A\u001b[2K\u001b[1A\u001b[2K\u001b[1A\u001b[2K\u001b[34m⠸\u001b[0m Creating objects...folder.\n",
      "\u001b[37m├── \u001b[0m🔨 Created mount \n",
      "\u001b[37m│   \u001b[0m/Users/santhum/projects/llm_engineering/week8/pricer_service2.py\n",
      "\u001b[2K\u001b[1A\u001b[2K\u001b[1A\u001b[2K\u001b[1A\u001b[2K\u001b[34m⠦\u001b[0m Creating objects...folder.\n",
      "\u001b[37m├── \u001b[0m🔨 Created mount \n",
      "\u001b[37m│   \u001b[0m/Users/santhum/projects/llm_engineering/week8/pricer_service2.py\n",
      "\u001b[2K\u001b[1A\u001b[2K\u001b[1A\u001b[2K\u001b[1A\u001b[2K\u001b[34m⠏\u001b[0m Creating objects...folder.\n",
      "\u001b[37m├── \u001b[0m🔨 Created mount \n",
      "\u001b[37m│   \u001b[0m/Users/santhum/projects/llm_engineering/week8/pricer_service2.py\n",
      "\u001b[2K\u001b[1A\u001b[2K\u001b[1A\u001b[2K\u001b[1A\u001b[2K\u001b[34m⠹\u001b[0m Creating objects...folder.\n",
      "\u001b[37m├── \u001b[0m🔨 Created mount \n",
      "\u001b[37m│   \u001b[0m/Users/santhum/projects/llm_engineering/week8/pricer_service2.py\n",
      "\u001b[2K\u001b[1A\u001b[2K\u001b[1A\u001b[2K\u001b[1A\u001b[2K\u001b[34m⠴\u001b[0m Creating objects...folder.\n",
      "\u001b[37m├── \u001b[0m🔨 Created mount \n",
      "\u001b[37m│   \u001b[0m/Users/santhum/projects/llm_engineering/week8/pricer_service2.py\n",
      "\u001b[2K\u001b[1A\u001b[2K\u001b[1A\u001b[2K\u001b[1A\u001b[2K\u001b[34m⠏\u001b[0m Creating objects...folder.\n",
      "\u001b[37m├── \u001b[0m🔨 Created mount \n",
      "\u001b[37m│   \u001b[0m/Users/santhum/projects/llm_engineering/week8/pricer_service2.py\n",
      "\u001b[2K\u001b[1A\u001b[2K\u001b[1A\u001b[2K\u001b[1A\u001b[2K\u001b[34m⠹\u001b[0m Creating objects...folder.\n",
      "\u001b[37m├── \u001b[0m🔨 Created mount \n",
      "\u001b[37m│   \u001b[0m/Users/santhum/projects/llm_engineering/week8/pricer_service2.py\n",
      "\u001b[2K\u001b[1A\u001b[2K\u001b[1A\u001b[2K\u001b[1A\u001b[2K\u001b[34m⠴\u001b[0m Creating objects...folder.\n",
      "\u001b[37m├── \u001b[0m🔨 Created mount \n",
      "\u001b[37m│   \u001b[0m/Users/santhum/projects/llm_engineering/week8/pricer_service2.py\n",
      "\u001b[2K\u001b[1A\u001b[2K\u001b[1A\u001b[2K\u001b[1A\u001b[2K\u001b[34m⠇\u001b[0m Creating objects...folder.\n",
      "\u001b[37m├── \u001b[0m🔨 Created mount \n",
      "\u001b[37m│   \u001b[0m/Users/santhum/projects/llm_engineering/week8/pricer_service2.py\n",
      "\u001b[2K\u001b[1A\u001b[2K\u001b[1A\u001b[2K\u001b[1A\u001b[2K\u001b[34m⠙\u001b[0m Creating objects...folder.\n",
      "\u001b[37m├── \u001b[0m🔨 Created mount \n",
      "\u001b[37m│   \u001b[0m/Users/santhum/projects/llm_engineering/week8/pricer_service2.py\n",
      "\u001b[2K\u001b[1A\u001b[2K\u001b[1A\u001b[2K\u001b[1A\u001b[2K\u001b[34m⠼\u001b[0m Creating objects...folder.\n",
      "\u001b[37m├── \u001b[0m🔨 Created mount \n",
      "\u001b[37m│   \u001b[0m/Users/santhum/projects/llm_engineering/week8/pricer_service2.py\n",
      "\u001b[2K\u001b[1A\u001b[2K\u001b[1A\u001b[2K\u001b[1A\u001b[2K\u001b[34m⠇\u001b[0m Creating objects...folder.\n",
      "\u001b[37m├── \u001b[0m🔨 Created mount \n",
      "\u001b[37m│   \u001b[0m/Users/santhum/projects/llm_engineering/week8/pricer_service2.py\n",
      "\u001b[2K\u001b[1A\u001b[2K\u001b[1A\u001b[2K\u001b[1A\u001b[2K\u001b[34m⠙\u001b[0m Creating objects...folder.\n",
      "\u001b[37m├── \u001b[0m🔨 Created mount \n",
      "\u001b[37m│   \u001b[0m/Users/santhum/projects/llm_engineering/week8/pricer_service2.py\n",
      "\u001b[2K\u001b[1A\u001b[2K\u001b[1A\u001b[2K\u001b[1A\u001b[2K\u001b[34m⠼\u001b[0m Creating objects...folder.\n",
      "\u001b[37m├── \u001b[0m🔨 Created mount \n",
      "\u001b[37m│   \u001b[0m/Users/santhum/projects/llm_engineering/week8/pricer_service2.py\n",
      "\u001b[2K\u001b[1A\u001b[2K\u001b[1A\u001b[2K\u001b[1A\u001b[2K\u001b[34m⠧\u001b[0m Creating objects...folder.\n",
      "\u001b[37m├── \u001b[0m🔨 Created mount \n",
      "\u001b[37m│   \u001b[0m/Users/santhum/projects/llm_engineering/week8/pricer_service2.py\n",
      "\u001b[2K\u001b[1A\u001b[2K\u001b[1A\u001b[2K\u001b[1A\u001b[2K\u001b[34m⠋\u001b[0m Creating objects...folder.\n",
      "\u001b[37m├── \u001b[0m🔨 Created mount \n",
      "\u001b[37m│   \u001b[0m/Users/santhum/projects/llm_engineering/week8/pricer_service2.py\n",
      "\u001b[2K\u001b[1A\u001b[2K\u001b[1A\u001b[2K\u001b[1A\u001b[2K\u001b[34m⠼\u001b[0m Creating objects...folder.\n",
      "\u001b[37m├── \u001b[0m🔨 Created mount \n",
      "\u001b[37m│   \u001b[0m/Users/santhum/projects/llm_engineering/week8/pricer_service2.py\n",
      "\u001b[2K\u001b[1A\u001b[2K\u001b[1A\u001b[2K\u001b[1A\u001b[2K\u001b[34m⠧\u001b[0m Creating objects...folder.\n",
      "\u001b[37m├── \u001b[0m🔨 Created mount \n",
      "\u001b[37m│   \u001b[0m/Users/santhum/projects/llm_engineering/week8/pricer_service2.py\n",
      "\u001b[2K\u001b[1A\u001b[2K\u001b[1A\u001b[2K\u001b[1A\u001b[2K\u001b[34m⠋\u001b[0m Creating objects...folder.\n",
      "\u001b[37m├── \u001b[0m🔨 Created mount \n",
      "\u001b[37m│   \u001b[0m/Users/santhum/projects/llm_engineering/week8/pricer_service2.py\n",
      "\u001b[2K\u001b[1A\u001b[2K\u001b[1A\u001b[2K\u001b[1A\u001b[2K\u001b[34m⠸\u001b[0m Creating objects...folder.\n",
      "\u001b[37m├── \u001b[0m🔨 Created mount \n",
      "\u001b[37m│   \u001b[0m/Users/santhum/projects/llm_engineering/week8/pricer_service2.py\n",
      "\u001b[2K\u001b[1A\u001b[2K\u001b[1A\u001b[2K\u001b[1A\u001b[2K\u001b[34m⠦\u001b[0m Creating objects...folder.\n",
      "\u001b[37m├── \u001b[0m🔨 Created mount \n",
      "\u001b[37m│   \u001b[0m/Users/santhum/projects/llm_engineering/week8/pricer_service2.py\n",
      "\u001b[2K\u001b[1A\u001b[2K\u001b[1A\u001b[2K\u001b[1A\u001b[2K\u001b[34m⠋\u001b[0m Creating objects...folder.\n",
      "\u001b[37m├── \u001b[0m🔨 Created mount \n",
      "\u001b[37m│   \u001b[0m/Users/santhum/projects/llm_engineering/week8/pricer_service2.py\n",
      "\u001b[2K\u001b[1A\u001b[2K\u001b[1A\u001b[2K\u001b[1A\u001b[2K\u001b[34m⠸\u001b[0m Creating objects...folder.\n",
      "\u001b[37m├── \u001b[0m🔨 Created mount \n",
      "\u001b[37m│   \u001b[0m/Users/santhum/projects/llm_engineering/week8/pricer_service2.py\n",
      "\u001b[2K\u001b[1A\u001b[2K\u001b[1A\u001b[2K\u001b[1A\u001b[2K\u001b[34m⠦\u001b[0m Creating objects...folder.\n",
      "\u001b[37m├── \u001b[0m🔨 Created mount \n",
      "\u001b[37m│   \u001b[0m/Users/santhum/projects/llm_engineering/week8/pricer_service2.py\n",
      "\u001b[2K\u001b[1A\u001b[2K\u001b[1A\u001b[2K\u001b[1A\u001b[2K\u001b[34m⠏\u001b[0m Creating objects...folder.\n",
      "\u001b[37m├── \u001b[0m🔨 Created mount \n",
      "\u001b[37m│   \u001b[0m/Users/santhum/projects/llm_engineering/week8/pricer_service2.py\n",
      "\u001b[2K\u001b[1A\u001b[2K\u001b[1A\u001b[2K\u001b[1A\u001b[2K\u001b[34m⠹\u001b[0m Creating objects...folder.\n",
      "\u001b[37m├── \u001b[0m🔨 Created mount \n",
      "\u001b[37m│   \u001b[0m/Users/santhum/projects/llm_engineering/week8/pricer_service2.py\n",
      "\u001b[2K\u001b[1A\u001b[2K\u001b[1A\u001b[2K\u001b[1A\u001b[2K\u001b[34m⠴\u001b[0m Creating objects...folder.\n",
      "\u001b[37m├── \u001b[0m🔨 Created mount \n",
      "\u001b[37m│   \u001b[0m/Users/santhum/projects/llm_engineering/week8/pricer_service2.py\n",
      "\u001b[2K\u001b[1A\u001b[2K\u001b[1A\u001b[2K\u001b[1A\u001b[2K\u001b[34m⠏\u001b[0m Creating objects...folder.\n",
      "\u001b[37m├── \u001b[0m🔨 Created mount \n",
      "\u001b[37m│   \u001b[0m/Users/santhum/projects/llm_engineering/week8/pricer_service2.py\n",
      "\u001b[2K\u001b[1A\u001b[2K\u001b[1A\u001b[2K\u001b[1A\u001b[2K\u001b[34m⠹\u001b[0m Creating objects...folder.\n",
      "\u001b[37m├── \u001b[0m🔨 Created mount \n",
      "\u001b[37m│   \u001b[0m/Users/santhum/projects/llm_engineering/week8/pricer_service2.py\n",
      "\u001b[2K\u001b[1A\u001b[2K\u001b[1A\u001b[2K\u001b[1A\u001b[2K\u001b[34m⠴\u001b[0m Creating objects...folder.\n",
      "\u001b[37m├── \u001b[0m🔨 Created mount \n",
      "\u001b[37m│   \u001b[0m/Users/santhum/projects/llm_engineering/week8/pricer_service2.py\n",
      "\u001b[2K\u001b[1A\u001b[2K\u001b[1A\u001b[2K\u001b[1A\u001b[2K\u001b[34m⠇\u001b[0m Creating objects...folder.\n",
      "\u001b[37m├── \u001b[0m🔨 Created mount \n",
      "\u001b[37m│   \u001b[0m/Users/santhum/projects/llm_engineering/week8/pricer_service2.py\n",
      "\u001b[2K\u001b[1A\u001b[2K\u001b[1A\u001b[2K\u001b[1A\u001b[2K\u001b[34m⠙\u001b[0m Creating objects...folder.\n",
      "\u001b[37m├── \u001b[0m🔨 Created mount \n",
      "\u001b[37m│   \u001b[0m/Users/santhum/projects/llm_engineering/week8/pricer_service2.py\n",
      "\u001b[2K\u001b[1A\u001b[2K\u001b[1A\u001b[2K\u001b[1A\u001b[2K\u001b[34m⠴\u001b[0m Creating objects...folder.\n",
      "\u001b[37m├── \u001b[0m🔨 Created mount \n",
      "\u001b[37m│   \u001b[0m/Users/santhum/projects/llm_engineering/week8/pricer_service2.py\n",
      "\u001b[2K\u001b[1A\u001b[2K\u001b[1A\u001b[2K\u001b[1A\u001b[2K\u001b[34m⠇\u001b[0m Creating objects...folder.\n",
      "\u001b[37m├── \u001b[0m🔨 Created mount \n",
      "\u001b[37m│   \u001b[0m/Users/santhum/projects/llm_engineering/week8/pricer_service2.py\n",
      "\u001b[2K\u001b[1A\u001b[2K\u001b[1A\u001b[2K\u001b[1A\u001b[2K\u001b[34m⠙\u001b[0m Creating objects...folder.\n",
      "\u001b[37m├── \u001b[0m🔨 Created mount \n",
      "\u001b[37m│   \u001b[0m/Users/santhum/projects/llm_engineering/week8/pricer_service2.py\n",
      "\u001b[2K\u001b[1A\u001b[2K\u001b[1A\u001b[2K\u001b[1A\u001b[2K\u001b[34m⠼\u001b[0m Creating objects...folder.\n",
      "\u001b[37m├── \u001b[0m🔨 Created mount \n",
      "\u001b[37m│   \u001b[0m/Users/santhum/projects/llm_engineering/week8/pricer_service2.py\n",
      "\u001b[2K\u001b[1A\u001b[2K\u001b[1A\u001b[2K\u001b[1A\u001b[2K\u001b[34m⠧\u001b[0m Creating objects...folder.\n",
      "\u001b[37m├── \u001b[0m🔨 Created mount \n",
      "\u001b[37m│   \u001b[0m/Users/santhum/projects/llm_engineering/week8/pricer_service2.py\n",
      "\u001b[2K\u001b[1A\u001b[2K\u001b[1A\u001b[2K\u001b[1A\u001b[2K\u001b[34m⠙\u001b[0m Creating objects...folder.\n",
      "\u001b[37m├── \u001b[0m🔨 Created mount \n",
      "\u001b[37m│   \u001b[0m/Users/santhum/projects/llm_engineering/week8/pricer_service2.py\n",
      "\u001b[2K\u001b[1A\u001b[2K\u001b[1A\u001b[2K\u001b[1A\u001b[2K\u001b[34m⠼\u001b[0m Creating objects...folder.\n",
      "\u001b[37m├── \u001b[0m🔨 Created mount \n",
      "\u001b[37m│   \u001b[0m/Users/santhum/projects/llm_engineering/week8/pricer_service2.py\n",
      "\u001b[2K\u001b[1A\u001b[2K\u001b[1A\u001b[2K\u001b[1A\u001b[2K\u001b[34m⠧\u001b[0m Creating objects...folder.\n",
      "\u001b[37m├── \u001b[0m🔨 Created mount \n",
      "\u001b[37m│   \u001b[0m/Users/santhum/projects/llm_engineering/week8/pricer_service2.py\n",
      "\u001b[2K\u001b[1A\u001b[2K\u001b[1A\u001b[2K\u001b[1A\u001b[2K\u001b[34m⠋\u001b[0m Creating objects...folder.\n",
      "\u001b[37m├── \u001b[0m🔨 Created mount \n",
      "\u001b[37m│   \u001b[0m/Users/santhum/projects/llm_engineering/week8/pricer_service2.py\n",
      "\u001b[2K\u001b[1A\u001b[2K\u001b[1A\u001b[2K\u001b[1A\u001b[2K\u001b[34m⠸\u001b[0m Creating objects...folder.\n",
      "\u001b[37m├── \u001b[0m🔨 Created mount \n",
      "\u001b[37m│   \u001b[0m/Users/santhum/projects/llm_engineering/week8/pricer_service2.py\n",
      "\u001b[2K\u001b[1A\u001b[2K\u001b[1A\u001b[2K\u001b[1A\u001b[2K\u001b[34m⠧\u001b[0m Creating objects...folder.\n",
      "\u001b[37m├── \u001b[0m🔨 Created mount \n",
      "\u001b[37m│   \u001b[0m/Users/santhum/projects/llm_engineering/week8/pricer_service2.py\n",
      "\u001b[2K\u001b[1A\u001b[2K\u001b[1A\u001b[2K\u001b[1A\u001b[2K\u001b[34m⠋\u001b[0m Creating objects...folder.\n",
      "\u001b[37m├── \u001b[0m🔨 Created mount \n",
      "\u001b[37m│   \u001b[0m/Users/santhum/projects/llm_engineering/week8/pricer_service2.py\n",
      "\u001b[2K\u001b[1A\u001b[2K\u001b[1A\u001b[2K\u001b[1A\u001b[2K\u001b[34m⠸\u001b[0m Creating objects...folder.\n",
      "\u001b[37m├── \u001b[0m🔨 Created mount \n",
      "\u001b[37m│   \u001b[0m/Users/santhum/projects/llm_engineering/week8/pricer_service2.py\n",
      "\u001b[2K\u001b[1A\u001b[2K\u001b[1A\u001b[2K\u001b[1A\u001b[2K\u001b[34m⠦\u001b[0m Creating objects...folder.\n",
      "\u001b[37m├── \u001b[0m🔨 Created mount \n",
      "\u001b[37m│   \u001b[0m/Users/santhum/projects/llm_engineering/week8/pricer_service2.py\n",
      "\u001b[2K\u001b[1A\u001b[2K\u001b[1A\u001b[2K\u001b[1A\u001b[2K\u001b[34m⠋\u001b[0m Creating objects...folder.\n",
      "\u001b[37m├── \u001b[0m🔨 Created mount \n",
      "\u001b[37m│   \u001b[0m/Users/santhum/projects/llm_engineering/week8/pricer_service2.py\n",
      "\u001b[2K\u001b[1A\u001b[2K\u001b[1A\u001b[2K\u001b[1A\u001b[2K\u001b[34m⠸\u001b[0m Creating objects...folder.\n",
      "\u001b[37m├── \u001b[0m🔨 Created mount \n",
      "\u001b[37m│   \u001b[0m/Users/santhum/projects/llm_engineering/week8/pricer_service2.py\n",
      "\u001b[2K\u001b[1A\u001b[2K\u001b[1A\u001b[2K\u001b[1A\u001b[2K\u001b[34m⠦\u001b[0m Creating objects...folder.\n",
      "\u001b[37m├── \u001b[0m🔨 Created mount \n",
      "\u001b[37m│   \u001b[0m/Users/santhum/projects/llm_engineering/week8/pricer_service2.py\n",
      "\u001b[2K\u001b[1A\u001b[2K\u001b[1A\u001b[2K\u001b[1A\u001b[2K\u001b[34m⠏\u001b[0m Creating objects...folder.\n",
      "\u001b[37m├── \u001b[0m🔨 Created mount \n",
      "\u001b[37m│   \u001b[0m/Users/santhum/projects/llm_engineering/week8/pricer_service2.py\n",
      "\u001b[2K\u001b[1A\u001b[2K\u001b[1A\u001b[2K\u001b[1A\u001b[2K\u001b[34m⠹\u001b[0m Creating objects...folder.\n",
      "\u001b[37m├── \u001b[0m🔨 Created mount \n",
      "\u001b[37m│   \u001b[0m/Users/santhum/projects/llm_engineering/week8/pricer_service2.py\n",
      "\u001b[2K\u001b[1A\u001b[2K\u001b[1A\u001b[2K\u001b[1A\u001b[2K\u001b[34m⠴\u001b[0m Creating objects...folder.\n",
      "\u001b[37m├── \u001b[0m🔨 Created mount \n",
      "\u001b[37m│   \u001b[0m/Users/santhum/projects/llm_engineering/week8/pricer_service2.py\n",
      "\u001b[2K\u001b[1A\u001b[2K\u001b[1A\u001b[2K\u001b[1A\u001b[2K\u001b[34m⠏\u001b[0m Creating objects...folder.\n",
      "\u001b[37m├── \u001b[0m🔨 Created mount \n",
      "\u001b[37m│   \u001b[0m/Users/santhum/projects/llm_engineering/week8/pricer_service2.py\n",
      "\u001b[2K\u001b[1A\u001b[2K\u001b[1A\u001b[2K\u001b[1A\u001b[2K\u001b[34m⠹\u001b[0m Creating objects...folder.\n",
      "\u001b[37m├── \u001b[0m🔨 Created mount \n",
      "\u001b[37m│   \u001b[0m/Users/santhum/projects/llm_engineering/week8/pricer_service2.py\n",
      "\u001b[2K\u001b[1A\u001b[2K\u001b[1A\u001b[2K\u001b[1A\u001b[2K\u001b[34m⠴\u001b[0m Creating objects...folder.\n",
      "\u001b[37m├── \u001b[0m🔨 Created mount \n",
      "\u001b[37m│   \u001b[0m/Users/santhum/projects/llm_engineering/week8/pricer_service2.py\n",
      "\u001b[2K\u001b[1A\u001b[2K\u001b[1A\u001b[2K\u001b[1A\u001b[2K\u001b[34m⠇\u001b[0m Creating objects...folder.\n",
      "\u001b[37m├── \u001b[0m🔨 Created mount \n",
      "\u001b[37m│   \u001b[0m/Users/santhum/projects/llm_engineering/week8/pricer_service2.py\n",
      "\u001b[2K\u001b[1A\u001b[2K\u001b[1A\u001b[2K\u001b[1A\u001b[2K\u001b[34m⠙\u001b[0m Creating objects...folder.\n",
      "\u001b[37m├── \u001b[0m🔨 Created mount \n",
      "\u001b[37m│   \u001b[0m/Users/santhum/projects/llm_engineering/week8/pricer_service2.py\n",
      "\u001b[2K\u001b[1A\u001b[2K\u001b[1A\u001b[2K\u001b[1A\u001b[2K\u001b[34m⠴\u001b[0m Creating objects...folder.\n",
      "\u001b[37m├── \u001b[0m🔨 Created mount \n",
      "\u001b[37m│   \u001b[0m/Users/santhum/projects/llm_engineering/week8/pricer_service2.py\n",
      "\u001b[2K\u001b[1A\u001b[2K\u001b[1A\u001b[2K\u001b[1A\u001b[2K\u001b[34m⠇\u001b[0m Creating objects...folder.\n",
      "\u001b[37m├── \u001b[0m🔨 Created mount \n",
      "\u001b[37m│   \u001b[0m/Users/santhum/projects/llm_engineering/week8/pricer_service2.py\n",
      "\u001b[2K\u001b[1A\u001b[2K\u001b[1A\u001b[2K\u001b[1A\u001b[2K\u001b[34m⠙\u001b[0m Creating objects...folder.\n",
      "\u001b[37m├── \u001b[0m🔨 Created mount \n",
      "\u001b[37m│   \u001b[0m/Users/santhum/projects/llm_engineering/week8/pricer_service2.py\n",
      "\u001b[2K\u001b[1A\u001b[2K\u001b[1A\u001b[2K\u001b[1A\u001b[2K\u001b[34m⠼\u001b[0m Creating objects...folder.\n",
      "\u001b[37m├── \u001b[0m🔨 Created mount \n",
      "\u001b[37m│   \u001b[0m/Users/santhum/projects/llm_engineering/week8/pricer_service2.py\n",
      "\u001b[2K\u001b[1A\u001b[2K\u001b[1A\u001b[2K\u001b[1A\u001b[2K\u001b[34m⠧\u001b[0m Creating objects...folder.\n",
      "\u001b[37m├── \u001b[0m🔨 Created mount \n",
      "\u001b[37m│   \u001b[0m/Users/santhum/projects/llm_engineering/week8/pricer_service2.py\n",
      "\u001b[2K\u001b[1A\u001b[2K\u001b[1A\u001b[2K\u001b[1A\u001b[2K\u001b[34m⠙\u001b[0m Creating objects...folder.\n",
      "\u001b[37m├── \u001b[0m🔨 Created mount \n",
      "\u001b[37m│   \u001b[0m/Users/santhum/projects/llm_engineering/week8/pricer_service2.py\n",
      "\u001b[2K\u001b[1A\u001b[2K\u001b[1A\u001b[2K\u001b[1A\u001b[2K\u001b[34m⠼\u001b[0m Creating objects...folder.\n",
      "\u001b[37m├── \u001b[0m🔨 Created mount \n",
      "\u001b[37m│   \u001b[0m/Users/santhum/projects/llm_engineering/week8/pricer_service2.py\n",
      "\u001b[2K\u001b[1A\u001b[2K\u001b[1A\u001b[2K\u001b[1A\u001b[2K\u001b[34m⠧\u001b[0m Creating objects...folder.\n",
      "\u001b[37m├── \u001b[0m🔨 Created mount \n",
      "\u001b[37m│   \u001b[0m/Users/santhum/projects/llm_engineering/week8/pricer_service2.py\n",
      "\u001b[2K\u001b[1A\u001b[2K\u001b[1A\u001b[2K\u001b[1A\u001b[2K\u001b[34m⠋\u001b[0m Creating objects...folder.\n",
      "\u001b[37m├── \u001b[0m🔨 Created mount \n",
      "\u001b[37m│   \u001b[0m/Users/santhum/projects/llm_engineering/week8/pricer_service2.py\n",
      "\u001b[2K\u001b[1A\u001b[2K\u001b[1A\u001b[2K\u001b[1A\u001b[2K\u001b[34m⠼\u001b[0m Creating objects...folder.\n",
      "\u001b[37m├── \u001b[0m🔨 Created mount \n",
      "\u001b[37m│   \u001b[0m/Users/santhum/projects/llm_engineering/week8/pricer_service2.py\n",
      "\u001b[2K\u001b[1A\u001b[2K\u001b[1A\u001b[2K\u001b[1A\u001b[2K\u001b[34m⠧\u001b[0m Creating objects...folder.\n",
      "\u001b[37m├── \u001b[0m🔨 Created mount \n",
      "\u001b[37m│   \u001b[0m/Users/santhum/projects/llm_engineering/week8/pricer_service2.py\n",
      "\u001b[2K\u001b[1A\u001b[2K\u001b[1A\u001b[2K\u001b[1A\u001b[2K\u001b[34m⠋\u001b[0m Creating objects...folder.\n",
      "\u001b[37m├── \u001b[0m🔨 Created mount \n",
      "\u001b[37m│   \u001b[0m/Users/santhum/projects/llm_engineering/week8/pricer_service2.py\n",
      "\u001b[2K\u001b[1A\u001b[2K\u001b[1A\u001b[2K\u001b[1A\u001b[2K\u001b[34m⠸\u001b[0m Creating objects...folder.\n",
      "\u001b[37m├── \u001b[0m🔨 Created mount \n",
      "\u001b[37m│   \u001b[0m/Users/santhum/projects/llm_engineering/week8/pricer_service2.py\n",
      "\u001b[2K\u001b[1A\u001b[2K\u001b[1A\u001b[2K\u001b[1A\u001b[2K\u001b[34m⠦\u001b[0m Creating objects...folder.\n",
      "\u001b[37m├── \u001b[0m🔨 Created mount \n",
      "\u001b[37m│   \u001b[0m/Users/santhum/projects/llm_engineering/week8/pricer_service2.py\n",
      "\u001b[2K\u001b[1A\u001b[2K\u001b[1A\u001b[2K\u001b[1A\u001b[2K\u001b[34m⠋\u001b[0m Creating objects...folder.\n",
      "\u001b[37m├── \u001b[0m🔨 Created mount \n",
      "\u001b[37m│   \u001b[0m/Users/santhum/projects/llm_engineering/week8/pricer_service2.py\n",
      "\u001b[2K\u001b[1A\u001b[2K\u001b[1A\u001b[2K\u001b[1A\u001b[2K\u001b[34m⠸\u001b[0m Creating objects...folder.\n",
      "\u001b[37m├── \u001b[0m🔨 Created mount \n",
      "\u001b[37m│   \u001b[0m/Users/santhum/projects/llm_engineering/week8/pricer_service2.py\n",
      "\u001b[2K\u001b[1A\u001b[2K\u001b[1A\u001b[2K\u001b[1A\u001b[2K\u001b[34m⠦\u001b[0m Creating objects...folder.\n",
      "\u001b[37m├── \u001b[0m🔨 Created mount \n",
      "\u001b[37m│   \u001b[0m/Users/santhum/projects/llm_engineering/week8/pricer_service2.py\n",
      "\u001b[2K\u001b[1A\u001b[2K\u001b[1A\u001b[2K\u001b[1A\u001b[2K\u001b[34m⠏\u001b[0m Creating objects...folder.\n",
      "\u001b[37m├── \u001b[0m🔨 Created mount \n",
      "\u001b[37m│   \u001b[0m/Users/santhum/projects/llm_engineering/week8/pricer_service2.py\n",
      "\u001b[2K\u001b[1A\u001b[2K\u001b[1A\u001b[2K\u001b[1A\u001b[2K\u001b[34m⠹\u001b[0m Creating objects...folder.\n",
      "\u001b[37m├── \u001b[0m🔨 Created mount \n",
      "\u001b[37m│   \u001b[0m/Users/santhum/projects/llm_engineering/week8/pricer_service2.py\n",
      "\u001b[2K\u001b[1A\u001b[2K\u001b[1A\u001b[2K\u001b[1A\u001b[2K\u001b[34m⠦\u001b[0m Creating objects...folder.\n",
      "\u001b[37m├── \u001b[0m🔨 Created mount \n",
      "\u001b[37m│   \u001b[0m/Users/santhum/projects/llm_engineering/week8/pricer_service2.py\n",
      "\u001b[2K\u001b[1A\u001b[2K\u001b[1A\u001b[2K\u001b[1A\u001b[2K\u001b[34m⠏\u001b[0m Creating objects...folder.\n",
      "\u001b[37m├── \u001b[0m🔨 Created mount \n",
      "\u001b[37m│   \u001b[0m/Users/santhum/projects/llm_engineering/week8/pricer_service2.py\n",
      "\u001b[2K\u001b[1A\u001b[2K\u001b[1A\u001b[2K\u001b[1A\u001b[2K\u001b[34m⠹\u001b[0m Creating objects...folder.\n",
      "\u001b[37m├── \u001b[0m🔨 Created mount \n",
      "\u001b[37m│   \u001b[0m/Users/santhum/projects/llm_engineering/week8/pricer_service2.py\n",
      "\u001b[2K\u001b[1A\u001b[2K\u001b[1A\u001b[2K\u001b[1A\u001b[2K\u001b[34m⠴\u001b[0m Creating objects...folder.\n",
      "\u001b[37m├── \u001b[0m🔨 Created mount \n",
      "\u001b[37m│   \u001b[0m/Users/santhum/projects/llm_engineering/week8/pricer_service2.py\n",
      "\u001b[2K\u001b[1A\u001b[2K\u001b[1A\u001b[2K\u001b[1A\u001b[2K\u001b[34m⠇\u001b[0m Creating objects...folder.\n",
      "\u001b[37m├── \u001b[0m🔨 Created mount \n",
      "\u001b[37m│   \u001b[0m/Users/santhum/projects/llm_engineering/week8/pricer_service2.py\n",
      "\u001b[2K\u001b[1A\u001b[2K\u001b[1A\u001b[2K\u001b[1A\u001b[2K\u001b[34m⠹\u001b[0m Creating objects...folder.\n",
      "\u001b[37m├── \u001b[0m🔨 Created mount \n",
      "\u001b[37m│   \u001b[0m/Users/santhum/projects/llm_engineering/week8/pricer_service2.py\n",
      "\u001b[2K\u001b[1A\u001b[2K\u001b[1A\u001b[2K\u001b[1A\u001b[2K\u001b[34m⠴\u001b[0m Creating objects...folder.\n",
      "\u001b[37m├── \u001b[0m🔨 Created mount \n",
      "\u001b[37m│   \u001b[0m/Users/santhum/projects/llm_engineering/week8/pricer_service2.py\n",
      "\u001b[2K\u001b[1A\u001b[2K\u001b[1A\u001b[2K\u001b[1A\u001b[2K\u001b[34m⠇\u001b[0m Creating objects...folder.\n",
      "\u001b[37m├── \u001b[0m🔨 Created mount \n",
      "\u001b[37m│   \u001b[0m/Users/santhum/projects/llm_engineering/week8/pricer_service2.py\n",
      "\u001b[2K\u001b[1A\u001b[2K\u001b[1A\u001b[2K\u001b[1A\u001b[2K\u001b[34m⠙\u001b[0m Creating objects...folder.\n",
      "\u001b[37m├── \u001b[0m🔨 Created mount \n",
      "\u001b[37m│   \u001b[0m/Users/santhum/projects/llm_engineering/week8/pricer_service2.py\n",
      "\u001b[2K\u001b[1A\u001b[2K\u001b[1A\u001b[2K\u001b[1A\u001b[2K\u001b[34m⠼\u001b[0m Creating objects...folder.\n",
      "\u001b[37m├── \u001b[0m🔨 Created mount \n",
      "\u001b[37m│   \u001b[0m/Users/santhum/projects/llm_engineering/week8/pricer_service2.py\n",
      "\u001b[2K\u001b[1A\u001b[2K\u001b[1A\u001b[2K\u001b[1A\u001b[2K\u001b[34m⠇\u001b[0m Creating objects...folder.\n",
      "\u001b[37m├── \u001b[0m🔨 Created mount \n",
      "\u001b[37m│   \u001b[0m/Users/santhum/projects/llm_engineering/week8/pricer_service2.py\n",
      "\u001b[2K\u001b[1A\u001b[2K\u001b[1A\u001b[2K\u001b[1A\u001b[2K\u001b[34m⠙\u001b[0m Creating objects...folder.\n",
      "\u001b[37m├── \u001b[0m🔨 Created mount \n",
      "\u001b[37m│   \u001b[0m/Users/santhum/projects/llm_engineering/week8/pricer_service2.py\n",
      "\u001b[2K\u001b[1A\u001b[2K\u001b[1A\u001b[2K\u001b[1A\u001b[2K\u001b[34m⠼\u001b[0m Creating objects...folder.\n",
      "\u001b[37m├── \u001b[0m🔨 Created mount \n",
      "\u001b[37m│   \u001b[0m/Users/santhum/projects/llm_engineering/week8/pricer_service2.py\n",
      "\u001b[2K\u001b[1A\u001b[2K\u001b[1A\u001b[2K\u001b[1A\u001b[2K\u001b[34m⠧\u001b[0m Creating objects...folder.\n",
      "\u001b[37m├── \u001b[0m🔨 Created mount \n",
      "\u001b[37m│   \u001b[0m/Users/santhum/projects/llm_engineering/week8/pricer_service2.py\n",
      "\u001b[2K\u001b[1A\u001b[2K\u001b[1A\u001b[2K\u001b[1A\u001b[2K\u001b[34m⠋\u001b[0m Creating objects...folder.\n",
      "\u001b[37m├── \u001b[0m🔨 Created mount \n",
      "\u001b[37m│   \u001b[0m/Users/santhum/projects/llm_engineering/week8/pricer_service2.py\n",
      "\u001b[2K\u001b[1A\u001b[2K\u001b[1A\u001b[2K\u001b[1A\u001b[2K\u001b[34m⠼\u001b[0m Creating objects...folder.\n",
      "\u001b[37m├── \u001b[0m🔨 Created mount \n",
      "\u001b[37m│   \u001b[0m/Users/santhum/projects/llm_engineering/week8/pricer_service2.py\n",
      "\u001b[2K\u001b[1A\u001b[2K\u001b[1A\u001b[2K\u001b[1A\u001b[2K\u001b[34m⠧\u001b[0m Creating objects...folder.\n",
      "\u001b[37m├── \u001b[0m🔨 Created mount \n",
      "\u001b[37m│   \u001b[0m/Users/santhum/projects/llm_engineering/week8/pricer_service2.py\n",
      "\u001b[2K\u001b[1A\u001b[2K\u001b[1A\u001b[2K\u001b[1A\u001b[2K\u001b[34m⠋\u001b[0m Creating objects...folder.\n",
      "\u001b[37m├── \u001b[0m🔨 Created mount \n",
      "\u001b[37m│   \u001b[0m/Users/santhum/projects/llm_engineering/week8/pricer_service2.py\n",
      "\u001b[2K\u001b[1A\u001b[2K\u001b[1A\u001b[2K\u001b[1A\u001b[2K\u001b[34m⠸\u001b[0m Creating objects...folder.\n",
      "\u001b[37m├── \u001b[0m🔨 Created mount \n",
      "\u001b[37m│   \u001b[0m/Users/santhum/projects/llm_engineering/week8/pricer_service2.py\n",
      "\u001b[2K\u001b[1A\u001b[2K\u001b[1A\u001b[2K\u001b[1A\u001b[2K\u001b[34m⠦\u001b[0m Creating objects...folder.\n",
      "\u001b[37m├── \u001b[0m🔨 Created mount \n",
      "\u001b[37m│   \u001b[0m/Users/santhum/projects/llm_engineering/week8/pricer_service2.py\n",
      "\u001b[2K\u001b[1A\u001b[2K\u001b[1A\u001b[2K\u001b[1A\u001b[2K\u001b[34m⠋\u001b[0m Creating objects...folder.\n",
      "\u001b[37m├── \u001b[0m🔨 Created mount \n",
      "\u001b[37m│   \u001b[0m/Users/santhum/projects/llm_engineering/week8/pricer_service2.py\n",
      "\u001b[2K\u001b[1A\u001b[2K\u001b[1A\u001b[2K\u001b[1A\u001b[2K\u001b[34m⠸\u001b[0m Creating objects...folder.\n",
      "\u001b[37m├── \u001b[0m🔨 Created mount \n",
      "\u001b[37m│   \u001b[0m/Users/santhum/projects/llm_engineering/week8/pricer_service2.py\n",
      "\u001b[2K\u001b[1A\u001b[2K\u001b[1A\u001b[2K\u001b[1A\u001b[2K\u001b[34m⠦\u001b[0m Creating objects...folder.\n",
      "\u001b[37m├── \u001b[0m🔨 Created mount \n",
      "\u001b[37m│   \u001b[0m/Users/santhum/projects/llm_engineering/week8/pricer_service2.py\n",
      "\u001b[2K\u001b[1A\u001b[2K\u001b[1A\u001b[2K\u001b[1A\u001b[2K\u001b[34m⠏\u001b[0m Creating objects...folder.\n",
      "\u001b[37m├── \u001b[0m🔨 Created mount \n",
      "\u001b[37m│   \u001b[0m/Users/santhum/projects/llm_engineering/week8/pricer_service2.py\n",
      "\u001b[2K\u001b[1A\u001b[2K\u001b[1A\u001b[2K\u001b[1A\u001b[2K\u001b[34m⠹\u001b[0m Creating objects...folder.\n",
      "\u001b[37m├── \u001b[0m🔨 Created mount \n",
      "\u001b[37m│   \u001b[0m/Users/santhum/projects/llm_engineering/week8/pricer_service2.py\n",
      "\u001b[2K\u001b[1A\u001b[2K\u001b[1A\u001b[2K\u001b[1A\u001b[2K\u001b[34m⠦\u001b[0m Creating objects...folder.\n",
      "\u001b[37m├── \u001b[0m🔨 Created mount \n",
      "\u001b[37m│   \u001b[0m/Users/santhum/projects/llm_engineering/week8/pricer_service2.py\n",
      "\u001b[2K\u001b[1A\u001b[2K\u001b[1A\u001b[2K\u001b[1A\u001b[2K\u001b[34m⠏\u001b[0m Creating objects...folder.\n",
      "\u001b[37m├── \u001b[0m🔨 Created mount \n",
      "\u001b[37m│   \u001b[0m/Users/santhum/projects/llm_engineering/week8/pricer_service2.py\n",
      "\u001b[2K\u001b[1A\u001b[2K\u001b[1A\u001b[2K\u001b[1A\u001b[2K\u001b[34m⠹\u001b[0m Creating objects...folder.\n",
      "\u001b[37m├── \u001b[0m🔨 Created mount \n",
      "\u001b[37m│   \u001b[0m/Users/santhum/projects/llm_engineering/week8/pricer_service2.py\n",
      "\u001b[2K\u001b[1A\u001b[2K\u001b[1A\u001b[2K\u001b[1A\u001b[2K\u001b[34m⠴\u001b[0m Creating objects...folder.\n",
      "\u001b[37m├── \u001b[0m🔨 Created mount \n",
      "\u001b[37m│   \u001b[0m/Users/santhum/projects/llm_engineering/week8/pricer_service2.py\n",
      "\u001b[2K\u001b[1A\u001b[2K\u001b[1A\u001b[2K\u001b[1A\u001b[2K\u001b[34m⠇\u001b[0m Creating objects...folder.\n",
      "\u001b[37m├── \u001b[0m🔨 Created mount \n",
      "\u001b[37m│   \u001b[0m/Users/santhum/projects/llm_engineering/week8/pricer_service2.py\n",
      "\u001b[2K\u001b[1A\u001b[2K\u001b[1A\u001b[2K\u001b[1A\u001b[2K\u001b[34m⠹\u001b[0m Creating objects...folder.\n",
      "\u001b[37m├── \u001b[0m🔨 Created mount \n",
      "\u001b[37m│   \u001b[0m/Users/santhum/projects/llm_engineering/week8/pricer_service2.py\n",
      "\u001b[2K\u001b[1A\u001b[2K\u001b[1A\u001b[2K\u001b[1A\u001b[2K\u001b[34m⠴\u001b[0m Creating objects...folder.\n",
      "\u001b[37m├── \u001b[0m🔨 Created mount \n",
      "\u001b[37m│   \u001b[0m/Users/santhum/projects/llm_engineering/week8/pricer_service2.py\n",
      "\u001b[2K\u001b[1A\u001b[2K\u001b[1A\u001b[2K\u001b[1A\u001b[2K\u001b[34m⠇\u001b[0m Creating objects...folder.\n",
      "\u001b[37m├── \u001b[0m🔨 Created mount \n",
      "\u001b[37m│   \u001b[0m/Users/santhum/projects/llm_engineering/week8/pricer_service2.py\n",
      "\u001b[2K\u001b[1A\u001b[2K\u001b[1A\u001b[2K\u001b[1A\u001b[2K\u001b[34m⠙\u001b[0m Creating objects...folder.\n",
      "\u001b[37m├── \u001b[0m🔨 Created mount \n",
      "\u001b[37m│   \u001b[0m/Users/santhum/projects/llm_engineering/week8/pricer_service2.py\n",
      "\u001b[2K\u001b[1A\u001b[2K\u001b[1A\u001b[2K\u001b[1A\u001b[2K\u001b[34m⠼\u001b[0m Creating objects...folder.\n",
      "\u001b[37m├── \u001b[0m🔨 Created mount \n",
      "\u001b[37m│   \u001b[0m/Users/santhum/projects/llm_engineering/week8/pricer_service2.py\n",
      "\u001b[2K\u001b[1A\u001b[2K\u001b[1A\u001b[2K\u001b[1A\u001b[2K\u001b[34m⠇\u001b[0m Creating objects...folder.\n",
      "\u001b[37m├── \u001b[0m🔨 Created mount \n",
      "\u001b[37m│   \u001b[0m/Users/santhum/projects/llm_engineering/week8/pricer_service2.py\n",
      "\u001b[2K\u001b[1A\u001b[2K\u001b[1A\u001b[2K\u001b[1A\u001b[2K\u001b[34m⠙\u001b[0m Creating objects...folder.\n",
      "\u001b[37m├── \u001b[0m🔨 Created mount \n",
      "\u001b[37m│   \u001b[0m/Users/santhum/projects/llm_engineering/week8/pricer_service2.py\n",
      "\u001b[2K\u001b[1A\u001b[2K\u001b[1A\u001b[2K\u001b[1A\u001b[2K\u001b[34m⠼\u001b[0m Creating objects...folder.\n",
      "\u001b[37m├── \u001b[0m🔨 Created mount \n",
      "\u001b[37m│   \u001b[0m/Users/santhum/projects/llm_engineering/week8/pricer_service2.py\n",
      "\u001b[2K\u001b[1A\u001b[2K\u001b[1A\u001b[2K\u001b[1A\u001b[2K\u001b[34m⠧\u001b[0m Creating objects...folder.\n",
      "\u001b[37m├── \u001b[0m🔨 Created mount \n",
      "\u001b[37m│   \u001b[0m/Users/santhum/projects/llm_engineering/week8/pricer_service2.py\n",
      "\u001b[2K\u001b[1A\u001b[2K\u001b[1A\u001b[2K\u001b[1A\u001b[2K\u001b[34m⠙\u001b[0m Creating objects...folder.\n",
      "\u001b[37m├── \u001b[0m🔨 Created mount \n",
      "\u001b[37m│   \u001b[0m/Users/santhum/projects/llm_engineering/week8/pricer_service2.py\n",
      "\u001b[2K\u001b[1A\u001b[2K\u001b[1A\u001b[2K\u001b[1A\u001b[2K\u001b[34m⠼\u001b[0m Creating objects...folder.\n",
      "\u001b[37m├── \u001b[0m🔨 Created mount \n",
      "\u001b[37m│   \u001b[0m/Users/santhum/projects/llm_engineering/week8/pricer_service2.py\n",
      "\u001b[2K\u001b[1A\u001b[2K\u001b[1A\u001b[2K\u001b[1A\u001b[2K\u001b[34m⠧\u001b[0m Creating objects...folder.\n",
      "\u001b[37m├── \u001b[0m🔨 Created mount \n",
      "\u001b[37m│   \u001b[0m/Users/santhum/projects/llm_engineering/week8/pricer_service2.py\n",
      "\u001b[2K\u001b[1A\u001b[2K\u001b[1A\u001b[2K\u001b[1A\u001b[2K\u001b[34m⠋\u001b[0m Creating objects...folder.\n",
      "\u001b[37m├── \u001b[0m🔨 Created mount \n",
      "\u001b[37m│   \u001b[0m/Users/santhum/projects/llm_engineering/week8/pricer_service2.py\n",
      "\u001b[2K\u001b[1A\u001b[2K\u001b[1A\u001b[2K\u001b[1A\u001b[2K\u001b[34m⠸\u001b[0m Creating objects...folder.\n",
      "\u001b[37m├── \u001b[0m🔨 Created mount \n",
      "\u001b[37m│   \u001b[0m/Users/santhum/projects/llm_engineering/week8/pricer_service2.py\n",
      "\u001b[2K\u001b[1A\u001b[2K\u001b[1A\u001b[2K\u001b[1A\u001b[2K\u001b[34m⠧\u001b[0m Creating objects...folder.\n",
      "\u001b[37m├── \u001b[0m🔨 Created mount \n",
      "\u001b[37m│   \u001b[0m/Users/santhum/projects/llm_engineering/week8/pricer_service2.py\n",
      "\u001b[2K\u001b[1A\u001b[2K\u001b[1A\u001b[2K\u001b[1A\u001b[2K\u001b[34m⠋\u001b[0m Creating objects...folder.\n",
      "\u001b[37m├── \u001b[0m🔨 Created mount \n",
      "\u001b[37m│   \u001b[0m/Users/santhum/projects/llm_engineering/week8/pricer_service2.py\n",
      "\u001b[2K\u001b[1A\u001b[2K\u001b[1A\u001b[2K\u001b[1A\u001b[2K\u001b[34m⠸\u001b[0m Creating objects...folder.\n",
      "\u001b[37m├── \u001b[0m🔨 Created mount \n",
      "\u001b[37m│   \u001b[0m/Users/santhum/projects/llm_engineering/week8/pricer_service2.py\n",
      "\u001b[2K\u001b[1A\u001b[2K\u001b[1A\u001b[2K\u001b[1A\u001b[2K\u001b[34m⠦\u001b[0m Creating objects...folder.\n",
      "\u001b[37m├── \u001b[0m🔨 Created mount \n",
      "\u001b[37m│   \u001b[0m/Users/santhum/projects/llm_engineering/week8/pricer_service2.py\n",
      "\u001b[2K\u001b[1A\u001b[2K\u001b[1A\u001b[2K\u001b[1A\u001b[2K\u001b[34m⠏\u001b[0m Creating objects...folder.\n",
      "\u001b[37m├── \u001b[0m🔨 Created mount \n",
      "\u001b[37m│   \u001b[0m/Users/santhum/projects/llm_engineering/week8/pricer_service2.py\n",
      "\u001b[2K\u001b[1A\u001b[2K\u001b[1A\u001b[2K\u001b[1A\u001b[2K\u001b[33m\u001b[1AFetching 17 files:   6%|▌         | 1/17 [00:00<00:03,  4.65it/s]\u001b[0m\u001b[34m⠙\u001b[0m\u001b[33m Creating objects...\u001b[0m\u001b[33m\n",
      "\u001b[0m\u001b[37m├── \u001b[0m\u001b[33m🔨 Created mount /Users/santhum/projects/llm_engineering/week8/pricer_servic\u001b[0m\u001b[33m\n",
      "\u001b[2K\u001b[1A\u001b[2K\u001b[1A\u001b[2K\u001b[34m⠸\u001b[0m Creating objects...ownload_model_to_folder.\u001b[0m\n",
      "\u001b[37m├── \u001b[0m🔨 Created mount \n",
      "\u001b[37m│   \u001b[0m/Users/santhum/projects/llm_engineering/week8/pricer_service2.py\n",
      "\u001b[2K\u001b[1A\u001b[2K\u001b[1A\u001b[2K\u001b[1A\u001b[2K\u001b[34m⠦\u001b[0m Creating objects...folder.\n",
      "\u001b[37m├── \u001b[0m🔨 Created mount \n",
      "\u001b[37m│   \u001b[0m/Users/santhum/projects/llm_engineering/week8/pricer_service2.py\n",
      "\u001b[2K\u001b[1A\u001b[2K\u001b[1A\u001b[2K\u001b[1A\u001b[2K\u001b[34m⠏\u001b[0m Creating objects...folder.\n",
      "\u001b[37m├── \u001b[0m🔨 Created mount \n",
      "\u001b[37m│   \u001b[0m/Users/santhum/projects/llm_engineering/week8/pricer_service2.py\n",
      "\u001b[2K\u001b[1A\u001b[2K\u001b[1A\u001b[2K\u001b[1A\u001b[2K\u001b[34m⠹\u001b[0m Creating objects...folder.\n",
      "\u001b[37m├── \u001b[0m🔨 Created mount \n",
      "\u001b[37m│   \u001b[0m/Users/santhum/projects/llm_engineering/week8/pricer_service2.py\n",
      "\u001b[2K\u001b[1A\u001b[2K\u001b[1A\u001b[2K\u001b[1A\u001b[2K\u001b[34m⠴\u001b[0m Creating objects...folder.\n",
      "\u001b[37m├── \u001b[0m🔨 Created mount \n",
      "\u001b[37m│   \u001b[0m/Users/santhum/projects/llm_engineering/week8/pricer_service2.py\n",
      "\u001b[2K\u001b[1A\u001b[2K\u001b[1A\u001b[2K\u001b[1A\u001b[2K\u001b[34m⠏\u001b[0m Creating objects...folder.\n",
      "\u001b[37m├── \u001b[0m🔨 Created mount \n",
      "\u001b[37m│   \u001b[0m/Users/santhum/projects/llm_engineering/week8/pricer_service2.py\n",
      "\u001b[2K\u001b[1A\u001b[2K\u001b[1A\u001b[2K\u001b[1A\u001b[2K\u001b[34m⠹\u001b[0m Creating objects...folder.\n",
      "\u001b[37m├── \u001b[0m🔨 Created mount \n",
      "\u001b[37m│   \u001b[0m/Users/santhum/projects/llm_engineering/week8/pricer_service2.py\n",
      "\u001b[2K\u001b[1A\u001b[2K\u001b[1A\u001b[2K\u001b[1A\u001b[2K\u001b[34m⠴\u001b[0m Creating objects...folder.\n",
      "\u001b[37m├── \u001b[0m🔨 Created mount \n",
      "\u001b[37m│   \u001b[0m/Users/santhum/projects/llm_engineering/week8/pricer_service2.py\n",
      "\u001b[2K\u001b[1A\u001b[2K\u001b[1A\u001b[2K\u001b[1A\u001b[2K\u001b[34m⠇\u001b[0m Creating objects...folder.\n",
      "\u001b[37m├── \u001b[0m🔨 Created mount \n",
      "\u001b[37m│   \u001b[0m/Users/santhum/projects/llm_engineering/week8/pricer_service2.py\n",
      "\u001b[2K\u001b[1A\u001b[2K\u001b[1A\u001b[2K\u001b[1A\u001b[2K\u001b[34m⠙\u001b[0m Creating objects...folder.\n",
      "\u001b[37m├── \u001b[0m🔨 Created mount \n",
      "\u001b[37m│   \u001b[0m/Users/santhum/projects/llm_engineering/week8/pricer_service2.py\n",
      "\u001b[2K\u001b[1A\u001b[2K\u001b[1A\u001b[2K\u001b[1A\u001b[2K\u001b[34m⠴\u001b[0m Creating objects...folder.\n",
      "\u001b[37m├── \u001b[0m🔨 Created mount \n",
      "\u001b[37m│   \u001b[0m/Users/santhum/projects/llm_engineering/week8/pricer_service2.py\n",
      "\u001b[2K\u001b[1A\u001b[2K\u001b[1A\u001b[2K\u001b[1A\u001b[2K\u001b[34m⠇\u001b[0m Creating objects...folder.\n",
      "\u001b[37m├── \u001b[0m🔨 Created mount \n",
      "\u001b[37m│   \u001b[0m/Users/santhum/projects/llm_engineering/week8/pricer_service2.py\n",
      "\u001b[2K\u001b[1A\u001b[2K\u001b[1A\u001b[2K\u001b[1A\u001b[2K\u001b[34m⠙\u001b[0m Creating objects...folder.\n",
      "\u001b[37m├── \u001b[0m🔨 Created mount \n",
      "\u001b[37m│   \u001b[0m/Users/santhum/projects/llm_engineering/week8/pricer_service2.py\n",
      "\u001b[2K\u001b[1A\u001b[2K\u001b[1A\u001b[2K\u001b[1A\u001b[2K\u001b[34m⠼\u001b[0m Creating objects...folder.\n",
      "\u001b[37m├── \u001b[0m🔨 Created mount \n",
      "\u001b[37m│   \u001b[0m/Users/santhum/projects/llm_engineering/week8/pricer_service2.py\n",
      "\u001b[2K\u001b[1A\u001b[2K\u001b[1A\u001b[2K\u001b[1A\u001b[2K\u001b[34m⠧\u001b[0m Creating objects...folder.\n",
      "\u001b[37m├── \u001b[0m🔨 Created mount \n",
      "\u001b[37m│   \u001b[0m/Users/santhum/projects/llm_engineering/week8/pricer_service2.py\n",
      "\u001b[2K\u001b[1A\u001b[2K\u001b[1A\u001b[2K\u001b[1A\u001b[2K\u001b[34m⠙\u001b[0m Creating objects...folder.\n",
      "\u001b[37m├── \u001b[0m🔨 Created mount \n",
      "\u001b[37m│   \u001b[0m/Users/santhum/projects/llm_engineering/week8/pricer_service2.py\n",
      "\u001b[2K\u001b[1A\u001b[2K\u001b[1A\u001b[2K\u001b[1A\u001b[2K\u001b[34m⠼\u001b[0m Creating objects...folder.\n",
      "\u001b[37m├── \u001b[0m🔨 Created mount \n",
      "\u001b[37m│   \u001b[0m/Users/santhum/projects/llm_engineering/week8/pricer_service2.py\n",
      "\u001b[2K\u001b[1A\u001b[2K\u001b[1A\u001b[2K\u001b[1A\u001b[2K\u001b[34m⠧\u001b[0m Creating objects...folder.\n",
      "\u001b[37m├── \u001b[0m🔨 Created mount \n",
      "\u001b[37m│   \u001b[0m/Users/santhum/projects/llm_engineering/week8/pricer_service2.py\n",
      "\u001b[2K\u001b[1A\u001b[2K\u001b[1A\u001b[2K\u001b[1A\u001b[2K\u001b[34m⠋\u001b[0m Creating objects...folder.\n",
      "\u001b[37m├── \u001b[0m🔨 Created mount \n",
      "\u001b[37m│   \u001b[0m/Users/santhum/projects/llm_engineering/week8/pricer_service2.py\n",
      "\u001b[2K\u001b[1A\u001b[2K\u001b[1A\u001b[2K\u001b[1A\u001b[2K\u001b[34m⠸\u001b[0m Creating objects...folder.\n",
      "\u001b[37m├── \u001b[0m🔨 Created mount \n",
      "\u001b[37m│   \u001b[0m/Users/santhum/projects/llm_engineering/week8/pricer_service2.py\n",
      "\u001b[2K\u001b[1A\u001b[2K\u001b[1A\u001b[2K\u001b[1A\u001b[2K\u001b[34m⠧\u001b[0m Creating objects...folder.\n",
      "\u001b[37m├── \u001b[0m🔨 Created mount \n",
      "\u001b[37m│   \u001b[0m/Users/santhum/projects/llm_engineering/week8/pricer_service2.py\n",
      "\u001b[2K\u001b[1A\u001b[2K\u001b[1A\u001b[2K\u001b[1A\u001b[2K\u001b[34m⠋\u001b[0m Creating objects...folder.\n",
      "\u001b[37m├── \u001b[0m🔨 Created mount \n",
      "\u001b[37m│   \u001b[0m/Users/santhum/projects/llm_engineering/week8/pricer_service2.py\n",
      "\u001b[2K\u001b[1A\u001b[2K\u001b[1A\u001b[2K\u001b[1A\u001b[2K\u001b[34m⠸\u001b[0m Creating objects...folder.\n",
      "\u001b[37m├── \u001b[0m🔨 Created mount \n",
      "\u001b[37m│   \u001b[0m/Users/santhum/projects/llm_engineering/week8/pricer_service2.py\n",
      "\u001b[2K\u001b[1A\u001b[2K\u001b[1A\u001b[2K\u001b[1A\u001b[2K\u001b[34m⠦\u001b[0m Creating objects...folder.\n",
      "\u001b[37m├── \u001b[0m🔨 Created mount \n",
      "\u001b[37m│   \u001b[0m/Users/santhum/projects/llm_engineering/week8/pricer_service2.py\n",
      "\u001b[2K\u001b[1A\u001b[2K\u001b[1A\u001b[2K\u001b[1A\u001b[2K\u001b[34m⠏\u001b[0m Creating objects...folder.\n",
      "\u001b[37m├── \u001b[0m🔨 Created mount \n",
      "\u001b[37m│   \u001b[0m/Users/santhum/projects/llm_engineering/week8/pricer_service2.py\n",
      "\u001b[2K\u001b[1A\u001b[2K\u001b[1A\u001b[2K\u001b[1A\u001b[2K\u001b[34m⠸\u001b[0m Creating objects...folder.\n",
      "\u001b[37m├── \u001b[0m🔨 Created mount \n",
      "\u001b[37m│   \u001b[0m/Users/santhum/projects/llm_engineering/week8/pricer_service2.py\n",
      "\u001b[2K\u001b[1A\u001b[2K\u001b[1A\u001b[2K\u001b[1A\u001b[2K\u001b[34m⠦\u001b[0m Creating objects...folder.\n",
      "\u001b[37m├── \u001b[0m🔨 Created mount \n",
      "\u001b[37m│   \u001b[0m/Users/santhum/projects/llm_engineering/week8/pricer_service2.py\n",
      "\u001b[2K\u001b[1A\u001b[2K\u001b[1A\u001b[2K\u001b[1A\u001b[2K\u001b[34m⠏\u001b[0m Creating objects...folder.\n",
      "\u001b[37m├── \u001b[0m🔨 Created mount \n",
      "\u001b[37m│   \u001b[0m/Users/santhum/projects/llm_engineering/week8/pricer_service2.py\n",
      "\u001b[2K\u001b[1A\u001b[2K\u001b[1A\u001b[2K\u001b[1A\u001b[2K\u001b[34m⠹\u001b[0m Creating objects...folder.\n",
      "\u001b[37m├── \u001b[0m🔨 Created mount \n",
      "\u001b[37m│   \u001b[0m/Users/santhum/projects/llm_engineering/week8/pricer_service2.py\n",
      "\u001b[2K\u001b[1A\u001b[2K\u001b[1A\u001b[2K\u001b[1A\u001b[2K\u001b[34m⠴\u001b[0m Creating objects...folder.\n",
      "\u001b[37m├── \u001b[0m🔨 Created mount \n",
      "\u001b[37m│   \u001b[0m/Users/santhum/projects/llm_engineering/week8/pricer_service2.py\n",
      "\u001b[2K\u001b[1A\u001b[2K\u001b[1A\u001b[2K\u001b[1A\u001b[2K\u001b[34m⠏\u001b[0m Creating objects...folder.\n",
      "\u001b[37m├── \u001b[0m🔨 Created mount \n",
      "\u001b[37m│   \u001b[0m/Users/santhum/projects/llm_engineering/week8/pricer_service2.py\n",
      "\u001b[2K\u001b[1A\u001b[2K\u001b[1A\u001b[2K\u001b[1A\u001b[2K\u001b[34m⠹\u001b[0m Creating objects...folder.\n",
      "\u001b[37m├── \u001b[0m🔨 Created mount \n",
      "\u001b[37m│   \u001b[0m/Users/santhum/projects/llm_engineering/week8/pricer_service2.py\n",
      "\u001b[2K\u001b[1A\u001b[2K\u001b[1A\u001b[2K\u001b[1A\u001b[2K\u001b[34m⠴\u001b[0m Creating objects...folder.\n",
      "\u001b[37m├── \u001b[0m🔨 Created mount \n",
      "\u001b[37m│   \u001b[0m/Users/santhum/projects/llm_engineering/week8/pricer_service2.py\n",
      "\u001b[2K\u001b[1A\u001b[2K\u001b[1A\u001b[2K\u001b[1A\u001b[2K\u001b[34m⠇\u001b[0m Creating objects...folder.\n",
      "\u001b[37m├── \u001b[0m🔨 Created mount \n",
      "\u001b[37m│   \u001b[0m/Users/santhum/projects/llm_engineering/week8/pricer_service2.py\n",
      "\u001b[2K\u001b[1A\u001b[2K\u001b[1A\u001b[2K\u001b[1A\u001b[2K\u001b[34m⠙\u001b[0m Creating objects...folder.\n",
      "\u001b[37m├── \u001b[0m🔨 Created mount \n",
      "\u001b[37m│   \u001b[0m/Users/santhum/projects/llm_engineering/week8/pricer_service2.py\n",
      "\u001b[2K\u001b[1A\u001b[2K\u001b[1A\u001b[2K\u001b[1A\u001b[2K\u001b[34m⠴\u001b[0m Creating objects...folder.\n",
      "\u001b[37m├── \u001b[0m🔨 Created mount \n",
      "\u001b[37m│   \u001b[0m/Users/santhum/projects/llm_engineering/week8/pricer_service2.py\n",
      "\u001b[2K\u001b[1A\u001b[2K\u001b[1A\u001b[2K\u001b[1A\u001b[2K\u001b[34m⠇\u001b[0m Creating objects...folder.\n",
      "\u001b[37m├── \u001b[0m🔨 Created mount \n",
      "\u001b[37m│   \u001b[0m/Users/santhum/projects/llm_engineering/week8/pricer_service2.py\n",
      "\u001b[2K\u001b[1A\u001b[2K\u001b[1A\u001b[2K\u001b[1A\u001b[2K\u001b[34m⠙\u001b[0m Creating objects...folder.\n",
      "\u001b[37m├── \u001b[0m🔨 Created mount \n",
      "\u001b[37m│   \u001b[0m/Users/santhum/projects/llm_engineering/week8/pricer_service2.py\n",
      "\u001b[2K\u001b[1A\u001b[2K\u001b[1A\u001b[2K\u001b[1A\u001b[2K\u001b[34m⠼\u001b[0m Creating objects...folder.\n",
      "\u001b[37m├── \u001b[0m🔨 Created mount \n",
      "\u001b[37m│   \u001b[0m/Users/santhum/projects/llm_engineering/week8/pricer_service2.py\n",
      "\u001b[2K\u001b[1A\u001b[2K\u001b[1A\u001b[2K\u001b[1A\u001b[2K\u001b[34m⠧\u001b[0m Creating objects...folder.\n",
      "\u001b[37m├── \u001b[0m🔨 Created mount \n",
      "\u001b[37m│   \u001b[0m/Users/santhum/projects/llm_engineering/week8/pricer_service2.py\n",
      "\u001b[2K\u001b[1A\u001b[2K\u001b[1A\u001b[2K\u001b[1A\u001b[2K\u001b[34m⠙\u001b[0m Creating objects...folder.\n",
      "\u001b[37m├── \u001b[0m🔨 Created mount \n",
      "\u001b[37m│   \u001b[0m/Users/santhum/projects/llm_engineering/week8/pricer_service2.py\n",
      "\u001b[2K\u001b[1A\u001b[2K\u001b[1A\u001b[2K\u001b[1A\u001b[2K\u001b[34m⠼\u001b[0m Creating objects...folder.\n",
      "\u001b[37m├── \u001b[0m🔨 Created mount \n",
      "\u001b[37m│   \u001b[0m/Users/santhum/projects/llm_engineering/week8/pricer_service2.py\n",
      "\u001b[2K\u001b[1A\u001b[2K\u001b[1A\u001b[2K\u001b[1A\u001b[2K\u001b[34m⠧\u001b[0m Creating objects...folder.\n",
      "\u001b[37m├── \u001b[0m🔨 Created mount \n",
      "\u001b[37m│   \u001b[0m/Users/santhum/projects/llm_engineering/week8/pricer_service2.py\n",
      "\u001b[2K\u001b[1A\u001b[2K\u001b[1A\u001b[2K\u001b[1A\u001b[2K\u001b[34m⠋\u001b[0m Creating objects...folder.\n",
      "\u001b[37m├── \u001b[0m🔨 Created mount \n",
      "\u001b[37m│   \u001b[0m/Users/santhum/projects/llm_engineering/week8/pricer_service2.py\n",
      "\u001b[2K\u001b[1A\u001b[2K\u001b[1A\u001b[2K\u001b[1A\u001b[2K\u001b[34m⠸\u001b[0m Creating objects...folder.\n",
      "\u001b[37m├── \u001b[0m🔨 Created mount \n",
      "\u001b[37m│   \u001b[0m/Users/santhum/projects/llm_engineering/week8/pricer_service2.py\n",
      "\u001b[2K\u001b[1A\u001b[2K\u001b[1A\u001b[2K\u001b[1A\u001b[2K\u001b[34m⠧\u001b[0m Creating objects...folder.\n",
      "\u001b[37m├── \u001b[0m🔨 Created mount \n",
      "\u001b[37m│   \u001b[0m/Users/santhum/projects/llm_engineering/week8/pricer_service2.py\n",
      "\u001b[2K\u001b[1A\u001b[2K\u001b[1A\u001b[2K\u001b[1A\u001b[2K\u001b[34m⠋\u001b[0m Creating objects...folder.\n",
      "\u001b[37m├── \u001b[0m🔨 Created mount \n",
      "\u001b[37m│   \u001b[0m/Users/santhum/projects/llm_engineering/week8/pricer_service2.py\n",
      "\u001b[2K\u001b[1A\u001b[2K\u001b[1A\u001b[2K\u001b[1A\u001b[2K\u001b[34m⠸\u001b[0m Creating objects...folder.\n",
      "\u001b[37m├── \u001b[0m🔨 Created mount \n",
      "\u001b[37m│   \u001b[0m/Users/santhum/projects/llm_engineering/week8/pricer_service2.py\n",
      "\u001b[2K\u001b[1A\u001b[2K\u001b[1A\u001b[2K\u001b[1A\u001b[2K\u001b[34m⠦\u001b[0m Creating objects...folder.\n",
      "\u001b[37m├── \u001b[0m🔨 Created mount \n",
      "\u001b[37m│   \u001b[0m/Users/santhum/projects/llm_engineering/week8/pricer_service2.py\n",
      "\u001b[2K\u001b[1A\u001b[2K\u001b[1A\u001b[2K\u001b[1A\u001b[2K\u001b[34m⠏\u001b[0m Creating objects...folder.\n",
      "\u001b[37m├── \u001b[0m🔨 Created mount \n",
      "\u001b[37m│   \u001b[0m/Users/santhum/projects/llm_engineering/week8/pricer_service2.py\n",
      "\u001b[2K\u001b[1A\u001b[2K\u001b[1A\u001b[2K\u001b[1A\u001b[2K\u001b[34m⠸\u001b[0m Creating objects...folder.\n",
      "\u001b[37m├── \u001b[0m🔨 Created mount \n",
      "\u001b[37m│   \u001b[0m/Users/santhum/projects/llm_engineering/week8/pricer_service2.py\n",
      "\u001b[2K\u001b[1A\u001b[2K\u001b[1A\u001b[2K\u001b[1A\u001b[2K\u001b[34m⠦\u001b[0m Creating objects...folder.\n",
      "\u001b[37m├── \u001b[0m🔨 Created mount \n",
      "\u001b[37m│   \u001b[0m/Users/santhum/projects/llm_engineering/week8/pricer_service2.py\n",
      "\u001b[2K\u001b[1A\u001b[2K\u001b[1A\u001b[2K\u001b[1A\u001b[2K\u001b[34m⠏\u001b[0m Creating objects...folder.\n",
      "\u001b[37m├── \u001b[0m🔨 Created mount \n",
      "\u001b[37m│   \u001b[0m/Users/santhum/projects/llm_engineering/week8/pricer_service2.py\n",
      "\u001b[2K\u001b[1A\u001b[2K\u001b[1A\u001b[2K\u001b[1A\u001b[2K\u001b[34m⠹\u001b[0m Creating objects...folder.\n",
      "\u001b[37m├── \u001b[0m🔨 Created mount \n",
      "\u001b[37m│   \u001b[0m/Users/santhum/projects/llm_engineering/week8/pricer_service2.py\n",
      "\u001b[2K\u001b[1A\u001b[2K\u001b[1A\u001b[2K\u001b[1A\u001b[2K\u001b[34m⠴\u001b[0m Creating objects...folder.\n",
      "\u001b[37m├── \u001b[0m🔨 Created mount \n",
      "\u001b[37m│   \u001b[0m/Users/santhum/projects/llm_engineering/week8/pricer_service2.py\n",
      "\u001b[2K\u001b[1A\u001b[2K\u001b[1A\u001b[2K\u001b[1A\u001b[2K\u001b[34m⠏\u001b[0m Creating objects...folder.\n",
      "\u001b[37m├── \u001b[0m🔨 Created mount \n",
      "\u001b[37m│   \u001b[0m/Users/santhum/projects/llm_engineering/week8/pricer_service2.py\n",
      "\u001b[2K\u001b[1A\u001b[2K\u001b[1A\u001b[2K\u001b[1A\u001b[2K\u001b[34m⠹\u001b[0m Creating objects...folder.\n",
      "\u001b[37m├── \u001b[0m🔨 Created mount \n",
      "\u001b[37m│   \u001b[0m/Users/santhum/projects/llm_engineering/week8/pricer_service2.py\n",
      "\u001b[2K\u001b[1A\u001b[2K\u001b[1A\u001b[2K\u001b[1A\u001b[2K\u001b[34m⠴\u001b[0m Creating objects...folder.\n",
      "\u001b[37m├── \u001b[0m🔨 Created mount \n",
      "\u001b[37m│   \u001b[0m/Users/santhum/projects/llm_engineering/week8/pricer_service2.py\n",
      "\u001b[2K\u001b[1A\u001b[2K\u001b[1A\u001b[2K\u001b[1A\u001b[2K\u001b[34m⠇\u001b[0m Creating objects...folder.\n",
      "\u001b[37m├── \u001b[0m🔨 Created mount \n",
      "\u001b[37m│   \u001b[0m/Users/santhum/projects/llm_engineering/week8/pricer_service2.py\n",
      "\u001b[2K\u001b[1A\u001b[2K\u001b[1A\u001b[2K\u001b[1A\u001b[2K\u001b[34m⠙\u001b[0m Creating objects...folder.\n",
      "\u001b[37m├── \u001b[0m🔨 Created mount \n",
      "\u001b[37m│   \u001b[0m/Users/santhum/projects/llm_engineering/week8/pricer_service2.py\n",
      "\u001b[2K\u001b[1A\u001b[2K\u001b[1A\u001b[2K\u001b[1A\u001b[2K\u001b[34m⠴\u001b[0m Creating objects...folder.\n",
      "\u001b[37m├── \u001b[0m🔨 Created mount \n",
      "\u001b[37m│   \u001b[0m/Users/santhum/projects/llm_engineering/week8/pricer_service2.py\n",
      "\u001b[2K\u001b[1A\u001b[2K\u001b[1A\u001b[2K\u001b[1A\u001b[2K\u001b[34m⠇\u001b[0m Creating objects...folder.\n",
      "\u001b[37m├── \u001b[0m🔨 Created mount \n",
      "\u001b[37m│   \u001b[0m/Users/santhum/projects/llm_engineering/week8/pricer_service2.py\n",
      "\u001b[2K\u001b[1A\u001b[2K\u001b[1A\u001b[2K\u001b[1A\u001b[2K\u001b[34m⠙\u001b[0m Creating objects...folder.\n",
      "\u001b[37m├── \u001b[0m🔨 Created mount \n",
      "\u001b[37m│   \u001b[0m/Users/santhum/projects/llm_engineering/week8/pricer_service2.py\n",
      "\u001b[2K\u001b[1A\u001b[2K\u001b[1A\u001b[2K\u001b[1A\u001b[2K\u001b[34m⠼\u001b[0m Creating objects...folder.\n",
      "\u001b[37m├── \u001b[0m🔨 Created mount \n",
      "\u001b[37m│   \u001b[0m/Users/santhum/projects/llm_engineering/week8/pricer_service2.py\n",
      "\u001b[2K\u001b[1A\u001b[2K\u001b[1A\u001b[2K\u001b[1A\u001b[2K\u001b[34m⠧\u001b[0m Creating objects...folder.\n",
      "\u001b[37m├── \u001b[0m🔨 Created mount \n",
      "\u001b[37m│   \u001b[0m/Users/santhum/projects/llm_engineering/week8/pricer_service2.py\n",
      "\u001b[2K\u001b[1A\u001b[2K\u001b[1A\u001b[2K\u001b[1A\u001b[2K\u001b[34m⠙\u001b[0m Creating objects...folder.\n",
      "\u001b[37m├── \u001b[0m🔨 Created mount \n",
      "\u001b[37m│   \u001b[0m/Users/santhum/projects/llm_engineering/week8/pricer_service2.py\n",
      "\u001b[2K\u001b[1A\u001b[2K\u001b[1A\u001b[2K\u001b[1A\u001b[2K\u001b[34m⠼\u001b[0m Creating objects...folder.\n",
      "\u001b[37m├── \u001b[0m🔨 Created mount \n",
      "\u001b[37m│   \u001b[0m/Users/santhum/projects/llm_engineering/week8/pricer_service2.py\n",
      "\u001b[2K\u001b[1A\u001b[2K\u001b[1A\u001b[2K\u001b[1A\u001b[2K\u001b[34m⠧\u001b[0m Creating objects...folder.\n",
      "\u001b[37m├── \u001b[0m🔨 Created mount \n",
      "\u001b[37m│   \u001b[0m/Users/santhum/projects/llm_engineering/week8/pricer_service2.py\n",
      "\u001b[2K\u001b[1A\u001b[2K\u001b[1A\u001b[2K\u001b[1A\u001b[2K\u001b[34m⠋\u001b[0m Creating objects...folder.\n",
      "\u001b[37m├── \u001b[0m🔨 Created mount \n",
      "\u001b[37m│   \u001b[0m/Users/santhum/projects/llm_engineering/week8/pricer_service2.py\n",
      "\u001b[2K\u001b[1A\u001b[2K\u001b[1A\u001b[2K\u001b[1A\u001b[2K\u001b[34m⠸\u001b[0m Creating objects...folder.\n",
      "\u001b[37m├── \u001b[0m🔨 Created mount \n",
      "\u001b[37m│   \u001b[0m/Users/santhum/projects/llm_engineering/week8/pricer_service2.py\n",
      "\u001b[2K\u001b[1A\u001b[2K\u001b[1A\u001b[2K\u001b[1A\u001b[2K\u001b[34m⠧\u001b[0m Creating objects...folder.\n",
      "\u001b[37m├── \u001b[0m🔨 Created mount \n",
      "\u001b[37m│   \u001b[0m/Users/santhum/projects/llm_engineering/week8/pricer_service2.py\n",
      "\u001b[2K\u001b[1A\u001b[2K\u001b[1A\u001b[2K\u001b[1A\u001b[2K\u001b[34m⠋\u001b[0m Creating objects...folder.\n",
      "\u001b[37m├── \u001b[0m🔨 Created mount \n",
      "\u001b[37m│   \u001b[0m/Users/santhum/projects/llm_engineering/week8/pricer_service2.py\n",
      "\u001b[2K\u001b[1A\u001b[2K\u001b[1A\u001b[2K\u001b[1A\u001b[2K\u001b[34m⠸\u001b[0m Creating objects...folder.\n",
      "\u001b[37m├── \u001b[0m🔨 Created mount \n",
      "\u001b[37m│   \u001b[0m/Users/santhum/projects/llm_engineering/week8/pricer_service2.py\n",
      "\u001b[2K\u001b[1A\u001b[2K\u001b[1A\u001b[2K\u001b[1A\u001b[2K\u001b[34m⠦\u001b[0m Creating objects...folder.\n",
      "\u001b[37m├── \u001b[0m🔨 Created mount \n",
      "\u001b[37m│   \u001b[0m/Users/santhum/projects/llm_engineering/week8/pricer_service2.py\n",
      "\u001b[2K\u001b[1A\u001b[2K\u001b[1A\u001b[2K\u001b[1A\u001b[2K\u001b[34m⠏\u001b[0m Creating objects...folder.\n",
      "\u001b[37m├── \u001b[0m🔨 Created mount \n",
      "\u001b[37m│   \u001b[0m/Users/santhum/projects/llm_engineering/week8/pricer_service2.py\n",
      "\u001b[2K\u001b[1A\u001b[2K\u001b[1A\u001b[2K\u001b[1A\u001b[2K\u001b[34m⠹\u001b[0m Creating objects...folder.\n",
      "\u001b[37m├── \u001b[0m🔨 Created mount \n",
      "\u001b[37m│   \u001b[0m/Users/santhum/projects/llm_engineering/week8/pricer_service2.py\n",
      "\u001b[2K\u001b[1A\u001b[2K\u001b[1A\u001b[2K\u001b[1A\u001b[2K\u001b[34m⠦\u001b[0m Creating objects...folder.\n",
      "\u001b[37m├── \u001b[0m🔨 Created mount \n",
      "\u001b[37m│   \u001b[0m/Users/santhum/projects/llm_engineering/week8/pricer_service2.py\n",
      "\u001b[2K\u001b[1A\u001b[2K\u001b[1A\u001b[2K\u001b[1A\u001b[2K\u001b[34m⠏\u001b[0m Creating objects...folder.\n",
      "\u001b[37m├── \u001b[0m🔨 Created mount \n",
      "\u001b[37m│   \u001b[0m/Users/santhum/projects/llm_engineering/week8/pricer_service2.py\n",
      "\u001b[2K\u001b[1A\u001b[2K\u001b[1A\u001b[2K\u001b[1A\u001b[2K\u001b[34m⠹\u001b[0m Creating objects...folder.\n",
      "\u001b[37m├── \u001b[0m🔨 Created mount \n",
      "\u001b[37m│   \u001b[0m/Users/santhum/projects/llm_engineering/week8/pricer_service2.py\n",
      "\u001b[2K\u001b[1A\u001b[2K\u001b[1A\u001b[2K\u001b[1A\u001b[2K\u001b[34m⠴\u001b[0m Creating objects...folder.\n",
      "\u001b[37m├── \u001b[0m🔨 Created mount \n",
      "\u001b[37m│   \u001b[0m/Users/santhum/projects/llm_engineering/week8/pricer_service2.py\n",
      "\u001b[2K\u001b[1A\u001b[2K\u001b[1A\u001b[2K\u001b[1A\u001b[2K\u001b[34m⠇\u001b[0m Creating objects...folder.\n",
      "\u001b[37m├── \u001b[0m🔨 Created mount \n",
      "\u001b[37m│   \u001b[0m/Users/santhum/projects/llm_engineering/week8/pricer_service2.py\n",
      "\u001b[2K\u001b[1A\u001b[2K\u001b[1A\u001b[2K\u001b[1A\u001b[2K\u001b[34m⠹\u001b[0m Creating objects...folder.\n",
      "\u001b[37m├── \u001b[0m🔨 Created mount \n",
      "\u001b[37m│   \u001b[0m/Users/santhum/projects/llm_engineering/week8/pricer_service2.py\n",
      "\u001b[2K\u001b[1A\u001b[2K\u001b[1A\u001b[2K\u001b[1A\u001b[2K\u001b[34m⠴\u001b[0m Creating objects...folder.\n",
      "\u001b[37m├── \u001b[0m🔨 Created mount \n",
      "\u001b[37m│   \u001b[0m/Users/santhum/projects/llm_engineering/week8/pricer_service2.py\n",
      "\u001b[2K\u001b[1A\u001b[2K\u001b[1A\u001b[2K\u001b[1A\u001b[2K\u001b[34m⠇\u001b[0m Creating objects...folder.\n",
      "\u001b[37m├── \u001b[0m🔨 Created mount \n",
      "\u001b[37m│   \u001b[0m/Users/santhum/projects/llm_engineering/week8/pricer_service2.py\n",
      "\u001b[2K\u001b[1A\u001b[2K\u001b[1A\u001b[2K\u001b[1A\u001b[2K\u001b[34m⠙\u001b[0m Creating objects...folder.\n",
      "\u001b[37m├── \u001b[0m🔨 Created mount \n",
      "\u001b[37m│   \u001b[0m/Users/santhum/projects/llm_engineering/week8/pricer_service2.py\n",
      "\u001b[2K\u001b[1A\u001b[2K\u001b[1A\u001b[2K\u001b[1A\u001b[2K\u001b[34m⠼\u001b[0m Creating objects...folder.\n",
      "\u001b[37m├── \u001b[0m🔨 Created mount \n",
      "\u001b[37m│   \u001b[0m/Users/santhum/projects/llm_engineering/week8/pricer_service2.py\n",
      "\u001b[2K\u001b[1A\u001b[2K\u001b[1A\u001b[2K\u001b[1A\u001b[2K\u001b[34m⠇\u001b[0m Creating objects...folder.\n",
      "\u001b[37m├── \u001b[0m🔨 Created mount \n",
      "\u001b[37m│   \u001b[0m/Users/santhum/projects/llm_engineering/week8/pricer_service2.py\n",
      "\u001b[2K\u001b[1A\u001b[2K\u001b[1A\u001b[2K\u001b[1A\u001b[2K\u001b[34m⠙\u001b[0m Creating objects...folder.\n",
      "\u001b[37m├── \u001b[0m🔨 Created mount \n",
      "\u001b[37m│   \u001b[0m/Users/santhum/projects/llm_engineering/week8/pricer_service2.py\n",
      "\u001b[2K\u001b[1A\u001b[2K\u001b[1A\u001b[2K\u001b[1A\u001b[2K\u001b[34m⠼\u001b[0m Creating objects...folder.\n",
      "\u001b[37m├── \u001b[0m🔨 Created mount \n",
      "\u001b[37m│   \u001b[0m/Users/santhum/projects/llm_engineering/week8/pricer_service2.py\n",
      "\u001b[2K\u001b[1A\u001b[2K\u001b[1A\u001b[2K\u001b[1A\u001b[2K\u001b[34m⠧\u001b[0m Creating objects...folder.\n",
      "\u001b[37m├── \u001b[0m🔨 Created mount \n",
      "\u001b[37m│   \u001b[0m/Users/santhum/projects/llm_engineering/week8/pricer_service2.py\n",
      "\u001b[2K\u001b[1A\u001b[2K\u001b[1A\u001b[2K\u001b[1A\u001b[2K\u001b[34m⠋\u001b[0m Creating objects...folder.\n",
      "\u001b[37m├── \u001b[0m🔨 Created mount \n",
      "\u001b[37m│   \u001b[0m/Users/santhum/projects/llm_engineering/week8/pricer_service2.py\n",
      "\u001b[2K\u001b[1A\u001b[2K\u001b[1A\u001b[2K\u001b[1A\u001b[2K\u001b[34m⠼\u001b[0m Creating objects...folder.\n",
      "\u001b[37m├── \u001b[0m🔨 Created mount \n",
      "\u001b[37m│   \u001b[0m/Users/santhum/projects/llm_engineering/week8/pricer_service2.py\n",
      "\u001b[2K\u001b[1A\u001b[2K\u001b[1A\u001b[2K\u001b[1A\u001b[2K\u001b[34m⠧\u001b[0m Creating objects...folder.\n",
      "\u001b[37m├── \u001b[0m🔨 Created mount \n",
      "\u001b[37m│   \u001b[0m/Users/santhum/projects/llm_engineering/week8/pricer_service2.py\n",
      "\u001b[2K\u001b[1A\u001b[2K\u001b[1A\u001b[2K\u001b[1A\u001b[2K\u001b[34m⠋\u001b[0m Creating objects...folder.\n",
      "\u001b[37m├── \u001b[0m🔨 Created mount \n",
      "\u001b[37m│   \u001b[0m/Users/santhum/projects/llm_engineering/week8/pricer_service2.py\n",
      "\u001b[2K\u001b[1A\u001b[2K\u001b[1A\u001b[2K\u001b[1A\u001b[2K\u001b[34m⠸\u001b[0m Creating objects...folder.\n",
      "\u001b[37m├── \u001b[0m🔨 Created mount \n",
      "\u001b[37m│   \u001b[0m/Users/santhum/projects/llm_engineering/week8/pricer_service2.py\n",
      "\u001b[2K\u001b[1A\u001b[2K\u001b[1A\u001b[2K\u001b[1A\u001b[2K\u001b[34m⠦\u001b[0m Creating objects...folder.\n",
      "\u001b[37m├── \u001b[0m🔨 Created mount \n",
      "\u001b[37m│   \u001b[0m/Users/santhum/projects/llm_engineering/week8/pricer_service2.py\n",
      "\u001b[2K\u001b[1A\u001b[2K\u001b[1A\u001b[2K\u001b[1A\u001b[2K\u001b[34m⠋\u001b[0m Creating objects...folder.\n",
      "\u001b[37m├── \u001b[0m🔨 Created mount \n",
      "\u001b[37m│   \u001b[0m/Users/santhum/projects/llm_engineering/week8/pricer_service2.py\n",
      "\u001b[2K\u001b[1A\u001b[2K\u001b[1A\u001b[2K\u001b[1A\u001b[2K\u001b[34m⠸\u001b[0m Creating objects...folder.\n",
      "\u001b[37m├── \u001b[0m🔨 Created mount \n",
      "\u001b[37m│   \u001b[0m/Users/santhum/projects/llm_engineering/week8/pricer_service2.py\n",
      "\u001b[2K\u001b[1A\u001b[2K\u001b[1A\u001b[2K\u001b[1A\u001b[2K\u001b[34m⠦\u001b[0m Creating objects...folder.\n",
      "\u001b[37m├── \u001b[0m🔨 Created mount \n",
      "\u001b[37m│   \u001b[0m/Users/santhum/projects/llm_engineering/week8/pricer_service2.py\n",
      "\u001b[2K\u001b[1A\u001b[2K\u001b[1A\u001b[2K\u001b[1A\u001b[2K\u001b[34m⠏\u001b[0m Creating objects...folder.\n",
      "\u001b[37m├── \u001b[0m🔨 Created mount \n",
      "\u001b[37m│   \u001b[0m/Users/santhum/projects/llm_engineering/week8/pricer_service2.py\n",
      "\u001b[2K\u001b[1A\u001b[2K\u001b[1A\u001b[2K\u001b[1A\u001b[2K\u001b[34m⠹\u001b[0m Creating objects...folder.\n",
      "\u001b[37m├── \u001b[0m🔨 Created mount \n",
      "\u001b[37m│   \u001b[0m/Users/santhum/projects/llm_engineering/week8/pricer_service2.py\n",
      "\u001b[2K\u001b[1A\u001b[2K\u001b[1A\u001b[2K\u001b[1A\u001b[2K\u001b[34m⠦\u001b[0m Creating objects...folder.\n",
      "\u001b[37m├── \u001b[0m🔨 Created mount \n",
      "\u001b[37m│   \u001b[0m/Users/santhum/projects/llm_engineering/week8/pricer_service2.py\n",
      "\u001b[2K\u001b[1A\u001b[2K\u001b[1A\u001b[2K\u001b[1A\u001b[2K\u001b[34m⠏\u001b[0m Creating objects...folder.\n",
      "\u001b[37m├── \u001b[0m🔨 Created mount \n",
      "\u001b[37m│   \u001b[0m/Users/santhum/projects/llm_engineering/week8/pricer_service2.py\n",
      "\u001b[2K\u001b[1A\u001b[2K\u001b[1A\u001b[2K\u001b[1A\u001b[2K\u001b[34m⠹\u001b[0m Creating objects...folder.\n",
      "\u001b[37m├── \u001b[0m🔨 Created mount \n",
      "\u001b[37m│   \u001b[0m/Users/santhum/projects/llm_engineering/week8/pricer_service2.py\n",
      "\u001b[2K\u001b[1A\u001b[2K\u001b[1A\u001b[2K\u001b[1A\u001b[2K\u001b[34m⠴\u001b[0m Creating objects...folder.\n",
      "\u001b[37m├── \u001b[0m🔨 Created mount \n",
      "\u001b[37m│   \u001b[0m/Users/santhum/projects/llm_engineering/week8/pricer_service2.py\n",
      "\u001b[2K\u001b[1A\u001b[2K\u001b[1A\u001b[2K\u001b[1A\u001b[2K\u001b[34m⠇\u001b[0m Creating objects...folder.\n",
      "\u001b[37m├── \u001b[0m🔨 Created mount \n",
      "\u001b[37m│   \u001b[0m/Users/santhum/projects/llm_engineering/week8/pricer_service2.py\n",
      "\u001b[2K\u001b[1A\u001b[2K\u001b[1A\u001b[2K\u001b[1A\u001b[2K\u001b[34m⠙\u001b[0m Creating objects...folder.\n",
      "\u001b[37m├── \u001b[0m🔨 Created mount \n",
      "\u001b[37m│   \u001b[0m/Users/santhum/projects/llm_engineering/week8/pricer_service2.py\n",
      "\u001b[2K\u001b[1A\u001b[2K\u001b[1A\u001b[2K\u001b[1A\u001b[2K\u001b[34m⠴\u001b[0m Creating objects...folder.\n",
      "\u001b[37m├── \u001b[0m🔨 Created mount \n",
      "\u001b[37m│   \u001b[0m/Users/santhum/projects/llm_engineering/week8/pricer_service2.py\n",
      "\u001b[2K\u001b[1A\u001b[2K\u001b[1A\u001b[2K\u001b[1A\u001b[2K\u001b[34m⠇\u001b[0m Creating objects...folder.\n",
      "\u001b[37m├── \u001b[0m🔨 Created mount \n",
      "\u001b[37m│   \u001b[0m/Users/santhum/projects/llm_engineering/week8/pricer_service2.py\n",
      "\u001b[2K\u001b[1A\u001b[2K\u001b[1A\u001b[2K\u001b[1A\u001b[2K\u001b[34m⠙\u001b[0m Creating objects...folder.\n",
      "\u001b[37m├── \u001b[0m🔨 Created mount \n",
      "\u001b[37m│   \u001b[0m/Users/santhum/projects/llm_engineering/week8/pricer_service2.py\n",
      "\u001b[2K\u001b[1A\u001b[2K\u001b[1A\u001b[2K\u001b[1A\u001b[2K\u001b[34m⠼\u001b[0m Creating objects...folder.\n",
      "\u001b[37m├── \u001b[0m🔨 Created mount \n",
      "\u001b[37m│   \u001b[0m/Users/santhum/projects/llm_engineering/week8/pricer_service2.py\n",
      "\u001b[2K\u001b[1A\u001b[2K\u001b[1A\u001b[2K\u001b[1A\u001b[2K\u001b[34m⠇\u001b[0m Creating objects...folder.\n",
      "\u001b[37m├── \u001b[0m🔨 Created mount \n",
      "\u001b[37m│   \u001b[0m/Users/santhum/projects/llm_engineering/week8/pricer_service2.py\n",
      "\u001b[2K\u001b[1A\u001b[2K\u001b[1A\u001b[2K\u001b[1A\u001b[2K\u001b[34m⠙\u001b[0m Creating objects...folder.\n",
      "\u001b[37m├── \u001b[0m🔨 Created mount \n",
      "\u001b[37m│   \u001b[0m/Users/santhum/projects/llm_engineering/week8/pricer_service2.py\n",
      "\u001b[2K\u001b[1A\u001b[2K\u001b[1A\u001b[2K\u001b[1A\u001b[2K\u001b[34m⠼\u001b[0m Creating objects...folder.\n",
      "\u001b[37m├── \u001b[0m🔨 Created mount \n",
      "\u001b[37m│   \u001b[0m/Users/santhum/projects/llm_engineering/week8/pricer_service2.py\n",
      "\u001b[2K\u001b[1A\u001b[2K\u001b[1A\u001b[2K\u001b[1A\u001b[2K\u001b[34m⠧\u001b[0m Creating objects...folder.\n",
      "\u001b[37m├── \u001b[0m🔨 Created mount \n",
      "\u001b[37m│   \u001b[0m/Users/santhum/projects/llm_engineering/week8/pricer_service2.py\n",
      "\u001b[2K\u001b[1A\u001b[2K\u001b[1A\u001b[2K\u001b[1A\u001b[2K\u001b[34m⠋\u001b[0m Creating objects...folder.\n",
      "\u001b[37m├── \u001b[0m🔨 Created mount \n",
      "\u001b[37m│   \u001b[0m/Users/santhum/projects/llm_engineering/week8/pricer_service2.py\n",
      "\u001b[2K\u001b[1A\u001b[2K\u001b[1A\u001b[2K\u001b[1A\u001b[2K\u001b[34m⠼\u001b[0m Creating objects...folder.\n",
      "\u001b[37m├── \u001b[0m🔨 Created mount \n",
      "\u001b[37m│   \u001b[0m/Users/santhum/projects/llm_engineering/week8/pricer_service2.py\n",
      "\u001b[2K\u001b[1A\u001b[2K\u001b[1A\u001b[2K\u001b[1A\u001b[2K\u001b[34m⠧\u001b[0m Creating objects...folder.\n",
      "\u001b[37m├── \u001b[0m🔨 Created mount \n",
      "\u001b[37m│   \u001b[0m/Users/santhum/projects/llm_engineering/week8/pricer_service2.py\n",
      "\u001b[2K\u001b[1A\u001b[2K\u001b[1A\u001b[2K\u001b[1A\u001b[2K\u001b[34m⠋\u001b[0m Creating objects...folder.\n",
      "\u001b[37m├── \u001b[0m🔨 Created mount \n",
      "\u001b[37m│   \u001b[0m/Users/santhum/projects/llm_engineering/week8/pricer_service2.py\n",
      "\u001b[2K\u001b[1A\u001b[2K\u001b[1A\u001b[2K\u001b[1A\u001b[2K\u001b[34m⠸\u001b[0m Creating objects...folder.\n",
      "\u001b[37m├── \u001b[0m🔨 Created mount \n",
      "\u001b[37m│   \u001b[0m/Users/santhum/projects/llm_engineering/week8/pricer_service2.py\n",
      "\u001b[2K\u001b[1A\u001b[2K\u001b[1A\u001b[2K\u001b[1A\u001b[2K\u001b[34m⠦\u001b[0m Creating objects...folder.\n",
      "\u001b[37m├── \u001b[0m🔨 Created mount \n",
      "\u001b[37m│   \u001b[0m/Users/santhum/projects/llm_engineering/week8/pricer_service2.py\n",
      "\u001b[2K\u001b[1A\u001b[2K\u001b[1A\u001b[2K\u001b[1A\u001b[2K\u001b[34m⠋\u001b[0m Creating objects...folder.\n",
      "\u001b[37m├── \u001b[0m🔨 Created mount \n",
      "\u001b[37m│   \u001b[0m/Users/santhum/projects/llm_engineering/week8/pricer_service2.py\n",
      "\u001b[2K\u001b[1A\u001b[2K\u001b[1A\u001b[2K\u001b[1A\u001b[2K\u001b[34m⠸\u001b[0m Creating objects...folder.\n",
      "\u001b[37m├── \u001b[0m🔨 Created mount \n",
      "\u001b[37m│   \u001b[0m/Users/santhum/projects/llm_engineering/week8/pricer_service2.py\n",
      "\u001b[2K\u001b[1A\u001b[2K\u001b[1A\u001b[2K\u001b[1A\u001b[2K\u001b[34m⠦\u001b[0m Creating objects...folder.\n",
      "\u001b[37m├── \u001b[0m🔨 Created mount \n",
      "\u001b[37m│   \u001b[0m/Users/santhum/projects/llm_engineering/week8/pricer_service2.py\n",
      "\u001b[2K\u001b[1A\u001b[2K\u001b[1A\u001b[2K\u001b[1A\u001b[2K\u001b[34m⠏\u001b[0m Creating objects...folder.\n",
      "\u001b[37m├── \u001b[0m🔨 Created mount \n",
      "\u001b[37m│   \u001b[0m/Users/santhum/projects/llm_engineering/week8/pricer_service2.py\n",
      "\u001b[2K\u001b[1A\u001b[2K\u001b[1A\u001b[2K\u001b[1A\u001b[2K\u001b[34m⠹\u001b[0m Creating objects...folder.\n",
      "\u001b[37m├── \u001b[0m🔨 Created mount \n",
      "\u001b[37m│   \u001b[0m/Users/santhum/projects/llm_engineering/week8/pricer_service2.py\n",
      "\u001b[2K\u001b[1A\u001b[2K\u001b[1A\u001b[2K\u001b[1A\u001b[2K\u001b[34m⠦\u001b[0m Creating objects...folder.\n",
      "\u001b[37m├── \u001b[0m🔨 Created mount \n",
      "\u001b[37m│   \u001b[0m/Users/santhum/projects/llm_engineering/week8/pricer_service2.py\n",
      "\u001b[2K\u001b[1A\u001b[2K\u001b[1A\u001b[2K\u001b[1A\u001b[2K\u001b[34m⠏\u001b[0m Creating objects...folder.\n",
      "\u001b[37m├── \u001b[0m🔨 Created mount \n",
      "\u001b[37m│   \u001b[0m/Users/santhum/projects/llm_engineering/week8/pricer_service2.py\n",
      "\u001b[2K\u001b[1A\u001b[2K\u001b[1A\u001b[2K\u001b[1A\u001b[2K\u001b[34m⠹\u001b[0m Creating objects...folder.\n",
      "\u001b[37m├── \u001b[0m🔨 Created mount \n",
      "\u001b[37m│   \u001b[0m/Users/santhum/projects/llm_engineering/week8/pricer_service2.py\n",
      "\u001b[2K\u001b[1A\u001b[2K\u001b[1A\u001b[2K\u001b[1A\u001b[2K\u001b[34m⠴\u001b[0m Creating objects...folder.\n",
      "\u001b[37m├── \u001b[0m🔨 Created mount \n",
      "\u001b[37m│   \u001b[0m/Users/santhum/projects/llm_engineering/week8/pricer_service2.py\n",
      "\u001b[2K\u001b[1A\u001b[2K\u001b[1A\u001b[2K\u001b[1A\u001b[2K\u001b[34m⠇\u001b[0m Creating objects...folder.\n",
      "\u001b[37m├── \u001b[0m🔨 Created mount \n",
      "\u001b[37m│   \u001b[0m/Users/santhum/projects/llm_engineering/week8/pricer_service2.py\n",
      "\u001b[2K\u001b[1A\u001b[2K\u001b[1A\u001b[2K\u001b[1A\u001b[2K\u001b[34m⠹\u001b[0m Creating objects...folder.\n",
      "\u001b[37m├── \u001b[0m🔨 Created mount \n",
      "\u001b[37m│   \u001b[0m/Users/santhum/projects/llm_engineering/week8/pricer_service2.py\n",
      "\u001b[2K\u001b[1A\u001b[2K\u001b[1A\u001b[2K\u001b[1A\u001b[2K\u001b[34m⠴\u001b[0m Creating objects...folder.\n",
      "\u001b[37m├── \u001b[0m🔨 Created mount \n",
      "\u001b[37m│   \u001b[0m/Users/santhum/projects/llm_engineering/week8/pricer_service2.py\n",
      "\u001b[2K\u001b[1A\u001b[2K\u001b[1A\u001b[2K\u001b[1A\u001b[2K\u001b[34m⠇\u001b[0m Creating objects...folder.\n",
      "\u001b[37m├── \u001b[0m🔨 Created mount \n",
      "\u001b[37m│   \u001b[0m/Users/santhum/projects/llm_engineering/week8/pricer_service2.py\n",
      "\u001b[2K\u001b[1A\u001b[2K\u001b[1A\u001b[2K\u001b[1A\u001b[2K\u001b[34m⠙\u001b[0m Creating objects...folder.\n",
      "\u001b[37m├── \u001b[0m🔨 Created mount \n",
      "\u001b[37m│   \u001b[0m/Users/santhum/projects/llm_engineering/week8/pricer_service2.py\n",
      "\u001b[2K\u001b[1A\u001b[2K\u001b[1A\u001b[2K\u001b[1A\u001b[2K\u001b[34m⠼\u001b[0m Creating objects...folder.\n",
      "\u001b[37m├── \u001b[0m🔨 Created mount \n",
      "\u001b[37m│   \u001b[0m/Users/santhum/projects/llm_engineering/week8/pricer_service2.py\n",
      "\u001b[2K\u001b[1A\u001b[2K\u001b[1A\u001b[2K\u001b[1A\u001b[2K\u001b[34m⠇\u001b[0m Creating objects...folder.\n",
      "\u001b[37m├── \u001b[0m🔨 Created mount \n",
      "\u001b[37m│   \u001b[0m/Users/santhum/projects/llm_engineering/week8/pricer_service2.py\n",
      "\u001b[2K\u001b[1A\u001b[2K\u001b[1A\u001b[2K\u001b[1A\u001b[2K\u001b[34m⠙\u001b[0m Creating objects...folder.\n",
      "\u001b[37m├── \u001b[0m🔨 Created mount \n",
      "\u001b[37m│   \u001b[0m/Users/santhum/projects/llm_engineering/week8/pricer_service2.py\n",
      "\u001b[2K\u001b[1A\u001b[2K\u001b[1A\u001b[2K\u001b[1A\u001b[2K\u001b[34m⠼\u001b[0m Creating objects...folder.\n",
      "\u001b[37m├── \u001b[0m🔨 Created mount \n",
      "\u001b[37m│   \u001b[0m/Users/santhum/projects/llm_engineering/week8/pricer_service2.py\n",
      "\u001b[2K\u001b[1A\u001b[2K\u001b[1A\u001b[2K\u001b[1A\u001b[2K\u001b[34m⠧\u001b[0m Creating objects...folder.\n",
      "\u001b[37m├── \u001b[0m🔨 Created mount \n",
      "\u001b[37m│   \u001b[0m/Users/santhum/projects/llm_engineering/week8/pricer_service2.py\n",
      "\u001b[2K\u001b[1A\u001b[2K\u001b[1A\u001b[2K\u001b[1A\u001b[2K\u001b[34m⠋\u001b[0m Creating objects...folder.\n",
      "\u001b[37m├── \u001b[0m🔨 Created mount \n",
      "\u001b[37m│   \u001b[0m/Users/santhum/projects/llm_engineering/week8/pricer_service2.py\n",
      "\u001b[2K\u001b[1A\u001b[2K\u001b[1A\u001b[2K\u001b[1A\u001b[2K\u001b[34m⠸\u001b[0m Creating objects...folder.\n",
      "\u001b[37m├── \u001b[0m🔨 Created mount \n",
      "\u001b[37m│   \u001b[0m/Users/santhum/projects/llm_engineering/week8/pricer_service2.py\n",
      "\u001b[2K\u001b[1A\u001b[2K\u001b[1A\u001b[2K\u001b[1A\u001b[2K\u001b[34m⠧\u001b[0m Creating objects...folder.\n",
      "\u001b[37m├── \u001b[0m🔨 Created mount \n",
      "\u001b[37m│   \u001b[0m/Users/santhum/projects/llm_engineering/week8/pricer_service2.py\n",
      "\u001b[2K\u001b[1A\u001b[2K\u001b[1A\u001b[2K\u001b[1A\u001b[2K\u001b[34m⠋\u001b[0m Creating objects...folder.\n",
      "\u001b[37m├── \u001b[0m🔨 Created mount \n",
      "\u001b[37m│   \u001b[0m/Users/santhum/projects/llm_engineering/week8/pricer_service2.py\n",
      "\u001b[2K\u001b[1A\u001b[2K\u001b[1A\u001b[2K\u001b[1A\u001b[2K\u001b[34m⠸\u001b[0m Creating objects...folder.\n",
      "\u001b[37m├── \u001b[0m🔨 Created mount \n",
      "\u001b[37m│   \u001b[0m/Users/santhum/projects/llm_engineering/week8/pricer_service2.py\n",
      "\u001b[2K\u001b[1A\u001b[2K\u001b[1A\u001b[2K\u001b[1A\u001b[2K\u001b[34m⠦\u001b[0m Creating objects...folder.\n",
      "\u001b[37m├── \u001b[0m🔨 Created mount \n",
      "\u001b[37m│   \u001b[0m/Users/santhum/projects/llm_engineering/week8/pricer_service2.py\n",
      "\u001b[2K\u001b[1A\u001b[2K\u001b[1A\u001b[2K\u001b[1A\u001b[2K\u001b[34m⠏\u001b[0m Creating objects...folder.\n",
      "\u001b[37m├── \u001b[0m🔨 Created mount \n",
      "\u001b[37m│   \u001b[0m/Users/santhum/projects/llm_engineering/week8/pricer_service2.py\n",
      "\u001b[2K\u001b[1A\u001b[2K\u001b[1A\u001b[2K\u001b[1A\u001b[2K\u001b[34m⠸\u001b[0m Creating objects...folder.\n",
      "\u001b[37m├── \u001b[0m🔨 Created mount \n",
      "\u001b[37m│   \u001b[0m/Users/santhum/projects/llm_engineering/week8/pricer_service2.py\n",
      "\u001b[2K\u001b[1A\u001b[2K\u001b[1A\u001b[2K\u001b[1A\u001b[2K\u001b[34m⠦\u001b[0m Creating objects...folder.\n",
      "\u001b[37m├── \u001b[0m🔨 Created mount \n",
      "\u001b[37m│   \u001b[0m/Users/santhum/projects/llm_engineering/week8/pricer_service2.py\n",
      "\u001b[2K\u001b[1A\u001b[2K\u001b[1A\u001b[2K\u001b[1A\u001b[2K\u001b[34m⠏\u001b[0m Creating objects...folder.\n",
      "\u001b[37m├── \u001b[0m🔨 Created mount \n",
      "\u001b[37m│   \u001b[0m/Users/santhum/projects/llm_engineering/week8/pricer_service2.py\n",
      "\u001b[2K\u001b[1A\u001b[2K\u001b[1A\u001b[2K\u001b[1A\u001b[2K\u001b[34m⠹\u001b[0m Creating objects...folder.\n",
      "\u001b[37m├── \u001b[0m🔨 Created mount \n",
      "\u001b[37m│   \u001b[0m/Users/santhum/projects/llm_engineering/week8/pricer_service2.py\n",
      "\u001b[2K\u001b[1A\u001b[2K\u001b[1A\u001b[2K\u001b[1A\u001b[2K\u001b[34m⠴\u001b[0m Creating objects...folder.\n",
      "\u001b[37m├── \u001b[0m🔨 Created mount \n",
      "\u001b[37m│   \u001b[0m/Users/santhum/projects/llm_engineering/week8/pricer_service2.py\n",
      "\u001b[2K\u001b[1A\u001b[2K\u001b[1A\u001b[2K\u001b[1A\u001b[2K\u001b[34m⠏\u001b[0m Creating objects...folder.\n",
      "\u001b[37m├── \u001b[0m🔨 Created mount \n",
      "\u001b[37m│   \u001b[0m/Users/santhum/projects/llm_engineering/week8/pricer_service2.py\n",
      "\u001b[2K\u001b[1A\u001b[2K\u001b[1A\u001b[2K\u001b[1A\u001b[2K\u001b[34m⠹\u001b[0m Creating objects...folder.\n",
      "\u001b[37m├── \u001b[0m🔨 Created mount \n",
      "\u001b[37m│   \u001b[0m/Users/santhum/projects/llm_engineering/week8/pricer_service2.py\n",
      "\u001b[2K\u001b[1A\u001b[2K\u001b[1A\u001b[2K\u001b[1A\u001b[2K\u001b[34m⠴\u001b[0m Creating objects...folder.\n",
      "\u001b[37m├── \u001b[0m🔨 Created mount \n",
      "\u001b[37m│   \u001b[0m/Users/santhum/projects/llm_engineering/week8/pricer_service2.py\n",
      "\u001b[2K\u001b[1A\u001b[2K\u001b[1A\u001b[2K\u001b[1A\u001b[2K\u001b[34m⠇\u001b[0m Creating objects...folder.\n",
      "\u001b[37m├── \u001b[0m🔨 Created mount \n",
      "\u001b[37m│   \u001b[0m/Users/santhum/projects/llm_engineering/week8/pricer_service2.py\n",
      "\u001b[2K\u001b[1A\u001b[2K\u001b[1A\u001b[2K\u001b[1A\u001b[2K\u001b[34m⠙\u001b[0m Creating objects...folder.\n",
      "\u001b[37m├── \u001b[0m🔨 Created mount \n",
      "\u001b[37m│   \u001b[0m/Users/santhum/projects/llm_engineering/week8/pricer_service2.py\n",
      "\u001b[2K\u001b[1A\u001b[2K\u001b[1A\u001b[2K\u001b[1A\u001b[2K\u001b[34m⠴\u001b[0m Creating objects...folder.\n",
      "\u001b[37m├── \u001b[0m🔨 Created mount \n",
      "\u001b[37m│   \u001b[0m/Users/santhum/projects/llm_engineering/week8/pricer_service2.py\n",
      "\u001b[2K\u001b[1A\u001b[2K\u001b[1A\u001b[2K\u001b[1A\u001b[2K\u001b[34m⠇\u001b[0m Creating objects...folder.\n",
      "\u001b[37m├── \u001b[0m🔨 Created mount \n",
      "\u001b[37m│   \u001b[0m/Users/santhum/projects/llm_engineering/week8/pricer_service2.py\n",
      "\u001b[2K\u001b[1A\u001b[2K\u001b[1A\u001b[2K\u001b[1A\u001b[2K\u001b[34m⠙\u001b[0m Creating objects...folder.\n",
      "\u001b[37m├── \u001b[0m🔨 Created mount \n",
      "\u001b[37m│   \u001b[0m/Users/santhum/projects/llm_engineering/week8/pricer_service2.py\n",
      "\u001b[2K\u001b[1A\u001b[2K\u001b[1A\u001b[2K\u001b[1A\u001b[2K\u001b[34m⠼\u001b[0m Creating objects...folder.\n",
      "\u001b[37m├── \u001b[0m🔨 Created mount \n",
      "\u001b[37m│   \u001b[0m/Users/santhum/projects/llm_engineering/week8/pricer_service2.py\n",
      "\u001b[2K\u001b[1A\u001b[2K\u001b[1A\u001b[2K\u001b[1A\u001b[2K\u001b[34m⠧\u001b[0m Creating objects...folder.\n",
      "\u001b[37m├── \u001b[0m🔨 Created mount \n",
      "\u001b[37m│   \u001b[0m/Users/santhum/projects/llm_engineering/week8/pricer_service2.py\n",
      "\u001b[2K\u001b[1A\u001b[2K\u001b[1A\u001b[2K\u001b[1A\u001b[2K\u001b[34m⠙\u001b[0m Creating objects...folder.\n",
      "\u001b[37m├── \u001b[0m🔨 Created mount \n",
      "\u001b[37m│   \u001b[0m/Users/santhum/projects/llm_engineering/week8/pricer_service2.py\n",
      "\u001b[2K\u001b[1A\u001b[2K\u001b[1A\u001b[2K\u001b[1A\u001b[2K\u001b[34m⠼\u001b[0m Creating objects...folder.\n",
      "\u001b[37m├── \u001b[0m🔨 Created mount \n",
      "\u001b[37m│   \u001b[0m/Users/santhum/projects/llm_engineering/week8/pricer_service2.py\n",
      "\u001b[2K\u001b[1A\u001b[2K\u001b[1A\u001b[2K\u001b[1A\u001b[2K\u001b[34m⠧\u001b[0m Creating objects...folder.\n",
      "\u001b[37m├── \u001b[0m🔨 Created mount \n",
      "\u001b[37m│   \u001b[0m/Users/santhum/projects/llm_engineering/week8/pricer_service2.py\n",
      "\u001b[2K\u001b[1A\u001b[2K\u001b[1A\u001b[2K\u001b[1A\u001b[2K\u001b[34m⠋\u001b[0m Creating objects...folder.\n",
      "\u001b[37m├── \u001b[0m🔨 Created mount \n",
      "\u001b[37m│   \u001b[0m/Users/santhum/projects/llm_engineering/week8/pricer_service2.py\n",
      "\u001b[2K\u001b[1A\u001b[2K\u001b[1A\u001b[2K\u001b[1A\u001b[2K\u001b[34m⠸\u001b[0m Creating objects...folder.\n",
      "\u001b[37m├── \u001b[0m🔨 Created mount \n",
      "\u001b[37m│   \u001b[0m/Users/santhum/projects/llm_engineering/week8/pricer_service2.py\n",
      "\u001b[2K\u001b[1A\u001b[2K\u001b[1A\u001b[2K\u001b[1A\u001b[2K\u001b[34m⠧\u001b[0m Creating objects...folder.\n",
      "\u001b[37m├── \u001b[0m🔨 Created mount \n",
      "\u001b[37m│   \u001b[0m/Users/santhum/projects/llm_engineering/week8/pricer_service2.py\n",
      "\u001b[2K\u001b[1A\u001b[2K\u001b[1A\u001b[2K\u001b[1A\u001b[2K\u001b[34m⠋\u001b[0m Creating objects...folder.\n",
      "\u001b[37m├── \u001b[0m🔨 Created mount \n",
      "\u001b[37m│   \u001b[0m/Users/santhum/projects/llm_engineering/week8/pricer_service2.py\n",
      "\u001b[2K\u001b[1A\u001b[2K\u001b[1A\u001b[2K\u001b[1A\u001b[2K\u001b[34m⠸\u001b[0m Creating objects...folder.\n",
      "\u001b[37m├── \u001b[0m🔨 Created mount \n",
      "\u001b[37m│   \u001b[0m/Users/santhum/projects/llm_engineering/week8/pricer_service2.py\n",
      "\u001b[2K\u001b[1A\u001b[2K\u001b[1A\u001b[2K\u001b[1A\u001b[2K\u001b[34m⠦\u001b[0m Creating objects...folder.\n",
      "\u001b[37m├── \u001b[0m🔨 Created mount \n",
      "\u001b[37m│   \u001b[0m/Users/santhum/projects/llm_engineering/week8/pricer_service2.py\n",
      "\u001b[2K\u001b[1A\u001b[2K\u001b[1A\u001b[2K\u001b[1A\u001b[2K\u001b[34m⠏\u001b[0m Creating objects...folder.\n",
      "\u001b[37m├── \u001b[0m🔨 Created mount \n",
      "\u001b[37m│   \u001b[0m/Users/santhum/projects/llm_engineering/week8/pricer_service2.py\n",
      "\u001b[2K\u001b[1A\u001b[2K\u001b[1A\u001b[2K\u001b[1A\u001b[2K\u001b[34m⠸\u001b[0m Creating objects...folder.\n",
      "\u001b[37m├── \u001b[0m🔨 Created mount \n",
      "\u001b[37m│   \u001b[0m/Users/santhum/projects/llm_engineering/week8/pricer_service2.py\n",
      "\u001b[2K\u001b[1A\u001b[2K\u001b[1A\u001b[2K\u001b[1A\u001b[2K\u001b[34m⠦\u001b[0m Creating objects...folder.\n",
      "\u001b[37m├── \u001b[0m🔨 Created mount \n",
      "\u001b[37m│   \u001b[0m/Users/santhum/projects/llm_engineering/week8/pricer_service2.py\n",
      "\u001b[2K\u001b[1A\u001b[2K\u001b[1A\u001b[2K\u001b[1A\u001b[2K\u001b[34m⠏\u001b[0m Creating objects...folder.\n",
      "\u001b[37m├── \u001b[0m🔨 Created mount \n",
      "\u001b[37m│   \u001b[0m/Users/santhum/projects/llm_engineering/week8/pricer_service2.py\n",
      "\u001b[2K\u001b[1A\u001b[2K\u001b[1A\u001b[2K\u001b[1A\u001b[2K\u001b[34m⠹\u001b[0m Creating objects...folder.\n",
      "\u001b[37m├── \u001b[0m🔨 Created mount \n",
      "\u001b[37m│   \u001b[0m/Users/santhum/projects/llm_engineering/week8/pricer_service2.py\n",
      "\u001b[2K\u001b[1A\u001b[2K\u001b[1A\u001b[2K\u001b[1A\u001b[2K\u001b[34m⠦\u001b[0m Creating objects...folder.\n",
      "\u001b[37m├── \u001b[0m🔨 Created mount \n",
      "\u001b[37m│   \u001b[0m/Users/santhum/projects/llm_engineering/week8/pricer_service2.py\n",
      "\u001b[2K\u001b[1A\u001b[2K\u001b[1A\u001b[2K\u001b[1A\u001b[2K\u001b[34m⠏\u001b[0m Creating objects...folder.\n",
      "\u001b[37m├── \u001b[0m🔨 Created mount \n",
      "\u001b[37m│   \u001b[0m/Users/santhum/projects/llm_engineering/week8/pricer_service2.py\n",
      "\u001b[2K\u001b[1A\u001b[2K\u001b[1A\u001b[2K\u001b[1A\u001b[2K\u001b[34m⠹\u001b[0m Creating objects...folder.\n",
      "\u001b[37m├── \u001b[0m🔨 Created mount \n",
      "\u001b[37m│   \u001b[0m/Users/santhum/projects/llm_engineering/week8/pricer_service2.py\n",
      "\u001b[2K\u001b[1A\u001b[2K\u001b[1A\u001b[2K\u001b[1A\u001b[2K\u001b[34m⠴\u001b[0m Creating objects...folder.\n",
      "\u001b[37m├── \u001b[0m🔨 Created mount \n",
      "\u001b[37m│   \u001b[0m/Users/santhum/projects/llm_engineering/week8/pricer_service2.py\n",
      "\u001b[2K\u001b[1A\u001b[2K\u001b[1A\u001b[2K\u001b[1A\u001b[2K\u001b[34m⠇\u001b[0m Creating objects...folder.\n",
      "\u001b[37m├── \u001b[0m🔨 Created mount \n",
      "\u001b[37m│   \u001b[0m/Users/santhum/projects/llm_engineering/week8/pricer_service2.py\n",
      "\u001b[2K\u001b[1A\u001b[2K\u001b[1A\u001b[2K\u001b[1A\u001b[2K\u001b[34m⠙\u001b[0m Creating objects...folder.\n",
      "\u001b[37m├── \u001b[0m🔨 Created mount \n",
      "\u001b[37m│   \u001b[0m/Users/santhum/projects/llm_engineering/week8/pricer_service2.py\n",
      "\u001b[2K\u001b[1A\u001b[2K\u001b[1A\u001b[2K\u001b[1A\u001b[2K\u001b[34m⠴\u001b[0m Creating objects...folder.\n",
      "\u001b[37m├── \u001b[0m🔨 Created mount \n",
      "\u001b[37m│   \u001b[0m/Users/santhum/projects/llm_engineering/week8/pricer_service2.py\n",
      "\u001b[2K\u001b[1A\u001b[2K\u001b[1A\u001b[2K\u001b[1A\u001b[2K\u001b[34m⠇\u001b[0m Creating objects...folder.\n",
      "\u001b[37m├── \u001b[0m🔨 Created mount \n",
      "\u001b[37m│   \u001b[0m/Users/santhum/projects/llm_engineering/week8/pricer_service2.py\n",
      "\u001b[2K\u001b[1A\u001b[2K\u001b[1A\u001b[2K\u001b[1A\u001b[2K\u001b[34m⠙\u001b[0m Creating objects...folder.\n",
      "\u001b[37m├── \u001b[0m🔨 Created mount \n",
      "\u001b[37m│   \u001b[0m/Users/santhum/projects/llm_engineering/week8/pricer_service2.py\n",
      "\u001b[2K\u001b[1A\u001b[2K\u001b[1A\u001b[2K\u001b[1A\u001b[2K\u001b[34m⠼\u001b[0m Creating objects...folder.\n",
      "\u001b[37m├── \u001b[0m🔨 Created mount \n",
      "\u001b[37m│   \u001b[0m/Users/santhum/projects/llm_engineering/week8/pricer_service2.py\n",
      "\u001b[2K\u001b[1A\u001b[2K\u001b[1A\u001b[2K\u001b[1A\u001b[2K\u001b[34m⠧\u001b[0m Creating objects...folder.\n",
      "\u001b[37m├── \u001b[0m🔨 Created mount \n",
      "\u001b[37m│   \u001b[0m/Users/santhum/projects/llm_engineering/week8/pricer_service2.py\n",
      "\u001b[2K\u001b[1A\u001b[2K\u001b[1A\u001b[2K\u001b[1A\u001b[2K\u001b[34m⠙\u001b[0m Creating objects...folder.\n",
      "\u001b[37m├── \u001b[0m🔨 Created mount \n",
      "\u001b[37m│   \u001b[0m/Users/santhum/projects/llm_engineering/week8/pricer_service2.py\n",
      "\u001b[2K\u001b[1A\u001b[2K\u001b[1A\u001b[2K\u001b[1A\u001b[2K\u001b[34m⠼\u001b[0m Creating objects...folder.\n",
      "\u001b[37m├── \u001b[0m🔨 Created mount \n",
      "\u001b[37m│   \u001b[0m/Users/santhum/projects/llm_engineering/week8/pricer_service2.py\n",
      "\u001b[2K\u001b[1A\u001b[2K\u001b[1A\u001b[2K\u001b[1A\u001b[2K\u001b[34m⠧\u001b[0m Creating objects...folder.\n",
      "\u001b[37m├── \u001b[0m🔨 Created mount \n",
      "\u001b[37m│   \u001b[0m/Users/santhum/projects/llm_engineering/week8/pricer_service2.py\n",
      "\u001b[2K\u001b[1A\u001b[2K\u001b[1A\u001b[2K\u001b[1A\u001b[2K\u001b[34m⠋\u001b[0m Creating objects...folder.\n",
      "\u001b[37m├── \u001b[0m🔨 Created mount \n",
      "\u001b[37m│   \u001b[0m/Users/santhum/projects/llm_engineering/week8/pricer_service2.py\n",
      "\u001b[2K\u001b[1A\u001b[2K\u001b[1A\u001b[2K\u001b[1A\u001b[2K\u001b[34m⠸\u001b[0m Creating objects...folder.\n",
      "\u001b[37m├── \u001b[0m🔨 Created mount \n",
      "\u001b[37m│   \u001b[0m/Users/santhum/projects/llm_engineering/week8/pricer_service2.py\n",
      "\u001b[2K\u001b[1A\u001b[2K\u001b[1A\u001b[2K\u001b[1A\u001b[2K\u001b[34m⠧\u001b[0m Creating objects...folder.\n",
      "\u001b[37m├── \u001b[0m🔨 Created mount \n",
      "\u001b[37m│   \u001b[0m/Users/santhum/projects/llm_engineering/week8/pricer_service2.py\n",
      "\u001b[2K\u001b[1A\u001b[2K\u001b[1A\u001b[2K\u001b[1A\u001b[2K\u001b[34m⠋\u001b[0m Creating objects...folder.\n",
      "\u001b[37m├── \u001b[0m🔨 Created mount \n",
      "\u001b[37m│   \u001b[0m/Users/santhum/projects/llm_engineering/week8/pricer_service2.py\n",
      "\u001b[2K\u001b[1A\u001b[2K\u001b[1A\u001b[2K\u001b[1A\u001b[2K\u001b[34m⠸\u001b[0m Creating objects...folder.\n",
      "\u001b[37m├── \u001b[0m🔨 Created mount \n",
      "\u001b[37m│   \u001b[0m/Users/santhum/projects/llm_engineering/week8/pricer_service2.py\n",
      "\u001b[2K\u001b[1A\u001b[2K\u001b[1A\u001b[2K\u001b[1A\u001b[2K\u001b[34m⠦\u001b[0m Creating objects...folder.\n",
      "\u001b[37m├── \u001b[0m🔨 Created mount \n",
      "\u001b[37m│   \u001b[0m/Users/santhum/projects/llm_engineering/week8/pricer_service2.py\n",
      "\u001b[2K\u001b[1A\u001b[2K\u001b[1A\u001b[2K\u001b[1A\u001b[2K\u001b[34m⠋\u001b[0m Creating objects...folder.\n",
      "\u001b[37m├── \u001b[0m🔨 Created mount \n",
      "\u001b[37m│   \u001b[0m/Users/santhum/projects/llm_engineering/week8/pricer_service2.py\n",
      "\u001b[2K\u001b[1A\u001b[2K\u001b[1A\u001b[2K\u001b[1A\u001b[2K\u001b[34m⠸\u001b[0m Creating objects...folder.\n",
      "\u001b[37m├── \u001b[0m🔨 Created mount \n",
      "\u001b[37m│   \u001b[0m/Users/santhum/projects/llm_engineering/week8/pricer_service2.py\n",
      "\u001b[2K\u001b[1A\u001b[2K\u001b[1A\u001b[2K\u001b[1A\u001b[2K\u001b[34m⠦\u001b[0m Creating objects...folder.\n",
      "\u001b[37m├── \u001b[0m🔨 Created mount \n",
      "\u001b[37m│   \u001b[0m/Users/santhum/projects/llm_engineering/week8/pricer_service2.py\n",
      "\u001b[2K\u001b[1A\u001b[2K\u001b[1A\u001b[2K\u001b[1A\u001b[2K\u001b[34m⠏\u001b[0m Creating objects...folder.\n",
      "\u001b[37m├── \u001b[0m🔨 Created mount \n",
      "\u001b[37m│   \u001b[0m/Users/santhum/projects/llm_engineering/week8/pricer_service2.py\n",
      "\u001b[2K\u001b[1A\u001b[2K\u001b[1A\u001b[2K\u001b[1A\u001b[2K\u001b[34m⠹\u001b[0m Creating objects...folder.\n",
      "\u001b[37m├── \u001b[0m🔨 Created mount \n",
      "\u001b[37m│   \u001b[0m/Users/santhum/projects/llm_engineering/week8/pricer_service2.py\n",
      "\u001b[2K\u001b[1A\u001b[2K\u001b[1A\u001b[2K\u001b[1A\u001b[2K\u001b[34m⠴\u001b[0m Creating objects...folder.\n",
      "\u001b[37m├── \u001b[0m🔨 Created mount \n",
      "\u001b[37m│   \u001b[0m/Users/santhum/projects/llm_engineering/week8/pricer_service2.py\n",
      "\u001b[2K\u001b[1A\u001b[2K\u001b[1A\u001b[2K\u001b[1A\u001b[2K\u001b[34m⠏\u001b[0m Creating objects...folder.\n",
      "\u001b[37m├── \u001b[0m🔨 Created mount \n",
      "\u001b[37m│   \u001b[0m/Users/santhum/projects/llm_engineering/week8/pricer_service2.py\n",
      "\u001b[2K\u001b[1A\u001b[2K\u001b[1A\u001b[2K\u001b[1A\u001b[2K\u001b[34m⠹\u001b[0m Creating objects...folder.\n",
      "\u001b[37m├── \u001b[0m🔨 Created mount \n",
      "\u001b[37m│   \u001b[0m/Users/santhum/projects/llm_engineering/week8/pricer_service2.py\n",
      "\u001b[2K\u001b[1A\u001b[2K\u001b[1A\u001b[2K\u001b[1A\u001b[2K\u001b[34m⠴\u001b[0m Creating objects...folder.\n",
      "\u001b[37m├── \u001b[0m🔨 Created mount \n",
      "\u001b[37m│   \u001b[0m/Users/santhum/projects/llm_engineering/week8/pricer_service2.py\n",
      "\u001b[2K\u001b[1A\u001b[2K\u001b[1A\u001b[2K\u001b[1A\u001b[2K\u001b[34m⠇\u001b[0m Creating objects...folder.\n",
      "\u001b[37m├── \u001b[0m🔨 Created mount \n",
      "\u001b[37m│   \u001b[0m/Users/santhum/projects/llm_engineering/week8/pricer_service2.py\n",
      "\u001b[2K\u001b[1A\u001b[2K\u001b[1A\u001b[2K\u001b[1A\u001b[2K\u001b[34m⠹\u001b[0m Creating objects...folder.\n",
      "\u001b[37m├── \u001b[0m🔨 Created mount \n",
      "\u001b[37m│   \u001b[0m/Users/santhum/projects/llm_engineering/week8/pricer_service2.py\n",
      "\u001b[2K\u001b[1A\u001b[2K\u001b[1A\u001b[2K\u001b[1A\u001b[2K\u001b[34m⠴\u001b[0m Creating objects...folder.\n",
      "\u001b[37m├── \u001b[0m🔨 Created mount \n",
      "\u001b[37m│   \u001b[0m/Users/santhum/projects/llm_engineering/week8/pricer_service2.py\n",
      "\u001b[2K\u001b[1A\u001b[2K\u001b[1A\u001b[2K\u001b[1A\u001b[2K\u001b[34m⠇\u001b[0m Creating objects...folder.\n",
      "\u001b[37m├── \u001b[0m🔨 Created mount \n",
      "\u001b[37m│   \u001b[0m/Users/santhum/projects/llm_engineering/week8/pricer_service2.py\n",
      "\u001b[2K\u001b[1A\u001b[2K\u001b[1A\u001b[2K\u001b[1A\u001b[2K\u001b[34m⠙\u001b[0m Creating objects...folder.\n",
      "\u001b[37m├── \u001b[0m🔨 Created mount \n",
      "\u001b[37m│   \u001b[0m/Users/santhum/projects/llm_engineering/week8/pricer_service2.py\n",
      "\u001b[2K\u001b[1A\u001b[2K\u001b[1A\u001b[2K\u001b[1A\u001b[2K\u001b[34m⠼\u001b[0m Creating objects...folder.\n",
      "\u001b[37m├── \u001b[0m🔨 Created mount \n",
      "\u001b[37m│   \u001b[0m/Users/santhum/projects/llm_engineering/week8/pricer_service2.py\n",
      "\u001b[2K\u001b[1A\u001b[2K\u001b[1A\u001b[2K\u001b[1A\u001b[2K\u001b[34m⠧\u001b[0m Creating objects...folder.\n",
      "\u001b[37m├── \u001b[0m🔨 Created mount \n",
      "\u001b[37m│   \u001b[0m/Users/santhum/projects/llm_engineering/week8/pricer_service2.py\n",
      "\u001b[2K\u001b[1A\u001b[2K\u001b[1A\u001b[2K\u001b[1A\u001b[2K\u001b[34m⠙\u001b[0m Creating objects...folder.\n",
      "\u001b[37m├── \u001b[0m🔨 Created mount \n",
      "\u001b[37m│   \u001b[0m/Users/santhum/projects/llm_engineering/week8/pricer_service2.py\n",
      "\u001b[2K\u001b[1A\u001b[2K\u001b[1A\u001b[2K\u001b[1A\u001b[2K\u001b[34m⠼\u001b[0m Creating objects...folder.\n",
      "\u001b[37m├── \u001b[0m🔨 Created mount \n",
      "\u001b[37m│   \u001b[0m/Users/santhum/projects/llm_engineering/week8/pricer_service2.py\n",
      "\u001b[2K\u001b[1A\u001b[2K\u001b[1A\u001b[2K\u001b[1A\u001b[2K\u001b[34m⠧\u001b[0m Creating objects...folder.\n",
      "\u001b[37m├── \u001b[0m🔨 Created mount \n",
      "\u001b[37m│   \u001b[0m/Users/santhum/projects/llm_engineering/week8/pricer_service2.py\n",
      "\u001b[2K\u001b[1A\u001b[2K\u001b[1A\u001b[2K\u001b[1A\u001b[2K\u001b[34m⠋\u001b[0m Creating objects...folder.\n",
      "\u001b[37m├── \u001b[0m🔨 Created mount \n",
      "\u001b[37m│   \u001b[0m/Users/santhum/projects/llm_engineering/week8/pricer_service2.py\n",
      "\u001b[2K\u001b[1A\u001b[2K\u001b[1A\u001b[2K\u001b[1A\u001b[2K\u001b[34m⠸\u001b[0m Creating objects...folder.\n",
      "\u001b[37m├── \u001b[0m🔨 Created mount \n",
      "\u001b[37m│   \u001b[0m/Users/santhum/projects/llm_engineering/week8/pricer_service2.py\n",
      "\u001b[2K\u001b[1A\u001b[2K\u001b[1A\u001b[2K\u001b[1A\u001b[2K\u001b[34m⠧\u001b[0m Creating objects...folder.\n",
      "\u001b[37m├── \u001b[0m🔨 Created mount \n",
      "\u001b[37m│   \u001b[0m/Users/santhum/projects/llm_engineering/week8/pricer_service2.py\n",
      "\u001b[2K\u001b[1A\u001b[2K\u001b[1A\u001b[2K\u001b[1A\u001b[2K\u001b[34m⠋\u001b[0m Creating objects...folder.\n",
      "\u001b[37m├── \u001b[0m🔨 Created mount \n",
      "\u001b[37m│   \u001b[0m/Users/santhum/projects/llm_engineering/week8/pricer_service2.py\n",
      "\u001b[2K\u001b[1A\u001b[2K\u001b[1A\u001b[2K\u001b[1A\u001b[2K\u001b[34m⠸\u001b[0m Creating objects...folder.\n",
      "\u001b[37m├── \u001b[0m🔨 Created mount \n",
      "\u001b[37m│   \u001b[0m/Users/santhum/projects/llm_engineering/week8/pricer_service2.py\n",
      "\u001b[2K\u001b[1A\u001b[2K\u001b[1A\u001b[2K\u001b[1A\u001b[2K\u001b[34m⠦\u001b[0m Creating objects...folder.\n",
      "\u001b[37m├── \u001b[0m🔨 Created mount \n",
      "\u001b[37m│   \u001b[0m/Users/santhum/projects/llm_engineering/week8/pricer_service2.py\n",
      "\u001b[2K\u001b[1A\u001b[2K\u001b[1A\u001b[2K\u001b[1A\u001b[2K\u001b[34m⠏\u001b[0m Creating objects...folder.\n",
      "\u001b[37m├── \u001b[0m🔨 Created mount \n",
      "\u001b[37m│   \u001b[0m/Users/santhum/projects/llm_engineering/week8/pricer_service2.py\n",
      "\u001b[2K\u001b[1A\u001b[2K\u001b[1A\u001b[2K\u001b[1A\u001b[2K\u001b[34m⠸\u001b[0m Creating objects...folder.\n",
      "\u001b[37m├── \u001b[0m🔨 Created mount \n",
      "\u001b[37m│   \u001b[0m/Users/santhum/projects/llm_engineering/week8/pricer_service2.py\n",
      "\u001b[2K\u001b[1A\u001b[2K\u001b[1A\u001b[2K\u001b[1A\u001b[2K\u001b[34m⠦\u001b[0m Creating objects...folder.\n",
      "\u001b[37m├── \u001b[0m🔨 Created mount \n",
      "\u001b[37m│   \u001b[0m/Users/santhum/projects/llm_engineering/week8/pricer_service2.py\n",
      "\u001b[2K\u001b[1A\u001b[2K\u001b[1A\u001b[2K\u001b[1A\u001b[2K\u001b[34m⠏\u001b[0m Creating objects...folder.\n",
      "\u001b[37m├── \u001b[0m🔨 Created mount \n",
      "\u001b[37m│   \u001b[0m/Users/santhum/projects/llm_engineering/week8/pricer_service2.py\n",
      "\u001b[2K\u001b[1A\u001b[2K\u001b[1A\u001b[2K\u001b[1A\u001b[2K\u001b[34m⠹\u001b[0m Creating objects...folder.\n",
      "\u001b[37m├── \u001b[0m🔨 Created mount \n",
      "\u001b[37m│   \u001b[0m/Users/santhum/projects/llm_engineering/week8/pricer_service2.py\n",
      "\u001b[2K\u001b[1A\u001b[2K\u001b[1A\u001b[2K\u001b[1A\u001b[2K\u001b[34m⠦\u001b[0m Creating objects...folder.\n",
      "\u001b[37m├── \u001b[0m🔨 Created mount \n",
      "\u001b[37m│   \u001b[0m/Users/santhum/projects/llm_engineering/week8/pricer_service2.py\n",
      "\u001b[2K\u001b[1A\u001b[2K\u001b[1A\u001b[2K\u001b[1A\u001b[2K\u001b[34m⠏\u001b[0m Creating objects...folder.\n",
      "\u001b[37m├── \u001b[0m🔨 Created mount \n",
      "\u001b[37m│   \u001b[0m/Users/santhum/projects/llm_engineering/week8/pricer_service2.py\n",
      "\u001b[2K\u001b[1A\u001b[2K\u001b[1A\u001b[2K\u001b[1A\u001b[2K\u001b[34m⠹\u001b[0m Creating objects...folder.\n",
      "\u001b[37m├── \u001b[0m🔨 Created mount \n",
      "\u001b[37m│   \u001b[0m/Users/santhum/projects/llm_engineering/week8/pricer_service2.py\n",
      "\u001b[2K\u001b[1A\u001b[2K\u001b[1A\u001b[2K\u001b[1A\u001b[2K\u001b[34m⠴\u001b[0m Creating objects...folder.\n",
      "\u001b[37m├── \u001b[0m🔨 Created mount \n",
      "\u001b[37m│   \u001b[0m/Users/santhum/projects/llm_engineering/week8/pricer_service2.py\n",
      "\u001b[2K\u001b[1A\u001b[2K\u001b[1A\u001b[2K\u001b[1A\u001b[2K\u001b[34m⠇\u001b[0m Creating objects...folder.\n",
      "\u001b[37m├── \u001b[0m🔨 Created mount \n",
      "\u001b[37m│   \u001b[0m/Users/santhum/projects/llm_engineering/week8/pricer_service2.py\n",
      "\u001b[2K\u001b[1A\u001b[2K\u001b[1A\u001b[2K\u001b[1A\u001b[2K\u001b[34m⠙\u001b[0m Creating objects...folder.\n",
      "\u001b[37m├── \u001b[0m🔨 Created mount \n",
      "\u001b[37m│   \u001b[0m/Users/santhum/projects/llm_engineering/week8/pricer_service2.py\n",
      "\u001b[2K\u001b[1A\u001b[2K\u001b[1A\u001b[2K\u001b[1A\u001b[2K\u001b[34m⠴\u001b[0m Creating objects...folder.\n",
      "\u001b[37m├── \u001b[0m🔨 Created mount \n",
      "\u001b[37m│   \u001b[0m/Users/santhum/projects/llm_engineering/week8/pricer_service2.py\n",
      "\u001b[2K\u001b[1A\u001b[2K\u001b[1A\u001b[2K\u001b[1A\u001b[2K\u001b[34m⠇\u001b[0m Creating objects...folder.\n",
      "\u001b[37m├── \u001b[0m🔨 Created mount \n",
      "\u001b[37m│   \u001b[0m/Users/santhum/projects/llm_engineering/week8/pricer_service2.py\n",
      "\u001b[2K\u001b[1A\u001b[2K\u001b[1A\u001b[2K\u001b[1A\u001b[2K\u001b[34m⠙\u001b[0m Creating objects...folder.\n",
      "\u001b[37m├── \u001b[0m🔨 Created mount \n",
      "\u001b[37m│   \u001b[0m/Users/santhum/projects/llm_engineering/week8/pricer_service2.py\n",
      "\u001b[2K\u001b[1A\u001b[2K\u001b[1A\u001b[2K\u001b[1A\u001b[2K\u001b[34m⠼\u001b[0m Creating objects...folder.\n",
      "\u001b[37m├── \u001b[0m🔨 Created mount \n",
      "\u001b[37m│   \u001b[0m/Users/santhum/projects/llm_engineering/week8/pricer_service2.py\n",
      "\u001b[2K\u001b[1A\u001b[2K\u001b[1A\u001b[2K\u001b[1A\u001b[2K\u001b[34m⠧\u001b[0m Creating objects...folder.\n",
      "\u001b[37m├── \u001b[0m🔨 Created mount \n",
      "\u001b[37m│   \u001b[0m/Users/santhum/projects/llm_engineering/week8/pricer_service2.py\n",
      "\u001b[2K\u001b[1A\u001b[2K\u001b[1A\u001b[2K\u001b[1A\u001b[2K\u001b[34m⠙\u001b[0m Creating objects...folder.\n",
      "\u001b[37m├── \u001b[0m🔨 Created mount \n",
      "\u001b[37m│   \u001b[0m/Users/santhum/projects/llm_engineering/week8/pricer_service2.py\n",
      "\u001b[2K\u001b[1A\u001b[2K\u001b[1A\u001b[2K\u001b[1A\u001b[2K\u001b[34m⠼\u001b[0m Creating objects...folder.\n",
      "\u001b[37m├── \u001b[0m🔨 Created mount \n",
      "\u001b[37m│   \u001b[0m/Users/santhum/projects/llm_engineering/week8/pricer_service2.py\n",
      "\u001b[2K\u001b[1A\u001b[2K\u001b[1A\u001b[2K\u001b[1A\u001b[2K\u001b[34m⠧\u001b[0m Creating objects...folder.\n",
      "\u001b[37m├── \u001b[0m🔨 Created mount \n",
      "\u001b[37m│   \u001b[0m/Users/santhum/projects/llm_engineering/week8/pricer_service2.py\n",
      "\u001b[2K\u001b[1A\u001b[2K\u001b[1A\u001b[2K\u001b[1A\u001b[2K\u001b[34m⠋\u001b[0m Creating objects...folder.\n",
      "\u001b[37m├── \u001b[0m🔨 Created mount \n",
      "\u001b[37m│   \u001b[0m/Users/santhum/projects/llm_engineering/week8/pricer_service2.py\n",
      "\u001b[2K\u001b[1A\u001b[2K\u001b[1A\u001b[2K\u001b[1A\u001b[2K\u001b[34m⠸\u001b[0m Creating objects...folder.\n",
      "\u001b[37m├── \u001b[0m🔨 Created mount \n",
      "\u001b[37m│   \u001b[0m/Users/santhum/projects/llm_engineering/week8/pricer_service2.py\n",
      "\u001b[2K\u001b[1A\u001b[2K\u001b[1A\u001b[2K\u001b[1A\u001b[2K\u001b[34m⠧\u001b[0m Creating objects...folder.\n",
      "\u001b[37m├── \u001b[0m🔨 Created mount \n",
      "\u001b[37m│   \u001b[0m/Users/santhum/projects/llm_engineering/week8/pricer_service2.py\n",
      "\u001b[2K\u001b[1A\u001b[2K\u001b[1A\u001b[2K\u001b[1A\u001b[2K\u001b[34m⠋\u001b[0m Creating objects...folder.\n",
      "\u001b[37m├── \u001b[0m🔨 Created mount \n",
      "\u001b[37m│   \u001b[0m/Users/santhum/projects/llm_engineering/week8/pricer_service2.py\n",
      "\u001b[2K\u001b[1A\u001b[2K\u001b[1A\u001b[2K\u001b[1A\u001b[2K\u001b[34m⠸\u001b[0m Creating objects...folder.\n",
      "\u001b[37m├── \u001b[0m🔨 Created mount \n",
      "\u001b[37m│   \u001b[0m/Users/santhum/projects/llm_engineering/week8/pricer_service2.py\n",
      "\u001b[2K\u001b[1A\u001b[2K\u001b[1A\u001b[2K\u001b[1A\u001b[2K\u001b[34m⠦\u001b[0m Creating objects...folder.\n",
      "\u001b[37m├── \u001b[0m🔨 Created mount \n",
      "\u001b[37m│   \u001b[0m/Users/santhum/projects/llm_engineering/week8/pricer_service2.py\n",
      "\u001b[2K\u001b[1A\u001b[2K\u001b[1A\u001b[2K\u001b[1A\u001b[2K\u001b[34m⠏\u001b[0m Creating objects...folder.\n",
      "\u001b[37m├── \u001b[0m🔨 Created mount \n",
      "\u001b[37m│   \u001b[0m/Users/santhum/projects/llm_engineering/week8/pricer_service2.py\n",
      "\u001b[2K\u001b[1A\u001b[2K\u001b[1A\u001b[2K\u001b[1A\u001b[2K\u001b[34m⠸\u001b[0m Creating objects...folder.\n",
      "\u001b[37m├── \u001b[0m🔨 Created mount \n",
      "\u001b[37m│   \u001b[0m/Users/santhum/projects/llm_engineering/week8/pricer_service2.py\n",
      "\u001b[2K\u001b[1A\u001b[2K\u001b[1A\u001b[2K\u001b[1A\u001b[2K\u001b[34m⠦\u001b[0m Creating objects...folder.\n",
      "\u001b[37m├── \u001b[0m🔨 Created mount \n",
      "\u001b[37m│   \u001b[0m/Users/santhum/projects/llm_engineering/week8/pricer_service2.py\n",
      "\u001b[2K\u001b[1A\u001b[2K\u001b[1A\u001b[2K\u001b[1A\u001b[2K\u001b[34m⠏\u001b[0m Creating objects...folder.\n",
      "\u001b[37m├── \u001b[0m🔨 Created mount \n",
      "\u001b[37m│   \u001b[0m/Users/santhum/projects/llm_engineering/week8/pricer_service2.py\n",
      "\u001b[2K\u001b[1A\u001b[2K\u001b[1A\u001b[2K\u001b[1A\u001b[2K\u001b[34m⠹\u001b[0m Creating objects...folder.\n",
      "\u001b[37m├── \u001b[0m🔨 Created mount \n",
      "\u001b[37m│   \u001b[0m/Users/santhum/projects/llm_engineering/week8/pricer_service2.py\n",
      "\u001b[2K\u001b[1A\u001b[2K\u001b[1A\u001b[2K\u001b[1A\u001b[2K\u001b[34m⠦\u001b[0m Creating objects...folder.\n",
      "\u001b[37m├── \u001b[0m🔨 Created mount \n",
      "\u001b[37m│   \u001b[0m/Users/santhum/projects/llm_engineering/week8/pricer_service2.py\n",
      "\u001b[2K\u001b[1A\u001b[2K\u001b[1A\u001b[2K\u001b[1A\u001b[2K\u001b[34m⠏\u001b[0m Creating objects...folder.\n",
      "\u001b[37m├── \u001b[0m🔨 Created mount \n",
      "\u001b[37m│   \u001b[0m/Users/santhum/projects/llm_engineering/week8/pricer_service2.py\n",
      "\u001b[2K\u001b[1A\u001b[2K\u001b[1A\u001b[2K\u001b[1A\u001b[2K\u001b[34m⠹\u001b[0m Creating objects...folder.\n",
      "\u001b[37m├── \u001b[0m🔨 Created mount \n",
      "\u001b[37m│   \u001b[0m/Users/santhum/projects/llm_engineering/week8/pricer_service2.py\n",
      "\u001b[2K\u001b[1A\u001b[2K\u001b[1A\u001b[2K\u001b[1A\u001b[2K\u001b[34m⠴\u001b[0m Creating objects...folder.\n",
      "\u001b[37m├── \u001b[0m🔨 Created mount \n",
      "\u001b[37m│   \u001b[0m/Users/santhum/projects/llm_engineering/week8/pricer_service2.py\n",
      "\u001b[2K\u001b[1A\u001b[2K\u001b[1A\u001b[2K\u001b[1A\u001b[2K\u001b[34m⠇\u001b[0m Creating objects...folder.\n",
      "\u001b[37m├── \u001b[0m🔨 Created mount \n",
      "\u001b[37m│   \u001b[0m/Users/santhum/projects/llm_engineering/week8/pricer_service2.py\n",
      "\u001b[2K\u001b[1A\u001b[2K\u001b[1A\u001b[2K\u001b[1A\u001b[2K\u001b[34m⠹\u001b[0m Creating objects...folder.\n",
      "\u001b[37m├── \u001b[0m🔨 Created mount \n",
      "\u001b[37m│   \u001b[0m/Users/santhum/projects/llm_engineering/week8/pricer_service2.py\n",
      "\u001b[2K\u001b[1A\u001b[2K\u001b[1A\u001b[2K\u001b[1A\u001b[2K\u001b[34m⠴\u001b[0m Creating objects...folder.\n",
      "\u001b[37m├── \u001b[0m🔨 Created mount \n",
      "\u001b[37m│   \u001b[0m/Users/santhum/projects/llm_engineering/week8/pricer_service2.py\n",
      "\u001b[2K\u001b[1A\u001b[2K\u001b[1A\u001b[2K\u001b[1A\u001b[2K\u001b[34m⠇\u001b[0m Creating objects...folder.\n",
      "\u001b[37m├── \u001b[0m🔨 Created mount \n",
      "\u001b[37m│   \u001b[0m/Users/santhum/projects/llm_engineering/week8/pricer_service2.py\n",
      "\u001b[2K\u001b[1A\u001b[2K\u001b[1A\u001b[2K\u001b[1A\u001b[2K\u001b[34m⠙\u001b[0m Creating objects...folder.\n",
      "\u001b[37m├── \u001b[0m🔨 Created mount \n",
      "\u001b[37m│   \u001b[0m/Users/santhum/projects/llm_engineering/week8/pricer_service2.py\n",
      "\u001b[2K\u001b[1A\u001b[2K\u001b[1A\u001b[2K\u001b[1A\u001b[2K\u001b[34m⠼\u001b[0m Creating objects...folder.\n",
      "\u001b[37m├── \u001b[0m🔨 Created mount \n",
      "\u001b[37m│   \u001b[0m/Users/santhum/projects/llm_engineering/week8/pricer_service2.py\n",
      "\u001b[2K\u001b[1A\u001b[2K\u001b[1A\u001b[2K\u001b[1A\u001b[2K\u001b[34m⠇\u001b[0m Creating objects...folder.\n",
      "\u001b[37m├── \u001b[0m🔨 Created mount \n",
      "\u001b[37m│   \u001b[0m/Users/santhum/projects/llm_engineering/week8/pricer_service2.py\n",
      "\u001b[2K\u001b[1A\u001b[2K\u001b[1A\u001b[2K\u001b[1A\u001b[2K\u001b[34m⠙\u001b[0m Creating objects...folder.\n",
      "\u001b[37m├── \u001b[0m🔨 Created mount \n",
      "\u001b[37m│   \u001b[0m/Users/santhum/projects/llm_engineering/week8/pricer_service2.py\n",
      "\u001b[2K\u001b[1A\u001b[2K\u001b[1A\u001b[2K\u001b[1A\u001b[2K\u001b[34m⠼\u001b[0m Creating objects...folder.\n",
      "\u001b[37m├── \u001b[0m🔨 Created mount \n",
      "\u001b[37m│   \u001b[0m/Users/santhum/projects/llm_engineering/week8/pricer_service2.py\n",
      "\u001b[2K\u001b[1A\u001b[2K\u001b[1A\u001b[2K\u001b[1A\u001b[2K\u001b[34m⠧\u001b[0m Creating objects...folder.\n",
      "\u001b[37m├── \u001b[0m🔨 Created mount \n",
      "\u001b[37m│   \u001b[0m/Users/santhum/projects/llm_engineering/week8/pricer_service2.py\n",
      "\u001b[2K\u001b[1A\u001b[2K\u001b[1A\u001b[2K\u001b[1A\u001b[2K\u001b[34m⠋\u001b[0m Creating objects...folder.\n",
      "\u001b[37m├── \u001b[0m🔨 Created mount \n",
      "\u001b[37m│   \u001b[0m/Users/santhum/projects/llm_engineering/week8/pricer_service2.py\n",
      "\u001b[2K\u001b[1A\u001b[2K\u001b[1A\u001b[2K\u001b[1A\u001b[2K\u001b[34m⠼\u001b[0m Creating objects...folder.\n",
      "\u001b[37m├── \u001b[0m🔨 Created mount \n",
      "\u001b[37m│   \u001b[0m/Users/santhum/projects/llm_engineering/week8/pricer_service2.py\n",
      "\u001b[2K\u001b[1A\u001b[2K\u001b[1A\u001b[2K\u001b[1A\u001b[2K\u001b[34m⠧\u001b[0m Creating objects...folder.\n",
      "\u001b[37m├── \u001b[0m🔨 Created mount \n",
      "\u001b[37m│   \u001b[0m/Users/santhum/projects/llm_engineering/week8/pricer_service2.py\n",
      "\u001b[2K\u001b[1A\u001b[2K\u001b[1A\u001b[2K\u001b[1A\u001b[2K\u001b[34m⠋\u001b[0m Creating objects...folder.\n",
      "\u001b[37m├── \u001b[0m🔨 Created mount \n",
      "\u001b[37m│   \u001b[0m/Users/santhum/projects/llm_engineering/week8/pricer_service2.py\n",
      "\u001b[2K\u001b[1A\u001b[2K\u001b[1A\u001b[2K\u001b[1A\u001b[2K\u001b[34m⠸\u001b[0m Creating objects...folder.\n",
      "\u001b[37m├── \u001b[0m🔨 Created mount \n",
      "\u001b[37m│   \u001b[0m/Users/santhum/projects/llm_engineering/week8/pricer_service2.py\n",
      "\u001b[2K\u001b[1A\u001b[2K\u001b[1A\u001b[2K\u001b[1A\u001b[2K\u001b[34m⠦\u001b[0m Creating objects...folder.\n",
      "\u001b[37m├── \u001b[0m🔨 Created mount \n",
      "\u001b[37m│   \u001b[0m/Users/santhum/projects/llm_engineering/week8/pricer_service2.py\n",
      "\u001b[2K\u001b[1A\u001b[2K\u001b[1A\u001b[2K\u001b[1A\u001b[2K\u001b[34m⠋\u001b[0m Creating objects...folder.\n",
      "\u001b[37m├── \u001b[0m🔨 Created mount \n",
      "\u001b[37m│   \u001b[0m/Users/santhum/projects/llm_engineering/week8/pricer_service2.py\n",
      "\u001b[2K\u001b[1A\u001b[2K\u001b[1A\u001b[2K\u001b[1A\u001b[2K\u001b[34m⠸\u001b[0m Creating objects...folder.\n",
      "\u001b[37m├── \u001b[0m🔨 Created mount \n",
      "\u001b[37m│   \u001b[0m/Users/santhum/projects/llm_engineering/week8/pricer_service2.py\n",
      "\u001b[2K\u001b[1A\u001b[2K\u001b[1A\u001b[2K\u001b[1A\u001b[2K\u001b[34m⠦\u001b[0m Creating objects...folder.\n",
      "\u001b[37m├── \u001b[0m🔨 Created mount \n",
      "\u001b[37m│   \u001b[0m/Users/santhum/projects/llm_engineering/week8/pricer_service2.py\n",
      "\u001b[2K\u001b[1A\u001b[2K\u001b[1A\u001b[2K\u001b[1A\u001b[2K\u001b[34m⠏\u001b[0m Creating objects...folder.\n",
      "\u001b[37m├── \u001b[0m🔨 Created mount \n",
      "\u001b[37m│   \u001b[0m/Users/santhum/projects/llm_engineering/week8/pricer_service2.py\n",
      "\u001b[2K\u001b[1A\u001b[2K\u001b[1A\u001b[2K\u001b[1A\u001b[2K\u001b[34m⠹\u001b[0m Creating objects...folder.\n",
      "\u001b[37m├── \u001b[0m🔨 Created mount \n",
      "\u001b[37m│   \u001b[0m/Users/santhum/projects/llm_engineering/week8/pricer_service2.py\n",
      "\u001b[2K\u001b[1A\u001b[2K\u001b[1A\u001b[2K\u001b[1A\u001b[2K\u001b[34m⠦\u001b[0m Creating objects...folder.\n",
      "\u001b[37m├── \u001b[0m🔨 Created mount \n",
      "\u001b[37m│   \u001b[0m/Users/santhum/projects/llm_engineering/week8/pricer_service2.py\n",
      "\u001b[2K\u001b[1A\u001b[2K\u001b[1A\u001b[2K\u001b[1A\u001b[2K\u001b[34m⠏\u001b[0m Creating objects...folder.\n",
      "\u001b[37m├── \u001b[0m🔨 Created mount \n",
      "\u001b[37m│   \u001b[0m/Users/santhum/projects/llm_engineering/week8/pricer_service2.py\n",
      "\u001b[2K\u001b[1A\u001b[2K\u001b[1A\u001b[2K\u001b[1A\u001b[2K\u001b[34m⠹\u001b[0m Creating objects...folder.\n",
      "\u001b[37m├── \u001b[0m🔨 Created mount \n",
      "\u001b[37m│   \u001b[0m/Users/santhum/projects/llm_engineering/week8/pricer_service2.py\n",
      "\u001b[2K\u001b[1A\u001b[2K\u001b[1A\u001b[2K\u001b[1A\u001b[2K\u001b[34m⠴\u001b[0m Creating objects...folder.\n",
      "\u001b[37m├── \u001b[0m🔨 Created mount \n",
      "\u001b[37m│   \u001b[0m/Users/santhum/projects/llm_engineering/week8/pricer_service2.py\n",
      "\u001b[2K\u001b[1A\u001b[2K\u001b[1A\u001b[2K\u001b[1A\u001b[2K\u001b[34m⠇\u001b[0m Creating objects...folder.\n",
      "\u001b[37m├── \u001b[0m🔨 Created mount \n",
      "\u001b[37m│   \u001b[0m/Users/santhum/projects/llm_engineering/week8/pricer_service2.py\n",
      "\u001b[2K\u001b[1A\u001b[2K\u001b[1A\u001b[2K\u001b[1A\u001b[2K\u001b[34m⠹\u001b[0m Creating objects...folder.\n",
      "\u001b[37m├── \u001b[0m🔨 Created mount \n",
      "\u001b[37m│   \u001b[0m/Users/santhum/projects/llm_engineering/week8/pricer_service2.py\n",
      "\u001b[2K\u001b[1A\u001b[2K\u001b[1A\u001b[2K\u001b[1A\u001b[2K\u001b[34m⠴\u001b[0m Creating objects...folder.\n",
      "\u001b[37m├── \u001b[0m🔨 Created mount \n",
      "\u001b[37m│   \u001b[0m/Users/santhum/projects/llm_engineering/week8/pricer_service2.py\n",
      "\u001b[2K\u001b[1A\u001b[2K\u001b[1A\u001b[2K\u001b[1A\u001b[2K\u001b[34m⠇\u001b[0m Creating objects...folder.\n",
      "\u001b[37m├── \u001b[0m🔨 Created mount \n",
      "\u001b[37m│   \u001b[0m/Users/santhum/projects/llm_engineering/week8/pricer_service2.py\n",
      "\u001b[2K\u001b[1A\u001b[2K\u001b[1A\u001b[2K\u001b[1A\u001b[2K\u001b[34m⠙\u001b[0m Creating objects...folder.\n",
      "\u001b[37m├── \u001b[0m🔨 Created mount \n",
      "\u001b[37m│   \u001b[0m/Users/santhum/projects/llm_engineering/week8/pricer_service2.py\n",
      "\u001b[2K\u001b[1A\u001b[2K\u001b[1A\u001b[2K\u001b[1A\u001b[2K\u001b[34m⠼\u001b[0m Creating objects...folder.\n",
      "\u001b[37m├── \u001b[0m🔨 Created mount \n",
      "\u001b[37m│   \u001b[0m/Users/santhum/projects/llm_engineering/week8/pricer_service2.py\n",
      "\u001b[2K\u001b[1A\u001b[2K\u001b[1A\u001b[2K\u001b[1A\u001b[2K\u001b[34m⠇\u001b[0m Creating objects...folder.\n",
      "\u001b[37m├── \u001b[0m🔨 Created mount \n",
      "\u001b[37m│   \u001b[0m/Users/santhum/projects/llm_engineering/week8/pricer_service2.py\n",
      "\u001b[2K\u001b[1A\u001b[2K\u001b[1A\u001b[2K\u001b[1A\u001b[2K\u001b[34m⠙\u001b[0m Creating objects...folder.\n",
      "\u001b[37m├── \u001b[0m🔨 Created mount \n",
      "\u001b[37m│   \u001b[0m/Users/santhum/projects/llm_engineering/week8/pricer_service2.py\n",
      "\u001b[2K\u001b[1A\u001b[2K\u001b[1A\u001b[2K\u001b[1A\u001b[2K\u001b[34m⠼\u001b[0m Creating objects...folder.\n",
      "\u001b[37m├── \u001b[0m🔨 Created mount \n",
      "\u001b[37m│   \u001b[0m/Users/santhum/projects/llm_engineering/week8/pricer_service2.py\n",
      "\u001b[2K\u001b[1A\u001b[2K\u001b[1A\u001b[2K\u001b[1A\u001b[2K\u001b[34m⠧\u001b[0m Creating objects...folder.\n",
      "\u001b[37m├── \u001b[0m🔨 Created mount \n",
      "\u001b[37m│   \u001b[0m/Users/santhum/projects/llm_engineering/week8/pricer_service2.py\n",
      "\u001b[2K\u001b[1A\u001b[2K\u001b[1A\u001b[2K\u001b[1A\u001b[2K\u001b[34m⠙\u001b[0m Creating objects...folder.\n",
      "\u001b[37m├── \u001b[0m🔨 Created mount \n",
      "\u001b[37m│   \u001b[0m/Users/santhum/projects/llm_engineering/week8/pricer_service2.py\n",
      "\u001b[2K\u001b[1A\u001b[2K\u001b[1A\u001b[2K\u001b[1A\u001b[2K\u001b[34m⠼\u001b[0m Creating objects...folder.\n",
      "\u001b[37m├── \u001b[0m🔨 Created mount \n",
      "\u001b[37m│   \u001b[0m/Users/santhum/projects/llm_engineering/week8/pricer_service2.py\n",
      "\u001b[2K\u001b[1A\u001b[2K\u001b[1A\u001b[2K\u001b[1A\u001b[2K\u001b[34m⠧\u001b[0m Creating objects...folder.\n",
      "\u001b[37m├── \u001b[0m🔨 Created mount \n",
      "\u001b[37m│   \u001b[0m/Users/santhum/projects/llm_engineering/week8/pricer_service2.py\n",
      "\u001b[2K\u001b[1A\u001b[2K\u001b[1A\u001b[2K\u001b[1A\u001b[2K\u001b[34m⠋\u001b[0m Creating objects...folder.\n",
      "\u001b[37m├── \u001b[0m🔨 Created mount \n",
      "\u001b[37m│   \u001b[0m/Users/santhum/projects/llm_engineering/week8/pricer_service2.py\n",
      "\u001b[2K\u001b[1A\u001b[2K\u001b[1A\u001b[2K\u001b[1A\u001b[2K\u001b[34m⠸\u001b[0m Creating objects...folder.\n",
      "\u001b[37m├── \u001b[0m🔨 Created mount \n",
      "\u001b[37m│   \u001b[0m/Users/santhum/projects/llm_engineering/week8/pricer_service2.py\n",
      "\u001b[2K\u001b[1A\u001b[2K\u001b[1A\u001b[2K\u001b[1A\u001b[2K\u001b[34m⠧\u001b[0m Creating objects...folder.\n",
      "\u001b[37m├── \u001b[0m🔨 Created mount \n",
      "\u001b[37m│   \u001b[0m/Users/santhum/projects/llm_engineering/week8/pricer_service2.py\n",
      "\u001b[2K\u001b[1A\u001b[2K\u001b[1A\u001b[2K\u001b[1A\u001b[2K\u001b[34m⠋\u001b[0m Creating objects...folder.\n",
      "\u001b[37m├── \u001b[0m🔨 Created mount \n",
      "\u001b[37m│   \u001b[0m/Users/santhum/projects/llm_engineering/week8/pricer_service2.py\n",
      "\u001b[2K\u001b[1A\u001b[2K\u001b[1A\u001b[2K\u001b[1A\u001b[2K\u001b[34m⠸\u001b[0m Creating objects...folder.\n",
      "\u001b[37m├── \u001b[0m🔨 Created mount \n",
      "\u001b[37m│   \u001b[0m/Users/santhum/projects/llm_engineering/week8/pricer_service2.py\n",
      "\u001b[2K\u001b[1A\u001b[2K\u001b[1A\u001b[2K\u001b[1A\u001b[2K\u001b[34m⠦\u001b[0m Creating objects...folder.\n",
      "\u001b[37m├── \u001b[0m🔨 Created mount \n",
      "\u001b[37m│   \u001b[0m/Users/santhum/projects/llm_engineering/week8/pricer_service2.py\n",
      "\u001b[2K\u001b[1A\u001b[2K\u001b[1A\u001b[2K\u001b[1A\u001b[2K\u001b[34m⠏\u001b[0m Creating objects...folder.\n",
      "\u001b[37m├── \u001b[0m🔨 Created mount \n",
      "\u001b[37m│   \u001b[0m/Users/santhum/projects/llm_engineering/week8/pricer_service2.py\n",
      "\u001b[2K\u001b[1A\u001b[2K\u001b[1A\u001b[2K\u001b[1A\u001b[2K\u001b[34m⠹\u001b[0m Creating objects...folder.\n",
      "\u001b[37m├── \u001b[0m🔨 Created mount \n",
      "\u001b[37m│   \u001b[0m/Users/santhum/projects/llm_engineering/week8/pricer_service2.py\n",
      "\u001b[2K\u001b[1A\u001b[2K\u001b[1A\u001b[2K\u001b[1A\u001b[2K\u001b[34m⠦\u001b[0m Creating objects...folder.\n",
      "\u001b[37m├── \u001b[0m🔨 Created mount \n",
      "\u001b[37m│   \u001b[0m/Users/santhum/projects/llm_engineering/week8/pricer_service2.py\n",
      "\u001b[2K\u001b[1A\u001b[2K\u001b[1A\u001b[2K\u001b[1A\u001b[2K\u001b[34m⠏\u001b[0m Creating objects...folder.\n",
      "\u001b[37m├── \u001b[0m🔨 Created mount \n",
      "\u001b[37m│   \u001b[0m/Users/santhum/projects/llm_engineering/week8/pricer_service2.py\n",
      "\u001b[2K\u001b[1A\u001b[2K\u001b[1A\u001b[2K\u001b[1A\u001b[2K\u001b[34m⠹\u001b[0m Creating objects...folder.\n",
      "\u001b[37m├── \u001b[0m🔨 Created mount \n",
      "\u001b[37m│   \u001b[0m/Users/santhum/projects/llm_engineering/week8/pricer_service2.py\n",
      "\u001b[2K\u001b[1A\u001b[2K\u001b[1A\u001b[2K\u001b[1A\u001b[2K\u001b[34m⠴\u001b[0m Creating objects...folder.\n",
      "\u001b[37m├── \u001b[0m🔨 Created mount \n",
      "\u001b[37m│   \u001b[0m/Users/santhum/projects/llm_engineering/week8/pricer_service2.py\n",
      "\u001b[2K\u001b[1A\u001b[2K\u001b[1A\u001b[2K\u001b[1A\u001b[2K\u001b[34m⠇\u001b[0m Creating objects...folder.\n",
      "\u001b[37m├── \u001b[0m🔨 Created mount \n",
      "\u001b[37m│   \u001b[0m/Users/santhum/projects/llm_engineering/week8/pricer_service2.py\n",
      "\u001b[2K\u001b[1A\u001b[2K\u001b[1A\u001b[2K\u001b[1A\u001b[2K\u001b[34m⠹\u001b[0m Creating objects...folder.\n",
      "\u001b[37m├── \u001b[0m🔨 Created mount \n",
      "\u001b[37m│   \u001b[0m/Users/santhum/projects/llm_engineering/week8/pricer_service2.py\n",
      "\u001b[2K\u001b[1A\u001b[2K\u001b[1A\u001b[2K\u001b[1A\u001b[2K\u001b[34m⠴\u001b[0m Creating objects...folder.\n",
      "\u001b[37m├── \u001b[0m🔨 Created mount \n",
      "\u001b[37m│   \u001b[0m/Users/santhum/projects/llm_engineering/week8/pricer_service2.py\n",
      "\u001b[2K\u001b[1A\u001b[2K\u001b[1A\u001b[2K\u001b[1A\u001b[2K\u001b[34m⠇\u001b[0m Creating objects...folder.\n",
      "\u001b[37m├── \u001b[0m🔨 Created mount \n",
      "\u001b[37m│   \u001b[0m/Users/santhum/projects/llm_engineering/week8/pricer_service2.py\n",
      "\u001b[2K\u001b[1A\u001b[2K\u001b[1A\u001b[2K\u001b[1A\u001b[2K\u001b[34m⠙\u001b[0m Creating objects...folder.\n",
      "\u001b[37m├── \u001b[0m🔨 Created mount \n",
      "\u001b[37m│   \u001b[0m/Users/santhum/projects/llm_engineering/week8/pricer_service2.py\n",
      "\u001b[2K\u001b[1A\u001b[2K\u001b[1A\u001b[2K\u001b[1A\u001b[2K\u001b[34m⠼\u001b[0m Creating objects...folder.\n",
      "\u001b[37m├── \u001b[0m🔨 Created mount \n",
      "\u001b[37m│   \u001b[0m/Users/santhum/projects/llm_engineering/week8/pricer_service2.py\n",
      "\u001b[2K\u001b[1A\u001b[2K\u001b[1A\u001b[2K\u001b[1A\u001b[2K\u001b[34m⠇\u001b[0m Creating objects...folder.\n",
      "\u001b[37m├── \u001b[0m🔨 Created mount \n",
      "\u001b[37m│   \u001b[0m/Users/santhum/projects/llm_engineering/week8/pricer_service2.py\n",
      "\u001b[2K\u001b[1A\u001b[2K\u001b[1A\u001b[2K\u001b[1A\u001b[2K\u001b[34m⠙\u001b[0m Creating objects...folder.\n",
      "\u001b[37m├── \u001b[0m🔨 Created mount \n",
      "\u001b[37m│   \u001b[0m/Users/santhum/projects/llm_engineering/week8/pricer_service2.py\n",
      "\u001b[2K\u001b[1A\u001b[2K\u001b[1A\u001b[2K\u001b[1A\u001b[2K\u001b[34m⠼\u001b[0m Creating objects...folder.\n",
      "\u001b[37m├── \u001b[0m🔨 Created mount \n",
      "\u001b[37m│   \u001b[0m/Users/santhum/projects/llm_engineering/week8/pricer_service2.py\n",
      "\u001b[2K\u001b[1A\u001b[2K\u001b[1A\u001b[2K\u001b[1A\u001b[2K\u001b[34m⠧\u001b[0m Creating objects...folder.\n",
      "\u001b[37m├── \u001b[0m🔨 Created mount \n",
      "\u001b[37m│   \u001b[0m/Users/santhum/projects/llm_engineering/week8/pricer_service2.py\n",
      "\u001b[2K\u001b[1A\u001b[2K\u001b[1A\u001b[2K\u001b[1A\u001b[2K\u001b[34m⠋\u001b[0m Creating objects...folder.\n",
      "\u001b[37m├── \u001b[0m🔨 Created mount \n",
      "\u001b[37m│   \u001b[0m/Users/santhum/projects/llm_engineering/week8/pricer_service2.py\n",
      "\u001b[2K\u001b[1A\u001b[2K\u001b[1A\u001b[2K\u001b[1A\u001b[2K\u001b[34m⠼\u001b[0m Creating objects...folder.\n",
      "\u001b[37m├── \u001b[0m🔨 Created mount \n",
      "\u001b[37m│   \u001b[0m/Users/santhum/projects/llm_engineering/week8/pricer_service2.py\n",
      "\u001b[2K\u001b[1A\u001b[2K\u001b[1A\u001b[2K\u001b[1A\u001b[2K\u001b[34m⠧\u001b[0m Creating objects...folder.\n",
      "\u001b[37m├── \u001b[0m🔨 Created mount \n",
      "\u001b[37m│   \u001b[0m/Users/santhum/projects/llm_engineering/week8/pricer_service2.py\n",
      "\u001b[2K\u001b[1A\u001b[2K\u001b[1A\u001b[2K\u001b[1A\u001b[2K\u001b[34m⠋\u001b[0m Creating objects...folder.\n",
      "\u001b[37m├── \u001b[0m🔨 Created mount \n",
      "\u001b[37m│   \u001b[0m/Users/santhum/projects/llm_engineering/week8/pricer_service2.py\n",
      "\u001b[2K\u001b[1A\u001b[2K\u001b[1A\u001b[2K\u001b[1A\u001b[2K\u001b[34m⠸\u001b[0m Creating objects...folder.\n",
      "\u001b[37m├── \u001b[0m🔨 Created mount \n",
      "\u001b[37m│   \u001b[0m/Users/santhum/projects/llm_engineering/week8/pricer_service2.py\n",
      "\u001b[2K\u001b[1A\u001b[2K\u001b[1A\u001b[2K\u001b[1A\u001b[2K\u001b[34m⠦\u001b[0m Creating objects...folder.\n",
      "\u001b[37m├── \u001b[0m🔨 Created mount \n",
      "\u001b[37m│   \u001b[0m/Users/santhum/projects/llm_engineering/week8/pricer_service2.py\n",
      "\u001b[2K\u001b[1A\u001b[2K\u001b[1A\u001b[2K\u001b[1A\u001b[2K\u001b[34m⠋\u001b[0m Creating objects...folder.\n",
      "\u001b[37m├── \u001b[0m🔨 Created mount \n",
      "\u001b[37m│   \u001b[0m/Users/santhum/projects/llm_engineering/week8/pricer_service2.py\n",
      "\u001b[2K\u001b[1A\u001b[2K\u001b[1A\u001b[2K\u001b[1A\u001b[2K\u001b[34m⠸\u001b[0m Creating objects...folder.\n",
      "\u001b[37m├── \u001b[0m🔨 Created mount \n",
      "\u001b[37m│   \u001b[0m/Users/santhum/projects/llm_engineering/week8/pricer_service2.py\n",
      "\u001b[2K\u001b[1A\u001b[2K\u001b[1A\u001b[2K\u001b[1A\u001b[2K\u001b[34m⠦\u001b[0m Creating objects...folder.\n",
      "\u001b[37m├── \u001b[0m🔨 Created mount \n",
      "\u001b[37m│   \u001b[0m/Users/santhum/projects/llm_engineering/week8/pricer_service2.py\n",
      "\u001b[2K\u001b[1A\u001b[2K\u001b[1A\u001b[2K\u001b[1A\u001b[2K\u001b[34m⠏\u001b[0m Creating objects...folder.\n",
      "\u001b[37m├── \u001b[0m🔨 Created mount \n",
      "\u001b[37m│   \u001b[0m/Users/santhum/projects/llm_engineering/week8/pricer_service2.py\n",
      "\u001b[2K\u001b[1A\u001b[2K\u001b[1A\u001b[2K\u001b[1A\u001b[2K\u001b[34m⠸\u001b[0m Creating objects...folder.\n",
      "\u001b[37m├── \u001b[0m🔨 Created mount \n",
      "\u001b[37m│   \u001b[0m/Users/santhum/projects/llm_engineering/week8/pricer_service2.py\n",
      "\u001b[2K\u001b[1A\u001b[2K\u001b[1A\u001b[2K\u001b[1A\u001b[2K\u001b[34m⠦\u001b[0m Creating objects...folder.\n",
      "\u001b[37m├── \u001b[0m🔨 Created mount \n",
      "\u001b[37m│   \u001b[0m/Users/santhum/projects/llm_engineering/week8/pricer_service2.py\n",
      "\u001b[2K\u001b[1A\u001b[2K\u001b[1A\u001b[2K\u001b[1A\u001b[2K\u001b[34m⠏\u001b[0m Creating objects...folder.\n",
      "\u001b[37m├── \u001b[0m🔨 Created mount \n",
      "\u001b[37m│   \u001b[0m/Users/santhum/projects/llm_engineering/week8/pricer_service2.py\n",
      "\u001b[2K\u001b[1A\u001b[2K\u001b[1A\u001b[2K\u001b[1A\u001b[2K\u001b[34m⠹\u001b[0m Creating objects...folder.\n",
      "\u001b[37m├── \u001b[0m🔨 Created mount \n",
      "\u001b[37m│   \u001b[0m/Users/santhum/projects/llm_engineering/week8/pricer_service2.py\n",
      "\u001b[2K\u001b[1A\u001b[2K\u001b[1A\u001b[2K\u001b[1A\u001b[2K\u001b[34m⠴\u001b[0m Creating objects...folder.\n",
      "\u001b[37m├── \u001b[0m🔨 Created mount \n",
      "\u001b[37m│   \u001b[0m/Users/santhum/projects/llm_engineering/week8/pricer_service2.py\n",
      "\u001b[2K\u001b[1A\u001b[2K\u001b[1A\u001b[2K\u001b[1A\u001b[2K\u001b[34m⠇\u001b[0m Creating objects...folder.\n",
      "\u001b[37m├── \u001b[0m🔨 Created mount \n",
      "\u001b[37m│   \u001b[0m/Users/santhum/projects/llm_engineering/week8/pricer_service2.py\n",
      "\u001b[2K\u001b[1A\u001b[2K\u001b[1A\u001b[2K\u001b[1A\u001b[2K\u001b[34m⠹\u001b[0m Creating objects...folder.\n",
      "\u001b[37m├── \u001b[0m🔨 Created mount \n",
      "\u001b[37m│   \u001b[0m/Users/santhum/projects/llm_engineering/week8/pricer_service2.py\n",
      "\u001b[2K\u001b[1A\u001b[2K\u001b[1A\u001b[2K\u001b[1A\u001b[2K\u001b[34m⠴\u001b[0m Creating objects...folder.\n",
      "\u001b[37m├── \u001b[0m🔨 Created mount \n",
      "\u001b[37m│   \u001b[0m/Users/santhum/projects/llm_engineering/week8/pricer_service2.py\n",
      "\u001b[2K\u001b[1A\u001b[2K\u001b[1A\u001b[2K\u001b[1A\u001b[2K\u001b[34m⠇\u001b[0m Creating objects...folder.\n",
      "\u001b[37m├── \u001b[0m🔨 Created mount \n",
      "\u001b[37m│   \u001b[0m/Users/santhum/projects/llm_engineering/week8/pricer_service2.py\n",
      "\u001b[2K\u001b[1A\u001b[2K\u001b[1A\u001b[2K\u001b[1A\u001b[2K\u001b[34m⠙\u001b[0m Creating objects...folder.\n",
      "\u001b[37m├── \u001b[0m🔨 Created mount \n",
      "\u001b[37m│   \u001b[0m/Users/santhum/projects/llm_engineering/week8/pricer_service2.py\n",
      "\u001b[2K\u001b[1A\u001b[2K\u001b[1A\u001b[2K\u001b[1A\u001b[2K\u001b[34m⠼\u001b[0m Creating objects...folder.\n",
      "\u001b[37m├── \u001b[0m🔨 Created mount \n",
      "\u001b[37m│   \u001b[0m/Users/santhum/projects/llm_engineering/week8/pricer_service2.py\n",
      "\u001b[2K\u001b[1A\u001b[2K\u001b[1A\u001b[2K\u001b[1A\u001b[2K\u001b[34m⠇\u001b[0m Creating objects...folder.\n",
      "\u001b[37m├── \u001b[0m🔨 Created mount \n",
      "\u001b[37m│   \u001b[0m/Users/santhum/projects/llm_engineering/week8/pricer_service2.py\n",
      "\u001b[2K\u001b[1A\u001b[2K\u001b[1A\u001b[2K\u001b[1A\u001b[2K\u001b[34m⠙\u001b[0m Creating objects...folder.\n",
      "\u001b[37m├── \u001b[0m🔨 Created mount \n",
      "\u001b[37m│   \u001b[0m/Users/santhum/projects/llm_engineering/week8/pricer_service2.py\n",
      "\u001b[2K\u001b[1A\u001b[2K\u001b[1A\u001b[2K\u001b[1A\u001b[2K\u001b[34m⠼\u001b[0m Creating objects...folder.\n",
      "\u001b[37m├── \u001b[0m🔨 Created mount \n",
      "\u001b[37m│   \u001b[0m/Users/santhum/projects/llm_engineering/week8/pricer_service2.py\n",
      "\u001b[2K\u001b[1A\u001b[2K\u001b[1A\u001b[2K\u001b[1A\u001b[2K\u001b[34m⠧\u001b[0m Creating objects...folder.\n",
      "\u001b[37m├── \u001b[0m🔨 Created mount \n",
      "\u001b[37m│   \u001b[0m/Users/santhum/projects/llm_engineering/week8/pricer_service2.py\n",
      "\u001b[2K\u001b[1A\u001b[2K\u001b[1A\u001b[2K\u001b[1A\u001b[2K\u001b[34m⠋\u001b[0m Creating objects...folder.\n",
      "\u001b[37m├── \u001b[0m🔨 Created mount \n",
      "\u001b[37m│   \u001b[0m/Users/santhum/projects/llm_engineering/week8/pricer_service2.py\n",
      "\u001b[2K\u001b[1A\u001b[2K\u001b[1A\u001b[2K\u001b[1A\u001b[2K\u001b[34m⠼\u001b[0m Creating objects...folder.\n",
      "\u001b[37m├── \u001b[0m🔨 Created mount \n",
      "\u001b[37m│   \u001b[0m/Users/santhum/projects/llm_engineering/week8/pricer_service2.py\n",
      "\u001b[2K\u001b[1A\u001b[2K\u001b[1A\u001b[2K\u001b[1A\u001b[2K\u001b[34m⠧\u001b[0m Creating objects...folder.\n",
      "\u001b[37m├── \u001b[0m🔨 Created mount \n",
      "\u001b[37m│   \u001b[0m/Users/santhum/projects/llm_engineering/week8/pricer_service2.py\n",
      "\u001b[2K\u001b[1A\u001b[2K\u001b[1A\u001b[2K\u001b[1A\u001b[2K\u001b[34m⠋\u001b[0m Creating objects...folder.\n",
      "\u001b[37m├── \u001b[0m🔨 Created mount \n",
      "\u001b[37m│   \u001b[0m/Users/santhum/projects/llm_engineering/week8/pricer_service2.py\n",
      "\u001b[2K\u001b[1A\u001b[2K\u001b[1A\u001b[2K\u001b[1A\u001b[2K\u001b[34m⠸\u001b[0m Creating objects...folder.\n",
      "\u001b[37m├── \u001b[0m🔨 Created mount \n",
      "\u001b[37m│   \u001b[0m/Users/santhum/projects/llm_engineering/week8/pricer_service2.py\n",
      "\u001b[2K\u001b[1A\u001b[2K\u001b[1A\u001b[2K\u001b[1A\u001b[2K\u001b[34m⠦\u001b[0m Creating objects...folder.\n",
      "\u001b[37m├── \u001b[0m🔨 Created mount \n",
      "\u001b[37m│   \u001b[0m/Users/santhum/projects/llm_engineering/week8/pricer_service2.py\n",
      "\u001b[2K\u001b[1A\u001b[2K\u001b[1A\u001b[2K\u001b[1A\u001b[2K\u001b[34m⠋\u001b[0m Creating objects...folder.\n",
      "\u001b[37m├── \u001b[0m🔨 Created mount \n",
      "\u001b[37m│   \u001b[0m/Users/santhum/projects/llm_engineering/week8/pricer_service2.py\n",
      "\u001b[2K\u001b[1A\u001b[2K\u001b[1A\u001b[2K\u001b[1A\u001b[2K\u001b[34m⠸\u001b[0m Creating objects...folder.\n",
      "\u001b[37m├── \u001b[0m🔨 Created mount \n",
      "\u001b[37m│   \u001b[0m/Users/santhum/projects/llm_engineering/week8/pricer_service2.py\n",
      "\u001b[2K\u001b[1A\u001b[2K\u001b[1A\u001b[2K\u001b[1A\u001b[2K\u001b[34m⠦\u001b[0m Creating objects...folder.\n",
      "\u001b[37m├── \u001b[0m🔨 Created mount \n",
      "\u001b[37m│   \u001b[0m/Users/santhum/projects/llm_engineering/week8/pricer_service2.py\n",
      "\u001b[2K\u001b[1A\u001b[2K\u001b[1A\u001b[2K\u001b[1A\u001b[2K\u001b[34m⠏\u001b[0m Creating objects...folder.\n",
      "\u001b[37m├── \u001b[0m🔨 Created mount \n",
      "\u001b[37m│   \u001b[0m/Users/santhum/projects/llm_engineering/week8/pricer_service2.py\n",
      "\u001b[2K\u001b[1A\u001b[2K\u001b[1A\u001b[2K\u001b[1A\u001b[2K\u001b[34m⠹\u001b[0m Creating objects...folder.\n",
      "\u001b[37m├── \u001b[0m🔨 Created mount \n",
      "\u001b[37m│   \u001b[0m/Users/santhum/projects/llm_engineering/week8/pricer_service2.py\n",
      "\u001b[2K\u001b[1A\u001b[2K\u001b[1A\u001b[2K\u001b[1A\u001b[2K\u001b[34m⠦\u001b[0m Creating objects...folder.\n",
      "\u001b[37m├── \u001b[0m🔨 Created mount \n",
      "\u001b[37m│   \u001b[0m/Users/santhum/projects/llm_engineering/week8/pricer_service2.py\n",
      "\u001b[2K\u001b[1A\u001b[2K\u001b[1A\u001b[2K\u001b[1A\u001b[2K\u001b[34m⠏\u001b[0m Creating objects...folder.\n",
      "\u001b[37m├── \u001b[0m🔨 Created mount \n",
      "\u001b[37m│   \u001b[0m/Users/santhum/projects/llm_engineering/week8/pricer_service2.py\n",
      "\u001b[2K\u001b[1A\u001b[2K\u001b[1A\u001b[2K\u001b[1A\u001b[2K\u001b[34m⠹\u001b[0m Creating objects...folder.\n",
      "\u001b[37m├── \u001b[0m🔨 Created mount \n",
      "\u001b[37m│   \u001b[0m/Users/santhum/projects/llm_engineering/week8/pricer_service2.py\n",
      "\u001b[2K\u001b[1A\u001b[2K\u001b[1A\u001b[2K\u001b[1A\u001b[2K\u001b[34m⠴\u001b[0m Creating objects...folder.\n",
      "\u001b[37m├── \u001b[0m🔨 Created mount \n",
      "\u001b[37m│   \u001b[0m/Users/santhum/projects/llm_engineering/week8/pricer_service2.py\n",
      "\u001b[2K\u001b[1A\u001b[2K\u001b[1A\u001b[2K\u001b[1A\u001b[2K\u001b[34m⠇\u001b[0m Creating objects...folder.\n",
      "\u001b[37m├── \u001b[0m🔨 Created mount \n",
      "\u001b[37m│   \u001b[0m/Users/santhum/projects/llm_engineering/week8/pricer_service2.py\n",
      "\u001b[2K\u001b[1A\u001b[2K\u001b[1A\u001b[2K\u001b[1A\u001b[2K\u001b[34m⠹\u001b[0m Creating objects...folder.\n",
      "\u001b[37m├── \u001b[0m🔨 Created mount \n",
      "\u001b[37m│   \u001b[0m/Users/santhum/projects/llm_engineering/week8/pricer_service2.py\n",
      "\u001b[2K\u001b[1A\u001b[2K\u001b[1A\u001b[2K\u001b[1A\u001b[2K\u001b[34m⠴\u001b[0m Creating objects...folder.\n",
      "\u001b[37m├── \u001b[0m🔨 Created mount \n",
      "\u001b[37m│   \u001b[0m/Users/santhum/projects/llm_engineering/week8/pricer_service2.py\n",
      "\u001b[2K\u001b[1A\u001b[2K\u001b[1A\u001b[2K\u001b[1A\u001b[2K\u001b[34m⠇\u001b[0m Creating objects...folder.\n",
      "\u001b[37m├── \u001b[0m🔨 Created mount \n",
      "\u001b[37m│   \u001b[0m/Users/santhum/projects/llm_engineering/week8/pricer_service2.py\n",
      "\u001b[2K\u001b[1A\u001b[2K\u001b[1A\u001b[2K\u001b[1A\u001b[2K\u001b[34m⠙\u001b[0m Creating objects...folder.\n",
      "\u001b[37m├── \u001b[0m🔨 Created mount \n",
      "\u001b[37m│   \u001b[0m/Users/santhum/projects/llm_engineering/week8/pricer_service2.py\n",
      "\u001b[2K\u001b[1A\u001b[2K\u001b[1A\u001b[2K\u001b[1A\u001b[2K\u001b[34m⠼\u001b[0m Creating objects...folder.\n",
      "\u001b[37m├── \u001b[0m🔨 Created mount \n",
      "\u001b[37m│   \u001b[0m/Users/santhum/projects/llm_engineering/week8/pricer_service2.py\n",
      "\u001b[2K\u001b[1A\u001b[2K\u001b[1A\u001b[2K\u001b[1A\u001b[2K\u001b[34m⠇\u001b[0m Creating objects...folder.\n",
      "\u001b[37m├── \u001b[0m🔨 Created mount \n",
      "\u001b[37m│   \u001b[0m/Users/santhum/projects/llm_engineering/week8/pricer_service2.py\n",
      "\u001b[2K\u001b[1A\u001b[2K\u001b[1A\u001b[2K\u001b[1A\u001b[2K\u001b[34m⠙\u001b[0m Creating objects...folder.\n",
      "\u001b[37m├── \u001b[0m🔨 Created mount \n",
      "\u001b[37m│   \u001b[0m/Users/santhum/projects/llm_engineering/week8/pricer_service2.py\n",
      "\u001b[2K\u001b[1A\u001b[2K\u001b[1A\u001b[2K\u001b[1A\u001b[2K\u001b[34m⠼\u001b[0m Creating objects...folder.\n",
      "\u001b[37m├── \u001b[0m🔨 Created mount \n",
      "\u001b[37m│   \u001b[0m/Users/santhum/projects/llm_engineering/week8/pricer_service2.py\n",
      "\u001b[2K\u001b[1A\u001b[2K\u001b[1A\u001b[2K\u001b[1A\u001b[2K\u001b[34m⠧\u001b[0m Creating objects...folder.\n",
      "\u001b[37m├── \u001b[0m🔨 Created mount \n",
      "\u001b[37m│   \u001b[0m/Users/santhum/projects/llm_engineering/week8/pricer_service2.py\n",
      "\u001b[2K\u001b[1A\u001b[2K\u001b[1A\u001b[2K\u001b[1A\u001b[2K\u001b[34m⠋\u001b[0m Creating objects...folder.\n",
      "\u001b[37m├── \u001b[0m🔨 Created mount \n",
      "\u001b[37m│   \u001b[0m/Users/santhum/projects/llm_engineering/week8/pricer_service2.py\n",
      "\u001b[2K\u001b[1A\u001b[2K\u001b[1A\u001b[2K\u001b[1A\u001b[2K\u001b[34m⠼\u001b[0m Creating objects...folder.\n",
      "\u001b[37m├── \u001b[0m🔨 Created mount \n",
      "\u001b[37m│   \u001b[0m/Users/santhum/projects/llm_engineering/week8/pricer_service2.py\n",
      "\u001b[2K\u001b[1A\u001b[2K\u001b[1A\u001b[2K\u001b[1A\u001b[2K\u001b[34m⠧\u001b[0m Creating objects...folder.\n",
      "\u001b[37m├── \u001b[0m🔨 Created mount \n",
      "\u001b[37m│   \u001b[0m/Users/santhum/projects/llm_engineering/week8/pricer_service2.py\n",
      "\u001b[2K\u001b[1A\u001b[2K\u001b[1A\u001b[2K\u001b[1A\u001b[2K\u001b[34m⠋\u001b[0m Creating objects...folder.\n",
      "\u001b[37m├── \u001b[0m🔨 Created mount \n",
      "\u001b[37m│   \u001b[0m/Users/santhum/projects/llm_engineering/week8/pricer_service2.py\n",
      "\u001b[2K\u001b[1A\u001b[2K\u001b[1A\u001b[2K\u001b[1A\u001b[2K\u001b[34m⠸\u001b[0m Creating objects...folder.\n",
      "\u001b[37m├── \u001b[0m🔨 Created mount \n",
      "\u001b[37m│   \u001b[0m/Users/santhum/projects/llm_engineering/week8/pricer_service2.py\n",
      "\u001b[2K\u001b[1A\u001b[2K\u001b[1A\u001b[2K\u001b[1A\u001b[2K\u001b[34m⠦\u001b[0m Creating objects...folder.\n",
      "\u001b[37m├── \u001b[0m🔨 Created mount \n",
      "\u001b[37m│   \u001b[0m/Users/santhum/projects/llm_engineering/week8/pricer_service2.py\n",
      "\u001b[2K\u001b[1A\u001b[2K\u001b[1A\u001b[2K\u001b[1A\u001b[2K\u001b[34m⠏\u001b[0m Creating objects...folder.\n",
      "\u001b[37m├── \u001b[0m🔨 Created mount \n",
      "\u001b[37m│   \u001b[0m/Users/santhum/projects/llm_engineering/week8/pricer_service2.py\n",
      "\u001b[2K\u001b[1A\u001b[2K\u001b[1A\u001b[2K\u001b[1A\u001b[2K\u001b[34m⠸\u001b[0m Creating objects...folder.\n",
      "\u001b[37m├── \u001b[0m🔨 Created mount \n",
      "\u001b[37m│   \u001b[0m/Users/santhum/projects/llm_engineering/week8/pricer_service2.py\n",
      "\u001b[2K\u001b[1A\u001b[2K\u001b[1A\u001b[2K\u001b[1A\u001b[2K\u001b[34m⠦\u001b[0m Creating objects...folder.\n",
      "\u001b[37m├── \u001b[0m🔨 Created mount \n",
      "\u001b[37m│   \u001b[0m/Users/santhum/projects/llm_engineering/week8/pricer_service2.py\n",
      "\u001b[2K\u001b[1A\u001b[2K\u001b[1A\u001b[2K\u001b[1A\u001b[2K\u001b[34m⠏\u001b[0m Creating objects...folder.\n",
      "\u001b[37m├── \u001b[0m🔨 Created mount \n",
      "\u001b[37m│   \u001b[0m/Users/santhum/projects/llm_engineering/week8/pricer_service2.py\n",
      "\u001b[2K\u001b[1A\u001b[2K\u001b[1A\u001b[2K\u001b[1A\u001b[2K\u001b[34m⠹\u001b[0m Creating objects...folder.\n",
      "\u001b[37m├── \u001b[0m🔨 Created mount \n",
      "\u001b[37m│   \u001b[0m/Users/santhum/projects/llm_engineering/week8/pricer_service2.py\n",
      "\u001b[2K\u001b[1A\u001b[2K\u001b[1A\u001b[2K\u001b[1A\u001b[2K\u001b[34m⠴\u001b[0m Creating objects...folder.\n",
      "\u001b[37m├── \u001b[0m🔨 Created mount \n",
      "\u001b[37m│   \u001b[0m/Users/santhum/projects/llm_engineering/week8/pricer_service2.py\n",
      "\u001b[2K\u001b[1A\u001b[2K\u001b[1A\u001b[2K\u001b[1A\u001b[2K\u001b[34m⠏\u001b[0m Creating objects...folder.\n",
      "\u001b[37m├── \u001b[0m🔨 Created mount \n",
      "\u001b[37m│   \u001b[0m/Users/santhum/projects/llm_engineering/week8/pricer_service2.py\n",
      "\u001b[2K\u001b[1A\u001b[2K\u001b[1A\u001b[2K\u001b[1A\u001b[2K\u001b[34m⠹\u001b[0m Creating objects...folder.\n",
      "\u001b[37m├── \u001b[0m🔨 Created mount \n",
      "\u001b[37m│   \u001b[0m/Users/santhum/projects/llm_engineering/week8/pricer_service2.py\n",
      "\u001b[2K\u001b[1A\u001b[2K\u001b[1A\u001b[2K\u001b[1A\u001b[2K\u001b[34m⠴\u001b[0m Creating objects...folder.\n",
      "\u001b[37m├── \u001b[0m🔨 Created mount \n",
      "\u001b[37m│   \u001b[0m/Users/santhum/projects/llm_engineering/week8/pricer_service2.py\n",
      "\u001b[2K\u001b[1A\u001b[2K\u001b[1A\u001b[2K\u001b[1A\u001b[2K\u001b[34m⠇\u001b[0m Creating objects...folder.\n",
      "\u001b[37m├── \u001b[0m🔨 Created mount \n",
      "\u001b[37m│   \u001b[0m/Users/santhum/projects/llm_engineering/week8/pricer_service2.py\n",
      "\u001b[2K\u001b[1A\u001b[2K\u001b[1A\u001b[2K\u001b[1A\u001b[2K\u001b[34m⠙\u001b[0m Creating objects...folder.\n",
      "\u001b[37m├── \u001b[0m🔨 Created mount \n",
      "\u001b[37m│   \u001b[0m/Users/santhum/projects/llm_engineering/week8/pricer_service2.py\n",
      "\u001b[2K\u001b[1A\u001b[2K\u001b[1A\u001b[2K\u001b[1A\u001b[2K\u001b[34m⠴\u001b[0m Creating objects...folder.\n",
      "\u001b[37m├── \u001b[0m🔨 Created mount \n",
      "\u001b[37m│   \u001b[0m/Users/santhum/projects/llm_engineering/week8/pricer_service2.py\n",
      "\u001b[2K\u001b[1A\u001b[2K\u001b[1A\u001b[2K\u001b[1A\u001b[2K\u001b[34m⠇\u001b[0m Creating objects...folder.\n",
      "\u001b[37m├── \u001b[0m🔨 Created mount \n",
      "\u001b[37m│   \u001b[0m/Users/santhum/projects/llm_engineering/week8/pricer_service2.py\n",
      "\u001b[2K\u001b[1A\u001b[2K\u001b[1A\u001b[2K\u001b[1A\u001b[2K\u001b[34m⠙\u001b[0m Creating objects...folder.\n",
      "\u001b[37m├── \u001b[0m🔨 Created mount \n",
      "\u001b[37m│   \u001b[0m/Users/santhum/projects/llm_engineering/week8/pricer_service2.py\n",
      "\u001b[2K\u001b[1A\u001b[2K\u001b[1A\u001b[2K\u001b[1A\u001b[2K\u001b[34m⠼\u001b[0m Creating objects...folder.\n",
      "\u001b[37m├── \u001b[0m🔨 Created mount \n",
      "\u001b[37m│   \u001b[0m/Users/santhum/projects/llm_engineering/week8/pricer_service2.py\n",
      "\u001b[2K\u001b[1A\u001b[2K\u001b[1A\u001b[2K\u001b[1A\u001b[2K\u001b[34m⠧\u001b[0m Creating objects...folder.\n",
      "\u001b[37m├── \u001b[0m🔨 Created mount \n",
      "\u001b[37m│   \u001b[0m/Users/santhum/projects/llm_engineering/week8/pricer_service2.py\n",
      "\u001b[2K\u001b[1A\u001b[2K\u001b[1A\u001b[2K\u001b[1A\u001b[2K\u001b[34m⠋\u001b[0m Creating objects...folder.\n",
      "\u001b[37m├── \u001b[0m🔨 Created mount \n",
      "\u001b[37m│   \u001b[0m/Users/santhum/projects/llm_engineering/week8/pricer_service2.py\n",
      "\u001b[2K\u001b[1A\u001b[2K\u001b[1A\u001b[2K\u001b[1A\u001b[2K\u001b[34m⠼\u001b[0m Creating objects...folder.\n",
      "\u001b[37m├── \u001b[0m🔨 Created mount \n",
      "\u001b[37m│   \u001b[0m/Users/santhum/projects/llm_engineering/week8/pricer_service2.py\n",
      "\u001b[2K\u001b[1A\u001b[2K\u001b[1A\u001b[2K\u001b[1A\u001b[2K\u001b[34m⠧\u001b[0m Creating objects...folder.\n",
      "\u001b[37m├── \u001b[0m🔨 Created mount \n",
      "\u001b[37m│   \u001b[0m/Users/santhum/projects/llm_engineering/week8/pricer_service2.py\n",
      "\u001b[2K\u001b[1A\u001b[2K\u001b[1A\u001b[2K\u001b[1A\u001b[2K\u001b[34m⠋\u001b[0m Creating objects...folder.\n",
      "\u001b[37m├── \u001b[0m🔨 Created mount \n",
      "\u001b[37m│   \u001b[0m/Users/santhum/projects/llm_engineering/week8/pricer_service2.py\n",
      "\u001b[2K\u001b[1A\u001b[2K\u001b[1A\u001b[2K\u001b[1A\u001b[2K\u001b[34m⠸\u001b[0m Creating objects...folder.\n",
      "\u001b[37m├── \u001b[0m🔨 Created mount \n",
      "\u001b[37m│   \u001b[0m/Users/santhum/projects/llm_engineering/week8/pricer_service2.py\n",
      "\u001b[2K\u001b[1A\u001b[2K\u001b[1A\u001b[2K\u001b[1A\u001b[2K\u001b[34m⠦\u001b[0m Creating objects...folder.\n",
      "\u001b[37m├── \u001b[0m🔨 Created mount \n",
      "\u001b[37m│   \u001b[0m/Users/santhum/projects/llm_engineering/week8/pricer_service2.py\n",
      "\u001b[2K\u001b[1A\u001b[2K\u001b[1A\u001b[2K\u001b[1A\u001b[2K\u001b[34m⠏\u001b[0m Creating objects...folder.\n",
      "\u001b[37m├── \u001b[0m🔨 Created mount \n",
      "\u001b[37m│   \u001b[0m/Users/santhum/projects/llm_engineering/week8/pricer_service2.py\n",
      "\u001b[2K\u001b[1A\u001b[2K\u001b[1A\u001b[2K\u001b[1A\u001b[2K\u001b[34m⠸\u001b[0m Creating objects...folder.\n",
      "\u001b[37m├── \u001b[0m🔨 Created mount \n",
      "\u001b[37m│   \u001b[0m/Users/santhum/projects/llm_engineering/week8/pricer_service2.py\n",
      "\u001b[2K\u001b[1A\u001b[2K\u001b[1A\u001b[2K\u001b[1A\u001b[2K\u001b[34m⠦\u001b[0m Creating objects...folder.\n",
      "\u001b[37m├── \u001b[0m🔨 Created mount \n",
      "\u001b[37m│   \u001b[0m/Users/santhum/projects/llm_engineering/week8/pricer_service2.py\n",
      "\u001b[2K\u001b[1A\u001b[2K\u001b[1A\u001b[2K\u001b[1A\u001b[2K\u001b[34m⠏\u001b[0m Creating objects...folder.\n",
      "\u001b[37m├── \u001b[0m🔨 Created mount \n",
      "\u001b[37m│   \u001b[0m/Users/santhum/projects/llm_engineering/week8/pricer_service2.py\n",
      "\u001b[2K\u001b[1A\u001b[2K\u001b[1A\u001b[2K\u001b[1A\u001b[2K\u001b[34m⠹\u001b[0m Creating objects...folder.\n",
      "\u001b[37m├── \u001b[0m🔨 Created mount \n",
      "\u001b[37m│   \u001b[0m/Users/santhum/projects/llm_engineering/week8/pricer_service2.py\n",
      "\u001b[2K\u001b[1A\u001b[2K\u001b[1A\u001b[2K\u001b[1A\u001b[2K\u001b[34m⠴\u001b[0m Creating objects...folder.\n",
      "\u001b[37m├── \u001b[0m🔨 Created mount \n",
      "\u001b[37m│   \u001b[0m/Users/santhum/projects/llm_engineering/week8/pricer_service2.py\n",
      "\u001b[2K\u001b[1A\u001b[2K\u001b[1A\u001b[2K\u001b[1A\u001b[2K\u001b[34m⠇\u001b[0m Creating objects...folder.\n",
      "\u001b[37m├── \u001b[0m🔨 Created mount \n",
      "\u001b[37m│   \u001b[0m/Users/santhum/projects/llm_engineering/week8/pricer_service2.py\n",
      "\u001b[2K\u001b[1A\u001b[2K\u001b[1A\u001b[2K\u001b[1A\u001b[2K\u001b[34m⠹\u001b[0m Creating objects...folder.\n",
      "\u001b[37m├── \u001b[0m🔨 Created mount \n",
      "\u001b[37m│   \u001b[0m/Users/santhum/projects/llm_engineering/week8/pricer_service2.py\n",
      "\u001b[2K\u001b[1A\u001b[2K\u001b[1A\u001b[2K\u001b[1A\u001b[2K\u001b[34m⠴\u001b[0m Creating objects...folder.\n",
      "\u001b[37m├── \u001b[0m🔨 Created mount \n",
      "\u001b[37m│   \u001b[0m/Users/santhum/projects/llm_engineering/week8/pricer_service2.py\n",
      "\u001b[2K\u001b[1A\u001b[2K\u001b[1A\u001b[2K\u001b[1A\u001b[2K\u001b[34m⠇\u001b[0m Creating objects...folder.\n",
      "\u001b[37m├── \u001b[0m🔨 Created mount \n",
      "\u001b[37m│   \u001b[0m/Users/santhum/projects/llm_engineering/week8/pricer_service2.py\n",
      "\u001b[2K\u001b[1A\u001b[2K\u001b[1A\u001b[2K\u001b[1A\u001b[2K\u001b[34m⠙\u001b[0m Creating objects...folder.\n",
      "\u001b[37m├── \u001b[0m🔨 Created mount \n",
      "\u001b[37m│   \u001b[0m/Users/santhum/projects/llm_engineering/week8/pricer_service2.py\n",
      "\u001b[2K\u001b[1A\u001b[2K\u001b[1A\u001b[2K\u001b[1A\u001b[2K\u001b[34m⠼\u001b[0m Creating objects...folder.\n",
      "\u001b[37m├── \u001b[0m🔨 Created mount \n",
      "\u001b[37m│   \u001b[0m/Users/santhum/projects/llm_engineering/week8/pricer_service2.py\n",
      "\u001b[2K\u001b[1A\u001b[2K\u001b[1A\u001b[2K\u001b[1A\u001b[2K\u001b[34m⠇\u001b[0m Creating objects...folder.\n",
      "\u001b[37m├── \u001b[0m🔨 Created mount \n",
      "\u001b[37m│   \u001b[0m/Users/santhum/projects/llm_engineering/week8/pricer_service2.py\n",
      "\u001b[2K\u001b[1A\u001b[2K\u001b[1A\u001b[2K\u001b[1A\u001b[2K\u001b[34m⠙\u001b[0m Creating objects...folder.\n",
      "\u001b[37m├── \u001b[0m🔨 Created mount \n",
      "\u001b[37m│   \u001b[0m/Users/santhum/projects/llm_engineering/week8/pricer_service2.py\n",
      "\u001b[2K\u001b[1A\u001b[2K\u001b[1A\u001b[2K\u001b[1A\u001b[2K\u001b[34m⠼\u001b[0m Creating objects...folder.\n",
      "\u001b[37m├── \u001b[0m🔨 Created mount \n",
      "\u001b[37m│   \u001b[0m/Users/santhum/projects/llm_engineering/week8/pricer_service2.py\n",
      "\u001b[2K\u001b[1A\u001b[2K\u001b[1A\u001b[2K\u001b[1A\u001b[2K\u001b[34m⠧\u001b[0m Creating objects...folder.\n",
      "\u001b[37m├── \u001b[0m🔨 Created mount \n",
      "\u001b[37m│   \u001b[0m/Users/santhum/projects/llm_engineering/week8/pricer_service2.py\n",
      "\u001b[2K\u001b[1A\u001b[2K\u001b[1A\u001b[2K\u001b[1A\u001b[2K\u001b[34m⠋\u001b[0m Creating objects...folder.\n",
      "\u001b[37m├── \u001b[0m🔨 Created mount \n",
      "\u001b[37m│   \u001b[0m/Users/santhum/projects/llm_engineering/week8/pricer_service2.py\n",
      "\u001b[2K\u001b[1A\u001b[2K\u001b[1A\u001b[2K\u001b[1A\u001b[2K\u001b[34m⠸\u001b[0m Creating objects...folder.\n",
      "\u001b[37m├── \u001b[0m🔨 Created mount \n",
      "\u001b[37m│   \u001b[0m/Users/santhum/projects/llm_engineering/week8/pricer_service2.py\n",
      "\u001b[2K\u001b[1A\u001b[2K\u001b[1A\u001b[2K\u001b[1A\u001b[2K\u001b[34m⠧\u001b[0m Creating objects...folder.\n",
      "\u001b[37m├── \u001b[0m🔨 Created mount \n",
      "\u001b[37m│   \u001b[0m/Users/santhum/projects/llm_engineering/week8/pricer_service2.py\n",
      "\u001b[2K\u001b[1A\u001b[2K\u001b[1A\u001b[2K\u001b[1A\u001b[2K\u001b[34m⠋\u001b[0m Creating objects...folder.\n",
      "\u001b[37m├── \u001b[0m🔨 Created mount \n",
      "\u001b[37m│   \u001b[0m/Users/santhum/projects/llm_engineering/week8/pricer_service2.py\n",
      "\u001b[2K\u001b[1A\u001b[2K\u001b[1A\u001b[2K\u001b[1A\u001b[2K\u001b[34m⠸\u001b[0m Creating objects...folder.\n",
      "\u001b[37m├── \u001b[0m🔨 Created mount \n",
      "\u001b[37m│   \u001b[0m/Users/santhum/projects/llm_engineering/week8/pricer_service2.py\n",
      "\u001b[2K\u001b[1A\u001b[2K\u001b[1A\u001b[2K\u001b[1A\u001b[2K\u001b[34m⠦\u001b[0m Creating objects...folder.\n",
      "\u001b[37m├── \u001b[0m🔨 Created mount \n",
      "\u001b[37m│   \u001b[0m/Users/santhum/projects/llm_engineering/week8/pricer_service2.py\n",
      "\u001b[2K\u001b[1A\u001b[2K\u001b[1A\u001b[2K\u001b[1A\u001b[2K\u001b[34m⠏\u001b[0m Creating objects...folder.\n",
      "\u001b[37m├── \u001b[0m🔨 Created mount \n",
      "\u001b[37m│   \u001b[0m/Users/santhum/projects/llm_engineering/week8/pricer_service2.py\n",
      "\u001b[2K\u001b[1A\u001b[2K\u001b[1A\u001b[2K\u001b[1A\u001b[2K\u001b[34m⠸\u001b[0m Creating objects...folder.\n",
      "\u001b[37m├── \u001b[0m🔨 Created mount \n",
      "\u001b[37m│   \u001b[0m/Users/santhum/projects/llm_engineering/week8/pricer_service2.py\n",
      "\u001b[2K\u001b[1A\u001b[2K\u001b[1A\u001b[2K\u001b[1A\u001b[2K\u001b[34m⠦\u001b[0m Creating objects...folder.\n",
      "\u001b[37m├── \u001b[0m🔨 Created mount \n",
      "\u001b[37m│   \u001b[0m/Users/santhum/projects/llm_engineering/week8/pricer_service2.py\n",
      "\u001b[2K\u001b[1A\u001b[2K\u001b[1A\u001b[2K\u001b[1A\u001b[2K\u001b[34m⠏\u001b[0m Creating objects...folder.\n",
      "\u001b[37m├── \u001b[0m🔨 Created mount \n",
      "\u001b[37m│   \u001b[0m/Users/santhum/projects/llm_engineering/week8/pricer_service2.py\n",
      "\u001b[2K\u001b[1A\u001b[2K\u001b[1A\u001b[2K\u001b[1A\u001b[2K\u001b[34m⠹\u001b[0m Creating objects...folder.\n",
      "\u001b[37m├── \u001b[0m🔨 Created mount \n",
      "\u001b[37m│   \u001b[0m/Users/santhum/projects/llm_engineering/week8/pricer_service2.py\n",
      "\u001b[2K\u001b[1A\u001b[2K\u001b[1A\u001b[2K\u001b[1A\u001b[2K\u001b[34m⠴\u001b[0m Creating objects...folder.\n",
      "\u001b[37m├── \u001b[0m🔨 Created mount \n",
      "\u001b[37m│   \u001b[0m/Users/santhum/projects/llm_engineering/week8/pricer_service2.py\n",
      "\u001b[2K\u001b[1A\u001b[2K\u001b[1A\u001b[2K\u001b[1A\u001b[2K\u001b[34m⠇\u001b[0m Creating objects...folder.\n",
      "\u001b[37m├── \u001b[0m🔨 Created mount \n",
      "\u001b[37m│   \u001b[0m/Users/santhum/projects/llm_engineering/week8/pricer_service2.py\n",
      "\u001b[2K\u001b[1A\u001b[2K\u001b[1A\u001b[2K\u001b[1A\u001b[2K\u001b[34m⠹\u001b[0m Creating objects...folder.\n",
      "\u001b[37m├── \u001b[0m🔨 Created mount \n",
      "\u001b[37m│   \u001b[0m/Users/santhum/projects/llm_engineering/week8/pricer_service2.py\n",
      "\u001b[2K\u001b[1A\u001b[2K\u001b[1A\u001b[2K\u001b[1A\u001b[2K\u001b[34m⠴\u001b[0m Creating objects...folder.\n",
      "\u001b[37m├── \u001b[0m🔨 Created mount \n",
      "\u001b[37m│   \u001b[0m/Users/santhum/projects/llm_engineering/week8/pricer_service2.py\n",
      "\u001b[2K\u001b[1A\u001b[2K\u001b[1A\u001b[2K\u001b[1A\u001b[2K\u001b[34m⠇\u001b[0m Creating objects...folder.\n",
      "\u001b[37m├── \u001b[0m🔨 Created mount \n",
      "\u001b[37m│   \u001b[0m/Users/santhum/projects/llm_engineering/week8/pricer_service2.py\n",
      "\u001b[2K\u001b[1A\u001b[2K\u001b[1A\u001b[2K\u001b[1A\u001b[2K\u001b[34m⠙\u001b[0m Creating objects...folder.\n",
      "\u001b[37m├── \u001b[0m🔨 Created mount \n",
      "\u001b[37m│   \u001b[0m/Users/santhum/projects/llm_engineering/week8/pricer_service2.py\n",
      "\u001b[2K\u001b[1A\u001b[2K\u001b[1A\u001b[2K\u001b[1A\u001b[2K\u001b[34m⠼\u001b[0m Creating objects...folder.\n",
      "\u001b[37m├── \u001b[0m🔨 Created mount \n",
      "\u001b[37m│   \u001b[0m/Users/santhum/projects/llm_engineering/week8/pricer_service2.py\n",
      "\u001b[2K\u001b[1A\u001b[2K\u001b[1A\u001b[2K\u001b[1A\u001b[2K\u001b[34m⠧\u001b[0m Creating objects...folder.\n",
      "\u001b[37m├── \u001b[0m🔨 Created mount \n",
      "\u001b[37m│   \u001b[0m/Users/santhum/projects/llm_engineering/week8/pricer_service2.py\n",
      "\u001b[2K\u001b[1A\u001b[2K\u001b[1A\u001b[2K\u001b[1A\u001b[2K\u001b[34m⠙\u001b[0m Creating objects...folder.\n",
      "\u001b[37m├── \u001b[0m🔨 Created mount \n",
      "\u001b[37m│   \u001b[0m/Users/santhum/projects/llm_engineering/week8/pricer_service2.py\n",
      "\u001b[2K\u001b[1A\u001b[2K\u001b[1A\u001b[2K\u001b[1A\u001b[2K\u001b[34m⠼\u001b[0m Creating objects...folder.\n",
      "\u001b[37m├── \u001b[0m🔨 Created mount \n",
      "\u001b[37m│   \u001b[0m/Users/santhum/projects/llm_engineering/week8/pricer_service2.py\n",
      "\u001b[2K\u001b[1A\u001b[2K\u001b[1A\u001b[2K\u001b[1A\u001b[2K\u001b[34m⠧\u001b[0m Creating objects...folder.\n",
      "\u001b[37m├── \u001b[0m🔨 Created mount \n",
      "\u001b[37m│   \u001b[0m/Users/santhum/projects/llm_engineering/week8/pricer_service2.py\n",
      "\u001b[2K\u001b[1A\u001b[2K\u001b[1A\u001b[2K\u001b[1A\u001b[2K\u001b[34m⠋\u001b[0m Creating objects...folder.\n",
      "\u001b[37m├── \u001b[0m🔨 Created mount \n",
      "\u001b[37m│   \u001b[0m/Users/santhum/projects/llm_engineering/week8/pricer_service2.py\n",
      "\u001b[2K\u001b[1A\u001b[2K\u001b[1A\u001b[2K\u001b[1A\u001b[2K\u001b[34m⠸\u001b[0m Creating objects...folder.\n",
      "\u001b[37m├── \u001b[0m🔨 Created mount \n",
      "\u001b[37m│   \u001b[0m/Users/santhum/projects/llm_engineering/week8/pricer_service2.py\n",
      "\u001b[2K\u001b[1A\u001b[2K\u001b[1A\u001b[2K\u001b[1A\u001b[2K\u001b[34m⠧\u001b[0m Creating objects...folder.\n",
      "\u001b[37m├── \u001b[0m🔨 Created mount \n",
      "\u001b[37m│   \u001b[0m/Users/santhum/projects/llm_engineering/week8/pricer_service2.py\n",
      "\u001b[2K\u001b[1A\u001b[2K\u001b[1A\u001b[2K\u001b[1A\u001b[2K\u001b[34m⠋\u001b[0m Creating objects...folder.\n",
      "\u001b[37m├── \u001b[0m🔨 Created mount \n",
      "\u001b[37m│   \u001b[0m/Users/santhum/projects/llm_engineering/week8/pricer_service2.py\n",
      "\u001b[2K\u001b[1A\u001b[2K\u001b[1A\u001b[2K\u001b[1A\u001b[2K\u001b[34m⠸\u001b[0m Creating objects...folder.\n",
      "\u001b[37m├── \u001b[0m🔨 Created mount \n",
      "\u001b[37m│   \u001b[0m/Users/santhum/projects/llm_engineering/week8/pricer_service2.py\n",
      "\u001b[2K\u001b[1A\u001b[2K\u001b[1A\u001b[2K\u001b[1A\u001b[2K\u001b[34m⠦\u001b[0m Creating objects...folder.\n",
      "\u001b[37m├── \u001b[0m🔨 Created mount \n",
      "\u001b[37m│   \u001b[0m/Users/santhum/projects/llm_engineering/week8/pricer_service2.py\n",
      "\u001b[2K\u001b[1A\u001b[2K\u001b[1A\u001b[2K\u001b[1A\u001b[2K\u001b[34m⠏\u001b[0m Creating objects...folder.\n",
      "\u001b[37m├── \u001b[0m🔨 Created mount \n",
      "\u001b[37m│   \u001b[0m/Users/santhum/projects/llm_engineering/week8/pricer_service2.py\n",
      "\u001b[2K\u001b[1A\u001b[2K\u001b[1A\u001b[2K\u001b[1A\u001b[2K\u001b[34m⠹\u001b[0m Creating objects...folder.\n",
      "\u001b[37m├── \u001b[0m🔨 Created mount \n",
      "\u001b[37m│   \u001b[0m/Users/santhum/projects/llm_engineering/week8/pricer_service2.py\n",
      "\u001b[2K\u001b[1A\u001b[2K\u001b[1A\u001b[2K\u001b[1A\u001b[2K\u001b[34m⠦\u001b[0m Creating objects...folder.\n",
      "\u001b[37m├── \u001b[0m🔨 Created mount \n",
      "\u001b[37m│   \u001b[0m/Users/santhum/projects/llm_engineering/week8/pricer_service2.py\n",
      "\u001b[2K\u001b[1A\u001b[2K\u001b[1A\u001b[2K\u001b[1A\u001b[2K\u001b[34m⠏\u001b[0m Creating objects...folder.\n",
      "\u001b[37m├── \u001b[0m🔨 Created mount \n",
      "\u001b[37m│   \u001b[0m/Users/santhum/projects/llm_engineering/week8/pricer_service2.py\n",
      "\u001b[2K\u001b[1A\u001b[2K\u001b[1A\u001b[2K\u001b[1A\u001b[2K\u001b[34m⠹\u001b[0m Creating objects...folder.\n",
      "\u001b[37m├── \u001b[0m🔨 Created mount \n",
      "\u001b[37m│   \u001b[0m/Users/santhum/projects/llm_engineering/week8/pricer_service2.py\n",
      "\u001b[2K\u001b[1A\u001b[2K\u001b[1A\u001b[2K\u001b[1A\u001b[2K\u001b[34m⠴\u001b[0m Creating objects...folder.\n",
      "\u001b[37m├── \u001b[0m🔨 Created mount \n",
      "\u001b[37m│   \u001b[0m/Users/santhum/projects/llm_engineering/week8/pricer_service2.py\n",
      "\u001b[2K\u001b[1A\u001b[2K\u001b[1A\u001b[2K\u001b[1A\u001b[2K\u001b[34m⠇\u001b[0m Creating objects...folder.\n",
      "\u001b[37m├── \u001b[0m🔨 Created mount \n",
      "\u001b[37m│   \u001b[0m/Users/santhum/projects/llm_engineering/week8/pricer_service2.py\n",
      "\u001b[2K\u001b[1A\u001b[2K\u001b[1A\u001b[2K\u001b[1A\u001b[2K\u001b[34m⠙\u001b[0m Creating objects...folder.\n",
      "\u001b[37m├── \u001b[0m🔨 Created mount \n",
      "\u001b[37m│   \u001b[0m/Users/santhum/projects/llm_engineering/week8/pricer_service2.py\n",
      "\u001b[2K\u001b[1A\u001b[2K\u001b[1A\u001b[2K\u001b[1A\u001b[2K\u001b[34m⠴\u001b[0m Creating objects...folder.\n",
      "\u001b[37m├── \u001b[0m🔨 Created mount \n",
      "\u001b[37m│   \u001b[0m/Users/santhum/projects/llm_engineering/week8/pricer_service2.py\n",
      "\u001b[2K\u001b[1A\u001b[2K\u001b[1A\u001b[2K\u001b[1A\u001b[2K\u001b[34m⠇\u001b[0m Creating objects...folder.\n",
      "\u001b[37m├── \u001b[0m🔨 Created mount \n",
      "\u001b[37m│   \u001b[0m/Users/santhum/projects/llm_engineering/week8/pricer_service2.py\n",
      "\u001b[2K\u001b[1A\u001b[2K\u001b[1A\u001b[2K\u001b[1A\u001b[2K\u001b[34m⠙\u001b[0m Creating objects...folder.\n",
      "\u001b[37m├── \u001b[0m🔨 Created mount \n",
      "\u001b[37m│   \u001b[0m/Users/santhum/projects/llm_engineering/week8/pricer_service2.py\n",
      "\u001b[2K\u001b[1A\u001b[2K\u001b[1A\u001b[2K\u001b[1A\u001b[2K\u001b[34m⠼\u001b[0m Creating objects...folder.\n",
      "\u001b[37m├── \u001b[0m🔨 Created mount \n",
      "\u001b[37m│   \u001b[0m/Users/santhum/projects/llm_engineering/week8/pricer_service2.py\n",
      "\u001b[2K\u001b[1A\u001b[2K\u001b[1A\u001b[2K\u001b[1A\u001b[2K\u001b[34m⠧\u001b[0m Creating objects...folder.\n",
      "\u001b[37m├── \u001b[0m🔨 Created mount \n",
      "\u001b[37m│   \u001b[0m/Users/santhum/projects/llm_engineering/week8/pricer_service2.py\n",
      "\u001b[2K\u001b[1A\u001b[2K\u001b[1A\u001b[2K\u001b[1A\u001b[2K\u001b[34m⠙\u001b[0m Creating objects...folder.\n",
      "\u001b[37m├── \u001b[0m🔨 Created mount \n",
      "\u001b[37m│   \u001b[0m/Users/santhum/projects/llm_engineering/week8/pricer_service2.py\n",
      "\u001b[2K\u001b[1A\u001b[2K\u001b[1A\u001b[2K\u001b[1A\u001b[2K\u001b[34m⠼\u001b[0m Creating objects...folder.\n",
      "\u001b[37m├── \u001b[0m🔨 Created mount \n",
      "\u001b[37m│   \u001b[0m/Users/santhum/projects/llm_engineering/week8/pricer_service2.py\n",
      "\u001b[2K\u001b[1A\u001b[2K\u001b[1A\u001b[2K\u001b[1A\u001b[2K\u001b[34m⠧\u001b[0m Creating objects...folder.\n",
      "\u001b[37m├── \u001b[0m🔨 Created mount \n",
      "\u001b[37m│   \u001b[0m/Users/santhum/projects/llm_engineering/week8/pricer_service2.py\n",
      "\u001b[2K\u001b[1A\u001b[2K\u001b[1A\u001b[2K\u001b[1A\u001b[2K\u001b[34m⠋\u001b[0m Creating objects...folder.\n",
      "\u001b[37m├── \u001b[0m🔨 Created mount \n",
      "\u001b[37m│   \u001b[0m/Users/santhum/projects/llm_engineering/week8/pricer_service2.py\n",
      "\u001b[2K\u001b[1A\u001b[2K\u001b[1A\u001b[2K\u001b[1A\u001b[2K\u001b[34m⠸\u001b[0m Creating objects...folder.\n",
      "\u001b[37m├── \u001b[0m🔨 Created mount \n",
      "\u001b[37m│   \u001b[0m/Users/santhum/projects/llm_engineering/week8/pricer_service2.py\n",
      "\u001b[2K\u001b[1A\u001b[2K\u001b[1A\u001b[2K\u001b[1A\u001b[2K\u001b[34m⠦\u001b[0m Creating objects...folder.\n",
      "\u001b[37m├── \u001b[0m🔨 Created mount \n",
      "\u001b[37m│   \u001b[0m/Users/santhum/projects/llm_engineering/week8/pricer_service2.py\n",
      "\u001b[2K\u001b[1A\u001b[2K\u001b[1A\u001b[2K\u001b[1A\u001b[2K\u001b[34m⠋\u001b[0m Creating objects...folder.\n",
      "\u001b[37m├── \u001b[0m🔨 Created mount \n",
      "\u001b[37m│   \u001b[0m/Users/santhum/projects/llm_engineering/week8/pricer_service2.py\n",
      "\u001b[2K\u001b[1A\u001b[2K\u001b[1A\u001b[2K\u001b[1A\u001b[2K\u001b[34m⠸\u001b[0m Creating objects...folder.\n",
      "\u001b[37m├── \u001b[0m🔨 Created mount \n",
      "\u001b[37m│   \u001b[0m/Users/santhum/projects/llm_engineering/week8/pricer_service2.py\n",
      "\u001b[2K\u001b[1A\u001b[2K\u001b[1A\u001b[2K\u001b[1A\u001b[2K\u001b[34m⠦\u001b[0m Creating objects...folder.\n",
      "\u001b[37m├── \u001b[0m🔨 Created mount \n",
      "\u001b[37m│   \u001b[0m/Users/santhum/projects/llm_engineering/week8/pricer_service2.py\n",
      "\u001b[2K\u001b[1A\u001b[2K\u001b[1A\u001b[2K\u001b[1A\u001b[2K\u001b[34m⠏\u001b[0m Creating objects...folder.\n",
      "\u001b[37m├── \u001b[0m🔨 Created mount \n",
      "\u001b[37m│   \u001b[0m/Users/santhum/projects/llm_engineering/week8/pricer_service2.py\n",
      "\u001b[2K\u001b[1A\u001b[2K\u001b[1A\u001b[2K\u001b[1A\u001b[2K\u001b[34m⠹\u001b[0m Creating objects...folder.\n",
      "\u001b[37m├── \u001b[0m🔨 Created mount \n",
      "\u001b[37m│   \u001b[0m/Users/santhum/projects/llm_engineering/week8/pricer_service2.py\n",
      "\u001b[2K\u001b[1A\u001b[2K\u001b[1A\u001b[2K\u001b[1A\u001b[2K\u001b[34m⠴\u001b[0m Creating objects...folder.\n",
      "\u001b[37m├── \u001b[0m🔨 Created mount \n",
      "\u001b[37m│   \u001b[0m/Users/santhum/projects/llm_engineering/week8/pricer_service2.py\n",
      "\u001b[2K\u001b[1A\u001b[2K\u001b[1A\u001b[2K\u001b[1A\u001b[2K\u001b[34m⠏\u001b[0m Creating objects...folder.\n",
      "\u001b[37m├── \u001b[0m🔨 Created mount \n",
      "\u001b[37m│   \u001b[0m/Users/santhum/projects/llm_engineering/week8/pricer_service2.py\n",
      "\u001b[2K\u001b[1A\u001b[2K\u001b[1A\u001b[2K\u001b[1A\u001b[2K\u001b[34m⠹\u001b[0m Creating objects...folder.\n",
      "\u001b[37m├── \u001b[0m🔨 Created mount \n",
      "\u001b[37m│   \u001b[0m/Users/santhum/projects/llm_engineering/week8/pricer_service2.py\n",
      "\u001b[2K\u001b[1A\u001b[2K\u001b[1A\u001b[2K\u001b[1A\u001b[2K\u001b[34m⠴\u001b[0m Creating objects...folder.\n",
      "\u001b[37m├── \u001b[0m🔨 Created mount \n",
      "\u001b[37m│   \u001b[0m/Users/santhum/projects/llm_engineering/week8/pricer_service2.py\n",
      "\u001b[2K\u001b[1A\u001b[2K\u001b[1A\u001b[2K\u001b[1A\u001b[2K\u001b[34m⠇\u001b[0m Creating objects...folder.\n",
      "\u001b[37m├── \u001b[0m🔨 Created mount \n",
      "\u001b[37m│   \u001b[0m/Users/santhum/projects/llm_engineering/week8/pricer_service2.py\n",
      "\u001b[2K\u001b[1A\u001b[2K\u001b[1A\u001b[2K\u001b[1A\u001b[2K\u001b[34m⠙\u001b[0m Creating objects...folder.\n",
      "\u001b[37m├── \u001b[0m🔨 Created mount \n",
      "\u001b[37m│   \u001b[0m/Users/santhum/projects/llm_engineering/week8/pricer_service2.py\n",
      "\u001b[2K\u001b[1A\u001b[2K\u001b[1A\u001b[2K\u001b[1A\u001b[2K\u001b[34m⠼\u001b[0m Creating objects...folder.\n",
      "\u001b[37m├── \u001b[0m🔨 Created mount \n",
      "\u001b[37m│   \u001b[0m/Users/santhum/projects/llm_engineering/week8/pricer_service2.py\n",
      "\u001b[2K\u001b[1A\u001b[2K\u001b[1A\u001b[2K\u001b[1A\u001b[2K\u001b[34m⠇\u001b[0m Creating objects...folder.\n",
      "\u001b[37m├── \u001b[0m🔨 Created mount \n",
      "\u001b[37m│   \u001b[0m/Users/santhum/projects/llm_engineering/week8/pricer_service2.py\n",
      "\u001b[2K\u001b[1A\u001b[2K\u001b[1A\u001b[2K\u001b[1A\u001b[2K\u001b[34m⠙\u001b[0m Creating objects...folder.\n",
      "\u001b[37m├── \u001b[0m🔨 Created mount \n",
      "\u001b[37m│   \u001b[0m/Users/santhum/projects/llm_engineering/week8/pricer_service2.py\n",
      "\u001b[2K\u001b[1A\u001b[2K\u001b[1A\u001b[2K\u001b[1A\u001b[2K\u001b[34m⠼\u001b[0m Creating objects...folder.\n",
      "\u001b[37m├── \u001b[0m🔨 Created mount \n",
      "\u001b[37m│   \u001b[0m/Users/santhum/projects/llm_engineering/week8/pricer_service2.py\n",
      "\u001b[2K\u001b[1A\u001b[2K\u001b[1A\u001b[2K\u001b[1A\u001b[2K\u001b[34m⠧\u001b[0m Creating objects...folder.\n",
      "\u001b[37m├── \u001b[0m🔨 Created mount \n",
      "\u001b[37m│   \u001b[0m/Users/santhum/projects/llm_engineering/week8/pricer_service2.py\n",
      "\u001b[2K\u001b[1A\u001b[2K\u001b[1A\u001b[2K\u001b[1A\u001b[2K\u001b[34m⠋\u001b[0m Creating objects...folder.\n",
      "\u001b[37m├── \u001b[0m🔨 Created mount \n",
      "\u001b[37m│   \u001b[0m/Users/santhum/projects/llm_engineering/week8/pricer_service2.py\n",
      "\u001b[2K\u001b[1A\u001b[2K\u001b[1A\u001b[2K\u001b[1A\u001b[2K\u001b[34m⠼\u001b[0m Creating objects...folder.\n",
      "\u001b[37m├── \u001b[0m🔨 Created mount \n",
      "\u001b[37m│   \u001b[0m/Users/santhum/projects/llm_engineering/week8/pricer_service2.py\n",
      "\u001b[2K\u001b[1A\u001b[2K\u001b[1A\u001b[2K\u001b[1A\u001b[2K\u001b[34m⠧\u001b[0m Creating objects...folder.\n",
      "\u001b[37m├── \u001b[0m🔨 Created mount \n",
      "\u001b[37m│   \u001b[0m/Users/santhum/projects/llm_engineering/week8/pricer_service2.py\n",
      "\u001b[2K\u001b[1A\u001b[2K\u001b[1A\u001b[2K\u001b[1A\u001b[2K\u001b[34m⠋\u001b[0m Creating objects...folder.\n",
      "\u001b[37m├── \u001b[0m🔨 Created mount \n",
      "\u001b[37m│   \u001b[0m/Users/santhum/projects/llm_engineering/week8/pricer_service2.py\n",
      "\u001b[2K\u001b[1A\u001b[2K\u001b[1A\u001b[2K\u001b[1A\u001b[2K\u001b[34m⠸\u001b[0m Creating objects...folder.\n",
      "\u001b[37m├── \u001b[0m🔨 Created mount \n",
      "\u001b[37m│   \u001b[0m/Users/santhum/projects/llm_engineering/week8/pricer_service2.py\n",
      "\u001b[2K\u001b[1A\u001b[2K\u001b[1A\u001b[2K\u001b[1A\u001b[2K\u001b[34m⠦\u001b[0m Creating objects...folder.\n",
      "\u001b[37m├── \u001b[0m🔨 Created mount \n",
      "\u001b[37m│   \u001b[0m/Users/santhum/projects/llm_engineering/week8/pricer_service2.py\n",
      "\u001b[2K\u001b[1A\u001b[2K\u001b[1A\u001b[2K\u001b[1A\u001b[2K\u001b[34m⠋\u001b[0m Creating objects...folder.\n",
      "\u001b[37m├── \u001b[0m🔨 Created mount \n",
      "\u001b[37m│   \u001b[0m/Users/santhum/projects/llm_engineering/week8/pricer_service2.py\n",
      "\u001b[2K\u001b[1A\u001b[2K\u001b[1A\u001b[2K\u001b[1A\u001b[2K\u001b[34m⠸\u001b[0m Creating objects...folder.\n",
      "\u001b[37m├── \u001b[0m🔨 Created mount \n",
      "\u001b[37m│   \u001b[0m/Users/santhum/projects/llm_engineering/week8/pricer_service2.py\n",
      "\u001b[2K\u001b[1A\u001b[2K\u001b[1A\u001b[2K\u001b[1A\u001b[2K\u001b[34m⠦\u001b[0m Creating objects...folder.\n",
      "\u001b[37m├── \u001b[0m🔨 Created mount \n",
      "\u001b[37m│   \u001b[0m/Users/santhum/projects/llm_engineering/week8/pricer_service2.py\n",
      "\u001b[2K\u001b[1A\u001b[2K\u001b[1A\u001b[2K\u001b[1A\u001b[2K\u001b[34m⠏\u001b[0m Creating objects...folder.\n",
      "\u001b[37m├── \u001b[0m🔨 Created mount \n",
      "\u001b[37m│   \u001b[0m/Users/santhum/projects/llm_engineering/week8/pricer_service2.py\n",
      "\u001b[2K\u001b[1A\u001b[2K\u001b[1A\u001b[2K\u001b[1A\u001b[2K\u001b[34m⠹\u001b[0m Creating objects...folder.\n",
      "\u001b[37m├── \u001b[0m🔨 Created mount \n",
      "\u001b[37m│   \u001b[0m/Users/santhum/projects/llm_engineering/week8/pricer_service2.py\n",
      "\u001b[2K\u001b[1A\u001b[2K\u001b[1A\u001b[2K\u001b[1A\u001b[2K\u001b[34m⠦\u001b[0m Creating objects...folder.\n",
      "\u001b[37m├── \u001b[0m🔨 Created mount \n",
      "\u001b[37m│   \u001b[0m/Users/santhum/projects/llm_engineering/week8/pricer_service2.py\n",
      "\u001b[2K\u001b[1A\u001b[2K\u001b[1A\u001b[2K\u001b[1A\u001b[2K\u001b[34m⠏\u001b[0m Creating objects...folder.\n",
      "\u001b[37m├── \u001b[0m🔨 Created mount \n",
      "\u001b[37m│   \u001b[0m/Users/santhum/projects/llm_engineering/week8/pricer_service2.py\n",
      "\u001b[2K\u001b[1A\u001b[2K\u001b[1A\u001b[2K\u001b[1A\u001b[2K\u001b[34m⠹\u001b[0m Creating objects...folder.\n",
      "\u001b[37m├── \u001b[0m🔨 Created mount \n",
      "\u001b[37m│   \u001b[0m/Users/santhum/projects/llm_engineering/week8/pricer_service2.py\n",
      "\u001b[2K\u001b[1A\u001b[2K\u001b[1A\u001b[2K\u001b[1A\u001b[2K\u001b[34m⠴\u001b[0m Creating objects...folder.\n",
      "\u001b[37m├── \u001b[0m🔨 Created mount \n",
      "\u001b[37m│   \u001b[0m/Users/santhum/projects/llm_engineering/week8/pricer_service2.py\n",
      "\u001b[2K\u001b[1A\u001b[2K\u001b[1A\u001b[2K\u001b[1A\u001b[2K\u001b[34m⠇\u001b[0m Creating objects...folder.\n",
      "\u001b[37m├── \u001b[0m🔨 Created mount \n",
      "\u001b[37m│   \u001b[0m/Users/santhum/projects/llm_engineering/week8/pricer_service2.py\n",
      "\u001b[2K\u001b[1A\u001b[2K\u001b[1A\u001b[2K\u001b[1A\u001b[2K\u001b[34m⠙\u001b[0m Creating objects...folder.\n",
      "\u001b[37m├── \u001b[0m🔨 Created mount \n",
      "\u001b[37m│   \u001b[0m/Users/santhum/projects/llm_engineering/week8/pricer_service2.py\n",
      "\u001b[2K\u001b[1A\u001b[2K\u001b[1A\u001b[2K\u001b[1A\u001b[2K\u001b[34m⠴\u001b[0m Creating objects...folder.\n",
      "\u001b[37m├── \u001b[0m🔨 Created mount \n",
      "\u001b[37m│   \u001b[0m/Users/santhum/projects/llm_engineering/week8/pricer_service2.py\n",
      "\u001b[2K\u001b[1A\u001b[2K\u001b[1A\u001b[2K\u001b[1A\u001b[2K\u001b[34m⠇\u001b[0m Creating objects...folder.\n",
      "\u001b[37m├── \u001b[0m🔨 Created mount \n",
      "\u001b[37m│   \u001b[0m/Users/santhum/projects/llm_engineering/week8/pricer_service2.py\n",
      "\u001b[2K\u001b[1A\u001b[2K\u001b[1A\u001b[2K\u001b[1A\u001b[2K\u001b[34m⠙\u001b[0m Creating objects...folder.\n",
      "\u001b[37m├── \u001b[0m🔨 Created mount \n",
      "\u001b[37m│   \u001b[0m/Users/santhum/projects/llm_engineering/week8/pricer_service2.py\n",
      "\u001b[2K\u001b[1A\u001b[2K\u001b[1A\u001b[2K\u001b[1A\u001b[2K\u001b[34m⠼\u001b[0m Creating objects...folder.\n",
      "\u001b[37m├── \u001b[0m🔨 Created mount \n",
      "\u001b[37m│   \u001b[0m/Users/santhum/projects/llm_engineering/week8/pricer_service2.py\n",
      "\u001b[2K\u001b[1A\u001b[2K\u001b[1A\u001b[2K\u001b[1A\u001b[2K\u001b[34m⠧\u001b[0m Creating objects...folder.\n",
      "\u001b[37m├── \u001b[0m🔨 Created mount \n",
      "\u001b[37m│   \u001b[0m/Users/santhum/projects/llm_engineering/week8/pricer_service2.py\n",
      "\u001b[2K\u001b[1A\u001b[2K\u001b[1A\u001b[2K\u001b[1A\u001b[2K\u001b[34m⠋\u001b[0m Creating objects...folder.\n",
      "\u001b[37m├── \u001b[0m🔨 Created mount \n",
      "\u001b[37m│   \u001b[0m/Users/santhum/projects/llm_engineering/week8/pricer_service2.py\n",
      "\u001b[2K\u001b[1A\u001b[2K\u001b[1A\u001b[2K\u001b[1A\u001b[2K\u001b[34m⠼\u001b[0m Creating objects...folder.\n",
      "\u001b[37m├── \u001b[0m🔨 Created mount \n",
      "\u001b[37m│   \u001b[0m/Users/santhum/projects/llm_engineering/week8/pricer_service2.py\n",
      "\u001b[2K\u001b[1A\u001b[2K\u001b[1A\u001b[2K\u001b[1A\u001b[2K\u001b[34m⠧\u001b[0m Creating objects...folder.\n",
      "\u001b[37m├── \u001b[0m🔨 Created mount \n",
      "\u001b[37m│   \u001b[0m/Users/santhum/projects/llm_engineering/week8/pricer_service2.py\n",
      "\u001b[2K\u001b[1A\u001b[2K\u001b[1A\u001b[2K\u001b[1A\u001b[2K\u001b[34m⠋\u001b[0m Creating objects...folder.\n",
      "\u001b[37m├── \u001b[0m🔨 Created mount \n",
      "\u001b[37m│   \u001b[0m/Users/santhum/projects/llm_engineering/week8/pricer_service2.py\n",
      "\u001b[2K\u001b[1A\u001b[2K\u001b[1A\u001b[2K\u001b[1A\u001b[2K\u001b[34m⠸\u001b[0m Creating objects...folder.\n",
      "\u001b[37m├── \u001b[0m🔨 Created mount \n",
      "\u001b[37m│   \u001b[0m/Users/santhum/projects/llm_engineering/week8/pricer_service2.py\n",
      "\u001b[2K\u001b[1A\u001b[2K\u001b[1A\u001b[2K\u001b[1A\u001b[2K\u001b[34m⠦\u001b[0m Creating objects...folder.\n",
      "\u001b[37m├── \u001b[0m🔨 Created mount \n",
      "\u001b[37m│   \u001b[0m/Users/santhum/projects/llm_engineering/week8/pricer_service2.py\n",
      "\u001b[2K\u001b[1A\u001b[2K\u001b[1A\u001b[2K\u001b[1A\u001b[2K\u001b[34m⠏\u001b[0m Creating objects...folder.\n",
      "\u001b[37m├── \u001b[0m🔨 Created mount \n",
      "\u001b[37m│   \u001b[0m/Users/santhum/projects/llm_engineering/week8/pricer_service2.py\n",
      "\u001b[2K\u001b[1A\u001b[2K\u001b[1A\u001b[2K\u001b[1A\u001b[2K\u001b[34m⠸\u001b[0m Creating objects...folder.\n",
      "\u001b[37m├── \u001b[0m🔨 Created mount \n",
      "\u001b[37m│   \u001b[0m/Users/santhum/projects/llm_engineering/week8/pricer_service2.py\n",
      "\u001b[2K\u001b[1A\u001b[2K\u001b[1A\u001b[2K\u001b[1A\u001b[2K\u001b[34m⠦\u001b[0m Creating objects...folder.\n",
      "\u001b[37m├── \u001b[0m🔨 Created mount \n",
      "\u001b[37m│   \u001b[0m/Users/santhum/projects/llm_engineering/week8/pricer_service2.py\n",
      "\u001b[2K\u001b[1A\u001b[2K\u001b[1A\u001b[2K\u001b[1A\u001b[2K\u001b[34m⠏\u001b[0m Creating objects...folder.\n",
      "\u001b[37m├── \u001b[0m🔨 Created mount \n",
      "\u001b[37m│   \u001b[0m/Users/santhum/projects/llm_engineering/week8/pricer_service2.py\n",
      "\u001b[2K\u001b[1A\u001b[2K\u001b[1A\u001b[2K\u001b[1A\u001b[2K\u001b[34m⠹\u001b[0m Creating objects...folder.\n",
      "\u001b[37m├── \u001b[0m🔨 Created mount \n",
      "\u001b[37m│   \u001b[0m/Users/santhum/projects/llm_engineering/week8/pricer_service2.py\n",
      "\u001b[2K\u001b[1A\u001b[2K\u001b[1A\u001b[2K\u001b[1A\u001b[2K\u001b[34m⠴\u001b[0m Creating objects...folder.\n",
      "\u001b[37m├── \u001b[0m🔨 Created mount \n",
      "\u001b[37m│   \u001b[0m/Users/santhum/projects/llm_engineering/week8/pricer_service2.py\n",
      "\u001b[2K\u001b[1A\u001b[2K\u001b[1A\u001b[2K\u001b[1A\u001b[2K\u001b[34m⠏\u001b[0m Creating objects...folder.\n",
      "\u001b[37m├── \u001b[0m🔨 Created mount \n",
      "\u001b[37m│   \u001b[0m/Users/santhum/projects/llm_engineering/week8/pricer_service2.py\n",
      "\u001b[2K\u001b[1A\u001b[2K\u001b[1A\u001b[2K\u001b[1A\u001b[2K\u001b[34m⠹\u001b[0m Creating objects...folder.\n",
      "\u001b[37m├── \u001b[0m🔨 Created mount \n",
      "\u001b[37m│   \u001b[0m/Users/santhum/projects/llm_engineering/week8/pricer_service2.py\n",
      "\u001b[2K\u001b[1A\u001b[2K\u001b[1A\u001b[2K\u001b[1A\u001b[2K\u001b[34m⠴\u001b[0m Creating objects...folder.\n",
      "\u001b[37m├── \u001b[0m🔨 Created mount \n",
      "\u001b[37m│   \u001b[0m/Users/santhum/projects/llm_engineering/week8/pricer_service2.py\n",
      "\u001b[2K\u001b[1A\u001b[2K\u001b[1A\u001b[2K\u001b[1A\u001b[2K\u001b[34m⠇\u001b[0m Creating objects...folder.\n",
      "\u001b[37m├── \u001b[0m🔨 Created mount \n",
      "\u001b[37m│   \u001b[0m/Users/santhum/projects/llm_engineering/week8/pricer_service2.py\n",
      "\u001b[2K\u001b[1A\u001b[2K\u001b[1A\u001b[2K\u001b[1A\u001b[2K\u001b[34m⠙\u001b[0m Creating objects...folder.\n",
      "\u001b[37m├── \u001b[0m🔨 Created mount \n",
      "\u001b[37m│   \u001b[0m/Users/santhum/projects/llm_engineering/week8/pricer_service2.py\n",
      "\u001b[2K\u001b[1A\u001b[2K\u001b[1A\u001b[2K\u001b[1A\u001b[2K\u001b[34m⠼\u001b[0m Creating objects...folder.\n",
      "\u001b[37m├── \u001b[0m🔨 Created mount \n",
      "\u001b[37m│   \u001b[0m/Users/santhum/projects/llm_engineering/week8/pricer_service2.py\n",
      "\u001b[2K\u001b[1A\u001b[2K\u001b[1A\u001b[2K\u001b[1A\u001b[2K\u001b[34m⠇\u001b[0m Creating objects...folder.\n",
      "\u001b[37m├── \u001b[0m🔨 Created mount \n",
      "\u001b[37m│   \u001b[0m/Users/santhum/projects/llm_engineering/week8/pricer_service2.py\n",
      "\u001b[2K\u001b[1A\u001b[2K\u001b[1A\u001b[2K\u001b[1A\u001b[2K\u001b[34m⠙\u001b[0m Creating objects...folder.\n",
      "\u001b[37m├── \u001b[0m🔨 Created mount \n",
      "\u001b[37m│   \u001b[0m/Users/santhum/projects/llm_engineering/week8/pricer_service2.py\n",
      "\u001b[2K\u001b[1A\u001b[2K\u001b[1A\u001b[2K\u001b[1A\u001b[2K\u001b[34m⠼\u001b[0m Creating objects...folder.\n",
      "\u001b[37m├── \u001b[0m🔨 Created mount \n",
      "\u001b[37m│   \u001b[0m/Users/santhum/projects/llm_engineering/week8/pricer_service2.py\n",
      "\u001b[2K\u001b[1A\u001b[2K\u001b[1A\u001b[2K\u001b[1A\u001b[2K\u001b[34m⠧\u001b[0m Creating objects...folder.\n",
      "\u001b[37m├── \u001b[0m🔨 Created mount \n",
      "\u001b[37m│   \u001b[0m/Users/santhum/projects/llm_engineering/week8/pricer_service2.py\n",
      "\u001b[2K\u001b[1A\u001b[2K\u001b[1A\u001b[2K\u001b[1A\u001b[2K\u001b[34m⠋\u001b[0m Creating objects...folder.\n",
      "\u001b[37m├── \u001b[0m🔨 Created mount \n",
      "\u001b[37m│   \u001b[0m/Users/santhum/projects/llm_engineering/week8/pricer_service2.py\n",
      "\u001b[2K\u001b[1A\u001b[2K\u001b[1A\u001b[2K\u001b[1A\u001b[2K\u001b[34m⠸\u001b[0m Creating objects...folder.\n",
      "\u001b[37m├── \u001b[0m🔨 Created mount \n",
      "\u001b[37m│   \u001b[0m/Users/santhum/projects/llm_engineering/week8/pricer_service2.py\n",
      "\u001b[2K\u001b[1A\u001b[2K\u001b[1A\u001b[2K\u001b[1A\u001b[2K\u001b[34m⠧\u001b[0m Creating objects...folder.\n",
      "\u001b[37m├── \u001b[0m🔨 Created mount \n",
      "\u001b[37m│   \u001b[0m/Users/santhum/projects/llm_engineering/week8/pricer_service2.py\n",
      "\u001b[2K\u001b[1A\u001b[2K\u001b[1A\u001b[2K\u001b[1A\u001b[2K\u001b[34m⠋\u001b[0m Creating objects...folder.\n",
      "\u001b[37m├── \u001b[0m🔨 Created mount \n",
      "\u001b[37m│   \u001b[0m/Users/santhum/projects/llm_engineering/week8/pricer_service2.py\n",
      "\u001b[2K\u001b[1A\u001b[2K\u001b[1A\u001b[2K\u001b[1A\u001b[2K\u001b[34m⠸\u001b[0m Creating objects...folder.\n",
      "\u001b[37m├── \u001b[0m🔨 Created mount \n",
      "\u001b[37m│   \u001b[0m/Users/santhum/projects/llm_engineering/week8/pricer_service2.py\n",
      "\u001b[2K\u001b[1A\u001b[2K\u001b[1A\u001b[2K\u001b[1A\u001b[2K\u001b[34m⠦\u001b[0m Creating objects...folder.\n",
      "\u001b[37m├── \u001b[0m🔨 Created mount \n",
      "\u001b[37m│   \u001b[0m/Users/santhum/projects/llm_engineering/week8/pricer_service2.py\n",
      "\u001b[2K\u001b[1A\u001b[2K\u001b[1A\u001b[2K\u001b[1A\u001b[2K\u001b[34m⠏\u001b[0m Creating objects...folder.\n",
      "\u001b[37m├── \u001b[0m🔨 Created mount \n",
      "\u001b[37m│   \u001b[0m/Users/santhum/projects/llm_engineering/week8/pricer_service2.py\n",
      "\u001b[2K\u001b[1A\u001b[2K\u001b[1A\u001b[2K\u001b[1A\u001b[2K\u001b[34m⠹\u001b[0m Creating objects...folder.\n",
      "\u001b[37m├── \u001b[0m🔨 Created mount \n",
      "\u001b[37m│   \u001b[0m/Users/santhum/projects/llm_engineering/week8/pricer_service2.py\n",
      "\u001b[2K\u001b[1A\u001b[2K\u001b[1A\u001b[2K\u001b[1A\u001b[2K\u001b[34m⠦\u001b[0m Creating objects...folder.\n",
      "\u001b[37m├── \u001b[0m🔨 Created mount \n",
      "\u001b[37m│   \u001b[0m/Users/santhum/projects/llm_engineering/week8/pricer_service2.py\n",
      "\u001b[2K\u001b[1A\u001b[2K\u001b[1A\u001b[2K\u001b[1A\u001b[2K\u001b[34m⠏\u001b[0m Creating objects...folder.\n",
      "\u001b[37m├── \u001b[0m🔨 Created mount \n",
      "\u001b[37m│   \u001b[0m/Users/santhum/projects/llm_engineering/week8/pricer_service2.py\n",
      "\u001b[2K\u001b[1A\u001b[2K\u001b[1A\u001b[2K\u001b[1A\u001b[2K\u001b[34m⠹\u001b[0m Creating objects...folder.\n",
      "\u001b[37m├── \u001b[0m🔨 Created mount \n",
      "\u001b[37m│   \u001b[0m/Users/santhum/projects/llm_engineering/week8/pricer_service2.py\n",
      "\u001b[2K\u001b[1A\u001b[2K\u001b[1A\u001b[2K\u001b[1A\u001b[2K\u001b[34m⠴\u001b[0m Creating objects...folder.\n",
      "\u001b[37m├── \u001b[0m🔨 Created mount \n",
      "\u001b[37m│   \u001b[0m/Users/santhum/projects/llm_engineering/week8/pricer_service2.py\n",
      "\u001b[2K\u001b[1A\u001b[2K\u001b[1A\u001b[2K\u001b[1A\u001b[2K\u001b[34m⠇\u001b[0m Creating objects...folder.\n",
      "\u001b[37m├── \u001b[0m🔨 Created mount \n",
      "\u001b[37m│   \u001b[0m/Users/santhum/projects/llm_engineering/week8/pricer_service2.py\n",
      "\u001b[2K\u001b[1A\u001b[2K\u001b[1A\u001b[2K\u001b[1A\u001b[2K\u001b[34m⠹\u001b[0m Creating objects...folder.\n",
      "\u001b[37m├── \u001b[0m🔨 Created mount \n",
      "\u001b[37m│   \u001b[0m/Users/santhum/projects/llm_engineering/week8/pricer_service2.py\n",
      "\u001b[2K\u001b[1A\u001b[2K\u001b[1A\u001b[2K\u001b[1A\u001b[2K\u001b[34m⠴\u001b[0m Creating objects...folder.\n",
      "\u001b[37m├── \u001b[0m🔨 Created mount \n",
      "\u001b[37m│   \u001b[0m/Users/santhum/projects/llm_engineering/week8/pricer_service2.py\n",
      "\u001b[2K\u001b[1A\u001b[2K\u001b[1A\u001b[2K\u001b[1A\u001b[2K\u001b[34m⠇\u001b[0m Creating objects...folder.\n",
      "\u001b[37m├── \u001b[0m🔨 Created mount \n",
      "\u001b[37m│   \u001b[0m/Users/santhum/projects/llm_engineering/week8/pricer_service2.py\n",
      "\u001b[2K\u001b[1A\u001b[2K\u001b[1A\u001b[2K\u001b[1A\u001b[2K\u001b[34m⠙\u001b[0m Creating objects...folder.\n",
      "\u001b[37m├── \u001b[0m🔨 Created mount \n",
      "\u001b[37m│   \u001b[0m/Users/santhum/projects/llm_engineering/week8/pricer_service2.py\n",
      "\u001b[2K\u001b[1A\u001b[2K\u001b[1A\u001b[2K\u001b[1A\u001b[2K\u001b[34m⠼\u001b[0m Creating objects...folder.\n",
      "\u001b[37m├── \u001b[0m🔨 Created mount \n",
      "\u001b[37m│   \u001b[0m/Users/santhum/projects/llm_engineering/week8/pricer_service2.py\n",
      "\u001b[2K\u001b[1A\u001b[2K\u001b[1A\u001b[2K\u001b[1A\u001b[2K\u001b[34m⠧\u001b[0m Creating objects...folder.\n",
      "\u001b[37m├── \u001b[0m🔨 Created mount \n",
      "\u001b[37m│   \u001b[0m/Users/santhum/projects/llm_engineering/week8/pricer_service2.py\n",
      "\u001b[37m└── \u001b[0m🔨 Created function Pricer.download_model_to_folder."
     ]
    }
   ],
   "source": [
    "# You can also run \"modal deploy pricer_service2\" at the command line in an activated environment\n",
    "!modal deploy pricer_service2"
   ]
  },
  {
   "cell_type": "code",
   "execution_count": null,
   "id": "9e19daeb-1281-484b-9d2f-95cc6fed2622",
   "metadata": {},
   "outputs": [],
   "source": [
    "Pricer = modal.Cls.lookup(\"pricer-service\", \"Pricer\")\n",
    "pricer = Pricer()\n",
    "reply = pricer.price.remote(\"Quadcast HyperX condenser mic, connects via usb-c to your computer for crystal clear audio\")\n",
    "print(reply)"
   ]
  },
  {
   "cell_type": "markdown",
   "id": "3754cfdd-ae28-47c8-91f2-6e060e2c91b3",
   "metadata": {},
   "source": [
    "#### And now our Agent class"
   ]
  },
  {
   "cell_type": "code",
   "execution_count": null,
   "id": "ba9aedca-6a7b-4d30-9f64-59d76f76fb6d",
   "metadata": {},
   "outputs": [],
   "source": [
    "from agents.specialist_agent import SpecialistAgent"
   ]
  },
  {
   "cell_type": "code",
   "execution_count": null,
   "id": "fe5843e5-e958-4a65-8326-8f5b4686de7f",
   "metadata": {},
   "outputs": [],
   "source": [
    "agent = SpecialistAgent()\n",
    "agent.price(\"iPad Pro 2nd generation\")"
   ]
  }
 ],
 "metadata": {
  "kernelspec": {
   "display_name": "Python 3 (ipykernel)",
   "language": "python",
   "name": "python3"
  },
  "language_info": {
   "codemirror_mode": {
    "name": "ipython",
    "version": 3
   },
   "file_extension": ".py",
   "mimetype": "text/x-python",
   "name": "python",
   "nbconvert_exporter": "python",
   "pygments_lexer": "ipython3",
   "version": "3.11.11"
  }
 },
 "nbformat": 4,
 "nbformat_minor": 5
}
